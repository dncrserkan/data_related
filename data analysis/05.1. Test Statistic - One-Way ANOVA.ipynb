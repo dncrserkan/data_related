{
 "cells": [
  {
   "attachments": {},
   "cell_type": "markdown",
   "id": "b5fbc009-c0c8-447c-a0e9-9b359d23a6b9",
   "metadata": {},
   "source": [
    "**Analysis of Variance - ANOVA**\n",
    "\n",
    "**Error Types**\n",
    "> Type I and Type II errors are statistical concepts that describe the errors that can occur when making decisions based on statistical tests. They are important because they help us to understand the trade-offs between the risks of making incorrect decisions and the benefits of making correct decisions.\n",
    ">\n",
    "> Balancing these two errors is important in hypothesis testing. Usually, reducing the risk of one type increases the risk of the other, so trade-offs are made based on the context and importance of each type of error.\n",
    "> \n",
    ">  <img src=\"images/Error Types.png\" alt=\"Error Types\" width=\"400\" style=\"display: block; margin: 0 auto;\"/>\n",
    "\n",
    "**Family-Wise Error Rate (FWER)**\n",
    "> Family-wise error rate (FWER) refers to the probability of making at least one Type I error (false positive) when conducting multiple statistical tests. In simpler terms, it addresses the concern that when multiple hypotheses are tested simultaneously, the chances of incorrectly rejecting at least one null hypothesis increase.\n",
    ">\n",
    "\n",
    "**ANOVA Tests**\n",
    "> ANOVA is a statistical method used to compare the means of three or more groups to determine if there are statistically significant differences between them. It tests the hypothesis that the group means are equal by analyzing the variance within each group and between groups.\n",
    ">\n",
    "> ANOVA cannot tell which specific groups were statistically significantly different from each other, only that at least two groups were. To determine which specific groups differed from each other, we need to use a post-hoc test.\n",
    "> \n",
    "**1. One-Way ANOVA** - Single Factorial\n",
    "> One-way ANOVA is used to determine whether there are any statistically significant differences between the means of three or more independent (unrelated) groups based on a single factor or independent variable. It is an extension of the t-test for independent samples to more than two groups.\n",
    "> |  |  |  |\n",
    "> |--|--|--|\n",
    "> | $H_0$ | $μ_1 = μ_2 =... = μ_n$                          | → There are no difference between means of the groups. |\n",
    "> | $H_1$ | $∃i,j \\ \\ such\\ that \\ \\ i ≠ j\\ and\\ μ_i ≠ μ_j$ | → At least one group with a different mean. |\n",
    ">\n",
    "> |  |  |\n",
    "> |--|--|\n",
    "> |Single Factorial without meausrement repetition |→ Groups are independent |\n",
    "> |Single Factorial with meausrement repetition    |→ Same group\n",
    ">\n",
    "> **ASSUMTIONS**\n",
    ">\n",
    ">  → Data within the groups should be normally distributed. (Residuals should be normally distributed.)<br>\n",
    ">  → The Variance of data in groups should be equal. <br>\n",
    "> > If homogeneity assumption is not met, we should use **Welch's ANOVA** which is an alternative to the classic ANOVA and can be used even if your data violates the assumption of homogeneity of variances.\n",
    "> \n",
    "> → The measurements should be independent. <br>\n",
    "> → The dependent variable should have a metric scale level.\n",
    "\n",
    "**Post-hoc Test**\n",
    "> When there is a significant difference between groups, various statistical tests are used to determine which groups are different from each other. These tests determine which groups are statistically different from each other by comparing all combinations between the groups.\n",
    "> > | Post-Hoc Test | Equal Variance | Equal Sample Size |\n",
    "> |-|:--:|:--:|\n",
    "> | Bonferroni |✔ | ✗ |\n",
    "> | Tukey HSD | ✔ | ✔ |\n",
    "> | Scheffe | ✔ | ✗ |\n",
    "> | Tamhane’s T2 | ✗ | ✗ |"
   ]
  },
  {
   "cell_type": "markdown",
   "id": "1e11fed5-97ef-46d7-b231-d6fd25992767",
   "metadata": {},
   "source": [
    "<p style=\"background-image: linear-gradient(to right, #0aa98f, #68dab2)\"> &nbsp; </p>"
   ]
  },
  {
   "cell_type": "code",
   "execution_count": 1,
   "id": "8601f53c-3b42-46c2-b5ae-5c158eaac5dc",
   "metadata": {},
   "outputs": [],
   "source": [
    "import pandas as pd\n",
    "import pingouin as pg\n",
    "from scipy import stats\n",
    "import statsmodels.stats as ss\n",
    "import scikit_posthocs as sp"
   ]
  },
  {
   "cell_type": "markdown",
   "id": "acd1541b-4e9c-454a-9af9-86234e27414f",
   "metadata": {},
   "source": [
    "<p style=\"background-image: linear-gradient(#0aa98f, #ffffff 10%); font-weight:bold;\"> \n",
    "    &nbsp; Functions to Use </p>"
   ]
  },
  {
   "cell_type": "code",
   "execution_count": 2,
   "id": "2232a3fd-a664-40e7-af32-47058c8c7970",
   "metadata": {},
   "outputs": [],
   "source": [
    "α = alpha = 0.05\n",
    "\n",
    "def decision(p, alpha=0.05):\n",
    "    'acceptance or rejection of the null hypothesis'\n",
    "    if p < alpha: return 'H0 rejected.'\n",
    "    else: return 'H0 cannot be rejected.'\n",
    "\n",
    "def decision_table(p, alpha=0.05):\n",
    "    'acceptance or rejection of the null hypothesis for table representation'\n",
    "    if p < alpha: return '✗'\n",
    "    else: return '✔'"
   ]
  },
  {
   "cell_type": "markdown",
   "id": "8c156cd8-764b-467a-adbe-4aded91c23cf",
   "metadata": {},
   "source": [
    "<p style=\"background-image: linear-gradient(to right, #0aa98f, #68dab2)\"> &nbsp; </p>"
   ]
  },
  {
   "cell_type": "markdown",
   "id": "82b8a670-ed32-4685-ac52-66f1768d9d51",
   "metadata": {},
   "source": [
    "<p style=\"background-image: linear-gradient(#0aa98f, #ffffff 10%); font-weight:bold;\"> \n",
    "    &nbsp; ONE-WAY ANOVA </p>\n",
    "    \n",
    "**Subject :** Comparison of television viewing time according to educational status <br>\n",
    "**Data :** 5_tv_view.csv\n",
    "\n",
    "|  |  |  |\n",
    "|--|--|--|\n",
    "| $H_0$ | $μ_1 = μ_2 =... = μ_n$                          | → There is no difference in average television viewing time between groups according to educational status. |\n",
    "| $H_1$ | $∃i,j \\ \\ such\\ that \\ \\ i ≠ j\\ and\\ μ_i ≠ μ_j$ | → According to educational attainment, at least one group differs from the others in terms of average television viewing time. |"
   ]
  },
  {
   "cell_type": "code",
   "execution_count": 3,
   "id": "034820c8-3698-442b-8177-c36cd53e0f6f",
   "metadata": {},
   "outputs": [
    {
     "data": {
      "text/html": [
       "<div>\n",
       "<style scoped>\n",
       "    .dataframe tbody tr th:only-of-type {\n",
       "        vertical-align: middle;\n",
       "    }\n",
       "\n",
       "    .dataframe tbody tr th {\n",
       "        vertical-align: top;\n",
       "    }\n",
       "\n",
       "    .dataframe thead th {\n",
       "        text-align: right;\n",
       "    }\n",
       "</style>\n",
       "<table border=\"1\" class=\"dataframe\">\n",
       "  <thead>\n",
       "    <tr style=\"text-align: right;\">\n",
       "      <th></th>\n",
       "      <th>Education Level</th>\n",
       "      <th>TV Watch Time</th>\n",
       "    </tr>\n",
       "    <tr>\n",
       "      <th>Respondent</th>\n",
       "      <th></th>\n",
       "      <th></th>\n",
       "    </tr>\n",
       "  </thead>\n",
       "  <tbody>\n",
       "    <tr>\n",
       "      <th>12</th>\n",
       "      <td>Bachelor</td>\n",
       "      <td>70</td>\n",
       "    </tr>\n",
       "    <tr>\n",
       "      <th>11</th>\n",
       "      <td>Bachelor</td>\n",
       "      <td>73</td>\n",
       "    </tr>\n",
       "    <tr>\n",
       "      <th>20</th>\n",
       "      <td>Master</td>\n",
       "      <td>55</td>\n",
       "    </tr>\n",
       "  </tbody>\n",
       "</table>\n",
       "</div>"
      ],
      "text/plain": [
       "           Education Level  TV Watch Time\n",
       "Respondent                               \n",
       "12                Bachelor             70\n",
       "11                Bachelor             73\n",
       "20                  Master             55"
      ]
     },
     "metadata": {},
     "output_type": "display_data"
    }
   ],
   "source": [
    "data = pd.read_csv('data/05_tv_view.csv', index_col='Respondent')\n",
    "display(data.sample(3))"
   ]
  },
  {
   "cell_type": "markdown",
   "id": "6a200296-cea0-488c-a66f-8b858b59b34e",
   "metadata": {},
   "source": [
    "**1. Data Preparation**"
   ]
  },
  {
   "cell_type": "code",
   "execution_count": 4,
   "id": "c3f3c764-c46a-4776-9458-8af6777f932f",
   "metadata": {},
   "outputs": [],
   "source": [
    "groups = data.groupby('Education Level')['TV Watch Time']\n",
    "_groups = [group for _, group in groups] # just groups without names\n",
    "\n",
    "# for name, group in groups:\n",
    "#     print(name)\n",
    "#     print(group.to_list())\n",
    "# # print(*groups, sep='\\n')"
   ]
  },
  {
   "cell_type": "markdown",
   "id": "26cfb46a-c73e-48eb-a02f-6924034e2489",
   "metadata": {},
   "source": [
    "**2. Normality Test**"
   ]
  },
  {
   "cell_type": "code",
   "execution_count": 5,
   "id": "b5491a2d-034e-4d3d-8e3a-6b85efae3fab",
   "metadata": {},
   "outputs": [
    {
     "data": {
      "text/html": [
       "<div>\n",
       "<style scoped>\n",
       "    .dataframe tbody tr th:only-of-type {\n",
       "        vertical-align: middle;\n",
       "    }\n",
       "\n",
       "    .dataframe tbody tr th {\n",
       "        vertical-align: top;\n",
       "    }\n",
       "\n",
       "    .dataframe thead th {\n",
       "        text-align: right;\n",
       "    }\n",
       "</style>\n",
       "<table border=\"1\" class=\"dataframe\">\n",
       "  <thead>\n",
       "    <tr style=\"text-align: right;\">\n",
       "      <th></th>\n",
       "      <th>W</th>\n",
       "      <th>pval</th>\n",
       "      <th>normal</th>\n",
       "    </tr>\n",
       "    <tr>\n",
       "      <th>Education Level</th>\n",
       "      <th></th>\n",
       "      <th></th>\n",
       "      <th></th>\n",
       "    </tr>\n",
       "  </thead>\n",
       "  <tbody>\n",
       "    <tr>\n",
       "      <th>Primary</th>\n",
       "      <td>0.905493</td>\n",
       "      <td>0.440988</td>\n",
       "      <td>True</td>\n",
       "    </tr>\n",
       "    <tr>\n",
       "      <th>High</th>\n",
       "      <td>0.887885</td>\n",
       "      <td>0.346581</td>\n",
       "      <td>True</td>\n",
       "    </tr>\n",
       "    <tr>\n",
       "      <th>Bachelor</th>\n",
       "      <td>0.898244</td>\n",
       "      <td>0.400257</td>\n",
       "      <td>True</td>\n",
       "    </tr>\n",
       "    <tr>\n",
       "      <th>Master</th>\n",
       "      <td>0.839882</td>\n",
       "      <td>0.164596</td>\n",
       "      <td>True</td>\n",
       "    </tr>\n",
       "  </tbody>\n",
       "</table>\n",
       "</div>"
      ],
      "text/plain": [
       "                        W      pval  normal\n",
       "Education Level                            \n",
       "Primary          0.905493  0.440988    True\n",
       "High             0.887885  0.346581    True\n",
       "Bachelor         0.898244  0.400257    True\n",
       "Master           0.839882  0.164596    True"
      ]
     },
     "metadata": {},
     "output_type": "display_data"
    }
   ],
   "source": [
    "# for name, group in groups:\n",
    "#     normality = stats.shapiro(group).pvalue\n",
    "#     print(f'{name.ljust(10)} p: {normality:.4f} \\t Decision: {decision(normality)}')\n",
    "\n",
    "normality = pg.normality(data, dv='TV Watch Time', group='Education Level', method='shapiro', alpha=alpha)\n",
    "display(normality)"
   ]
  },
  {
   "cell_type": "markdown",
   "id": "210f27b5-0e61-442b-9f7d-3684bf30cc6f",
   "metadata": {},
   "source": [
    "**3. Homogeneity Test**"
   ]
  },
  {
   "cell_type": "code",
   "execution_count": 6,
   "id": "6692e900-99ee-405b-a38b-47d415d49970",
   "metadata": {},
   "outputs": [
    {
     "data": {
      "text/html": [
       "<div>\n",
       "<style scoped>\n",
       "    .dataframe tbody tr th:only-of-type {\n",
       "        vertical-align: middle;\n",
       "    }\n",
       "\n",
       "    .dataframe tbody tr th {\n",
       "        vertical-align: top;\n",
       "    }\n",
       "\n",
       "    .dataframe thead th {\n",
       "        text-align: right;\n",
       "    }\n",
       "</style>\n",
       "<table border=\"1\" class=\"dataframe\">\n",
       "  <thead>\n",
       "    <tr style=\"text-align: right;\">\n",
       "      <th></th>\n",
       "      <th>T</th>\n",
       "      <th>pval</th>\n",
       "      <th>equal_var</th>\n",
       "    </tr>\n",
       "  </thead>\n",
       "  <tbody>\n",
       "    <tr>\n",
       "      <th>bartlett</th>\n",
       "      <td>0.428628</td>\n",
       "      <td>0.934267</td>\n",
       "      <td>True</td>\n",
       "    </tr>\n",
       "  </tbody>\n",
       "</table>\n",
       "</div>"
      ],
      "text/plain": [
       "                 T      pval  equal_var\n",
       "bartlett  0.428628  0.934267       True"
      ]
     },
     "metadata": {},
     "output_type": "display_data"
    }
   ],
   "source": [
    "# homogeneity = stats.bartlett(*_groups).pvalue\n",
    "# print(f'p: {homogeneity:.4f} \\t Decision: {decision(homogeneity)}')\n",
    "\n",
    "homogeneity = pg.homoscedasticity(data, dv='TV Watch Time', group='Education Level', method='bartlett')\n",
    "display(homogeneity)"
   ]
  },
  {
   "cell_type": "markdown",
   "id": "696b8bf9-d00b-4cda-8d58-3028d8b7f86f",
   "metadata": {},
   "source": [
    "**4. Test Implementation** - One-Way ANOVA"
   ]
  },
  {
   "cell_type": "code",
   "execution_count": 7,
   "id": "19c320ff-b578-48ef-bdcf-5244409fa7a5",
   "metadata": {},
   "outputs": [
    {
     "name": "stdout",
     "output_type": "stream",
     "text": [
      "F: 5.8720\n",
      "p: 0.0067\n",
      "Decision: H0 rejected.\n"
     ]
    }
   ],
   "source": [
    "# F, p = stats.f_oneway(*_groups)\n",
    "\n",
    "test = pg.anova(data=data, dv='TV Watch Time', between='Education Level')\n",
    "F, p = test.loc[0, ['F', 'p-unc']]\n",
    "\n",
    "print(f'F: {F:.4f}')\n",
    "print(f'p: {p:.4f}')\n",
    "print('Decision:', decision(p, α))"
   ]
  },
  {
   "cell_type": "markdown",
   "id": "2bd47c8a-4e2b-4d72-9dad-9cc779bd661f",
   "metadata": {},
   "source": [
    "**5. Research of Different Groups** - Post-Hoc / Tukey HSD Test\n",
    "\n",
    "**There are differences between the groups that have a 'True' value in the 'reject' column*"
   ]
  },
  {
   "cell_type": "code",
   "execution_count": 8,
   "id": "883fc481-f13e-47a7-97f9-a0a4f656734a",
   "metadata": {},
   "outputs": [
    {
     "data": {
      "text/html": [
       "<div>\n",
       "<style scoped>\n",
       "    .dataframe tbody tr th:only-of-type {\n",
       "        vertical-align: middle;\n",
       "    }\n",
       "\n",
       "    .dataframe tbody tr th {\n",
       "        vertical-align: top;\n",
       "    }\n",
       "\n",
       "    .dataframe thead th {\n",
       "        text-align: right;\n",
       "    }\n",
       "</style>\n",
       "<table border=\"1\" class=\"dataframe\">\n",
       "  <thead>\n",
       "    <tr style=\"text-align: right;\">\n",
       "      <th></th>\n",
       "      <th>A</th>\n",
       "      <th>B</th>\n",
       "      <th>mean(A)</th>\n",
       "      <th>mean(B)</th>\n",
       "      <th>diff</th>\n",
       "      <th>se</th>\n",
       "      <th>T</th>\n",
       "      <th>p-tukey</th>\n",
       "      <th>hedges</th>\n",
       "      <th>Reject</th>\n",
       "    </tr>\n",
       "  </thead>\n",
       "  <tbody>\n",
       "    <tr>\n",
       "      <th>0</th>\n",
       "      <td>Bachelor</td>\n",
       "      <td>High</td>\n",
       "      <td>72.0</td>\n",
       "      <td>62.0</td>\n",
       "      <td>10.0</td>\n",
       "      <td>5.495453</td>\n",
       "      <td>1.819686</td>\n",
       "      <td>0.300470</td>\n",
       "      <td>1.137958</td>\n",
       "      <td>False</td>\n",
       "    </tr>\n",
       "    <tr>\n",
       "      <th>1</th>\n",
       "      <td>Bachelor</td>\n",
       "      <td>Master</td>\n",
       "      <td>72.0</td>\n",
       "      <td>53.0</td>\n",
       "      <td>19.0</td>\n",
       "      <td>5.495453</td>\n",
       "      <td>3.457404</td>\n",
       "      <td>0.015411</td>\n",
       "      <td>1.872450</td>\n",
       "      <td>True</td>\n",
       "    </tr>\n",
       "    <tr>\n",
       "      <th>2</th>\n",
       "      <td>Bachelor</td>\n",
       "      <td>Primary</td>\n",
       "      <td>72.0</td>\n",
       "      <td>73.0</td>\n",
       "      <td>-1.0</td>\n",
       "      <td>5.495453</td>\n",
       "      <td>-0.181969</td>\n",
       "      <td>0.997769</td>\n",
       "      <td>-0.099442</td>\n",
       "      <td>False</td>\n",
       "    </tr>\n",
       "    <tr>\n",
       "      <th>3</th>\n",
       "      <td>High</td>\n",
       "      <td>Master</td>\n",
       "      <td>62.0</td>\n",
       "      <td>53.0</td>\n",
       "      <td>9.0</td>\n",
       "      <td>5.495453</td>\n",
       "      <td>1.637718</td>\n",
       "      <td>0.386712</td>\n",
       "      <td>0.982186</td>\n",
       "      <td>False</td>\n",
       "    </tr>\n",
       "    <tr>\n",
       "      <th>4</th>\n",
       "      <td>High</td>\n",
       "      <td>Primary</td>\n",
       "      <td>62.0</td>\n",
       "      <td>73.0</td>\n",
       "      <td>-11.0</td>\n",
       "      <td>5.495453</td>\n",
       "      <td>-2.001655</td>\n",
       "      <td>0.228254</td>\n",
       "      <td>-1.213813</td>\n",
       "      <td>False</td>\n",
       "    </tr>\n",
       "    <tr>\n",
       "      <th>5</th>\n",
       "      <td>Master</td>\n",
       "      <td>Primary</td>\n",
       "      <td>53.0</td>\n",
       "      <td>73.0</td>\n",
       "      <td>-20.0</td>\n",
       "      <td>5.495453</td>\n",
       "      <td>-3.639373</td>\n",
       "      <td>0.010667</td>\n",
       "      <td>-1.925684</td>\n",
       "      <td>True</td>\n",
       "    </tr>\n",
       "  </tbody>\n",
       "</table>\n",
       "</div>"
      ],
      "text/plain": [
       "          A        B  mean(A)  mean(B)  diff        se         T   p-tukey  \\\n",
       "0  Bachelor     High     72.0     62.0  10.0  5.495453  1.819686  0.300470   \n",
       "1  Bachelor   Master     72.0     53.0  19.0  5.495453  3.457404  0.015411   \n",
       "2  Bachelor  Primary     72.0     73.0  -1.0  5.495453 -0.181969  0.997769   \n",
       "3      High   Master     62.0     53.0   9.0  5.495453  1.637718  0.386712   \n",
       "4      High  Primary     62.0     73.0 -11.0  5.495453 -2.001655  0.228254   \n",
       "5    Master  Primary     53.0     73.0 -20.0  5.495453 -3.639373  0.010667   \n",
       "\n",
       "     hedges  Reject  \n",
       "0  1.137958   False  \n",
       "1  1.872450    True  \n",
       "2 -0.099442   False  \n",
       "3  0.982186   False  \n",
       "4 -1.213813   False  \n",
       "5 -1.925684    True  "
      ]
     },
     "metadata": {},
     "output_type": "display_data"
    },
    {
     "data": {
      "text/html": [
       "<div>\n",
       "<style scoped>\n",
       "    .dataframe tbody tr th:only-of-type {\n",
       "        vertical-align: middle;\n",
       "    }\n",
       "\n",
       "    .dataframe tbody tr th {\n",
       "        vertical-align: top;\n",
       "    }\n",
       "\n",
       "    .dataframe thead th {\n",
       "        text-align: right;\n",
       "    }\n",
       "</style>\n",
       "<table border=\"1\" class=\"dataframe\">\n",
       "  <thead>\n",
       "    <tr style=\"text-align: right;\">\n",
       "      <th></th>\n",
       "      <th>A</th>\n",
       "      <th>B</th>\n",
       "      <th>mean(A)</th>\n",
       "      <th>mean(B)</th>\n",
       "      <th>diff</th>\n",
       "      <th>se</th>\n",
       "      <th>T</th>\n",
       "      <th>p-tukey</th>\n",
       "      <th>hedges</th>\n",
       "      <th>Reject</th>\n",
       "    </tr>\n",
       "  </thead>\n",
       "  <tbody>\n",
       "    <tr>\n",
       "      <th>1</th>\n",
       "      <td>Bachelor</td>\n",
       "      <td>Master</td>\n",
       "      <td>72.0</td>\n",
       "      <td>53.0</td>\n",
       "      <td>19.0</td>\n",
       "      <td>5.495453</td>\n",
       "      <td>3.457404</td>\n",
       "      <td>0.015411</td>\n",
       "      <td>1.872450</td>\n",
       "      <td>True</td>\n",
       "    </tr>\n",
       "    <tr>\n",
       "      <th>5</th>\n",
       "      <td>Master</td>\n",
       "      <td>Primary</td>\n",
       "      <td>53.0</td>\n",
       "      <td>73.0</td>\n",
       "      <td>-20.0</td>\n",
       "      <td>5.495453</td>\n",
       "      <td>-3.639373</td>\n",
       "      <td>0.010667</td>\n",
       "      <td>-1.925684</td>\n",
       "      <td>True</td>\n",
       "    </tr>\n",
       "  </tbody>\n",
       "</table>\n",
       "</div>"
      ],
      "text/plain": [
       "          A        B  mean(A)  mean(B)  diff        se         T   p-tukey  \\\n",
       "1  Bachelor   Master     72.0     53.0  19.0  5.495453  3.457404  0.015411   \n",
       "5    Master  Primary     53.0     73.0 -20.0  5.495453 -3.639373  0.010667   \n",
       "\n",
       "     hedges  Reject  \n",
       "1  1.872450    True  \n",
       "5 -1.925684    True  "
      ]
     },
     "metadata": {},
     "output_type": "display_data"
    }
   ],
   "source": [
    "# tukey_hsd = ss.multicomp.pairwise_tukeyhsd(data['TV Watch Time'], data['Education Level'], alpha=alpha)\n",
    "# print(tukey_hsd)\n",
    "\n",
    "\n",
    "# tukey_hsd = sp.posthoc_tukey_hsd(data['TV Watch Time'], data['Education Level'])\n",
    "# for i in range(tukey_hsd.shape[0]):\n",
    "#     tukey_hsd.iloc[i,i] = 0\n",
    "# display(tukey_hsd)\n",
    "\n",
    "\n",
    "tukey_hsd = pg.pairwise_tukey(data=data, dv='TV Watch Time', between='Education Level')\n",
    "tukey_hsd['Reject'] = tukey_hsd['p-tukey'].map(lambda p: False if p>alpha else True)\n",
    "# tukey_hsd['Decision'] = tukey_hsd['p-tukey'].map(decision_table)\n",
    "display(tukey_hsd)\n",
    "display(tukey_hsd[tukey_hsd['Reject']==True])"
   ]
  },
  {
   "cell_type": "markdown",
   "id": "2f254fea-36e7-4239-9f04-5fe32514c5da",
   "metadata": {},
   "source": [
    "**6. Display of Different Groups**"
   ]
  },
  {
   "cell_type": "code",
   "execution_count": 9,
   "id": "49f6fddf-0a4c-4af3-a3f8-37d8373ef910",
   "metadata": {},
   "outputs": [
    {
     "data": {
      "text/html": [
       "<div>\n",
       "<style scoped>\n",
       "    .dataframe tbody tr th:only-of-type {\n",
       "        vertical-align: middle;\n",
       "    }\n",
       "\n",
       "    .dataframe tbody tr th {\n",
       "        vertical-align: top;\n",
       "    }\n",
       "\n",
       "    .dataframe thead th {\n",
       "        text-align: right;\n",
       "    }\n",
       "</style>\n",
       "<table border=\"1\" class=\"dataframe\">\n",
       "  <thead>\n",
       "    <tr style=\"text-align: right;\">\n",
       "      <th>Education Level</th>\n",
       "      <th>Bachelor</th>\n",
       "      <th>High</th>\n",
       "      <th>Master</th>\n",
       "      <th>Primary</th>\n",
       "    </tr>\n",
       "  </thead>\n",
       "  <tbody>\n",
       "    <tr>\n",
       "      <th>TV Watch Time</th>\n",
       "      <td>72.0</td>\n",
       "      <td>62.0</td>\n",
       "      <td>53.0</td>\n",
       "      <td>73.0</td>\n",
       "    </tr>\n",
       "  </tbody>\n",
       "</table>\n",
       "</div>"
      ],
      "text/plain": [
       "Education Level  Bachelor  High  Master  Primary\n",
       "TV Watch Time        72.0  62.0    53.0     73.0"
      ]
     },
     "metadata": {},
     "output_type": "display_data"
    }
   ],
   "source": [
    "display(groups.mean().to_frame().T)\n",
    "\n",
    "# display(\n",
    "#     groups.mean()[['Bachelor', 'Master']],\n",
    "#     groups.mean()[['Master', 'Primary']] )"
   ]
  },
  {
   "cell_type": "markdown",
   "id": "78f48e5c-4ff0-4594-8e2d-b8c15b886751",
   "metadata": {},
   "source": [
    "<p style=\"background-image: linear-gradient(to right, #ee2965, #e31837)\"> &nbsp; </p>"
   ]
  },
  {
   "cell_type": "markdown",
   "id": "56d1fa6c-8aa0-4422-87e0-2907c82f7875",
   "metadata": {},
   "source": [
    "**4.2 If the assumption of homogeneity of variances is violated**"
   ]
  },
  {
   "cell_type": "code",
   "execution_count": 10,
   "id": "323ebc22-1281-4473-ae11-db5c8385d0bc",
   "metadata": {},
   "outputs": [
    {
     "name": "stdout",
     "output_type": "stream",
     "text": [
      "F: 4.5717\n",
      "p: 0.0338\n",
      "Decision: H0 rejected.\n"
     ]
    }
   ],
   "source": [
    "welch_test = pg.welch_anova(data=data, dv='TV Watch Time', between='Education Level')\n",
    "F, p = welch_test.loc[0, ['F', 'p-unc']]\n",
    "\n",
    "# print(welch_test)\n",
    "print(f'F: {F:.4f}')\n",
    "print(f'p: {p:.4f}')\n",
    "print('Decision:', decision(p, α))"
   ]
  },
  {
   "cell_type": "markdown",
   "id": "31b16225-4b12-4ffb-ad01-7be1f8c8e985",
   "metadata": {},
   "source": [
    "**5.2 Research of Different Groups** - Post-Hoc / Tamhane's T2 Test"
   ]
  },
  {
   "cell_type": "code",
   "execution_count": 11,
   "id": "27d546f4-5225-42b8-8194-e70a09127148",
   "metadata": {},
   "outputs": [
    {
     "data": {
      "text/html": [
       "<div>\n",
       "<style scoped>\n",
       "    .dataframe tbody tr th:only-of-type {\n",
       "        vertical-align: middle;\n",
       "    }\n",
       "\n",
       "    .dataframe tbody tr th {\n",
       "        vertical-align: top;\n",
       "    }\n",
       "\n",
       "    .dataframe thead th {\n",
       "        text-align: right;\n",
       "    }\n",
       "</style>\n",
       "<table border=\"1\" class=\"dataframe\">\n",
       "  <thead>\n",
       "    <tr style=\"text-align: right;\">\n",
       "      <th></th>\n",
       "      <th>Primary</th>\n",
       "      <th>High</th>\n",
       "      <th>Bachelor</th>\n",
       "      <th>Master</th>\n",
       "    </tr>\n",
       "  </thead>\n",
       "  <tbody>\n",
       "    <tr>\n",
       "      <th>Primary</th>\n",
       "      <td>✔</td>\n",
       "      <td>✔</td>\n",
       "      <td>✔</td>\n",
       "      <td>✗</td>\n",
       "    </tr>\n",
       "    <tr>\n",
       "      <th>High</th>\n",
       "      <td>✔</td>\n",
       "      <td>✔</td>\n",
       "      <td>✔</td>\n",
       "      <td>✔</td>\n",
       "    </tr>\n",
       "    <tr>\n",
       "      <th>Bachelor</th>\n",
       "      <td>✔</td>\n",
       "      <td>✔</td>\n",
       "      <td>✔</td>\n",
       "      <td>✗</td>\n",
       "    </tr>\n",
       "    <tr>\n",
       "      <th>Master</th>\n",
       "      <td>✗</td>\n",
       "      <td>✔</td>\n",
       "      <td>✗</td>\n",
       "      <td>✔</td>\n",
       "    </tr>\n",
       "  </tbody>\n",
       "</table>\n",
       "</div>"
      ],
      "text/plain": [
       "         Primary High Bachelor Master\n",
       "Primary        ✔    ✔        ✔      ✗\n",
       "High           ✔    ✔        ✔      ✔\n",
       "Bachelor       ✔    ✔        ✔      ✗\n",
       "Master         ✗    ✔        ✗      ✔"
      ]
     },
     "metadata": {},
     "output_type": "display_data"
    }
   ],
   "source": [
    "tamhane = sp.posthoc_tamhane(data, val_col='TV Watch Time', group_col='Education Level')\n",
    "tamhane = tamhane.map(decision_table)\n",
    "display(tamhane)"
   ]
  },
  {
   "cell_type": "markdown",
   "id": "0af4c0b7-3a93-4f71-bdee-ff31ca3a44ba",
   "metadata": {},
   "source": [
    "<p style=\"background-image: linear-gradient(to right, #0aa98f, #68dab2)\"> &nbsp; </p>"
   ]
  }
 ],
 "metadata": {
  "kernelspec": {
   "display_name": "Python 3 (ipykernel)",
   "language": "python",
   "name": "python3"
  },
  "language_info": {
   "codemirror_mode": {
    "name": "ipython",
    "version": 3
   },
   "file_extension": ".py",
   "mimetype": "text/x-python",
   "name": "python",
   "nbconvert_exporter": "python",
   "pygments_lexer": "ipython3",
   "version": "3.12.4"
  }
 },
 "nbformat": 4,
 "nbformat_minor": 5
}
