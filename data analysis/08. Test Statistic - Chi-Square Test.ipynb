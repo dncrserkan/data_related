{
 "cells": [
  {
   "attachments": {},
   "cell_type": "markdown",
   "id": "b5fbc009-c0c8-447c-a0e9-9b359d23a6b9",
   "metadata": {},
   "source": [
    "**Chi-Square Test** - $χ^2$ Test\n",
    "> The Chi-square test is a statistical method used to determine if there's a significant association between two categorical variables. here is no equivalent parametric test. There are several types of commonly used chi-square tests: <br>\n",
    "> &emsp; → **Chi-Square Goodness-of-Fit Test** <br>\n",
    "> &emsp; → **Chi-Square Test of Independence** <br>\n",
    "\n",
    "\n",
    "**Chi-Square Goodness-of-Fit Test**\n",
    "> It is a statistical test used to evaluate how well the frequency distribution (observed) of a categorical variable fits a theoretical expected frequency distribution in a sample. This test is used to determine whether the difference between observed and expected frequencies is statistically significant.\n",
    "> \n",
    "> |  |  |  |\n",
    "> |--|--|--|\n",
    "> | $H_0$ | $o_i=e_i$ | → There is no difference between the observed frequencies (o) and the expected frequencies (e). |\n",
    "> | $H_1$ | $o_i≠e_i$ | → There is a difference between the observed frequencies (o) and the expected frequencies (e). |\n",
    ">\n",
    "> **Frequency table** shows the names of each group and the number of occurrences as a result of classifying a variable. <br>\n",
    "> **Expected value** is the number of observations that should fall in each group.\n",
    "> \n",
    "> | $e_i\\ =\\ total\\ observations\\ /\\ number\\ of\\ categories$ |\n",
    "> |-|\n",
    "\n",
    "\n",
    "**Chi-Square Test of Independence**\n",
    "> It is a statistical test used to determine whether the relationship between two categorical variables is statistically significant. It assesses the difference between the observed and expected frequencies.\n",
    "> \n",
    "> |  |  |\n",
    "> |--|--|\n",
    "> | $H_0$ | → The variables are independent. (no association) |\n",
    "> | $H_1$ | → There is a relationship between the variables. (there is an association) |\n",
    ">\n",
    "> \n",
    "> **Contingency tables** are used to visualize and analyze the relationship between two categorical variables.\n",
    ">\n",
    "> \n",
    "> **2x2 Tables:** These are simple contingency tables used when both categorical variables have two levels. The test to be used is selected by examining the smallest value in the table of expected frequencies.\n",
    ">\n",
    "> |  | Variable 1 / Group 1 | Variable 1 / Group 2 |\n",
    "> |--|--|--|\n",
    "> | **Variable 2 / Group 1** | frequency 11 | frequency 12 |\n",
    "> | **Variable 2 / Group 2** | frequency 21 | frequency 22 |\n",
    ">\n",
    "> | Smallest Expected Frequency | Test to Use |\n",
    "> |--|--|\n",
    "> | $SEF\\ >\\ 25$ | Pearson's Chi-Square Test |\n",
    "> | $5\\ <\\ SEF\\ <\\ 25$ | Yates' Chi-Square Test (Yates' continuity correction) |\n",
    "> | $SEF\\ <\\ 5$ | Fisher's Exact Test |\n",
    ">\n",
    "> \n",
    "> **RxC Tables:** These contingency tables are used when each of the two categorical variables has three or more levels. The test to be used is selected by checking whether the number of frequencies smaller than 5 is less than 20% of the cells in the table.\n",
    "> \n",
    "> |  | Variable 1 / Group 1 | ... | Variable 1 / Group C |\n",
    "> |:-:|--|--|--|\n",
    "> | **Variable 2 / Group 1** | frequency 11 | frequency 1C |\n",
    "> | **Variable 2 / Group 2** | frequency 21 | frequency 2C |\n",
    "> | **︙** |  |  |\n",
    "> | **Variable 2 / Group R** | frequency R1 | frequency RC |\n",
    ">\n",
    "> | Percentage of Frequencies Smaller than 5 | Test to Use |\n",
    "> |:-:|--|\n",
    "> | $5\\ SFP\\ <\\ %20$ | Pearson's Chi-Square Test |\n",
    "> | $5\\ SFP\\ >\\ %20$ | Fisher's Exact Test |"
   ]
  },
  {
   "cell_type": "markdown",
   "id": "bd9ddf08-2ef2-4d8a-b58a-5308fc8251cf",
   "metadata": {},
   "source": [
    "<p style=\"background-image: linear-gradient(to right, #0aa98f, #68dab2)\"> &nbsp; </p>"
   ]
  },
  {
   "cell_type": "code",
   "execution_count": 1,
   "id": "8601f53c-3b42-46c2-b5ae-5c158eaac5dc",
   "metadata": {},
   "outputs": [],
   "source": [
    "import numpy as np\n",
    "import pandas as pd\n",
    "from scipy import stats\n",
    "\n",
    "import rpy2.robjects as robjects\n",
    "from rpy2.robjects import pandas2ri\n",
    "pandas2ri.activate()"
   ]
  },
  {
   "cell_type": "markdown",
   "id": "acd1541b-4e9c-454a-9af9-86234e27414f",
   "metadata": {},
   "source": [
    "<p style=\"background-image: linear-gradient(#0aa98f, #ffffff 10%); font-weight:bold;\"> \n",
    "    &nbsp; Functions to Use </p>"
   ]
  },
  {
   "cell_type": "code",
   "execution_count": 2,
   "id": "2232a3fd-a664-40e7-af32-47058c8c7970",
   "metadata": {},
   "outputs": [],
   "source": [
    "α = alpha = 0.05\n",
    "\n",
    "def decision(p, alpha=0.05):\n",
    "    'acceptance or rejection of the null hypothesis'\n",
    "    if p < alpha: return 'H0 rejected.'\n",
    "    else: return 'H0 cannot be rejected.'\n",
    "\n",
    "def test_selection_2x2(value):\n",
    "    if value > 25: return \"Pearson's Chi-Square Test\"\n",
    "    if 5 < value < 25: return \"Yates' Chi-Square Test\"\n",
    "    if value < 5: return \"Fisher's Exact Test\"\n",
    "\n",
    "def test_selection_RxC(value):\n",
    "    if value < 20: return \"Pearson's Chi-Square Test\"\n",
    "    if value > 20: return \"Fisher's Exact Test\""
   ]
  },
  {
   "cell_type": "markdown",
   "id": "8c156cd8-764b-467a-adbe-4aded91c23cf",
   "metadata": {},
   "source": [
    "<p style=\"background-image: linear-gradient(to right, #0aa98f, #68dab2)\"> &nbsp; </p>"
   ]
  },
  {
   "cell_type": "markdown",
   "id": "82b8a670-ed32-4685-ac52-66f1768d9d51",
   "metadata": {},
   "source": [
    "<p style=\"background-image: linear-gradient(#0aa98f, #ffffff 10%); font-weight:bold;\"> \n",
    " &nbsp; CHI-SQUARE GOODNESS-OF-FIT TEST </p>\n",
    "    \n",
    "|  |  |\n",
    "|--|--|\n",
    "| $H_0$ | → The observed data fits the expected distribution. |\n",
    "| $H_1$ | → The observed data does not fit the expected distribution. |"
   ]
  },
  {
   "cell_type": "code",
   "execution_count": 3,
   "id": "034820c8-3698-442b-8177-c36cd53e0f6f",
   "metadata": {},
   "outputs": [
    {
     "data": {
      "text/html": [
       "<div>\n",
       "<style scoped>\n",
       "    .dataframe tbody tr th:only-of-type {\n",
       "        vertical-align: middle;\n",
       "    }\n",
       "\n",
       "    .dataframe tbody tr th {\n",
       "        vertical-align: top;\n",
       "    }\n",
       "\n",
       "    .dataframe thead th {\n",
       "        text-align: right;\n",
       "    }\n",
       "</style>\n",
       "<table border=\"1\" class=\"dataframe\">\n",
       "  <thead>\n",
       "    <tr style=\"text-align: right;\">\n",
       "      <th></th>\n",
       "      <th>Weight</th>\n",
       "    </tr>\n",
       "  </thead>\n",
       "  <tbody>\n",
       "    <tr>\n",
       "      <th>18</th>\n",
       "      <td>Overweight</td>\n",
       "    </tr>\n",
       "    <tr>\n",
       "      <th>97</th>\n",
       "      <td>Overweight</td>\n",
       "    </tr>\n",
       "    <tr>\n",
       "      <th>5</th>\n",
       "      <td>Overweight</td>\n",
       "    </tr>\n",
       "  </tbody>\n",
       "</table>\n",
       "</div>"
      ],
      "text/plain": [
       "        Weight\n",
       "18  Overweight\n",
       "97  Overweight\n",
       "5   Overweight"
      ]
     },
     "execution_count": 3,
     "metadata": {},
     "output_type": "execute_result"
    }
   ],
   "source": [
    "data = ['Underweight'] * 42 + ['Healthy'] * 30 + ['Overweight'] * 28\n",
    "np.random.shuffle(data)\n",
    "\n",
    "data = pd.DataFrame(data, columns=['Weight'])\n",
    "data.sample(3)"
   ]
  },
  {
   "cell_type": "code",
   "execution_count": 4,
   "id": "1c1a4c15-cfbd-400e-bca5-8a5e8a455a1f",
   "metadata": {},
   "outputs": [
    {
     "data": {
      "text/plain": [
       "Weight\n",
       "Underweight    42\n",
       "Healthy        30\n",
       "Overweight     28\n",
       "Name: count, dtype: int64"
      ]
     },
     "execution_count": 4,
     "metadata": {},
     "output_type": "execute_result"
    }
   ],
   "source": [
    "frequency = data['Weight'].value_counts()\n",
    "frequency"
   ]
  },
  {
   "cell_type": "code",
   "execution_count": 5,
   "id": "d46cc5c1-4bda-480e-89cf-faae5b4ecc5a",
   "metadata": {},
   "outputs": [
    {
     "name": "stdout",
     "output_type": "stream",
     "text": [
      "Chi-Square: 3.44\n",
      "p: 0.1791\n",
      "Decision: H0 cannot be rejected.\n"
     ]
    }
   ],
   "source": [
    "chi, p = stats.chisquare(frequency)\n",
    "\n",
    "print('Chi-Square:', chi)\n",
    "print('p:', round(p, 4))\n",
    "print('Decision:', decision(p))"
   ]
  },
  {
   "cell_type": "markdown",
   "id": "e741102e-21a3-4037-9577-d20fda6816b2",
   "metadata": {},
   "source": [
    "<p style=\"background-image: linear-gradient(to right, #0aa98f, #68dab2)\"> &nbsp; </p>"
   ]
  },
  {
   "cell_type": "markdown",
   "id": "a1021739-d217-4457-825d-4fc8c464fce3",
   "metadata": {},
   "source": [
    "<p style=\"background-image: linear-gradient(#0aa98f, #ffffff 10%);\"> \n",
    "<b> &nbsp; CHI-SQUARE TEST OF INDEPENDENCE </b> - Contingency 2x2 </p>\n",
    "    \n",
    "|  |  |\n",
    "|--|--|\n",
    "| $H_0$ | → There is no relationship between gender and person’s handedness variables. |\n",
    "| $H_1$ | → There is a relationship between gender and person’s handedness variables. |"
   ]
  },
  {
   "cell_type": "code",
   "execution_count": 6,
   "id": "29b6ce67-821d-4bc9-89ed-fd433b023b37",
   "metadata": {},
   "outputs": [
    {
     "data": {
      "text/html": [
       "<div>\n",
       "<style scoped>\n",
       "    .dataframe tbody tr th:only-of-type {\n",
       "        vertical-align: middle;\n",
       "    }\n",
       "\n",
       "    .dataframe tbody tr th {\n",
       "        vertical-align: top;\n",
       "    }\n",
       "\n",
       "    .dataframe thead th {\n",
       "        text-align: right;\n",
       "    }\n",
       "</style>\n",
       "<table border=\"1\" class=\"dataframe\">\n",
       "  <thead>\n",
       "    <tr style=\"text-align: right;\">\n",
       "      <th></th>\n",
       "      <th>Gender</th>\n",
       "      <th>Handedness</th>\n",
       "    </tr>\n",
       "  </thead>\n",
       "  <tbody>\n",
       "    <tr>\n",
       "      <th>65</th>\n",
       "      <td>Female</td>\n",
       "      <td>Right</td>\n",
       "    </tr>\n",
       "    <tr>\n",
       "      <th>3</th>\n",
       "      <td>Male</td>\n",
       "      <td>Right</td>\n",
       "    </tr>\n",
       "    <tr>\n",
       "      <th>85</th>\n",
       "      <td>Female</td>\n",
       "      <td>Right</td>\n",
       "    </tr>\n",
       "  </tbody>\n",
       "</table>\n",
       "</div>"
      ],
      "text/plain": [
       "    Gender Handedness\n",
       "65  Female      Right\n",
       "3     Male      Right\n",
       "85  Female      Right"
      ]
     },
     "execution_count": 6,
     "metadata": {},
     "output_type": "execute_result"
    }
   ],
   "source": [
    "data = pd.read_csv('data/12_gender_and_handedness.csv')\n",
    "data.sample(3)"
   ]
  },
  {
   "cell_type": "markdown",
   "id": "2de805e1-5edf-4d26-9389-f53f546056c2",
   "metadata": {},
   "source": [
    "**1. Data Preparation**"
   ]
  },
  {
   "cell_type": "code",
   "execution_count": 7,
   "id": "e677ba05-a7c7-4cd6-8ffe-919cd704cb40",
   "metadata": {},
   "outputs": [
    {
     "data": {
      "text/html": [
       "<div>\n",
       "<style scoped>\n",
       "    .dataframe tbody tr th:only-of-type {\n",
       "        vertical-align: middle;\n",
       "    }\n",
       "\n",
       "    .dataframe tbody tr th {\n",
       "        vertical-align: top;\n",
       "    }\n",
       "\n",
       "    .dataframe thead th {\n",
       "        text-align: right;\n",
       "    }\n",
       "</style>\n",
       "<table border=\"1\" class=\"dataframe\">\n",
       "  <thead>\n",
       "    <tr style=\"text-align: right;\">\n",
       "      <th>Handedness</th>\n",
       "      <th>Left</th>\n",
       "      <th>Right</th>\n",
       "    </tr>\n",
       "    <tr>\n",
       "      <th>Gender</th>\n",
       "      <th></th>\n",
       "      <th></th>\n",
       "    </tr>\n",
       "  </thead>\n",
       "  <tbody>\n",
       "    <tr>\n",
       "      <th>Female</th>\n",
       "      <td>9</td>\n",
       "      <td>43</td>\n",
       "    </tr>\n",
       "    <tr>\n",
       "      <th>Male</th>\n",
       "      <td>4</td>\n",
       "      <td>44</td>\n",
       "    </tr>\n",
       "  </tbody>\n",
       "</table>\n",
       "</div>"
      ],
      "text/plain": [
       "Handedness  Left  Right\n",
       "Gender                 \n",
       "Female         9     43\n",
       "Male           4     44"
      ]
     },
     "metadata": {},
     "output_type": "display_data"
    }
   ],
   "source": [
    "table = pd.crosstab(index=data['Gender'], columns=data['Handedness'])\n",
    "display(table)"
   ]
  },
  {
   "cell_type": "markdown",
   "id": "c8137b19-916d-4a92-9691-7fa701a3edda",
   "metadata": {},
   "source": [
    "**2. Finding the Expected Frequency Value**"
   ]
  },
  {
   "cell_type": "code",
   "execution_count": 8,
   "id": "6f5f4ab4-7d44-43e2-bc4d-ae7b42ee1b59",
   "metadata": {},
   "outputs": [
    {
     "name": "stdout",
     "output_type": "stream",
     "text": [
      "[[ 6.76 45.24]\n",
      " [ 6.24 41.76]]\n",
      "Test for the smallest expected value 6.24 : Yates' Chi-Square Test\n"
     ]
    }
   ],
   "source": [
    "test, p, df, expected = stats.chi2_contingency(table)\n",
    "\n",
    "print(expected)\n",
    "print(f'Test for the smallest expected value {expected.min()} :', test_selection_2x2(expected.min()))"
   ]
  },
  {
   "cell_type": "markdown",
   "id": "3df45aa7-3b39-473a-9773-b37451527855",
   "metadata": {},
   "source": [
    "**3. Test Implementation** - Yates' Chi-Square Test"
   ]
  },
  {
   "cell_type": "code",
   "execution_count": 9,
   "id": "ef942cea-68ff-4f8a-adc8-4400070854f4",
   "metadata": {},
   "outputs": [
    {
     "name": "stdout",
     "output_type": "stream",
     "text": [
      "p: 0.3004 \t Decision: H0 cannot be rejected.\n"
     ]
    }
   ],
   "source": [
    "test, p, df, expected = stats.chi2_contingency(table, correction=True)\n",
    "print(f'p: {p:.4f} \\t Decision: {decision(p)}')"
   ]
  },
  {
   "cell_type": "markdown",
   "id": "6a940c4e-1664-46d4-9a9c-1203b60c6d13",
   "metadata": {},
   "source": [
    "<p style=\"background-image: linear-gradient(#f87674, #ffffff 10%);\"> \n",
    "<b> 3.1. Test Implementation</b> - Pearson's Chi-Square Test </p>"
   ]
  },
  {
   "cell_type": "code",
   "execution_count": 10,
   "id": "6cc7e5c9-9c40-4419-bad3-33c471fea7ab",
   "metadata": {},
   "outputs": [
    {
     "name": "stdout",
     "output_type": "stream",
     "text": [
      "p: 0.1825 \t Decision: H0 cannot be rejected.\n"
     ]
    }
   ],
   "source": [
    "test, p, df, expected = stats.chi2_contingency(table, correction=False)\n",
    "print(f'p: {p:.4f} \\t Decision: {decision(p)}')"
   ]
  },
  {
   "cell_type": "markdown",
   "id": "912c59ba-d64a-4434-a160-1d0fbc872060",
   "metadata": {},
   "source": [
    "**3.2. Test Implementation** - Fisher's Exact Test"
   ]
  },
  {
   "cell_type": "code",
   "execution_count": 11,
   "id": "1d48db00-bc90-4ca7-9889-a2ea7064f19f",
   "metadata": {},
   "outputs": [
    {
     "name": "stdout",
     "output_type": "stream",
     "text": [
      "p: 0.2392 \t Decision: H0 cannot be rejected.\n"
     ]
    }
   ],
   "source": [
    "test, p = stats.fisher_exact(table)\n",
    "print(f'p: {p:.4f} \\t Decision: {decision(p)}')"
   ]
  },
  {
   "cell_type": "markdown",
   "id": "2c20a0e5-dd7b-4f11-9059-2989c5094374",
   "metadata": {},
   "source": [
    "<p style=\"background-image: linear-gradient(to right, #ee2965, #e31837)\"> &nbsp; </p>"
   ]
  },
  {
   "cell_type": "markdown",
   "id": "5e17eba9-09c5-4352-96f4-cfc915ea608f",
   "metadata": {},
   "source": [
    "<p style=\"background-image: linear-gradient(to right, #0aa98f, #68dab2)\"> &nbsp; </p>"
   ]
  },
  {
   "cell_type": "markdown",
   "id": "243631d6-402a-40b5-90b7-b2ac802b698f",
   "metadata": {},
   "source": [
    "<p style=\"background-image: linear-gradient(#0aa98f, #ffffff 10%);\"> \n",
    "<b> &nbsp; CHI-SQUARE TEST OF INDEPENDENCE </b> - Contingency RxC </p>\n",
    "    \n",
    "|  |  |\n",
    "|--|--|\n",
    "| $H_0$ | → There is no relationship between gender and brand preference variables. |\n",
    "| $H_1$ | → There is a relationship between gender and brand preference variables. |"
   ]
  },
  {
   "cell_type": "code",
   "execution_count": 12,
   "id": "b48750db-6821-424b-958e-f1bad9ef5d47",
   "metadata": {},
   "outputs": [
    {
     "data": {
      "text/html": [
       "<div>\n",
       "<style scoped>\n",
       "    .dataframe tbody tr th:only-of-type {\n",
       "        vertical-align: middle;\n",
       "    }\n",
       "\n",
       "    .dataframe tbody tr th {\n",
       "        vertical-align: top;\n",
       "    }\n",
       "\n",
       "    .dataframe thead th {\n",
       "        text-align: right;\n",
       "    }\n",
       "</style>\n",
       "<table border=\"1\" class=\"dataframe\">\n",
       "  <thead>\n",
       "    <tr style=\"text-align: right;\">\n",
       "      <th></th>\n",
       "      <th>Gender</th>\n",
       "      <th>Brand</th>\n",
       "    </tr>\n",
       "  </thead>\n",
       "  <tbody>\n",
       "    <tr>\n",
       "      <th>12</th>\n",
       "      <td>Female</td>\n",
       "      <td>D</td>\n",
       "    </tr>\n",
       "    <tr>\n",
       "      <th>23</th>\n",
       "      <td>Female</td>\n",
       "      <td>D</td>\n",
       "    </tr>\n",
       "    <tr>\n",
       "      <th>16</th>\n",
       "      <td>Female</td>\n",
       "      <td>C</td>\n",
       "    </tr>\n",
       "  </tbody>\n",
       "</table>\n",
       "</div>"
      ],
      "text/plain": [
       "    Gender Brand\n",
       "12  Female     D\n",
       "23  Female     D\n",
       "16  Female     C"
      ]
     },
     "execution_count": 12,
     "metadata": {},
     "output_type": "execute_result"
    }
   ],
   "source": [
    "data = pd.read_csv('data/13_gender_brand_preferences.csv')\n",
    "data.sample(3)"
   ]
  },
  {
   "cell_type": "markdown",
   "id": "ebdd786a-cbee-468b-99a5-c812ac129efd",
   "metadata": {},
   "source": [
    "**1. Data Preparation**"
   ]
  },
  {
   "cell_type": "code",
   "execution_count": 13,
   "id": "335c819d-47b4-4f25-9c5e-9af2c1c70cee",
   "metadata": {},
   "outputs": [
    {
     "data": {
      "text/html": [
       "<div>\n",
       "<style scoped>\n",
       "    .dataframe tbody tr th:only-of-type {\n",
       "        vertical-align: middle;\n",
       "    }\n",
       "\n",
       "    .dataframe tbody tr th {\n",
       "        vertical-align: top;\n",
       "    }\n",
       "\n",
       "    .dataframe thead th {\n",
       "        text-align: right;\n",
       "    }\n",
       "</style>\n",
       "<table border=\"1\" class=\"dataframe\">\n",
       "  <thead>\n",
       "    <tr style=\"text-align: right;\">\n",
       "      <th>Brand</th>\n",
       "      <th>A</th>\n",
       "      <th>B</th>\n",
       "      <th>C</th>\n",
       "      <th>D</th>\n",
       "    </tr>\n",
       "    <tr>\n",
       "      <th>Gender</th>\n",
       "      <th></th>\n",
       "      <th></th>\n",
       "      <th></th>\n",
       "      <th></th>\n",
       "    </tr>\n",
       "  </thead>\n",
       "  <tbody>\n",
       "    <tr>\n",
       "      <th>Female</th>\n",
       "      <td>3</td>\n",
       "      <td>4</td>\n",
       "      <td>6</td>\n",
       "      <td>5</td>\n",
       "    </tr>\n",
       "    <tr>\n",
       "      <th>Male</th>\n",
       "      <td>1</td>\n",
       "      <td>1</td>\n",
       "      <td>3</td>\n",
       "      <td>1</td>\n",
       "    </tr>\n",
       "  </tbody>\n",
       "</table>\n",
       "</div>"
      ],
      "text/plain": [
       "Brand   A  B  C  D\n",
       "Gender            \n",
       "Female  3  4  6  5\n",
       "Male    1  1  3  1"
      ]
     },
     "metadata": {},
     "output_type": "display_data"
    }
   ],
   "source": [
    "table = pd.crosstab(index=data['Gender'], columns=data['Brand'])\n",
    "display(table)"
   ]
  },
  {
   "cell_type": "markdown",
   "id": "41e470b6-80a9-4650-bd35-336d54084e23",
   "metadata": {},
   "source": [
    "**2. Finding the Expected Frequency Value**"
   ]
  },
  {
   "cell_type": "code",
   "execution_count": 14,
   "id": "a05f002b-faad-495a-80af-fafcd2134c63",
   "metadata": {},
   "outputs": [
    {
     "name": "stdout",
     "output_type": "stream",
     "text": [
      "[[3.   3.75 6.75 4.5 ]\n",
      " [1.   1.25 2.25 1.5 ]]\n",
      "The test to be applied for %87.5 : Fisher's Exact Test\n"
     ]
    }
   ],
   "source": [
    "test, p, df, expected = stats.chi2_contingency(table)\n",
    "print(expected)\n",
    "\n",
    "percentage = (expected<5).sum() / expected.size * 100\n",
    "print(f'The test to be applied for %{percentage} :', test_selection_RxC(percentage))"
   ]
  },
  {
   "cell_type": "markdown",
   "id": "89665c26-a499-4a6b-ab76-5667fdab7e0e",
   "metadata": {},
   "source": [
    "**3. Test Implementation** - Fisher's Exact Test"
   ]
  },
  {
   "cell_type": "code",
   "execution_count": 15,
   "id": "837f5654-25bf-413f-b494-de6b209d1e48",
   "metadata": {},
   "outputs": [
    {
     "name": "stdout",
     "output_type": "stream",
     "text": [
      "\n",
      "\tFisher's Exact Test for Count Data\n",
      "\n",
      "data:  structure(list(A = c(3L, 1L), B = c(4L, 1L), C = c(6L, 3L), D = c(5L, 1L)), class = \"data.frame\", row.names = c(\"Female\", \"Male\"))\n",
      "p-value = 0.9198\n",
      "alternative hypothesis: two.sided\n",
      "\n",
      "\n"
     ]
    }
   ],
   "source": [
    "fisher = robjects.r['fisher.test']\n",
    "\n",
    "# values = table.to_numpy().T.flatten() \n",
    "# r_table = robjects.r.matrix(robjects.IntVector(values), nrow=2)\n",
    "\n",
    "test = fisher(table)\n",
    "print(test)"
   ]
  },
  {
   "cell_type": "markdown",
   "id": "41b771e7-dfd5-4255-b060-5d57361bc41c",
   "metadata": {},
   "source": [
    "<p style=\"background-image: linear-gradient(#f87674, #ffffff 10%);\"> \n",
    "<b>3.1. Test Implementation</b> - Pearson's Chi-Square Test </p>"
   ]
  },
  {
   "cell_type": "code",
   "execution_count": 16,
   "id": "f8609a5e-82bd-4668-9c5a-e8ebf04aa504",
   "metadata": {},
   "outputs": [
    {
     "name": "stdout",
     "output_type": "stream",
     "text": [
      "p: 0.8913 \t Decision: H0 cannot be rejected.\n"
     ]
    }
   ],
   "source": [
    "test, p, df, expected = stats.chi2_contingency(table, correction=False)\n",
    "print(f'p: {p:.4f} \\t Decision: {decision(p)}')"
   ]
  },
  {
   "cell_type": "markdown",
   "id": "78f48e5c-4ff0-4594-8e2d-b8c15b886751",
   "metadata": {},
   "source": [
    "<p style=\"background-image: linear-gradient(to right, #ee2965, #e31837)\"> &nbsp; </p>"
   ]
  },
  {
   "cell_type": "markdown",
   "id": "0af4c0b7-3a93-4f71-bdee-ff31ca3a44ba",
   "metadata": {},
   "source": [
    "<p style=\"background-image: linear-gradient(to right, #0aa98f, #68dab2)\"> &nbsp; </p>"
   ]
  }
 ],
 "metadata": {
  "kernelspec": {
   "display_name": "Python 3 (ipykernel)",
   "language": "python",
   "name": "python3"
  },
  "language_info": {
   "codemirror_mode": {
    "name": "ipython",
    "version": 3
   },
   "file_extension": ".py",
   "mimetype": "text/x-python",
   "name": "python",
   "nbconvert_exporter": "python",
   "pygments_lexer": "ipython3",
   "version": "3.11.10"
  }
 },
 "nbformat": 4,
 "nbformat_minor": 5
}
