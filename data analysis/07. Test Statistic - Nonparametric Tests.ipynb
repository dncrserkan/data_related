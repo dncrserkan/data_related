{
 "cells": [
  {
   "attachments": {},
   "cell_type": "markdown",
   "id": "b5fbc009-c0c8-447c-a0e9-9b359d23a6b9",
   "metadata": {},
   "source": [
    "**NONPARAMETRIC TESTS**\n",
    "\n",
    "**Parametric vs Nonparametric Tests**\n",
    "> Nonparametric tests are statistical methods that do not assume a specific distribution for the data. Parametric tests are generally more powerful than nonparametric tests. If possible, always use parametric tests. Nonparametric tests are often based on ranking data rather than using the actual data points.\n",
    "> \n",
    "> *Spearman correlation* is similar to the *Pearson correlation*, but ranks are used instead of raw values. *T-tests for independent samples* assess whether there is a mean difference, whereas the *Mann-Whitney U test* checks for differences in rank sums.\n",
    ">\n",
    "> **Rank Sum Calculation :** Sort all the data from smallest to largest. Assign ranks to each value. Then, simply add up the ranks for the first group and the second group.\n",
    ">\n",
    "> <img src=\"images/Parametric vs Nonparametric.png\" alt=\"Parametric vs Nonparametric\" width=\"750\" style=\"display: block; margin: 0 auto;\"/>\n",
    "\n",
    "\n",
    "**Wilcoxon Test**\n",
    "> Tests whether there is a difference between two dependent samples. Wilcoxon test is the nonparametric counterpart to the t test for dependent samples.\n",
    "> \n",
    "> |  |  |\n",
    "> |--|--|\n",
    "> | $H_0$ | → The central tendencies of the two dependent samples are the same. |\n",
    "> | $H_1$ | → The central tendencies of the two dependent samples are unequal.  |\n",
    "> \n",
    "> **ASSUMPTIONS**\n",
    "> > → Only two dependent random samples with at least ordinally scaled characteristics need to be available. <br>\n",
    "> > → The variabe do not have to satisfy a distribution curve. However the distribution shape of the differences of the two dependent samples should be approximately symetric.\n",
    ">\n",
    "\n",
    "\n",
    "**Mann-Whitney U Test**\n",
    "> Tests whether there is a difference between two independent samples. Mann–Whitney U test is the nonparametric counterpart to the t test for independent samples. \n",
    "> |  |  |\n",
    "> |--|--|\n",
    "> | Two independent samples t-test | → Mean difference |\n",
    "> | Mann–Whitney U | → Rank sum difference |\n",
    ">\n",
    "> |  |  |\n",
    "> |--|--|\n",
    "> | $H_0$ | → In two samples, the rank sums do not differ significantly. |\n",
    "> | $H_1$ | → In two samples, the rank sums do differ significantly.  |\n",
    "\n",
    "\n",
    "**Kruskal–Wallis Test**\n",
    "> The Kruskal-Wallis test is used to compare three or more independent groups on a continuous or ordinal outcome. It is the nonparametric counterpart to the one-way ANOVA.\n",
    ">\n",
    "> When a difference between groups is detected after the Kruskal-Wallis test, it is necessary to determine where this difference originates from. **Conover's Test** or **Dunn's Test** from **post-hoc tests** are applied.\n",
    "> \n",
    "> |  |  |\n",
    "> |--|--|\n",
    "> | $H_0$ | → All groups of independent variable have the same central tendency and therefore come from the same population. <br> → No difference in the rank sum. <br> → The medians of all groups are equal. |\n",
    "> | $H_1$ | → At least one group of the independent variable does not have the same tendency as the other groups and therefore come from a different population. <br> → At least one group differs in the rank sum. <br> → At least one group's median is different from the others.\n",
    " |\n",
    ">\n",
    "> **ASSUMPTIONS**\n",
    "> > → A nominal or ordinal variable with more than two expressions. <br>\n",
    "> > → Dependent variable must have a metrtic or ordinal scale.\n",
    ">\n",
    "\n",
    "**Friedman Test**\n",
    "> The Friedman test is used to detect differences across three or more related groups (conditions or treatments), where the same subjects are measured under each condition (within-subjects design). It is the non-parametric counterpart to the repeated measures ANOVA.\n",
    "> > **Independent variable:** refers to the conditions or treatments. <br>\n",
    "> > **Dependent variable:** refers to the outcome being measured under each condition. The same dependent variable is measured repeatedly across different conditions.\n",
    ">\n",
    "> |  |  |\n",
    "> |--|--|\n",
    "> | $H_0$ | → There are no significant differences between the dependent groups. <br> → The distributions of the ranks of the dependent variable are the same across the conditions or time points. |\n",
    "> | $H_1$ | → At least one dependent group differs. <br> → At least one condition differs from the others in terms of the distribution of ranks. |\n",
    ">"
   ]
  },
  {
   "cell_type": "markdown",
   "id": "bd9ddf08-2ef2-4d8a-b58a-5308fc8251cf",
   "metadata": {},
   "source": [
    "<p style=\"background-image: linear-gradient(to right, #0aa98f, #68dab2)\"> &nbsp; </p>"
   ]
  },
  {
   "cell_type": "markdown",
   "id": "5de8c545-1e4c-4ca9-8b07-1dd9e8aedb7f",
   "metadata": {},
   "source": [
    "**Likert Scale**\n",
    "> A Likert scale is a psychometric scale commonly used in surveys to measure attitudes, opinions, or perceptions. It typically consists of a series of statements where respondents indicate their level of agreement or disagreement on a symmetrical scale, often ranging from strongly agree to strongly disagree.\n",
    ">\n",
    "> The Likert scale helps quantify subjective data, making it easier to analyze statistically. When analyzing Likert data, it's important to consider whether we treat the data as ordinal (ranking without assuming equal intervals between responses) or interval (assuming equal intervals between responses), as this affects the choice of statistical tests.\n",
    "\n",
    "**Cronbach's Alpha**\n",
    "> Cronbach's alpha is a measure of internal consistency or reliability, commonly used to assess the reliability of a set of scale or test items (e.g., in surveys or questionnaires). It evaluates how well the individual items in a scale correlate with one another, essentially checking if they measure the same underlying construct.\n",
    "> | Interpretation of Cronbach's Alpha | |\n",
    "> |-|-|\n",
    "> | α ≥ 0.9 | Excellent (very high reliability)\n",
    "> | 0.8 ≤ α < 0.9 | Good\n",
    "> | 0.7 ≤ α < 0.8 | Acceptable\n",
    "> | 0.6 ≤ α < 0.7 | Questionable\n",
    "> | 0.5 ≤ α < 0.6 | Poor\n",
    "> | α < 0.5 | Unacceptable\n",
    "> "
   ]
  },
  {
   "cell_type": "markdown",
   "id": "1e11fed5-97ef-46d7-b231-d6fd25992767",
   "metadata": {},
   "source": [
    "<p style=\"background-image: linear-gradient(to right, #0aa98f, #68dab2)\"> &nbsp; </p>"
   ]
  },
  {
   "cell_type": "code",
   "execution_count": 1,
   "id": "8601f53c-3b42-46c2-b5ae-5c158eaac5dc",
   "metadata": {},
   "outputs": [],
   "source": [
    "import pandas as pd\n",
    "import pingouin as pg\n",
    "from scipy import stats\n",
    "import scikit_posthocs as sp"
   ]
  },
  {
   "cell_type": "markdown",
   "id": "acd1541b-4e9c-454a-9af9-86234e27414f",
   "metadata": {},
   "source": [
    "<p style=\"background-image: linear-gradient(#0aa98f, #ffffff 10%); font-weight:bold;\"> \n",
    "    &nbsp; Functions to Use </p>"
   ]
  },
  {
   "cell_type": "code",
   "execution_count": 2,
   "id": "2232a3fd-a664-40e7-af32-47058c8c7970",
   "metadata": {},
   "outputs": [],
   "source": [
    "α = alpha = 0.05\n",
    "\n",
    "def decision(p, alpha=0.05):\n",
    "    'acceptance or rejection of the null hypothesis'\n",
    "    if p < alpha: return 'H0 rejected.'\n",
    "    else: return 'H0 cannot be rejected.'\n",
    "\n",
    "def _decision(p, alpha=0.05):\n",
    "    if p<alpha: return False\n",
    "    return True"
   ]
  },
  {
   "cell_type": "markdown",
   "id": "8c156cd8-764b-467a-adbe-4aded91c23cf",
   "metadata": {},
   "source": [
    "<p style=\"background-image: linear-gradient(to right, #0aa98f, #68dab2)\"> &nbsp; </p>"
   ]
  },
  {
   "cell_type": "markdown",
   "id": "82b8a670-ed32-4685-ac52-66f1768d9d51",
   "metadata": {},
   "source": [
    "<p style=\"background-image: linear-gradient(#0aa98f, #ffffff 10%); font-weight:bold;\"> \n",
    " &nbsp; SIGN TEST </p>\n",
    "    \n",
    "|  |  |\n",
    "|--|--|\n",
    "| $H_0$ | $μ = X$ |\n",
    "| $H_1$ | $μ ≠ X$ |"
   ]
  },
  {
   "cell_type": "code",
   "execution_count": 3,
   "id": "034820c8-3698-442b-8177-c36cd53e0f6f",
   "metadata": {},
   "outputs": [],
   "source": [
    "X = 30\n",
    "data = {\n",
    "    'Participant': range(1,26),\n",
    "    'Score': [1,1,2,2,3,3,4,5,5,6,7,7,8,10,20,22,25,27,33,40,42,50,55,75,80]\n",
    "}\n",
    "\n",
    "data = pd.DataFrame(data)"
   ]
  },
  {
   "cell_type": "code",
   "execution_count": 4,
   "id": "1c1a4c15-cfbd-400e-bca5-8a5e8a455a1f",
   "metadata": {},
   "outputs": [
    {
     "data": {
      "text/html": [
       "<div>\n",
       "<style scoped>\n",
       "    .dataframe tbody tr th:only-of-type {\n",
       "        vertical-align: middle;\n",
       "    }\n",
       "\n",
       "    .dataframe tbody tr th {\n",
       "        vertical-align: top;\n",
       "    }\n",
       "\n",
       "    .dataframe thead th {\n",
       "        text-align: right;\n",
       "    }\n",
       "</style>\n",
       "<table border=\"1\" class=\"dataframe\">\n",
       "  <thead>\n",
       "    <tr style=\"text-align: right;\">\n",
       "      <th></th>\n",
       "      <th>W</th>\n",
       "      <th>pval</th>\n",
       "      <th>normal</th>\n",
       "    </tr>\n",
       "  </thead>\n",
       "  <tbody>\n",
       "    <tr>\n",
       "      <th>Score</th>\n",
       "      <td>0.811745</td>\n",
       "      <td>0.000359</td>\n",
       "      <td>False</td>\n",
       "    </tr>\n",
       "  </tbody>\n",
       "</table>\n",
       "</div>"
      ],
      "text/plain": [
       "              W      pval  normal\n",
       "Score  0.811745  0.000359   False"
      ]
     },
     "execution_count": 4,
     "metadata": {},
     "output_type": "execute_result"
    }
   ],
   "source": [
    "pg.normality(data['Score'])"
   ]
  },
  {
   "cell_type": "markdown",
   "id": "1a9a3877-96e8-464d-8ee3-80176349ca74",
   "metadata": {},
   "source": [
    "Since the **normality assumption is not met** and there is **not enough data to invoke the central limit theorem**, the sign test is used instead of a simple t-test."
   ]
  },
  {
   "cell_type": "code",
   "execution_count": 5,
   "id": "98215f4a-31d9-4a9f-a82a-860e2fbe9c18",
   "metadata": {},
   "outputs": [
    {
     "data": {
      "text/html": [
       "<div>\n",
       "<style scoped>\n",
       "    .dataframe tbody tr th:only-of-type {\n",
       "        vertical-align: middle;\n",
       "    }\n",
       "\n",
       "    .dataframe tbody tr th {\n",
       "        vertical-align: top;\n",
       "    }\n",
       "\n",
       "    .dataframe thead th {\n",
       "        text-align: right;\n",
       "    }\n",
       "</style>\n",
       "<table border=\"1\" class=\"dataframe\">\n",
       "  <thead>\n",
       "    <tr style=\"text-align: right;\">\n",
       "      <th></th>\n",
       "      <th>W-val</th>\n",
       "      <th>alternative</th>\n",
       "      <th>p-val</th>\n",
       "      <th>RBC</th>\n",
       "      <th>CLES</th>\n",
       "      <th>Null Hypothesis</th>\n",
       "    </tr>\n",
       "  </thead>\n",
       "  <tbody>\n",
       "    <tr>\n",
       "      <th>Wilcoxon</th>\n",
       "      <td>86.5</td>\n",
       "      <td>two-sided</td>\n",
       "      <td>0.039339</td>\n",
       "      <td>-0.467692</td>\n",
       "      <td>NaN</td>\n",
       "      <td>False</td>\n",
       "    </tr>\n",
       "  </tbody>\n",
       "</table>\n",
       "</div>"
      ],
      "text/plain": [
       "          W-val alternative     p-val       RBC  CLES  Null Hypothesis\n",
       "Wilcoxon   86.5   two-sided  0.039339 -0.467692   NaN            False"
      ]
     },
     "execution_count": 5,
     "metadata": {},
     "output_type": "execute_result"
    }
   ],
   "source": [
    "# t, p = stats.wilcoxon(data['Score']-X)\n",
    "# print(f'p: {p:.4f} \\t Decision: {decision(p)} ')\n",
    "\n",
    "test = pg.wilcoxon(data['Score']-X)\n",
    "test['Null Hypothesis'] = test['p-val'].map(_decision)\n",
    "test"
   ]
  },
  {
   "cell_type": "code",
   "execution_count": 6,
   "id": "4439d7f9-a35f-4d27-86ed-e239e25a3002",
   "metadata": {},
   "outputs": [
    {
     "name": "stdout",
     "output_type": "stream",
     "text": [
      "Median: 8.0\n"
     ]
    }
   ],
   "source": [
    "print('Median:',data['Score'].median())"
   ]
  },
  {
   "cell_type": "markdown",
   "id": "63a2f372-1361-4027-9fd4-d9df31b8a2fb",
   "metadata": {},
   "source": [
    "<p style=\"background-image: linear-gradient(to right, #0aa98f, #68dab2)\"> &nbsp; </p>"
   ]
  },
  {
   "cell_type": "markdown",
   "id": "2ba46b97-20fe-483a-9fd0-be90031765b5",
   "metadata": {},
   "source": [
    "<p style=\"background-image: linear-gradient(#0aa98f, #ffffff 10%); font-weight:bold;\"> \n",
    " &nbsp; MANN–WHITNEY U TEST </p>\n",
    "    \n",
    "|  |  |\n",
    "|--|--|\n",
    "| $H_0$ | → There is no difference between the duration of practicing sports according to gender. |\n",
    "| $H_1$ | → There is a difference between the duration of practicing sports according to gender. |"
   ]
  },
  {
   "cell_type": "code",
   "execution_count": 7,
   "id": "c3287220-81fd-4d9c-8516-105a861c88ce",
   "metadata": {},
   "outputs": [],
   "source": [
    "data = {\n",
    "    'Gender': ['F','F','F','F','F','F', 'M','M','M','M','M','M'],\n",
    "    'Duration': [55,25,66,22,35,55,33,75,29,63,27,29]\n",
    "}\n",
    "\n",
    "data = pd.DataFrame(data)\n",
    "\n",
    "male = data[data['Gender']=='M']['Duration']\n",
    "female = data[data['Gender']=='F']['Duration']"
   ]
  },
  {
   "cell_type": "code",
   "execution_count": 8,
   "id": "40d5b0f5-d8a9-4603-b719-c4be5636bfc3",
   "metadata": {},
   "outputs": [
    {
     "data": {
      "text/html": [
       "<div>\n",
       "<style scoped>\n",
       "    .dataframe tbody tr th:only-of-type {\n",
       "        vertical-align: middle;\n",
       "    }\n",
       "\n",
       "    .dataframe tbody tr th {\n",
       "        vertical-align: top;\n",
       "    }\n",
       "\n",
       "    .dataframe thead th {\n",
       "        text-align: right;\n",
       "    }\n",
       "</style>\n",
       "<table border=\"1\" class=\"dataframe\">\n",
       "  <thead>\n",
       "    <tr style=\"text-align: right;\">\n",
       "      <th></th>\n",
       "      <th>W</th>\n",
       "      <th>pval</th>\n",
       "      <th>normal</th>\n",
       "    </tr>\n",
       "    <tr>\n",
       "      <th>Gender</th>\n",
       "      <th></th>\n",
       "      <th></th>\n",
       "      <th></th>\n",
       "    </tr>\n",
       "  </thead>\n",
       "  <tbody>\n",
       "    <tr>\n",
       "      <th>F</th>\n",
       "      <td>0.899448</td>\n",
       "      <td>0.370678</td>\n",
       "      <td>True</td>\n",
       "    </tr>\n",
       "    <tr>\n",
       "      <th>M</th>\n",
       "      <td>0.765136</td>\n",
       "      <td>0.027905</td>\n",
       "      <td>False</td>\n",
       "    </tr>\n",
       "  </tbody>\n",
       "</table>\n",
       "</div>"
      ],
      "text/plain": [
       "               W      pval  normal\n",
       "Gender                            \n",
       "F       0.899448  0.370678    True\n",
       "M       0.765136  0.027905   False"
      ]
     },
     "execution_count": 8,
     "metadata": {},
     "output_type": "execute_result"
    }
   ],
   "source": [
    "pg.normality(data, dv='Duration', group='Gender')"
   ]
  },
  {
   "cell_type": "code",
   "execution_count": 9,
   "id": "05027418-7d93-4f74-bc21-7c26da6f649e",
   "metadata": {},
   "outputs": [
    {
     "data": {
      "text/html": [
       "<div>\n",
       "<style scoped>\n",
       "    .dataframe tbody tr th:only-of-type {\n",
       "        vertical-align: middle;\n",
       "    }\n",
       "\n",
       "    .dataframe tbody tr th {\n",
       "        vertical-align: top;\n",
       "    }\n",
       "\n",
       "    .dataframe thead th {\n",
       "        text-align: right;\n",
       "    }\n",
       "</style>\n",
       "<table border=\"1\" class=\"dataframe\">\n",
       "  <thead>\n",
       "    <tr style=\"text-align: right;\">\n",
       "      <th></th>\n",
       "      <th>U-val</th>\n",
       "      <th>alternative</th>\n",
       "      <th>p-val</th>\n",
       "      <th>RBC</th>\n",
       "      <th>CLES</th>\n",
       "      <th>Null Hypothesis</th>\n",
       "    </tr>\n",
       "  </thead>\n",
       "  <tbody>\n",
       "    <tr>\n",
       "      <th>MWU</th>\n",
       "      <td>17.0</td>\n",
       "      <td>two-sided</td>\n",
       "      <td>0.935962</td>\n",
       "      <td>-0.055556</td>\n",
       "      <td>0.472222</td>\n",
       "      <td>True</td>\n",
       "    </tr>\n",
       "  </tbody>\n",
       "</table>\n",
       "</div>"
      ],
      "text/plain": [
       "     U-val alternative     p-val       RBC      CLES  Null Hypothesis\n",
       "MWU   17.0   two-sided  0.935962 -0.055556  0.472222             True"
      ]
     },
     "execution_count": 9,
     "metadata": {},
     "output_type": "execute_result"
    }
   ],
   "source": [
    "test = pg.mwu(female, male, alternative='two-sided')\n",
    "test['Null Hypothesis'] = test['p-val'].map(_decision)\n",
    "test"
   ]
  },
  {
   "cell_type": "markdown",
   "id": "cc8f0155-937d-4cb7-91af-ad65967bbce4",
   "metadata": {},
   "source": [
    "<p style=\"background-image: linear-gradient(to right, #0aa98f, #68dab2)\"> &nbsp; </p>"
   ]
  },
  {
   "cell_type": "markdown",
   "id": "c2e0818a-20e6-4d7e-8ae3-d27eb08df6b4",
   "metadata": {},
   "source": [
    "<p style=\"background-image: linear-gradient(#0aa98f, #ffffff 10%); font-weight:bold;\"> \n",
    " &nbsp; WILCOXON T TEST </p>\n",
    "    \n",
    "|  |  |\n",
    "|--|--|\n",
    "| $H_0$ | → There is no difference in the patient's values before and after treatment. |\n",
    "| $H_1$ | → There is a difference in the patient's values before and after treatment. |"
   ]
  },
  {
   "cell_type": "code",
   "execution_count": 10,
   "id": "88ff214e-c19e-45e6-8702-26176ce2d776",
   "metadata": {},
   "outputs": [],
   "source": [
    "data = {\n",
    "    'Patient':[1,2,3,4,5,6,7],\n",
    "    'Before':[54,53,61,51,48,60,58],\n",
    "    'After': [60,40,66,60,55,62,60]\n",
    "}\n",
    "\n",
    "data = pd.DataFrame(data)\n",
    "\n",
    "data['Difference'] = data['Before'] - data['After']"
   ]
  },
  {
   "cell_type": "code",
   "execution_count": 11,
   "id": "29b39369-7845-4ddf-a7df-4160183757b3",
   "metadata": {},
   "outputs": [
    {
     "data": {
      "text/html": [
       "<div>\n",
       "<style scoped>\n",
       "    .dataframe tbody tr th:only-of-type {\n",
       "        vertical-align: middle;\n",
       "    }\n",
       "\n",
       "    .dataframe tbody tr th {\n",
       "        vertical-align: top;\n",
       "    }\n",
       "\n",
       "    .dataframe thead th {\n",
       "        text-align: right;\n",
       "    }\n",
       "</style>\n",
       "<table border=\"1\" class=\"dataframe\">\n",
       "  <thead>\n",
       "    <tr style=\"text-align: right;\">\n",
       "      <th></th>\n",
       "      <th>W</th>\n",
       "      <th>pval</th>\n",
       "      <th>normal</th>\n",
       "    </tr>\n",
       "  </thead>\n",
       "  <tbody>\n",
       "    <tr>\n",
       "      <th>Difference</th>\n",
       "      <td>0.774784</td>\n",
       "      <td>0.022864</td>\n",
       "      <td>False</td>\n",
       "    </tr>\n",
       "  </tbody>\n",
       "</table>\n",
       "</div>"
      ],
      "text/plain": [
       "                   W      pval  normal\n",
       "Difference  0.774784  0.022864   False"
      ]
     },
     "execution_count": 11,
     "metadata": {},
     "output_type": "execute_result"
    }
   ],
   "source": [
    "pg.normality(data['Difference'])"
   ]
  },
  {
   "cell_type": "code",
   "execution_count": 12,
   "id": "e9b65ab4-cfad-4617-9f4f-8e843a814ee1",
   "metadata": {},
   "outputs": [
    {
     "data": {
      "text/html": [
       "<div>\n",
       "<style scoped>\n",
       "    .dataframe tbody tr th:only-of-type {\n",
       "        vertical-align: middle;\n",
       "    }\n",
       "\n",
       "    .dataframe tbody tr th {\n",
       "        vertical-align: top;\n",
       "    }\n",
       "\n",
       "    .dataframe thead th {\n",
       "        text-align: right;\n",
       "    }\n",
       "</style>\n",
       "<table border=\"1\" class=\"dataframe\">\n",
       "  <thead>\n",
       "    <tr style=\"text-align: right;\">\n",
       "      <th></th>\n",
       "      <th>W-val</th>\n",
       "      <th>alternative</th>\n",
       "      <th>p-val</th>\n",
       "      <th>RBC</th>\n",
       "      <th>CLES</th>\n",
       "      <th>Null Hypothesis</th>\n",
       "    </tr>\n",
       "  </thead>\n",
       "  <tbody>\n",
       "    <tr>\n",
       "      <th>Wilcoxon</th>\n",
       "      <td>7.0</td>\n",
       "      <td>two-sided</td>\n",
       "      <td>0.296875</td>\n",
       "      <td>-0.5</td>\n",
       "      <td>0.295918</td>\n",
       "      <td>True</td>\n",
       "    </tr>\n",
       "  </tbody>\n",
       "</table>\n",
       "</div>"
      ],
      "text/plain": [
       "          W-val alternative     p-val  RBC      CLES  Null Hypothesis\n",
       "Wilcoxon    7.0   two-sided  0.296875 -0.5  0.295918             True"
      ]
     },
     "execution_count": 12,
     "metadata": {},
     "output_type": "execute_result"
    }
   ],
   "source": [
    "test = pg.wilcoxon(data['Before'], data['After'])\n",
    "# test = pg.wilcoxon(data['Difference'])\n",
    "test['Null Hypothesis'] = test['p-val'].map(_decision)\n",
    "test"
   ]
  },
  {
   "cell_type": "markdown",
   "id": "4c765fff-b05d-4a17-9242-8942912a0631",
   "metadata": {},
   "source": [
    "<p style=\"background-image: linear-gradient(to right, #0aa98f, #68dab2)\"> &nbsp; </p>"
   ]
  },
  {
   "cell_type": "markdown",
   "id": "b468cdc2-1fb4-4359-9fb4-45f1d6ac7b22",
   "metadata": {},
   "source": [
    "<p style=\"background-image: linear-gradient(#0aa98f, #ffffff 10%); font-weight:bold;\"> \n",
    " &nbsp; KRUSKAL-WALLIS H TEST </p>\n",
    "    \n",
    "|  |  |\n",
    "|--|--|\n",
    "| $H_0$ | → There is no difference between the results according to the methods applied. |\n",
    "| $H_1$ | → At least one of the applied methods has different results. |"
   ]
  },
  {
   "cell_type": "code",
   "execution_count": 13,
   "id": "30867502-fb6e-4a4d-bfc5-732d3743fe59",
   "metadata": {},
   "outputs": [
    {
     "data": {
      "text/html": [
       "<div>\n",
       "<style scoped>\n",
       "    .dataframe tbody tr th:only-of-type {\n",
       "        vertical-align: middle;\n",
       "    }\n",
       "\n",
       "    .dataframe tbody tr th {\n",
       "        vertical-align: top;\n",
       "    }\n",
       "\n",
       "    .dataframe thead th {\n",
       "        text-align: right;\n",
       "    }\n",
       "</style>\n",
       "<table border=\"1\" class=\"dataframe\">\n",
       "  <thead>\n",
       "    <tr style=\"text-align: right;\">\n",
       "      <th></th>\n",
       "      <th>Method</th>\n",
       "      <th>Result</th>\n",
       "    </tr>\n",
       "  </thead>\n",
       "  <tbody>\n",
       "    <tr>\n",
       "      <th>19</th>\n",
       "      <td>Method_2</td>\n",
       "      <td>77</td>\n",
       "    </tr>\n",
       "    <tr>\n",
       "      <th>1</th>\n",
       "      <td>Method_1</td>\n",
       "      <td>32</td>\n",
       "    </tr>\n",
       "    <tr>\n",
       "      <th>5</th>\n",
       "      <td>Method_1</td>\n",
       "      <td>44</td>\n",
       "    </tr>\n",
       "  </tbody>\n",
       "</table>\n",
       "</div>"
      ],
      "text/plain": [
       "      Method  Result\n",
       "19  Method_2      77\n",
       "1   Method_1      32\n",
       "5   Method_1      44"
      ]
     },
     "metadata": {},
     "output_type": "display_data"
    }
   ],
   "source": [
    "data = {\n",
    "    'Method_1': [81,32,42,62,37,44,38,47,49,41],\n",
    "    'Method_2': [48,31,25,22,30,30,32,15,40,77],\n",
    "    'Method_3': [18,49,33,19,24,17,48,22,31,17]\n",
    "}\n",
    "\n",
    "data = pd.DataFrame(data)\n",
    "\n",
    "data = data.melt(value_vars=['Method_1', 'Method_2', 'Method_3'], var_name='Method', value_name='Result')\n",
    "display(data.sample(3))"
   ]
  },
  {
   "cell_type": "code",
   "execution_count": 14,
   "id": "e866300a-772d-486e-8a35-2b72e71c9d5c",
   "metadata": {},
   "outputs": [
    {
     "data": {
      "text/html": [
       "<div>\n",
       "<style scoped>\n",
       "    .dataframe tbody tr th:only-of-type {\n",
       "        vertical-align: middle;\n",
       "    }\n",
       "\n",
       "    .dataframe tbody tr th {\n",
       "        vertical-align: top;\n",
       "    }\n",
       "\n",
       "    .dataframe thead th {\n",
       "        text-align: right;\n",
       "    }\n",
       "</style>\n",
       "<table border=\"1\" class=\"dataframe\">\n",
       "  <thead>\n",
       "    <tr style=\"text-align: right;\">\n",
       "      <th></th>\n",
       "      <th>W</th>\n",
       "      <th>pval</th>\n",
       "      <th>normal</th>\n",
       "    </tr>\n",
       "  </thead>\n",
       "  <tbody>\n",
       "    <tr>\n",
       "      <th>Result</th>\n",
       "      <td>0.912326</td>\n",
       "      <td>0.01704</td>\n",
       "      <td>False</td>\n",
       "    </tr>\n",
       "  </tbody>\n",
       "</table>\n",
       "</div>"
      ],
      "text/plain": [
       "               W     pval  normal\n",
       "Result  0.912326  0.01704   False"
      ]
     },
     "execution_count": 14,
     "metadata": {},
     "output_type": "execute_result"
    }
   ],
   "source": [
    "pg.normality(data['Result'])"
   ]
  },
  {
   "cell_type": "code",
   "execution_count": 15,
   "id": "1ac8c4b3-3ba7-4284-be0c-c77f9225d93b",
   "metadata": {},
   "outputs": [
    {
     "data": {
      "text/html": [
       "<div>\n",
       "<style scoped>\n",
       "    .dataframe tbody tr th:only-of-type {\n",
       "        vertical-align: middle;\n",
       "    }\n",
       "\n",
       "    .dataframe tbody tr th {\n",
       "        vertical-align: top;\n",
       "    }\n",
       "\n",
       "    .dataframe thead th {\n",
       "        text-align: right;\n",
       "    }\n",
       "</style>\n",
       "<table border=\"1\" class=\"dataframe\">\n",
       "  <thead>\n",
       "    <tr style=\"text-align: right;\">\n",
       "      <th></th>\n",
       "      <th>Source</th>\n",
       "      <th>ddof1</th>\n",
       "      <th>H</th>\n",
       "      <th>p-unc</th>\n",
       "      <th>Null Hypothesis</th>\n",
       "    </tr>\n",
       "  </thead>\n",
       "  <tbody>\n",
       "    <tr>\n",
       "      <th>Kruskal</th>\n",
       "      <td>Method</td>\n",
       "      <td>2</td>\n",
       "      <td>8.733601</td>\n",
       "      <td>0.012692</td>\n",
       "      <td>False</td>\n",
       "    </tr>\n",
       "  </tbody>\n",
       "</table>\n",
       "</div>"
      ],
      "text/plain": [
       "         Source  ddof1         H     p-unc  Null Hypothesis\n",
       "Kruskal  Method      2  8.733601  0.012692            False"
      ]
     },
     "execution_count": 15,
     "metadata": {},
     "output_type": "execute_result"
    }
   ],
   "source": [
    "test = pg.kruskal(data, dv='Result', between='Method')\n",
    "test['Null Hypothesis'] = test['p-unc'].map(_decision)\n",
    "test"
   ]
  },
  {
   "cell_type": "code",
   "execution_count": 16,
   "id": "c715d1dc-310c-467a-afba-0adfbe60e8c3",
   "metadata": {},
   "outputs": [
    {
     "data": {
      "text/html": [
       "<div>\n",
       "<style scoped>\n",
       "    .dataframe tbody tr th:only-of-type {\n",
       "        vertical-align: middle;\n",
       "    }\n",
       "\n",
       "    .dataframe tbody tr th {\n",
       "        vertical-align: top;\n",
       "    }\n",
       "\n",
       "    .dataframe thead th {\n",
       "        text-align: right;\n",
       "    }\n",
       "</style>\n",
       "<table border=\"1\" class=\"dataframe\">\n",
       "  <thead>\n",
       "    <tr style=\"text-align: right;\">\n",
       "      <th></th>\n",
       "      <th>Method_1</th>\n",
       "      <th>Method_2</th>\n",
       "      <th>Method_3</th>\n",
       "    </tr>\n",
       "  </thead>\n",
       "  <tbody>\n",
       "    <tr>\n",
       "      <th>Method_1</th>\n",
       "      <td>1.000000</td>\n",
       "      <td>0.065296</td>\n",
       "      <td>0.008453</td>\n",
       "    </tr>\n",
       "    <tr>\n",
       "      <th>Method_2</th>\n",
       "      <td>0.065296</td>\n",
       "      <td>1.000000</td>\n",
       "      <td>1.000000</td>\n",
       "    </tr>\n",
       "    <tr>\n",
       "      <th>Method_3</th>\n",
       "      <td>0.008453</td>\n",
       "      <td>1.000000</td>\n",
       "      <td>1.000000</td>\n",
       "    </tr>\n",
       "  </tbody>\n",
       "</table>\n",
       "</div>"
      ],
      "text/plain": [
       "          Method_1  Method_2  Method_3\n",
       "Method_1  1.000000  0.065296  0.008453\n",
       "Method_2  0.065296  1.000000  1.000000\n",
       "Method_3  0.008453  1.000000  1.000000"
      ]
     },
     "execution_count": 16,
     "metadata": {},
     "output_type": "execute_result"
    }
   ],
   "source": [
    "test = sp.posthoc_conover(data, val_col='Result', group_col='Method', p_adjust='bonf')\n",
    "test"
   ]
  },
  {
   "cell_type": "markdown",
   "id": "01b5efec-3be1-4d1f-8afc-7fbe4211be5f",
   "metadata": {},
   "source": [
    "<p style=\"background-image: linear-gradient(to right, #0aa98f, #68dab2)\"> &nbsp; </p>"
   ]
  },
  {
   "cell_type": "markdown",
   "id": "cfdad2c2-20ef-4822-9394-c22e9e41bb24",
   "metadata": {},
   "source": [
    "<p style=\"background-image: linear-gradient(#0aa98f, #ffffff 10%); font-weight:bold;\"> \n",
    " &nbsp; FRIEDMAN TEST </p>\n",
    "    \n",
    "|  |  |\n",
    "|--|--|\n",
    "| $H_0$ | → There is no difference between the averages of the applied test results. |\n",
    "| $H_1$ | → At least one of the means of the applied test results is different. |"
   ]
  },
  {
   "cell_type": "code",
   "execution_count": 17,
   "id": "d35449ce-a714-45a3-9e5c-58d22e7fc816",
   "metadata": {},
   "outputs": [
    {
     "data": {
      "text/html": [
       "<div>\n",
       "<style scoped>\n",
       "    .dataframe tbody tr th:only-of-type {\n",
       "        vertical-align: middle;\n",
       "    }\n",
       "\n",
       "    .dataframe tbody tr th {\n",
       "        vertical-align: top;\n",
       "    }\n",
       "\n",
       "    .dataframe thead th {\n",
       "        text-align: right;\n",
       "    }\n",
       "</style>\n",
       "<table border=\"1\" class=\"dataframe\">\n",
       "  <thead>\n",
       "    <tr style=\"text-align: right;\">\n",
       "      <th></th>\n",
       "      <th>Patient</th>\n",
       "      <th>Test_0</th>\n",
       "      <th>Test_1</th>\n",
       "      <th>Test_2</th>\n",
       "      <th>Test_3</th>\n",
       "    </tr>\n",
       "  </thead>\n",
       "  <tbody>\n",
       "    <tr>\n",
       "      <th>0</th>\n",
       "      <td>Jehan</td>\n",
       "      <td>14</td>\n",
       "      <td>78</td>\n",
       "      <td>99</td>\n",
       "      <td>55</td>\n",
       "    </tr>\n",
       "    <tr>\n",
       "      <th>1</th>\n",
       "      <td>Georgina</td>\n",
       "      <td>7</td>\n",
       "      <td>87</td>\n",
       "      <td>11</td>\n",
       "      <td>17</td>\n",
       "    </tr>\n",
       "    <tr>\n",
       "      <th>2</th>\n",
       "      <td>Emel</td>\n",
       "      <td>13</td>\n",
       "      <td>24</td>\n",
       "      <td>4</td>\n",
       "      <td>14</td>\n",
       "    </tr>\n",
       "    <tr>\n",
       "      <th>3</th>\n",
       "      <td>Parveen</td>\n",
       "      <td>3</td>\n",
       "      <td>17</td>\n",
       "      <td>10</td>\n",
       "      <td>20</td>\n",
       "    </tr>\n",
       "  </tbody>\n",
       "</table>\n",
       "</div>"
      ],
      "text/plain": [
       "    Patient  Test_0  Test_1  Test_2  Test_3\n",
       "0     Jehan      14      78      99      55\n",
       "1  Georgina       7      87      11      17\n",
       "2      Emel      13      24       4      14\n",
       "3   Parveen       3      17      10      20"
      ]
     },
     "metadata": {},
     "output_type": "display_data"
    }
   ],
   "source": [
    "data = {\n",
    "    'Patient': ['Jehan', 'Georgina', 'Emel', 'Parveen'],\n",
    "    'Test_0': [14,7,13,3],\n",
    "    'Test_1': [78,87,24,17],\n",
    "    'Test_2': [99,11,4,10],\n",
    "    'Test_3': [55,17,14,20]\n",
    "}\n",
    "\n",
    "data = pd.DataFrame(data)\n",
    "data_melt = data.melt(id_vars='Patient', value_vars=data.columns[1:],\n",
    "                      var_name='Test', value_name='Result')\n",
    "display(data)"
   ]
  },
  {
   "cell_type": "code",
   "execution_count": 18,
   "id": "3d1ed98a-0205-4c0a-9df9-61b66b572429",
   "metadata": {},
   "outputs": [
    {
     "data": {
      "text/html": [
       "<div>\n",
       "<style scoped>\n",
       "    .dataframe tbody tr th:only-of-type {\n",
       "        vertical-align: middle;\n",
       "    }\n",
       "\n",
       "    .dataframe tbody tr th {\n",
       "        vertical-align: top;\n",
       "    }\n",
       "\n",
       "    .dataframe thead th {\n",
       "        text-align: right;\n",
       "    }\n",
       "</style>\n",
       "<table border=\"1\" class=\"dataframe\">\n",
       "  <thead>\n",
       "    <tr style=\"text-align: right;\">\n",
       "      <th></th>\n",
       "      <th>W</th>\n",
       "      <th>pval</th>\n",
       "      <th>normal</th>\n",
       "    </tr>\n",
       "    <tr>\n",
       "      <th>Test</th>\n",
       "      <th></th>\n",
       "      <th></th>\n",
       "      <th></th>\n",
       "    </tr>\n",
       "  </thead>\n",
       "  <tbody>\n",
       "    <tr>\n",
       "      <th>Test_0</th>\n",
       "      <td>0.906973</td>\n",
       "      <td>0.466514</td>\n",
       "      <td>True</td>\n",
       "    </tr>\n",
       "    <tr>\n",
       "      <th>Test_1</th>\n",
       "      <td>0.833805</td>\n",
       "      <td>0.177942</td>\n",
       "      <td>True</td>\n",
       "    </tr>\n",
       "    <tr>\n",
       "      <th>Test_2</th>\n",
       "      <td>0.691725</td>\n",
       "      <td>0.009263</td>\n",
       "      <td>False</td>\n",
       "    </tr>\n",
       "    <tr>\n",
       "      <th>Test_3</th>\n",
       "      <td>0.746922</td>\n",
       "      <td>0.036132</td>\n",
       "      <td>False</td>\n",
       "    </tr>\n",
       "  </tbody>\n",
       "</table>\n",
       "</div>"
      ],
      "text/plain": [
       "               W      pval  normal\n",
       "Test                              \n",
       "Test_0  0.906973  0.466514    True\n",
       "Test_1  0.833805  0.177942    True\n",
       "Test_2  0.691725  0.009263   False\n",
       "Test_3  0.746922  0.036132   False"
      ]
     },
     "execution_count": 18,
     "metadata": {},
     "output_type": "execute_result"
    }
   ],
   "source": [
    "pg.normality(data_melt, dv='Result', group='Test')"
   ]
  },
  {
   "cell_type": "code",
   "execution_count": 19,
   "id": "b14ac1c0-5fa5-496c-a13d-28fb9bc58a3b",
   "metadata": {},
   "outputs": [
    {
     "data": {
      "text/html": [
       "<div>\n",
       "<style scoped>\n",
       "    .dataframe tbody tr th:only-of-type {\n",
       "        vertical-align: middle;\n",
       "    }\n",
       "\n",
       "    .dataframe tbody tr th {\n",
       "        vertical-align: top;\n",
       "    }\n",
       "\n",
       "    .dataframe thead th {\n",
       "        text-align: right;\n",
       "    }\n",
       "</style>\n",
       "<table border=\"1\" class=\"dataframe\">\n",
       "  <thead>\n",
       "    <tr style=\"text-align: right;\">\n",
       "      <th></th>\n",
       "      <th>Source</th>\n",
       "      <th>W</th>\n",
       "      <th>ddof1</th>\n",
       "      <th>Q</th>\n",
       "      <th>p-unc</th>\n",
       "      <th>Null Hypothesis</th>\n",
       "    </tr>\n",
       "  </thead>\n",
       "  <tbody>\n",
       "    <tr>\n",
       "      <th>Friedman</th>\n",
       "      <td>Test</td>\n",
       "      <td>0.575</td>\n",
       "      <td>3</td>\n",
       "      <td>6.9</td>\n",
       "      <td>0.075154</td>\n",
       "      <td>True</td>\n",
       "    </tr>\n",
       "  </tbody>\n",
       "</table>\n",
       "</div>"
      ],
      "text/plain": [
       "         Source      W  ddof1    Q     p-unc  Null Hypothesis\n",
       "Friedman   Test  0.575      3  6.9  0.075154             True"
      ]
     },
     "execution_count": 19,
     "metadata": {},
     "output_type": "execute_result"
    }
   ],
   "source": [
    "test = pg.friedman(data_melt, dv='Result', within='Test', subject='Patient')\n",
    "test['Null Hypothesis'] = test['p-unc'].map(_decision)\n",
    "test"
   ]
  },
  {
   "cell_type": "markdown",
   "id": "d5d4ddff-1095-49b2-b207-45c33f93b481",
   "metadata": {},
   "source": [
    "<p style=\"background-image: linear-gradient(#f87674, #ffffff 10%);\"> \n",
    " &nbsp; Post-hoc / Conover - <b>UNNECESSARY IN THIS CASE</b> </p>"
   ]
  },
  {
   "cell_type": "code",
   "execution_count": 20,
   "id": "db512bd4-33d7-440b-9598-1a0a5ce20e56",
   "metadata": {},
   "outputs": [
    {
     "data": {
      "text/html": [
       "<div>\n",
       "<style scoped>\n",
       "    .dataframe tbody tr th:only-of-type {\n",
       "        vertical-align: middle;\n",
       "    }\n",
       "\n",
       "    .dataframe tbody tr th {\n",
       "        vertical-align: top;\n",
       "    }\n",
       "\n",
       "    .dataframe thead th {\n",
       "        text-align: right;\n",
       "    }\n",
       "</style>\n",
       "<table border=\"1\" class=\"dataframe\">\n",
       "  <thead>\n",
       "    <tr style=\"text-align: right;\">\n",
       "      <th></th>\n",
       "      <th>Test_0</th>\n",
       "      <th>Test_1</th>\n",
       "      <th>Test_2</th>\n",
       "      <th>Test_3</th>\n",
       "    </tr>\n",
       "  </thead>\n",
       "  <tbody>\n",
       "    <tr>\n",
       "      <th>Test_0</th>\n",
       "      <td>1.000000</td>\n",
       "      <td>0.057705</td>\n",
       "      <td>1.000000</td>\n",
       "      <td>0.188208</td>\n",
       "    </tr>\n",
       "    <tr>\n",
       "      <th>Test_1</th>\n",
       "      <td>0.057705</td>\n",
       "      <td>1.000000</td>\n",
       "      <td>0.613575</td>\n",
       "      <td>1.000000</td>\n",
       "    </tr>\n",
       "    <tr>\n",
       "      <th>Test_2</th>\n",
       "      <td>1.000000</td>\n",
       "      <td>0.613575</td>\n",
       "      <td>1.000000</td>\n",
       "      <td>1.000000</td>\n",
       "    </tr>\n",
       "    <tr>\n",
       "      <th>Test_3</th>\n",
       "      <td>0.188208</td>\n",
       "      <td>1.000000</td>\n",
       "      <td>1.000000</td>\n",
       "      <td>1.000000</td>\n",
       "    </tr>\n",
       "  </tbody>\n",
       "</table>\n",
       "</div>"
      ],
      "text/plain": [
       "          Test_0    Test_1    Test_2    Test_3\n",
       "Test_0  1.000000  0.057705  1.000000  0.188208\n",
       "Test_1  0.057705  1.000000  0.613575  1.000000\n",
       "Test_2  1.000000  0.613575  1.000000  1.000000\n",
       "Test_3  0.188208  1.000000  1.000000  1.000000"
      ]
     },
     "execution_count": 20,
     "metadata": {},
     "output_type": "execute_result"
    }
   ],
   "source": [
    "test = sp.posthoc_conover_friedman(data.iloc[:,1:],  p_adjust='bonf')\n",
    "# test = sp.posthoc_conover_friedman(data_melt, group_col='Test',  \n",
    "#                             y_col='Result', block_col='Patient', \n",
    "#                             melted=True, p_adjust='bonf')\n",
    "test"
   ]
  },
  {
   "cell_type": "markdown",
   "id": "78f48e5c-4ff0-4594-8e2d-b8c15b886751",
   "metadata": {},
   "source": [
    "<p style=\"background-image: linear-gradient(to right, #ee2965, #e31837)\"> &nbsp; </p>"
   ]
  },
  {
   "cell_type": "markdown",
   "id": "0af4c0b7-3a93-4f71-bdee-ff31ca3a44ba",
   "metadata": {},
   "source": [
    "<p style=\"background-image: linear-gradient(to right, #0aa98f, #68dab2)\"> &nbsp; </p>"
   ]
  }
 ],
 "metadata": {
  "kernelspec": {
   "display_name": "Python 3 (ipykernel)",
   "language": "python",
   "name": "python3"
  },
  "language_info": {
   "codemirror_mode": {
    "name": "ipython",
    "version": 3
   },
   "file_extension": ".py",
   "mimetype": "text/x-python",
   "name": "python",
   "nbconvert_exporter": "python",
   "pygments_lexer": "ipython3",
   "version": "3.11.10"
  }
 },
 "nbformat": 4,
 "nbformat_minor": 5
}
