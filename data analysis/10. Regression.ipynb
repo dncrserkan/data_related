{
 "cells": [
  {
   "attachments": {},
   "cell_type": "markdown",
   "id": "b5fbc009-c0c8-447c-a0e9-9b359d23a6b9",
   "metadata": {},
   "source": [
    "**Regression**\n",
    ">\n",
    "> Regression is a statistical analysis technique used to model the relationship between a dependent variable and one or more independent variables.\n",
    "> \n",
    "> There are different types of regression analysis, with linear regression being the most common. Linear regression is used to model the linear relationship between the independent variables and the dependent variable. However, the relationship may not always be linear, and there could be interactions between multiple independent variables. In such cases, other regression techniques such as polynomial regression, logistic regression, and others may be used.\n",
    ">\n",
    "> | Linear Regression | |\n",
    "> |-|-|\n",
    "> | Simple Linear Regression | → $Y = β_0 + β_1X + ε$ |\n",
    "> | Multiple Linear Regression | → $Y = β_0 + β_1X_1 + … + β_kX_k + ε$ |\n",
    ">\n",
    "> The error term ($ε$) is a concept in regression analysis representing the difference between the actual values and those predicted by the model. It shows how far the model's predicted value is from the actual value using the independent variables. The aim of regression analysis is to minimize this error term.\n",
    "\n",
    "**Least Squares Method - Sum of Squares of Residuals**\n",
    ">\n",
    "> $$SSR = EKK = ∑ (Y_i − \\hat{Y_i})^2$$\n",
    "> The sum of squared residuals ($SSR$) is a measure used to evaluate how well a regression model fits the actual data. It represents the sum of the squared differences between the observed and predicted values for each observation. The lower this value is, the better the model fits the data.\n",
    "\n",
    "**Coefficient of Determination - R-squared ($R^2$)**\n",
    ">\n",
    "> The $R^2$ statistic is a measure of how well the regression model explains the variation in the dependent variable using the independent variables. It is commonly used to assess the success of a regression model.\n",
    ">\n",
    "> The $R^2$ value ranges from 0 to 1 and is often expressed as a percentage. The higher the $R^2$ value, the better the model explains the variance of the dependent variable. However, even if the $R^2$ value is high, the model may still fail to capture other important factors.\n",
    ">\n",
    ">\n",
    "> **Adjusted R-squared**\n",
    "> >\n",
    "> > The adjusted $R^2$ value also ranges from 0 to 1, but it accounts for the degrees of freedom added by the inclusion of additional independent variables. This makes adjusted $R^2$ a more comprehensive metric than $R^2$ alone.\n",
    "\n",
    "**Assumptions of Ordinary Least Squares (OLS) Regression**\n",
    ">\n",
    "> **1- Linearity assumption:** The linearity of the model coefficients (not the variables). <br>\n",
    "> **2- Normality assumption:** The errors in the model should follow a normal distribution. <br>\n",
    "> **3- No autocorrelation assumption:** There should be no autocorrelation among the errors.\n",
    "> > If autocorrelation exists, one option is to replace variables with differences (e.g., $x_i = x_i - x_{i+1}$), but this modifies the data and removes autocorrelation. Alternatively, the **Newey-West method** can be used, which keeps the data intact and adjusts for the effect of autocorrelation by correcting standard errors.\n",
    "> \n",
    "> **4- Homoscedasticity assumption:** The variance of the errors should be constant across all observations. <br>\n",
    "> **5- No multicollinearity assumption:** There should not be a multicollinearity problem among independent variables.\n",
    "> > Multicollinearity occurs when one independent variable is highly correlated with another, compromising the independence of variables. If multicollinearity exists, the $R^2$ value will be inflated, which needs to be addressed.\n",
    "> > \n",
    "> > The relationship between independent variables can be checked using a correlation matrix. **Variance Inflation Factor (VIF)** is used to detect multicollinearity. Typically, a VIF value above 10 indicates multicollinearity, though in smaller samples, this threshold can be reduced to 5.\n",
    "> > \n",
    "> > Solutions include removing variables or conducting principal component analysis.\n",
    "> > \n",
    "> > For categorical variables, different methods such as Cramér's V, factor analysis, or polychoric correlation may be needed to assess correlations.\n",
    ">\n",
    "> **6-** The number of observations must exceed the number of independent variables.\n",
    ">\n",
    ">\n",
    "> - Outliers and missing data should generally be addressed beforehand. <br>\n",
    "> - The average of the error terms is expected to be zero."
   ]
  },
  {
   "cell_type": "markdown",
   "id": "bd9ddf08-2ef2-4d8a-b58a-5308fc8251cf",
   "metadata": {},
   "source": [
    "<p style=\"background-image: linear-gradient(to right, #0aa98f, #68dab2)\"> &nbsp; </p>"
   ]
  },
  {
   "cell_type": "code",
   "execution_count": 3,
   "id": "8601f53c-3b42-46c2-b5ae-5c158eaac5dc",
   "metadata": {},
   "outputs": [],
   "source": [
    "import pandas as pd\n",
    "import numpy as np\n",
    "import matplotlib.pyplot as plt\n",
    "import seaborn as sns\n",
    "import statsmodels.api as sm\n",
    "import statsmodels.stats.diagnostic as smd\n",
    "from statsmodels.stats.outliers_influence import variance_inflation_factor"
   ]
  },
  {
   "cell_type": "markdown",
   "id": "8c156cd8-764b-467a-adbe-4aded91c23cf",
   "metadata": {},
   "source": [
    "<p style=\"background-image: linear-gradient(to right, #0aa98f, #68dab2)\"> &nbsp; </p>"
   ]
  },
  {
   "cell_type": "markdown",
   "id": "82b8a670-ed32-4685-ac52-66f1768d9d51",
   "metadata": {},
   "source": [
    "<p style=\"background-image: linear-gradient(#0aa98f, #ffffff 10%); font-weight:bold;\"> \n",
    "Simple Linear Regression </p>"
   ]
  },
  {
   "cell_type": "code",
   "execution_count": 6,
   "id": "2a38dba3-ab17-4b85-867a-4120b248d3f2",
   "metadata": {},
   "outputs": [
    {
     "data": {
      "text/html": [
       "<div>\n",
       "<style scoped>\n",
       "    .dataframe tbody tr th:only-of-type {\n",
       "        vertical-align: middle;\n",
       "    }\n",
       "\n",
       "    .dataframe tbody tr th {\n",
       "        vertical-align: top;\n",
       "    }\n",
       "\n",
       "    .dataframe thead th {\n",
       "        text-align: right;\n",
       "    }\n",
       "</style>\n",
       "<table border=\"1\" class=\"dataframe\">\n",
       "  <thead>\n",
       "    <tr style=\"text-align: right;\">\n",
       "      <th></th>\n",
       "      <th>TV</th>\n",
       "      <th>Radio</th>\n",
       "      <th>Newspaper</th>\n",
       "      <th>Sales</th>\n",
       "    </tr>\n",
       "  </thead>\n",
       "  <tbody>\n",
       "    <tr>\n",
       "      <th>0</th>\n",
       "      <td>230.1</td>\n",
       "      <td>37.8</td>\n",
       "      <td>69.2</td>\n",
       "      <td>22.1</td>\n",
       "    </tr>\n",
       "    <tr>\n",
       "      <th>1</th>\n",
       "      <td>44.5</td>\n",
       "      <td>39.3</td>\n",
       "      <td>45.1</td>\n",
       "      <td>10.4</td>\n",
       "    </tr>\n",
       "    <tr>\n",
       "      <th>2</th>\n",
       "      <td>17.2</td>\n",
       "      <td>45.9</td>\n",
       "      <td>69.3</td>\n",
       "      <td>9.3</td>\n",
       "    </tr>\n",
       "  </tbody>\n",
       "</table>\n",
       "</div>"
      ],
      "text/plain": [
       "      TV  Radio  Newspaper  Sales\n",
       "0  230.1   37.8       69.2   22.1\n",
       "1   44.5   39.3       45.1   10.4\n",
       "2   17.2   45.9       69.3    9.3"
      ]
     },
     "execution_count": 6,
     "metadata": {},
     "output_type": "execute_result"
    }
   ],
   "source": [
    "data = pd.read_csv('data/15_Advertising.csv')\n",
    "data.head(3)"
   ]
  },
  {
   "cell_type": "code",
   "execution_count": 7,
   "id": "a17eff8a-069e-4e67-bf05-4effed338660",
   "metadata": {},
   "outputs": [
    {
     "data": {
      "image/png": "[encoded data removed]",
      "text/plain": [
       "<Figure size 500x300 with 1 Axes>"
      ]
     },
     "metadata": {},
     "output_type": "display_data"
    }
   ],
   "source": [
    "sns.regplot(data, x='Sales', y='TV', ci=None)\n",
    "plt.gcf().set_size_inches(5,3)\n",
    "plt.show()"
   ]
  },
  {
   "cell_type": "code",
   "execution_count": 8,
   "id": "cfc77172-a21d-469e-8f03-6aacf827df96",
   "metadata": {},
   "outputs": [
    {
     "data": {
      "text/html": [
       "<table class=\"simpletable\">\n",
       "<caption>OLS Regression Results</caption>\n",
       "<tr>\n",
       "  <th>Dep. Variable:</th>          <td>Sales</td>      <th>  R-squared:         </th> <td>   0.612</td>\n",
       "</tr>\n",
       "<tr>\n",
       "  <th>Model:</th>                   <td>OLS</td>       <th>  Adj. R-squared:    </th> <td>   0.610</td>\n",
       "</tr>\n",
       "<tr>\n",
       "  <th>Method:</th>             <td>Least Squares</td>  <th>  F-statistic:       </th> <td>   312.1</td>\n",
       "</tr>\n",
       "<tr>\n",
       "  <th>Date:</th>             <td>Mon, 14 Oct 2024</td> <th>  Prob (F-statistic):</th> <td>1.47e-42</td>\n",
       "</tr>\n",
       "<tr>\n",
       "  <th>Time:</th>                 <td>21:36:16</td>     <th>  Log-Likelihood:    </th> <td> -519.05</td>\n",
       "</tr>\n",
       "<tr>\n",
       "  <th>No. Observations:</th>      <td>   200</td>      <th>  AIC:               </th> <td>   1042.</td>\n",
       "</tr>\n",
       "<tr>\n",
       "  <th>Df Residuals:</th>          <td>   198</td>      <th>  BIC:               </th> <td>   1049.</td>\n",
       "</tr>\n",
       "<tr>\n",
       "  <th>Df Model:</th>              <td>     1</td>      <th>                     </th>     <td> </td>   \n",
       "</tr>\n",
       "<tr>\n",
       "  <th>Covariance Type:</th>      <td>nonrobust</td>    <th>                     </th>     <td> </td>   \n",
       "</tr>\n",
       "</table>\n",
       "<table class=\"simpletable\">\n",
       "<tr>\n",
       "    <td></td>       <th>coef</th>     <th>std err</th>      <th>t</th>      <th>P>|t|</th>  <th>[0.025</th>    <th>0.975]</th>  \n",
       "</tr>\n",
       "<tr>\n",
       "  <th>const</th> <td>    7.0326</td> <td>    0.458</td> <td>   15.360</td> <td> 0.000</td> <td>    6.130</td> <td>    7.935</td>\n",
       "</tr>\n",
       "<tr>\n",
       "  <th>TV</th>    <td>    0.0475</td> <td>    0.003</td> <td>   17.668</td> <td> 0.000</td> <td>    0.042</td> <td>    0.053</td>\n",
       "</tr>\n",
       "</table>\n",
       "<table class=\"simpletable\">\n",
       "<tr>\n",
       "  <th>Omnibus:</th>       <td> 0.531</td> <th>  Durbin-Watson:     </th> <td>   1.935</td>\n",
       "</tr>\n",
       "<tr>\n",
       "  <th>Prob(Omnibus):</th> <td> 0.767</td> <th>  Jarque-Bera (JB):  </th> <td>   0.669</td>\n",
       "</tr>\n",
       "<tr>\n",
       "  <th>Skew:</th>          <td>-0.089</td> <th>  Prob(JB):          </th> <td>   0.716</td>\n",
       "</tr>\n",
       "<tr>\n",
       "  <th>Kurtosis:</th>      <td> 2.779</td> <th>  Cond. No.          </th> <td>    338.</td>\n",
       "</tr>\n",
       "</table><br/><br/>Notes:<br/>[1] Standard Errors assume that the covariance matrix of the errors is correctly specified."
      ],
      "text/latex": [
       "\\begin{center}\n",
       "\\begin{tabular}{lclc}\n",
       "\\toprule\n",
       "\\textbf{Dep. Variable:}    &      Sales       & \\textbf{  R-squared:         } &     0.612   \\\\\n",
       "\\textbf{Model:}            &       OLS        & \\textbf{  Adj. R-squared:    } &     0.610   \\\\\n",
       "\\textbf{Method:}           &  Least Squares   & \\textbf{  F-statistic:       } &     312.1   \\\\\n",
       "\\textbf{Date:}             & Mon, 14 Oct 2024 & \\textbf{  Prob (F-statistic):} &  1.47e-42   \\\\\n",
       "\\textbf{Time:}             &     21:36:16     & \\textbf{  Log-Likelihood:    } &   -519.05   \\\\\n",
       "\\textbf{No. Observations:} &         200      & \\textbf{  AIC:               } &     1042.   \\\\\n",
       "\\textbf{Df Residuals:}     &         198      & \\textbf{  BIC:               } &     1049.   \\\\\n",
       "\\textbf{Df Model:}         &           1      & \\textbf{                     } &             \\\\\n",
       "\\textbf{Covariance Type:}  &    nonrobust     & \\textbf{                     } &             \\\\\n",
       "\\bottomrule\n",
       "\\end{tabular}\n",
       "\\begin{tabular}{lcccccc}\n",
       "               & \\textbf{coef} & \\textbf{std err} & \\textbf{t} & \\textbf{P$> |$t$|$} & \\textbf{[0.025} & \\textbf{0.975]}  \\\\\n",
       "\\midrule\n",
       "\\textbf{const} &       7.0326  &        0.458     &    15.360  &         0.000        &        6.130    &        7.935     \\\\\n",
       "\\textbf{TV}    &       0.0475  &        0.003     &    17.668  &         0.000        &        0.042    &        0.053     \\\\\n",
       "\\bottomrule\n",
       "\\end{tabular}\n",
       "\\begin{tabular}{lclc}\n",
       "\\textbf{Omnibus:}       &  0.531 & \\textbf{  Durbin-Watson:     } &    1.935  \\\\\n",
       "\\textbf{Prob(Omnibus):} &  0.767 & \\textbf{  Jarque-Bera (JB):  } &    0.669  \\\\\n",
       "\\textbf{Skew:}          & -0.089 & \\textbf{  Prob(JB):          } &    0.716  \\\\\n",
       "\\textbf{Kurtosis:}      &  2.779 & \\textbf{  Cond. No.          } &     338.  \\\\\n",
       "\\bottomrule\n",
       "\\end{tabular}\n",
       "%\\caption{OLS Regression Results}\n",
       "\\end{center}\n",
       "\n",
       "Notes: \\newline\n",
       " [1] Standard Errors assume that the covariance matrix of the errors is correctly specified."
      ],
      "text/plain": [
       "<class 'statsmodels.iolib.summary.Summary'>\n",
       "\"\"\"\n",
       "                            OLS Regression Results                            \n",
       "==============================================================================\n",
       "Dep. Variable:                  Sales   R-squared:                       0.612\n",
       "Model:                            OLS   Adj. R-squared:                  0.610\n",
       "Method:                 Least Squares   F-statistic:                     312.1\n",
       "Date:                Mon, 14 Oct 2024   Prob (F-statistic):           1.47e-42\n",
       "Time:                        21:36:16   Log-Likelihood:                -519.05\n",
       "No. Observations:                 200   AIC:                             1042.\n",
       "Df Residuals:                     198   BIC:                             1049.\n",
       "Df Model:                           1                                         \n",
       "Covariance Type:            nonrobust                                         \n",
       "==============================================================================\n",
       "                 coef    std err          t      P>|t|      [0.025      0.975]\n",
       "------------------------------------------------------------------------------\n",
       "const          7.0326      0.458     15.360      0.000       6.130       7.935\n",
       "TV             0.0475      0.003     17.668      0.000       0.042       0.053\n",
       "==============================================================================\n",
       "Omnibus:                        0.531   Durbin-Watson:                   1.935\n",
       "Prob(Omnibus):                  0.767   Jarque-Bera (JB):                0.669\n",
       "Skew:                          -0.089   Prob(JB):                        0.716\n",
       "Kurtosis:                       2.779   Cond. No.                         338.\n",
       "==============================================================================\n",
       "\n",
       "Notes:\n",
       "[1] Standard Errors assume that the covariance matrix of the errors is correctly specified.\n",
       "\"\"\""
      ]
     },
     "metadata": {},
     "output_type": "display_data"
    }
   ],
   "source": [
    "dependent = data['Sales']\n",
    "independent = data[['TV']]\n",
    "independent = sm.add_constant(independent)\n",
    "\n",
    "model = sm.OLS(dependent, independent).fit()\n",
    "display(model.summary())"
   ]
  },
  {
   "cell_type": "markdown",
   "id": "97cec718-1d7a-463f-8377-fc2fbf780f35",
   "metadata": {},
   "source": [
    "**Significance of Parameters**\n",
    "||||\n",
    "|-|-|-|\n",
    "|coef-const | $β_0$ |  $H_0$ is rejected since $p$ is less than $0.05$, coef value is significant. |\n",
    "|coef-total_bill | $β_1$ | $H_0$ is rejected since $p$ is less than $0.05$, coef value is significant. |\n",
    "\n",
    "**Significance of Model**\n",
    "\n",
    "It is a test of the significance of all coefficients except $β_0$.\n",
    "\n",
    "|||\n",
    "|-|-|\n",
    "| Model | $H_0$ is rejected since $p$ (Prob (F-statistic)) is less than $0.05$, model is significant.  |\n"
   ]
  },
  {
   "cell_type": "markdown",
   "id": "a143f0f8-010d-4616-b7be-32b8f996d269",
   "metadata": {},
   "source": [
    "<p style=\"background-image: linear-gradient(to right, #0aa98f, #68dab2)\"> &nbsp; </p>"
   ]
  },
  {
   "cell_type": "markdown",
   "id": "516fded0-96fd-4e98-a55c-f264a210ffc6",
   "metadata": {},
   "source": [
    "<p style=\"background-image: linear-gradient(#0aa98f, #ffffff 10%); font-weight:bold;\"> \n",
    "Multiple Linear Regression </p>"
   ]
  },
  {
   "cell_type": "code",
   "execution_count": 12,
   "id": "1bc7beca-d917-4663-9323-abeea1e4f43f",
   "metadata": {},
   "outputs": [
    {
     "data": {
      "text/html": [
       "<table class=\"simpletable\">\n",
       "<caption>OLS Regression Results</caption>\n",
       "<tr>\n",
       "  <th>Dep. Variable:</th>      <td>Sales</td>   <th>  R-squared:         </th> <td>   0.897</td>\n",
       "</tr>\n",
       "<tr>\n",
       "  <th>Model:</th>               <td>OLS</td>    <th>  Adj. R-squared:    </th> <td>   0.896</td>\n",
       "</tr>\n",
       "<tr>\n",
       "  <th>No. Observations:</th>  <td>   200</td>   <th>  F-statistic:       </th> <td>   570.3</td>\n",
       "</tr>\n",
       "<tr>\n",
       "  <th>Covariance Type:</th>  <td>nonrobust</td> <th>  Prob (F-statistic):</th> <td>1.58e-96</td>\n",
       "</tr>\n",
       "</table>\n",
       "<table class=\"simpletable\">\n",
       "<tr>\n",
       "      <td></td>         <th>coef</th>     <th>std err</th>      <th>t</th>      <th>P>|t|</th>  <th>[0.025</th>    <th>0.975]</th>  \n",
       "</tr>\n",
       "<tr>\n",
       "  <th>const</th>     <td>    2.9389</td> <td>    0.312</td> <td>    9.422</td> <td> 0.000</td> <td>    2.324</td> <td>    3.554</td>\n",
       "</tr>\n",
       "<tr>\n",
       "  <th>TV</th>        <td>    0.0458</td> <td>    0.001</td> <td>   32.809</td> <td> 0.000</td> <td>    0.043</td> <td>    0.049</td>\n",
       "</tr>\n",
       "<tr>\n",
       "  <th>Radio</th>     <td>    0.1885</td> <td>    0.009</td> <td>   21.893</td> <td> 0.000</td> <td>    0.172</td> <td>    0.206</td>\n",
       "</tr>\n",
       "<tr>\n",
       "  <th>Newspaper</th> <td>   -0.0010</td> <td>    0.006</td> <td>   -0.177</td> <td> 0.860</td> <td>   -0.013</td> <td>    0.011</td>\n",
       "</tr>\n",
       "</table><br/><br/>Notes:<br/>[1] Standard Errors assume that the covariance matrix of the errors is correctly specified."
      ],
      "text/latex": [
       "\\begin{center}\n",
       "\\begin{tabular}{lclc}\n",
       "\\toprule\n",
       "\\textbf{Dep. Variable:}    &     Sales     & \\textbf{  R-squared:         } &     0.897   \\\\\n",
       "\\textbf{Model:}            &      OLS      & \\textbf{  Adj. R-squared:    } &     0.896   \\\\\n",
       "\\textbf{No. Observations:} &        200    & \\textbf{  F-statistic:       } &     570.3   \\\\\n",
       "\\textbf{Covariance Type:}  &   nonrobust   & \\textbf{  Prob (F-statistic):} &  1.58e-96   \\\\\n",
       "\\bottomrule\n",
       "\\end{tabular}\n",
       "\\begin{tabular}{lcccccc}\n",
       "                   & \\textbf{coef} & \\textbf{std err} & \\textbf{t} & \\textbf{P$> |$t$|$} & \\textbf{[0.025} & \\textbf{0.975]}  \\\\\n",
       "\\midrule\n",
       "\\textbf{const}     &       2.9389  &        0.312     &     9.422  &         0.000        &        2.324    &        3.554     \\\\\n",
       "\\textbf{TV}        &       0.0458  &        0.001     &    32.809  &         0.000        &        0.043    &        0.049     \\\\\n",
       "\\textbf{Radio}     &       0.1885  &        0.009     &    21.893  &         0.000        &        0.172    &        0.206     \\\\\n",
       "\\textbf{Newspaper} &      -0.0010  &        0.006     &    -0.177  &         0.860        &       -0.013    &        0.011     \\\\\n",
       "\\bottomrule\n",
       "\\end{tabular}\n",
       "%\\caption{OLS Regression Results}\n",
       "\\end{center}\n",
       "\n",
       "Notes: \\newline\n",
       " [1] Standard Errors assume that the covariance matrix of the errors is correctly specified."
      ],
      "text/plain": [
       "<class 'statsmodels.iolib.summary.Summary'>\n",
       "\"\"\"\n",
       "                            OLS Regression Results                            \n",
       "==============================================================================\n",
       "Dep. Variable:                  Sales   R-squared:                       0.897\n",
       "Model:                            OLS   Adj. R-squared:                  0.896\n",
       "No. Observations:                 200   F-statistic:                     570.3\n",
       "Covariance Type:            nonrobust   Prob (F-statistic):           1.58e-96\n",
       "==============================================================================\n",
       "                 coef    std err          t      P>|t|      [0.025      0.975]\n",
       "------------------------------------------------------------------------------\n",
       "const          2.9389      0.312      9.422      0.000       2.324       3.554\n",
       "TV             0.0458      0.001     32.809      0.000       0.043       0.049\n",
       "Radio          0.1885      0.009     21.893      0.000       0.172       0.206\n",
       "Newspaper     -0.0010      0.006     -0.177      0.860      -0.013       0.011\n",
       "==============================================================================\n",
       "\n",
       "Notes:\n",
       "[1] Standard Errors assume that the covariance matrix of the errors is correctly specified.\n",
       "\"\"\""
      ]
     },
     "metadata": {},
     "output_type": "display_data"
    }
   ],
   "source": [
    "dependent = data['Sales']\n",
    "independent = data[['TV', 'Radio', 'Newspaper']]\n",
    "\n",
    "independent = sm.add_constant(independent)\n",
    "model = sm.OLS(dependent, independent).fit()\n",
    "display(model.summary(slim=True))\n",
    "# display(model.params)"
   ]
  },
  {
   "cell_type": "markdown",
   "id": "bfc28b2f-2109-47f2-837d-44005117cd4c",
   "metadata": {},
   "source": [
    "||||\n",
    "|-|-|-|\n",
    "|coef-const | $β_0$ |  $H_0$ is rejected since $p$ is less than $0.05$, coef value is significant. |\n",
    "|coef-TV | $β_1$ | $H_0$ is rejected since $p$ is less than $0.05$, coef value is significant. |\n",
    "|coef-Radio | $β_2$ | $H_0$ is rejected since $p$ is less than $0.05$, coef value is significant. |\n",
    "|coef-Newspaper | $β_3$ | Since $p$ for **newspaper** is greater than $0.05$, $H_0$ cannot be rejected, it should be excluded from the model. |\n",
    "| Model | | $H_0$ is rejected since $p$ (Prob (F-statistic)) is less than $0.05$, model is significant.  |\n",
    "\n",
    "\n",
    "The adjusted $R^2$ value is 0.897, indicating that the data is explained fairly well.\n",
    "\n",
    "$$Sales = 2.93 + 0.04 \\cdot TV + 0.18 \\cdot Radio - 0.001 Newspaper$$\n"
   ]
  },
  {
   "cell_type": "code",
   "execution_count": 14,
   "id": "3d6eaba6-ab4f-4a83-a874-5f1957c11ffd",
   "metadata": {},
   "outputs": [
    {
     "data": {
      "text/html": [
       "<table class=\"simpletable\">\n",
       "<caption>OLS Regression Results</caption>\n",
       "<tr>\n",
       "  <th>Dep. Variable:</th>      <td>Sales</td>   <th>  R-squared:         </th> <td>   0.897</td>\n",
       "</tr>\n",
       "<tr>\n",
       "  <th>Model:</th>               <td>OLS</td>    <th>  Adj. R-squared:    </th> <td>   0.896</td>\n",
       "</tr>\n",
       "<tr>\n",
       "  <th>No. Observations:</th>  <td>   200</td>   <th>  F-statistic:       </th> <td>   859.6</td>\n",
       "</tr>\n",
       "<tr>\n",
       "  <th>Covariance Type:</th>  <td>nonrobust</td> <th>  Prob (F-statistic):</th> <td>4.83e-98</td>\n",
       "</tr>\n",
       "</table>\n",
       "<table class=\"simpletable\">\n",
       "<tr>\n",
       "    <td></td>       <th>coef</th>     <th>std err</th>      <th>t</th>      <th>P>|t|</th>  <th>[0.025</th>    <th>0.975]</th>  \n",
       "</tr>\n",
       "<tr>\n",
       "  <th>const</th> <td>    2.9211</td> <td>    0.294</td> <td>    9.919</td> <td> 0.000</td> <td>    2.340</td> <td>    3.502</td>\n",
       "</tr>\n",
       "<tr>\n",
       "  <th>TV</th>    <td>    0.0458</td> <td>    0.001</td> <td>   32.909</td> <td> 0.000</td> <td>    0.043</td> <td>    0.048</td>\n",
       "</tr>\n",
       "<tr>\n",
       "  <th>Radio</th> <td>    0.1880</td> <td>    0.008</td> <td>   23.382</td> <td> 0.000</td> <td>    0.172</td> <td>    0.204</td>\n",
       "</tr>\n",
       "</table><br/><br/>Notes:<br/>[1] Standard Errors assume that the covariance matrix of the errors is correctly specified."
      ],
      "text/latex": [
       "\\begin{center}\n",
       "\\begin{tabular}{lclc}\n",
       "\\toprule\n",
       "\\textbf{Dep. Variable:}    &     Sales     & \\textbf{  R-squared:         } &     0.897   \\\\\n",
       "\\textbf{Model:}            &      OLS      & \\textbf{  Adj. R-squared:    } &     0.896   \\\\\n",
       "\\textbf{No. Observations:} &        200    & \\textbf{  F-statistic:       } &     859.6   \\\\\n",
       "\\textbf{Covariance Type:}  &   nonrobust   & \\textbf{  Prob (F-statistic):} &  4.83e-98   \\\\\n",
       "\\bottomrule\n",
       "\\end{tabular}\n",
       "\\begin{tabular}{lcccccc}\n",
       "               & \\textbf{coef} & \\textbf{std err} & \\textbf{t} & \\textbf{P$> |$t$|$} & \\textbf{[0.025} & \\textbf{0.975]}  \\\\\n",
       "\\midrule\n",
       "\\textbf{const} &       2.9211  &        0.294     &     9.919  &         0.000        &        2.340    &        3.502     \\\\\n",
       "\\textbf{TV}    &       0.0458  &        0.001     &    32.909  &         0.000        &        0.043    &        0.048     \\\\\n",
       "\\textbf{Radio} &       0.1880  &        0.008     &    23.382  &         0.000        &        0.172    &        0.204     \\\\\n",
       "\\bottomrule\n",
       "\\end{tabular}\n",
       "%\\caption{OLS Regression Results}\n",
       "\\end{center}\n",
       "\n",
       "Notes: \\newline\n",
       " [1] Standard Errors assume that the covariance matrix of the errors is correctly specified."
      ],
      "text/plain": [
       "<class 'statsmodels.iolib.summary.Summary'>\n",
       "\"\"\"\n",
       "                            OLS Regression Results                            \n",
       "==============================================================================\n",
       "Dep. Variable:                  Sales   R-squared:                       0.897\n",
       "Model:                            OLS   Adj. R-squared:                  0.896\n",
       "No. Observations:                 200   F-statistic:                     859.6\n",
       "Covariance Type:            nonrobust   Prob (F-statistic):           4.83e-98\n",
       "==============================================================================\n",
       "                 coef    std err          t      P>|t|      [0.025      0.975]\n",
       "------------------------------------------------------------------------------\n",
       "const          2.9211      0.294      9.919      0.000       2.340       3.502\n",
       "TV             0.0458      0.001     32.909      0.000       0.043       0.048\n",
       "Radio          0.1880      0.008     23.382      0.000       0.172       0.204\n",
       "==============================================================================\n",
       "\n",
       "Notes:\n",
       "[1] Standard Errors assume that the covariance matrix of the errors is correctly specified.\n",
       "\"\"\""
      ]
     },
     "metadata": {},
     "output_type": "display_data"
    }
   ],
   "source": [
    "dependent = data['Sales']\n",
    "independent = data[['TV', 'Radio']]\n",
    "\n",
    "independent = sm.add_constant(independent)\n",
    "model = sm.OLS(dependent, independent).fit()\n",
    "display(model.summary(slim=True))"
   ]
  },
  {
   "cell_type": "markdown",
   "id": "d9199f89-af51-4635-ac76-810e871844da",
   "metadata": {},
   "source": [
    "||||\n",
    "|-|-|-|\n",
    "|coef-const | $β_0$ |  $H_0$ is rejected since $p$ is less than $0.05$, coef value is significant. |\n",
    "|coef-TV | $β_1$ | $H_0$ is rejected since $p$ is less than $0.05$, coef value is significant. |\n",
    "|coef-Radio | $β_2$ | $H_0$ is rejected since $p$ is less than $0.05$, coef value is significant. |\n",
    "| Model | | $H_0$ is rejected since $p$ (Prob (F-statistic)) is less than $0.05$, model is significant.  |\n",
    "\n",
    "\n",
    "The adjusted $R^2$ value is 0.897, indicating that the data is explained fairly well.\n",
    "\n",
    "$$Sales = 2.92 + 0.04 \\cdot TV + 0.18 \\cdot Radio$$"
   ]
  },
  {
   "cell_type": "markdown",
   "id": "77c37eb0-d671-4c59-9011-87b749647983",
   "metadata": {},
   "source": [
    "<p style=\"background-image: linear-gradient(to right, #0aa98f, #68dab2)\"> &nbsp; </p>"
   ]
  },
  {
   "cell_type": "markdown",
   "id": "5cd51663-6150-40de-820a-44da91d9ca49",
   "metadata": {},
   "source": [
    "<p style=\"background-image: linear-gradient(#0aa98f, #ffffff 10%); font-weight:bold;\"> \n",
    "1- Linearity Assumption </p>"
   ]
  },
  {
   "cell_type": "code",
   "execution_count": 18,
   "id": "710e88e5-6eb9-4501-b6ae-679f96c73565",
   "metadata": {},
   "outputs": [
    {
     "data": {
      "image/png": "[encoded data removed]",
      "text/plain": [
       "<Figure size 750x250 with 3 Axes>"
      ]
     },
     "metadata": {},
     "output_type": "display_data"
    }
   ],
   "source": [
    "sns.pairplot(data, y_vars='Sales', x_vars=['TV', 'Radio', 'Newspaper'], kind='reg')\n",
    "plt.show()"
   ]
  },
  {
   "cell_type": "markdown",
   "id": "81ca54bc-7ec4-45f0-b920-4c367a430554",
   "metadata": {},
   "source": [
    "<p style=\"background-image: linear-gradient(#0aa98f, #ffffff 10%); font-weight:bold;\"> \n",
    "2- Normality Assumption </p>"
   ]
  },
  {
   "cell_type": "code",
   "execution_count": 20,
   "id": "079094d9-3627-4bd5-b2e6-1a242884a2cb",
   "metadata": {},
   "outputs": [
    {
     "name": "stdout",
     "output_type": "stream",
     "text": [
      "0.0000\n"
     ]
    }
   ],
   "source": [
    "# print(model.resid)\n",
    "print(f'{model.resid.mean():.4f}')"
   ]
  },
  {
   "cell_type": "code",
   "execution_count": 21,
   "id": "8a151d78-f8c9-41cb-b22e-398555502364",
   "metadata": {},
   "outputs": [
    {
     "data": {
      "image/png": "[encoded data removed]",
      "text/plain": [
       "<Figure size 400x300 with 1 Axes>"
      ]
     },
     "metadata": {},
     "output_type": "display_data"
    }
   ],
   "source": [
    "sns.displot(model.resid, kde=True)\n",
    "plt.gcf().set_size_inches(4,3)\n",
    "plt.show()"
   ]
  },
  {
   "cell_type": "code",
   "execution_count": 22,
   "id": "4ca61f8b-07fe-440d-97c6-1281a78eef31",
   "metadata": {},
   "outputs": [
    {
     "data": {
      "image/png": "[encoded data removed]",
      "text/plain": [
       "<Figure size 400x300 with 1 Axes>"
      ]
     },
     "metadata": {},
     "output_type": "display_data"
    }
   ],
   "source": [
    "sm.qqplot(model.resid, line='s')\n",
    "plt.gcf().set_size_inches(4,3)\n",
    "plt.show()"
   ]
  },
  {
   "cell_type": "markdown",
   "id": "a2c9abfc-28d7-464d-80cf-cfecd4101a1a",
   "metadata": {},
   "source": [
    "Since the Prob(JB) value is less than $0.05$, $H_0$ is rejected. However, the graphs confirm a normal distribution. The Jarque-Bera test is sensitive to outliers or a small number of observations, which can lead to misleading results. Typically, a QQ plot is used."
   ]
  },
  {
   "cell_type": "markdown",
   "id": "2be073c2-58ce-41c0-bb61-34064b521556",
   "metadata": {},
   "source": [
    "<p style=\"background-image: linear-gradient(#0aa98f, #ffffff 10%); font-weight:bold;\"> \n",
    "3- Autocorrelation Assumption </p>"
   ]
  },
  {
   "cell_type": "code",
   "execution_count": 25,
   "id": "cfeef784-1fb2-4d4c-81a8-4c49de402927",
   "metadata": {},
   "outputs": [
    {
     "data": {
      "image/png": "[encoded data removed]",
      "text/plain": [
       "<Figure size 500x300 with 1 Axes>"
      ]
     },
     "metadata": {},
     "output_type": "display_data"
    }
   ],
   "source": [
    "sm.graphics.tsa.plot_acf(model.resid) #lags=36\n",
    "plt.gcf().set_size_inches(5,3)\n",
    "plt.show()"
   ]
  },
  {
   "cell_type": "markdown",
   "id": "aabcdbf2-9eab-445d-9a0e-a914a0d53c4a",
   "metadata": {},
   "source": [
    "Data within the marked area indicates no autocorrelation."
   ]
  },
  {
   "cell_type": "markdown",
   "id": "f5ec8494-5697-4095-88de-7c37cddfbb3e",
   "metadata": {},
   "source": [
    "The **Durbin-Watson** statistic provides information about autocorrelation. Generally, a range of 1.5–2.5 indicates no problem with autocorrelation. From the Durbin-Watson table, you can read the lower limit ($d_l$) and upper limit ($d_u$) based on the sample size ($n$) and the number of independent variables ($k$, excluding the constant). Using these limits, you can calculate $4 - d_l$ and $4 - d_u$. The range between $d_l$ and $d_u$, and between $4 - d_l$ and $4 - d_u$, indicates indeterminate cases, while the interval outside these ranges indicates no autocorrelation.\n",
    "\n",
    "In cases of indeterminacy, additional tests like the **Breusch-Godfrey LM** test can be applied."
   ]
  },
  {
   "cell_type": "code",
   "execution_count": 28,
   "id": "0482a90c-6e9e-405d-890f-44d5be6cdc1b",
   "metadata": {},
   "outputs": [
    {
     "name": "stdout",
     "output_type": "stream",
     "text": [
      "0.6804174474024816 0.7116217749296754 0.33283584217940665 0.7172943226656876\n"
     ]
    }
   ],
   "source": [
    "lm, lmpval, fval, fpval = smd.acorr_breusch_godfrey(model, nlags=2)\n",
    "print(lm, lmpval, fval, fpval)"
   ]
  },
  {
   "cell_type": "markdown",
   "id": "b38c0e20-855f-4860-b4d0-c4c904ba2c40",
   "metadata": {},
   "source": [
    "Since lmpval is greater than $0.05$, $H_0$ cannot be rejected, there is no autocorrelation."
   ]
  },
  {
   "cell_type": "markdown",
   "id": "e282cef0-d9fd-414d-b44e-f884edee1d6c",
   "metadata": {},
   "source": [
    "<p style=\"background-image: linear-gradient(#ee2965, #ffffff 10%); font-weight:bold;\"> \n",
    "3.1- Newey-West Estimator </p>"
   ]
  },
  {
   "cell_type": "code",
   "execution_count": 31,
   "id": "0c1c7670-17ce-4fad-a329-8d564102af59",
   "metadata": {},
   "outputs": [
    {
     "data": {
      "text/html": [
       "<table class=\"simpletable\">\n",
       "<caption>OLS Regression Results</caption>\n",
       "<tr>\n",
       "  <th>Dep. Variable:</th>        <td>Y</td>     <th>  R-squared:         </th> <td>   0.937</td>\n",
       "</tr>\n",
       "<tr>\n",
       "  <th>Model:</th>               <td>OLS</td>    <th>  Adj. R-squared:    </th> <td>   0.927</td>\n",
       "</tr>\n",
       "<tr>\n",
       "  <th>No. Observations:</th>  <td>    23</td>   <th>  F-statistic:       </th> <td>   93.65</td>\n",
       "</tr>\n",
       "<tr>\n",
       "  <th>Covariance Type:</th>  <td>nonrobust</td> <th>  Prob (F-statistic):</th> <td>1.45e-11</td>\n",
       "</tr>\n",
       "</table>\n",
       "<table class=\"simpletable\">\n",
       "<tr>\n",
       "    <td></td>       <th>coef</th>     <th>std err</th>      <th>t</th>      <th>P>|t|</th>  <th>[0.025</th>    <th>0.975]</th>  \n",
       "</tr>\n",
       "<tr>\n",
       "  <th>const</th> <td>   38.6472</td> <td>    3.650</td> <td>   10.589</td> <td> 0.000</td> <td>   31.008</td> <td>   46.286</td>\n",
       "</tr>\n",
       "<tr>\n",
       "  <th>X1</th>    <td>    0.0109</td> <td>    0.002</td> <td>    4.567</td> <td> 0.000</td> <td>    0.006</td> <td>    0.016</td>\n",
       "</tr>\n",
       "<tr>\n",
       "  <th>X2</th>    <td>   -0.5411</td> <td>    0.158</td> <td>   -3.425</td> <td> 0.003</td> <td>   -0.872</td> <td>   -0.210</td>\n",
       "</tr>\n",
       "<tr>\n",
       "  <th>X3</th>    <td>    0.1741</td> <td>    0.063</td> <td>    2.784</td> <td> 0.012</td> <td>    0.043</td> <td>    0.305</td>\n",
       "</tr>\n",
       "</table><br/><br/>Notes:<br/>[1] Standard Errors assume that the covariance matrix of the errors is correctly specified.<br/>[2] The condition number is large, 1.06e+04. This might indicate that there are<br/>strong multicollinearity or other numerical problems."
      ],
      "text/latex": [
       "\\begin{center}\n",
       "\\begin{tabular}{lclc}\n",
       "\\toprule\n",
       "\\textbf{Dep. Variable:}    &       Y       & \\textbf{  R-squared:         } &     0.937   \\\\\n",
       "\\textbf{Model:}            &      OLS      & \\textbf{  Adj. R-squared:    } &     0.927   \\\\\n",
       "\\textbf{No. Observations:} &         23    & \\textbf{  F-statistic:       } &     93.65   \\\\\n",
       "\\textbf{Covariance Type:}  &   nonrobust   & \\textbf{  Prob (F-statistic):} &  1.45e-11   \\\\\n",
       "\\bottomrule\n",
       "\\end{tabular}\n",
       "\\begin{tabular}{lcccccc}\n",
       "               & \\textbf{coef} & \\textbf{std err} & \\textbf{t} & \\textbf{P$> |$t$|$} & \\textbf{[0.025} & \\textbf{0.975]}  \\\\\n",
       "\\midrule\n",
       "\\textbf{const} &      38.6472  &        3.650     &    10.589  &         0.000        &       31.008    &       46.286     \\\\\n",
       "\\textbf{X1}    &       0.0109  &        0.002     &     4.567  &         0.000        &        0.006    &        0.016     \\\\\n",
       "\\textbf{X2}    &      -0.5411  &        0.158     &    -3.425  &         0.003        &       -0.872    &       -0.210     \\\\\n",
       "\\textbf{X3}    &       0.1741  &        0.063     &     2.784  &         0.012        &        0.043    &        0.305     \\\\\n",
       "\\bottomrule\n",
       "\\end{tabular}\n",
       "%\\caption{OLS Regression Results}\n",
       "\\end{center}\n",
       "\n",
       "Notes: \\newline\n",
       " [1] Standard Errors assume that the covariance matrix of the errors is correctly specified. \\newline\n",
       " [2] The condition number is large, 1.06e+04. This might indicate that there are \\newline\n",
       " strong multicollinearity or other numerical problems."
      ],
      "text/plain": [
       "<class 'statsmodels.iolib.summary.Summary'>\n",
       "\"\"\"\n",
       "                            OLS Regression Results                            \n",
       "==============================================================================\n",
       "Dep. Variable:                      Y   R-squared:                       0.937\n",
       "Model:                            OLS   Adj. R-squared:                  0.927\n",
       "No. Observations:                  23   F-statistic:                     93.65\n",
       "Covariance Type:            nonrobust   Prob (F-statistic):           1.45e-11\n",
       "==============================================================================\n",
       "                 coef    std err          t      P>|t|      [0.025      0.975]\n",
       "------------------------------------------------------------------------------\n",
       "const         38.6472      3.650     10.589      0.000      31.008      46.286\n",
       "X1             0.0109      0.002      4.567      0.000       0.006       0.016\n",
       "X2            -0.5411      0.158     -3.425      0.003      -0.872      -0.210\n",
       "X3             0.1741      0.063      2.784      0.012       0.043       0.305\n",
       "==============================================================================\n",
       "\n",
       "Notes:\n",
       "[1] Standard Errors assume that the covariance matrix of the errors is correctly specified.\n",
       "[2] The condition number is large, 1.06e+04. This might indicate that there are\n",
       "strong multicollinearity or other numerical problems.\n",
       "\"\"\""
      ]
     },
     "metadata": {},
     "output_type": "display_data"
    }
   ],
   "source": [
    "DATA = pd.read_excel('data/16_newey_west.xlsx')\n",
    "DEPENDENT = DATA['Y']\n",
    "INDEPENDENT = DATA[['X1', 'X2', 'X3']]\n",
    "INDEPENDENT = sm.add_constant(INDEPENDENT)\n",
    "\n",
    "OLS_MODEL = sm.OLS(DEPENDENT, INDEPENDENT).fit()\n",
    "display(OLS_MODEL.summary(slim=True))"
   ]
  },
  {
   "cell_type": "code",
   "execution_count": 32,
   "id": "20d603bf-4767-4b6f-873a-3ecf9ddb9117",
   "metadata": {},
   "outputs": [
    {
     "data": {
      "image/png": "[encoded data removed]",
      "text/plain": [
       "<Figure size 500x300 with 1 Axes>"
      ]
     },
     "metadata": {},
     "output_type": "display_data"
    }
   ],
   "source": [
    "sm.graphics.tsa.plot_acf(OLS_MODEL.resid)\n",
    "plt.gcf().set_size_inches(5,3)\n",
    "plt.show()"
   ]
  },
  {
   "cell_type": "code",
   "execution_count": 33,
   "id": "76ea37a0-268d-4e6e-af8d-515a3120c374",
   "metadata": {},
   "outputs": [
    {
     "name": "stdout",
     "output_type": "stream",
     "text": [
      "7.329304978094456 0.025613070559878815 3.975515586686938 0.03833218644763221\n"
     ]
    }
   ],
   "source": [
    "lm, lmpval, fval, fpval = smd.acorr_breusch_godfrey(OLS_MODEL, nlags=2)\n",
    "print(lm, lmpval, fval, fpval)"
   ]
  },
  {
   "cell_type": "markdown",
   "id": "290e75d4-86df-42a3-9460-23990dd1b6cd",
   "metadata": {},
   "source": [
    "Since lmpval is less than $0.05$, $H_0$ is rejected, there is autocorrelation. Newey-West should be applied."
   ]
  },
  {
   "cell_type": "code",
   "execution_count": 35,
   "id": "e94a5c86-f1b2-46f3-83f4-9298b92e6e77",
   "metadata": {},
   "outputs": [
    {
     "data": {
      "text/html": [
       "<table class=\"simpletable\">\n",
       "<caption>OLS Regression Results</caption>\n",
       "<tr>\n",
       "  <th>Dep. Variable:</th>       <td>Y</td>   <th>  R-squared:         </th> <td>   0.937</td>\n",
       "</tr>\n",
       "<tr>\n",
       "  <th>Model:</th>              <td>OLS</td>  <th>  Adj. R-squared:    </th> <td>   0.927</td>\n",
       "</tr>\n",
       "<tr>\n",
       "  <th>No. Observations:</th> <td>    23</td> <th>  F-statistic:       </th> <td>   59.56</td>\n",
       "</tr>\n",
       "<tr>\n",
       "  <th>Covariance Type:</th>    <td>HAC</td>  <th>  Prob (F-statistic):</th> <td>7.49e-10</td>\n",
       "</tr>\n",
       "</table>\n",
       "<table class=\"simpletable\">\n",
       "<tr>\n",
       "    <td></td>       <th>coef</th>     <th>std err</th>      <th>z</th>      <th>P>|z|</th>  <th>[0.025</th>    <th>0.975]</th>  \n",
       "</tr>\n",
       "<tr>\n",
       "  <th>const</th> <td>   38.6472</td> <td>    3.542</td> <td>   10.912</td> <td> 0.000</td> <td>   31.706</td> <td>   45.589</td>\n",
       "</tr>\n",
       "<tr>\n",
       "  <th>X1</th>    <td>    0.0109</td> <td>    0.002</td> <td>    6.832</td> <td> 0.000</td> <td>    0.008</td> <td>    0.014</td>\n",
       "</tr>\n",
       "<tr>\n",
       "  <th>X2</th>    <td>   -0.5411</td> <td>    0.161</td> <td>   -3.369</td> <td> 0.001</td> <td>   -0.856</td> <td>   -0.226</td>\n",
       "</tr>\n",
       "<tr>\n",
       "  <th>X3</th>    <td>    0.1741</td> <td>    0.055</td> <td>    3.151</td> <td> 0.002</td> <td>    0.066</td> <td>    0.282</td>\n",
       "</tr>\n",
       "</table><br/><br/>Notes:<br/>[1] Standard Errors are heteroscedasticity and autocorrelation robust (HAC) using 3 lags and without small sample correction<br/>[2] The condition number is large, 1.06e+04. This might indicate that there are<br/>strong multicollinearity or other numerical problems."
      ],
      "text/latex": [
       "\\begin{center}\n",
       "\\begin{tabular}{lclc}\n",
       "\\toprule\n",
       "\\textbf{Dep. Variable:}    &       Y       & \\textbf{  R-squared:         } &     0.937   \\\\\n",
       "\\textbf{Model:}            &      OLS      & \\textbf{  Adj. R-squared:    } &     0.927   \\\\\n",
       "\\textbf{No. Observations:} &         23    & \\textbf{  F-statistic:       } &     59.56   \\\\\n",
       "\\textbf{Covariance Type:}  &      HAC      & \\textbf{  Prob (F-statistic):} &  7.49e-10   \\\\\n",
       "\\bottomrule\n",
       "\\end{tabular}\n",
       "\\begin{tabular}{lcccccc}\n",
       "               & \\textbf{coef} & \\textbf{std err} & \\textbf{z} & \\textbf{P$> |$z$|$} & \\textbf{[0.025} & \\textbf{0.975]}  \\\\\n",
       "\\midrule\n",
       "\\textbf{const} &      38.6472  &        3.542     &    10.912  &         0.000        &       31.706    &       45.589     \\\\\n",
       "\\textbf{X1}    &       0.0109  &        0.002     &     6.832  &         0.000        &        0.008    &        0.014     \\\\\n",
       "\\textbf{X2}    &      -0.5411  &        0.161     &    -3.369  &         0.001        &       -0.856    &       -0.226     \\\\\n",
       "\\textbf{X3}    &       0.1741  &        0.055     &     3.151  &         0.002        &        0.066    &        0.282     \\\\\n",
       "\\bottomrule\n",
       "\\end{tabular}\n",
       "%\\caption{OLS Regression Results}\n",
       "\\end{center}\n",
       "\n",
       "Notes: \\newline\n",
       " [1] Standard Errors are heteroscedasticity and autocorrelation robust (HAC) using 3 lags and without small sample correction \\newline\n",
       " [2] The condition number is large, 1.06e+04. This might indicate that there are \\newline\n",
       " strong multicollinearity or other numerical problems."
      ],
      "text/plain": [
       "<class 'statsmodels.iolib.summary.Summary'>\n",
       "\"\"\"\n",
       "                            OLS Regression Results                            \n",
       "==============================================================================\n",
       "Dep. Variable:                      Y   R-squared:                       0.937\n",
       "Model:                            OLS   Adj. R-squared:                  0.927\n",
       "No. Observations:                  23   F-statistic:                     59.56\n",
       "Covariance Type:                  HAC   Prob (F-statistic):           7.49e-10\n",
       "==============================================================================\n",
       "                 coef    std err          z      P>|z|      [0.025      0.975]\n",
       "------------------------------------------------------------------------------\n",
       "const         38.6472      3.542     10.912      0.000      31.706      45.589\n",
       "X1             0.0109      0.002      6.832      0.000       0.008       0.014\n",
       "X2            -0.5411      0.161     -3.369      0.001      -0.856      -0.226\n",
       "X3             0.1741      0.055      3.151      0.002       0.066       0.282\n",
       "==============================================================================\n",
       "\n",
       "Notes:\n",
       "[1] Standard Errors are heteroscedasticity and autocorrelation robust (HAC) using 3 lags and without small sample correction\n",
       "[2] The condition number is large, 1.06e+04. This might indicate that there are\n",
       "strong multicollinearity or other numerical problems.\n",
       "\"\"\""
      ]
     },
     "metadata": {},
     "output_type": "display_data"
    }
   ],
   "source": [
    "# NW_MODEL = OLS_MODEL.get_robustcov_results(cov_type='HAC', maxlags=3)\n",
    "NW_MODEL = sm.OLS(DEPENDENT, INDEPENDENT).fit(cov_type='HAC', cov_kwds={'maxlags':3})\n",
    "display(NW_MODEL.summary(slim=True))"
   ]
  },
  {
   "cell_type": "markdown",
   "id": "813015ff-944b-47c2-b8ed-000ece5dd2af",
   "metadata": {},
   "source": [
    "<p style=\"background-image: linear-gradient(to right, #ee2965, #e31837)\"> &nbsp; </p>"
   ]
  },
  {
   "cell_type": "markdown",
   "id": "ad47773f-c9e3-4dd0-b37e-47b98b7a20fc",
   "metadata": {},
   "source": [
    "<p style=\"background-image: linear-gradient(#0aa98f, #ffffff 10%); font-weight:bold;\"> \n",
    "4- Homoscedasticity Assumption </p>"
   ]
  },
  {
   "cell_type": "code",
   "execution_count": 38,
   "id": "8d0f6c32-8e8d-49e5-823c-e22ad0057c0a",
   "metadata": {},
   "outputs": [
    {
     "name": "stdout",
     "output_type": "stream",
     "text": [
      "white: (64.52396767803721, 1.4067931342833322e-12, 18.479504477649087, 5.401631305047162e-15)\n",
      "pagan: (4.809299865939587, 0.09029710011528749, 2.4269395850811146, 0.09094292734128774)\n"
     ]
    }
   ],
   "source": [
    "white_test = smd.het_white(model.resid, model.model.exog)\n",
    "print('white:', white_test)\n",
    "\n",
    "BP_test = smd.het_breuschpagan(model.resid, model.model.exog)\n",
    "print('pagan:', BP_test)"
   ]
  },
  {
   "cell_type": "markdown",
   "id": "b7659307-99df-4046-9693-fc4f4d8cbac1",
   "metadata": {},
   "source": [
    "1. Since the final value is less than $0.05$, $H_0$ is rejected, there is not constant variance but changing variance.\n",
    "2. $H_0$ cannot be rejected because the last value is greater than $0.05$, there is constant variance.\n",
    "\n",
    "    **The White test and the Pagan test showed different results**<br>\n",
    "    There were different results in the **White** and **Pagan** tests. If the normality test shows that errors follow a normal distribution, the Pagan test is more powerful. If normality is not satisfied, and the analysis continues based on the central limit theorem, the White test is applied."
   ]
  },
  {
   "cell_type": "markdown",
   "id": "001a9189-78e9-4a72-a6dc-a421cd9ee1ef",
   "metadata": {},
   "source": [
    "<p style=\"background-image: linear-gradient(#ee2965, #ffffff 10%); font-weight:bold;\"> \n",
    "4.1- Non-Constant Variance </p>\n",
    "\n",
    "1. The Newey-West estimator can be applied.\n",
    "2. A logarithmic transformation can be applied. The model is constructed by taking the logarithm of both the dependent and independent variables."
   ]
  },
  {
   "cell_type": "code",
   "execution_count": 41,
   "id": "c6feabb1-5c1c-4461-a80c-c9a840d2dd11",
   "metadata": {},
   "outputs": [
    {
     "data": {
      "text/html": [
       "<table class=\"simpletable\">\n",
       "<caption>OLS Regression Results</caption>\n",
       "<tr>\n",
       "  <th>Dep. Variable:</th>        <td>Y</td>     <th>  R-squared:         </th> <td>   0.795</td>\n",
       "</tr>\n",
       "<tr>\n",
       "  <th>Model:</th>               <td>OLS</td>    <th>  Adj. R-squared:    </th> <td>   0.788</td>\n",
       "</tr>\n",
       "<tr>\n",
       "  <th>No. Observations:</th>  <td>    30</td>   <th>  F-statistic:       </th> <td>   108.6</td>\n",
       "</tr>\n",
       "<tr>\n",
       "  <th>Covariance Type:</th>  <td>nonrobust</td> <th>  Prob (F-statistic):</th> <td>3.86e-11</td>\n",
       "</tr>\n",
       "</table>\n",
       "<table class=\"simpletable\">\n",
       "<tr>\n",
       "    <td></td>       <th>coef</th>     <th>std err</th>      <th>t</th>      <th>P>|t|</th>  <th>[0.025</th>    <th>0.975]</th>  \n",
       "</tr>\n",
       "<tr>\n",
       "  <th>const</th> <td>    0.7933</td> <td>    1.079</td> <td>    0.735</td> <td> 0.468</td> <td>   -1.417</td> <td>    3.004</td>\n",
       "</tr>\n",
       "<tr>\n",
       "  <th>X</th>     <td>    0.0339</td> <td>    0.003</td> <td>   10.419</td> <td> 0.000</td> <td>    0.027</td> <td>    0.041</td>\n",
       "</tr>\n",
       "</table><br/><br/>Notes:<br/>[1] Standard Errors assume that the covariance matrix of the errors is correctly specified."
      ],
      "text/latex": [
       "\\begin{center}\n",
       "\\begin{tabular}{lclc}\n",
       "\\toprule\n",
       "\\textbf{Dep. Variable:}    &       Y       & \\textbf{  R-squared:         } &     0.795   \\\\\n",
       "\\textbf{Model:}            &      OLS      & \\textbf{  Adj. R-squared:    } &     0.788   \\\\\n",
       "\\textbf{No. Observations:} &         30    & \\textbf{  F-statistic:       } &     108.6   \\\\\n",
       "\\textbf{Covariance Type:}  &   nonrobust   & \\textbf{  Prob (F-statistic):} &  3.86e-11   \\\\\n",
       "\\bottomrule\n",
       "\\end{tabular}\n",
       "\\begin{tabular}{lcccccc}\n",
       "               & \\textbf{coef} & \\textbf{std err} & \\textbf{t} & \\textbf{P$> |$t$|$} & \\textbf{[0.025} & \\textbf{0.975]}  \\\\\n",
       "\\midrule\n",
       "\\textbf{const} &       0.7933  &        1.079     &     0.735  &         0.468        &       -1.417    &        3.004     \\\\\n",
       "\\textbf{X}     &       0.0339  &        0.003     &    10.419  &         0.000        &        0.027    &        0.041     \\\\\n",
       "\\bottomrule\n",
       "\\end{tabular}\n",
       "%\\caption{OLS Regression Results}\n",
       "\\end{center}\n",
       "\n",
       "Notes: \\newline\n",
       " [1] Standard Errors assume that the covariance matrix of the errors is correctly specified."
      ],
      "text/plain": [
       "<class 'statsmodels.iolib.summary.Summary'>\n",
       "\"\"\"\n",
       "                            OLS Regression Results                            \n",
       "==============================================================================\n",
       "Dep. Variable:                      Y   R-squared:                       0.795\n",
       "Model:                            OLS   Adj. R-squared:                  0.788\n",
       "No. Observations:                  30   F-statistic:                     108.6\n",
       "Covariance Type:            nonrobust   Prob (F-statistic):           3.86e-11\n",
       "==============================================================================\n",
       "                 coef    std err          t      P>|t|      [0.025      0.975]\n",
       "------------------------------------------------------------------------------\n",
       "const          0.7933      1.079      0.735      0.468      -1.417       3.004\n",
       "X              0.0339      0.003     10.419      0.000       0.027       0.041\n",
       "==============================================================================\n",
       "\n",
       "Notes:\n",
       "[1] Standard Errors assume that the covariance matrix of the errors is correctly specified.\n",
       "\"\"\""
      ]
     },
     "metadata": {},
     "output_type": "display_data"
    },
    {
     "name": "stdout",
     "output_type": "stream",
     "text": [
      "white test : (7.101394954910178, 0.028704611850957604, 4.186666904054256, 0.02607863875518798)\n",
      "pagan test : (4.441885848078928, 0.03506749133320195, 4.866274679223998, 0.03576097948546619)\n"
     ]
    }
   ],
   "source": [
    "DATA = pd.read_csv('data/17_log.csv')\n",
    "# display(DATA.T)\n",
    "\n",
    "y = DATA['Y']\n",
    "x = DATA['X']\n",
    "\n",
    "x = sm.add_constant(x)\n",
    "OLS_MODEL = sm.OLS(y, x).fit()\n",
    "display(OLS_MODEL.summary(slim=True))\n",
    "\n",
    "print('white test :', smd.het_white(OLS_MODEL.resid, OLS_MODEL.model.exog))\n",
    "print('pagan test :', smd.het_breuschpagan(OLS_MODEL.resid, OLS_MODEL.model.exog))"
   ]
  },
  {
   "cell_type": "markdown",
   "id": "677eda42-b4c1-4d87-9962-442a6d2ce8de",
   "metadata": {},
   "source": [
    "$H_0$ is rejected. Newey-West or Log Model transformation is applied"
   ]
  },
  {
   "cell_type": "code",
   "execution_count": 43,
   "id": "de94f24b-035a-449b-8584-88c3ad6171e1",
   "metadata": {},
   "outputs": [
    {
     "data": {
      "text/html": [
       "<table class=\"simpletable\">\n",
       "<caption>OLS Regression Results</caption>\n",
       "<tr>\n",
       "  <th>Dep. Variable:</th>        <td>Y</td>     <th>  R-squared:         </th> <td>   0.880</td>\n",
       "</tr>\n",
       "<tr>\n",
       "  <th>Model:</th>               <td>OLS</td>    <th>  Adj. R-squared:    </th> <td>   0.875</td>\n",
       "</tr>\n",
       "<tr>\n",
       "  <th>No. Observations:</th>  <td>    30</td>   <th>  F-statistic:       </th> <td>   204.9</td>\n",
       "</tr>\n",
       "<tr>\n",
       "  <th>Covariance Type:</th>  <td>nonrobust</td> <th>  Prob (F-statistic):</th> <td>2.09e-14</td>\n",
       "</tr>\n",
       "</table>\n",
       "<table class=\"simpletable\">\n",
       "<tr>\n",
       "    <td></td>       <th>coef</th>     <th>std err</th>      <th>t</th>      <th>P>|t|</th>  <th>[0.025</th>    <th>0.975]</th>  \n",
       "</tr>\n",
       "<tr>\n",
       "  <th>const</th> <td>   -1.9118</td> <td>    0.295</td> <td>   -6.484</td> <td> 0.000</td> <td>   -2.516</td> <td>   -1.308</td>\n",
       "</tr>\n",
       "<tr>\n",
       "  <th>X</th>     <td>    0.7548</td> <td>    0.053</td> <td>   14.315</td> <td> 0.000</td> <td>    0.647</td> <td>    0.863</td>\n",
       "</tr>\n",
       "</table><br/><br/>Notes:<br/>[1] Standard Errors assume that the covariance matrix of the errors is correctly specified."
      ],
      "text/latex": [
       "\\begin{center}\n",
       "\\begin{tabular}{lclc}\n",
       "\\toprule\n",
       "\\textbf{Dep. Variable:}    &       Y       & \\textbf{  R-squared:         } &     0.880   \\\\\n",
       "\\textbf{Model:}            &      OLS      & \\textbf{  Adj. R-squared:    } &     0.875   \\\\\n",
       "\\textbf{No. Observations:} &         30    & \\textbf{  F-statistic:       } &     204.9   \\\\\n",
       "\\textbf{Covariance Type:}  &   nonrobust   & \\textbf{  Prob (F-statistic):} &  2.09e-14   \\\\\n",
       "\\bottomrule\n",
       "\\end{tabular}\n",
       "\\begin{tabular}{lcccccc}\n",
       "               & \\textbf{coef} & \\textbf{std err} & \\textbf{t} & \\textbf{P$> |$t$|$} & \\textbf{[0.025} & \\textbf{0.975]}  \\\\\n",
       "\\midrule\n",
       "\\textbf{const} &      -1.9118  &        0.295     &    -6.484  &         0.000        &       -2.516    &       -1.308     \\\\\n",
       "\\textbf{X}     &       0.7548  &        0.053     &    14.315  &         0.000        &        0.647    &        0.863     \\\\\n",
       "\\bottomrule\n",
       "\\end{tabular}\n",
       "%\\caption{OLS Regression Results}\n",
       "\\end{center}\n",
       "\n",
       "Notes: \\newline\n",
       " [1] Standard Errors assume that the covariance matrix of the errors is correctly specified."
      ],
      "text/plain": [
       "<class 'statsmodels.iolib.summary.Summary'>\n",
       "\"\"\"\n",
       "                            OLS Regression Results                            \n",
       "==============================================================================\n",
       "Dep. Variable:                      Y   R-squared:                       0.880\n",
       "Model:                            OLS   Adj. R-squared:                  0.875\n",
       "No. Observations:                  30   F-statistic:                     204.9\n",
       "Covariance Type:            nonrobust   Prob (F-statistic):           2.09e-14\n",
       "==============================================================================\n",
       "                 coef    std err          t      P>|t|      [0.025      0.975]\n",
       "------------------------------------------------------------------------------\n",
       "const         -1.9118      0.295     -6.484      0.000      -2.516      -1.308\n",
       "X              0.7548      0.053     14.315      0.000       0.647       0.863\n",
       "==============================================================================\n",
       "\n",
       "Notes:\n",
       "[1] Standard Errors assume that the covariance matrix of the errors is correctly specified.\n",
       "\"\"\""
      ]
     },
     "metadata": {},
     "output_type": "display_data"
    },
    {
     "name": "stdout",
     "output_type": "stream",
     "text": [
      "white test : (5.355370157510736, 0.0687220563084537, 2.9336004471752455, 0.07032570666146531)\n",
      "pagan test : (2.6379691721564846, 0.10433683974726392, 2.6994756816522054, 0.11156580270896839)\n"
     ]
    }
   ],
   "source": [
    "y = np.log(DATA['Y'])\n",
    "x = np.log(DATA['X'])\n",
    "\n",
    "x = sm.add_constant(x)\n",
    "LOG_MODEL = sm.OLS(y, x).fit()\n",
    "display(LOG_MODEL.summary(slim=True))\n",
    "\n",
    "print('white test :', smd.het_white(LOG_MODEL.resid, LOG_MODEL.model.exog))\n",
    "print('pagan test :', smd.het_breuschpagan(LOG_MODEL.resid, LOG_MODEL.model.exog))"
   ]
  },
  {
   "cell_type": "markdown",
   "id": "40f7f755-2316-4706-832a-95370537c48d",
   "metadata": {},
   "source": [
    "<p style=\"background-image: linear-gradient(to right, #ee2965, #e31837)\"> &nbsp; </p>"
   ]
  },
  {
   "cell_type": "markdown",
   "id": "3c49236f-37db-4a35-9a79-cc7efd84117a",
   "metadata": {},
   "source": [
    "<p style=\"background-image: linear-gradient(#0aa98f, #ffffff 10%); font-weight:bold;\"> \n",
    "5- Variance Inflation Factor </p>"
   ]
  },
  {
   "cell_type": "code",
   "execution_count": 46,
   "id": "cad35a7c-8f46-4d84-9384-14f25212fe97",
   "metadata": {},
   "outputs": [
    {
     "data": {
      "text/html": [
       "<table class=\"simpletable\">\n",
       "<caption>OLS Regression Results</caption>\n",
       "<tr>\n",
       "  <th>Dep. Variable:</th>        <td>y</td>     <th>  R-squared:         </th> <td>   0.988</td>\n",
       "</tr>\n",
       "<tr>\n",
       "  <th>Model:</th>               <td>OLS</td>    <th>  Adj. R-squared:    </th> <td>   0.974</td>\n",
       "</tr>\n",
       "<tr>\n",
       "  <th>No. Observations:</th>  <td>    20</td>   <th>  F-statistic:       </th> <td>   72.78</td>\n",
       "</tr>\n",
       "<tr>\n",
       "  <th>Covariance Type:</th>  <td>nonrobust</td> <th>  Prob (F-statistic):</th> <td>2.25e-07</td>\n",
       "</tr>\n",
       "</table>\n",
       "<table class=\"simpletable\">\n",
       "<tr>\n",
       "    <td></td>       <th>coef</th>     <th>std err</th>      <th>t</th>      <th>P>|t|</th>  <th>[0.025</th>    <th>0.975]</th>  \n",
       "</tr>\n",
       "<tr>\n",
       "  <th>const</th> <td>  790.9803</td> <td>  195.817</td> <td>    4.039</td> <td> 0.003</td> <td>  348.012</td> <td> 1233.949</td>\n",
       "</tr>\n",
       "<tr>\n",
       "  <th>x1</th>    <td>    0.1849</td> <td>    0.106</td> <td>    1.744</td> <td> 0.115</td> <td>   -0.055</td> <td>    0.425</td>\n",
       "</tr>\n",
       "<tr>\n",
       "  <th>x2</th>    <td>    0.0498</td> <td>    0.038</td> <td>    1.295</td> <td> 0.228</td> <td>   -0.037</td> <td>    0.137</td>\n",
       "</tr>\n",
       "<tr>\n",
       "  <th>x3</th>    <td>   -0.0184</td> <td>    0.043</td> <td>   -0.431</td> <td> 0.676</td> <td>   -0.115</td> <td>    0.078</td>\n",
       "</tr>\n",
       "<tr>\n",
       "  <th>x4</th>    <td>    0.0028</td> <td>    0.018</td> <td>    0.157</td> <td> 0.879</td> <td>   -0.037</td> <td>    0.043</td>\n",
       "</tr>\n",
       "<tr>\n",
       "  <th>x5</th>    <td>    0.1189</td> <td>    0.053</td> <td>    2.257</td> <td> 0.050</td> <td>   -0.000</td> <td>    0.238</td>\n",
       "</tr>\n",
       "<tr>\n",
       "  <th>x6</th>    <td>    0.1528</td> <td>    0.029</td> <td>    5.295</td> <td> 0.000</td> <td>    0.088</td> <td>    0.218</td>\n",
       "</tr>\n",
       "<tr>\n",
       "  <th>x7</th>    <td>    0.0215</td> <td>    0.061</td> <td>    0.350</td> <td> 0.734</td> <td>   -0.118</td> <td>    0.161</td>\n",
       "</tr>\n",
       "<tr>\n",
       "  <th>x8</th>    <td>    0.1945</td> <td>    0.058</td> <td>    3.326</td> <td> 0.009</td> <td>    0.062</td> <td>    0.327</td>\n",
       "</tr>\n",
       "<tr>\n",
       "  <th>x9</th>    <td>    0.0798</td> <td>    0.071</td> <td>    1.119</td> <td> 0.292</td> <td>   -0.082</td> <td>    0.241</td>\n",
       "</tr>\n",
       "<tr>\n",
       "  <th>x10</th>   <td>   -0.0043</td> <td>    0.073</td> <td>   -0.059</td> <td> 0.954</td> <td>   -0.169</td> <td>    0.160</td>\n",
       "</tr>\n",
       "</table><br/><br/>Notes:<br/>[1] Standard Errors assume that the covariance matrix of the errors is correctly specified.<br/>[2] The condition number is large, 1.67e+05. This might indicate that there are<br/>strong multicollinearity or other numerical problems."
      ],
      "text/latex": [
       "\\begin{center}\n",
       "\\begin{tabular}{lclc}\n",
       "\\toprule\n",
       "\\textbf{Dep. Variable:}    &       y       & \\textbf{  R-squared:         } &     0.988   \\\\\n",
       "\\textbf{Model:}            &      OLS      & \\textbf{  Adj. R-squared:    } &     0.974   \\\\\n",
       "\\textbf{No. Observations:} &         20    & \\textbf{  F-statistic:       } &     72.78   \\\\\n",
       "\\textbf{Covariance Type:}  &   nonrobust   & \\textbf{  Prob (F-statistic):} &  2.25e-07   \\\\\n",
       "\\bottomrule\n",
       "\\end{tabular}\n",
       "\\begin{tabular}{lcccccc}\n",
       "               & \\textbf{coef} & \\textbf{std err} & \\textbf{t} & \\textbf{P$> |$t$|$} & \\textbf{[0.025} & \\textbf{0.975]}  \\\\\n",
       "\\midrule\n",
       "\\textbf{const} &     790.9803  &      195.817     &     4.039  &         0.003        &      348.012    &     1233.949     \\\\\n",
       "\\textbf{x1}    &       0.1849  &        0.106     &     1.744  &         0.115        &       -0.055    &        0.425     \\\\\n",
       "\\textbf{x2}    &       0.0498  &        0.038     &     1.295  &         0.228        &       -0.037    &        0.137     \\\\\n",
       "\\textbf{x3}    &      -0.0184  &        0.043     &    -0.431  &         0.676        &       -0.115    &        0.078     \\\\\n",
       "\\textbf{x4}    &       0.0028  &        0.018     &     0.157  &         0.879        &       -0.037    &        0.043     \\\\\n",
       "\\textbf{x5}    &       0.1189  &        0.053     &     2.257  &         0.050        &       -0.000    &        0.238     \\\\\n",
       "\\textbf{x6}    &       0.1528  &        0.029     &     5.295  &         0.000        &        0.088    &        0.218     \\\\\n",
       "\\textbf{x7}    &       0.0215  &        0.061     &     0.350  &         0.734        &       -0.118    &        0.161     \\\\\n",
       "\\textbf{x8}    &       0.1945  &        0.058     &     3.326  &         0.009        &        0.062    &        0.327     \\\\\n",
       "\\textbf{x9}    &       0.0798  &        0.071     &     1.119  &         0.292        &       -0.082    &        0.241     \\\\\n",
       "\\textbf{x10}   &      -0.0043  &        0.073     &    -0.059  &         0.954        &       -0.169    &        0.160     \\\\\n",
       "\\bottomrule\n",
       "\\end{tabular}\n",
       "%\\caption{OLS Regression Results}\n",
       "\\end{center}\n",
       "\n",
       "Notes: \\newline\n",
       " [1] Standard Errors assume that the covariance matrix of the errors is correctly specified. \\newline\n",
       " [2] The condition number is large, 1.67e+05. This might indicate that there are \\newline\n",
       " strong multicollinearity or other numerical problems."
      ],
      "text/plain": [
       "<class 'statsmodels.iolib.summary.Summary'>\n",
       "\"\"\"\n",
       "                            OLS Regression Results                            \n",
       "==============================================================================\n",
       "Dep. Variable:                      y   R-squared:                       0.988\n",
       "Model:                            OLS   Adj. R-squared:                  0.974\n",
       "No. Observations:                  20   F-statistic:                     72.78\n",
       "Covariance Type:            nonrobust   Prob (F-statistic):           2.25e-07\n",
       "==============================================================================\n",
       "                 coef    std err          t      P>|t|      [0.025      0.975]\n",
       "------------------------------------------------------------------------------\n",
       "const        790.9803    195.817      4.039      0.003     348.012    1233.949\n",
       "x1             0.1849      0.106      1.744      0.115      -0.055       0.425\n",
       "x2             0.0498      0.038      1.295      0.228      -0.037       0.137\n",
       "x3            -0.0184      0.043     -0.431      0.676      -0.115       0.078\n",
       "x4             0.0028      0.018      0.157      0.879      -0.037       0.043\n",
       "x5             0.1189      0.053      2.257      0.050      -0.000       0.238\n",
       "x6             0.1528      0.029      5.295      0.000       0.088       0.218\n",
       "x7             0.0215      0.061      0.350      0.734      -0.118       0.161\n",
       "x8             0.1945      0.058      3.326      0.009       0.062       0.327\n",
       "x9             0.0798      0.071      1.119      0.292      -0.082       0.241\n",
       "x10           -0.0043      0.073     -0.059      0.954      -0.169       0.160\n",
       "==============================================================================\n",
       "\n",
       "Notes:\n",
       "[1] Standard Errors assume that the covariance matrix of the errors is correctly specified.\n",
       "[2] The condition number is large, 1.67e+05. This might indicate that there are\n",
       "strong multicollinearity or other numerical problems.\n",
       "\"\"\""
      ]
     },
     "metadata": {},
     "output_type": "display_data"
    }
   ],
   "source": [
    "data = pd.read_excel('data/18_vif.xlsx')\n",
    "\n",
    "dependent = data['y']\n",
    "independent = data.loc[:,'x1':'x10']\n",
    "independent = sm.add_constant(independent)\n",
    "\n",
    "model = sm.OLS(dependent, independent).fit()\n",
    "display(model.summary(slim=True))"
   ]
  },
  {
   "cell_type": "markdown",
   "id": "ee03dd78-5da9-4327-a0d1-4165e065c081",
   "metadata": {},
   "source": [
    "**1.** The warning given by the model: strong multicollinearity or other numerical problems.\n",
    "\n",
    "**2.** A very high $R^2$ value is a suspicious situation.\n",
    "\n",
    "**3.** When there is insignificance in the model coefficients (failure to reject $H_0$), but the model itself is significant (Prob (F-statistic)), this is another indication of multicollinearity."
   ]
  },
  {
   "cell_type": "code",
   "execution_count": 48,
   "id": "2dd182c8-2341-462a-8d12-9e27430ae768",
   "metadata": {},
   "outputs": [
    {
     "data": {
      "image/png": "[encoded data removed]",
      "text/plain": [
       "<Figure size 640x480 with 2 Axes>"
      ]
     },
     "metadata": {},
     "output_type": "display_data"
    }
   ],
   "source": [
    "temp = independent.drop(columns='const')\n",
    "correlation = temp.corr()\n",
    "\n",
    "sns.heatmap(correlation, annot=True, fmt='.2f')\n",
    "plt.show()"
   ]
  },
  {
   "cell_type": "markdown",
   "id": "fa52d15e-4add-4b08-a456-fa5fd74292fa",
   "metadata": {},
   "source": [
    "At first glance (in general) those above 0.7 are considered correlated, but **vif** testing is required. \n",
    "\n",
    "Above 5 indicates a problem in small data groups. Variable exclusion should be applied."
   ]
  },
  {
   "cell_type": "code",
   "execution_count": 50,
   "id": "3d2a0572-2a18-426f-b0fc-819cb5a9e3ca",
   "metadata": {},
   "outputs": [
    {
     "data": {
      "text/html": [
       "<div>\n",
       "<style scoped>\n",
       "    .dataframe tbody tr th:only-of-type {\n",
       "        vertical-align: middle;\n",
       "    }\n",
       "\n",
       "    .dataframe tbody tr th {\n",
       "        vertical-align: top;\n",
       "    }\n",
       "\n",
       "    .dataframe thead th {\n",
       "        text-align: right;\n",
       "    }\n",
       "</style>\n",
       "<table border=\"1\" class=\"dataframe\">\n",
       "  <thead>\n",
       "    <tr style=\"text-align: right;\">\n",
       "      <th></th>\n",
       "      <th>0</th>\n",
       "      <th>1</th>\n",
       "      <th>2</th>\n",
       "      <th>3</th>\n",
       "      <th>4</th>\n",
       "      <th>5</th>\n",
       "      <th>6</th>\n",
       "      <th>7</th>\n",
       "      <th>8</th>\n",
       "      <th>9</th>\n",
       "    </tr>\n",
       "  </thead>\n",
       "  <tbody>\n",
       "    <tr>\n",
       "      <th>Variables</th>\n",
       "      <td>x1</td>\n",
       "      <td>x2</td>\n",
       "      <td>x3</td>\n",
       "      <td>x4</td>\n",
       "      <td>x5</td>\n",
       "      <td>x6</td>\n",
       "      <td>x7</td>\n",
       "      <td>x8</td>\n",
       "      <td>x9</td>\n",
       "      <td>x10</td>\n",
       "    </tr>\n",
       "    <tr>\n",
       "      <th>VIF</th>\n",
       "      <td>8.05592</td>\n",
       "      <td>4.979035</td>\n",
       "      <td>10.845798</td>\n",
       "      <td>4.229697</td>\n",
       "      <td>8.81622</td>\n",
       "      <td>3.866111</td>\n",
       "      <td>5.630836</td>\n",
       "      <td>4.840369</td>\n",
       "      <td>8.146069</td>\n",
       "      <td>4.456055</td>\n",
       "    </tr>\n",
       "  </tbody>\n",
       "</table>\n",
       "</div>"
      ],
      "text/plain": [
       "                 0         1          2         3        4         5  \\\n",
       "Variables       x1        x2         x3        x4       x5        x6   \n",
       "VIF        8.05592  4.979035  10.845798  4.229697  8.81622  3.866111   \n",
       "\n",
       "                  6         7         8         9  \n",
       "Variables        x7        x8        x9       x10  \n",
       "VIF        5.630836  4.840369  8.146069  4.456055  "
      ]
     },
     "metadata": {},
     "output_type": "display_data"
    }
   ],
   "source": [
    "vif = pd.DataFrame()\n",
    "vif['Variables'] = temp.columns\n",
    "independent = sm.add_constant(independent)\n",
    "\n",
    "vif['VIF'] = [variance_inflation_factor(independent.values, i+1) for i in range(temp.shape[1])]\n",
    "display(vif.T)"
   ]
  },
  {
   "cell_type": "code",
   "execution_count": 51,
   "id": "78d92ddb-b524-4a44-991a-700cd29a7ed4",
   "metadata": {},
   "outputs": [
    {
     "data": {
      "text/html": [
       "<div>\n",
       "<style scoped>\n",
       "    .dataframe tbody tr th:only-of-type {\n",
       "        vertical-align: middle;\n",
       "    }\n",
       "\n",
       "    .dataframe tbody tr th {\n",
       "        vertical-align: top;\n",
       "    }\n",
       "\n",
       "    .dataframe thead th {\n",
       "        text-align: right;\n",
       "    }\n",
       "</style>\n",
       "<table border=\"1\" class=\"dataframe\">\n",
       "  <thead>\n",
       "    <tr style=\"text-align: right;\">\n",
       "      <th></th>\n",
       "      <th>0</th>\n",
       "      <th>1</th>\n",
       "      <th>2</th>\n",
       "      <th>3</th>\n",
       "      <th>4</th>\n",
       "      <th>5</th>\n",
       "      <th>6</th>\n",
       "      <th>7</th>\n",
       "      <th>8</th>\n",
       "    </tr>\n",
       "  </thead>\n",
       "  <tbody>\n",
       "    <tr>\n",
       "      <th>Variables</th>\n",
       "      <td>x1</td>\n",
       "      <td>x2</td>\n",
       "      <td>x4</td>\n",
       "      <td>x5</td>\n",
       "      <td>x6</td>\n",
       "      <td>x7</td>\n",
       "      <td>x8</td>\n",
       "      <td>x9</td>\n",
       "      <td>x10</td>\n",
       "    </tr>\n",
       "    <tr>\n",
       "      <th>VIF</th>\n",
       "      <td>6.92985</td>\n",
       "      <td>4.789882</td>\n",
       "      <td>3.903318</td>\n",
       "      <td>4.976143</td>\n",
       "      <td>3.771914</td>\n",
       "      <td>4.962766</td>\n",
       "      <td>3.958459</td>\n",
       "      <td>6.098086</td>\n",
       "      <td>4.221394</td>\n",
       "    </tr>\n",
       "  </tbody>\n",
       "</table>\n",
       "</div>"
      ],
      "text/plain": [
       "                 0         1         2         3         4         5  \\\n",
       "Variables       x1        x2        x4        x5        x6        x7   \n",
       "VIF        6.92985  4.789882  3.903318  4.976143  3.771914  4.962766   \n",
       "\n",
       "                  6         7         8  \n",
       "Variables        x8        x9       x10  \n",
       "VIF        3.958459  6.098086  4.221394  "
      ]
     },
     "metadata": {},
     "output_type": "display_data"
    }
   ],
   "source": [
    "dependent = data['y']\n",
    "independent = data.loc[:,'x1':'x10'].drop(columns='x3')\n",
    "temp = sm.add_constant(independent)\n",
    "\n",
    "model = sm.OLS(dependent, temp).fit()\n",
    "# display(model.summary(slim=True))\n",
    "\n",
    "vif = pd.DataFrame()\n",
    "vif['Variables'] = independent.columns\n",
    "vif['VIF'] = [variance_inflation_factor(temp.values, i+1) for i in range(independent.shape[1])]\n",
    "display(vif.T)"
   ]
  },
  {
   "cell_type": "code",
   "execution_count": 52,
   "id": "3fe297c5-a605-4a97-9922-7c66cc6b3d3a",
   "metadata": {},
   "outputs": [
    {
     "data": {
      "text/html": [
       "<div>\n",
       "<style scoped>\n",
       "    .dataframe tbody tr th:only-of-type {\n",
       "        vertical-align: middle;\n",
       "    }\n",
       "\n",
       "    .dataframe tbody tr th {\n",
       "        vertical-align: top;\n",
       "    }\n",
       "\n",
       "    .dataframe thead th {\n",
       "        text-align: right;\n",
       "    }\n",
       "</style>\n",
       "<table border=\"1\" class=\"dataframe\">\n",
       "  <thead>\n",
       "    <tr style=\"text-align: right;\">\n",
       "      <th></th>\n",
       "      <th>0</th>\n",
       "      <th>1</th>\n",
       "      <th>2</th>\n",
       "      <th>3</th>\n",
       "      <th>4</th>\n",
       "      <th>5</th>\n",
       "      <th>6</th>\n",
       "      <th>7</th>\n",
       "    </tr>\n",
       "  </thead>\n",
       "  <tbody>\n",
       "    <tr>\n",
       "      <th>Variables</th>\n",
       "      <td>x2</td>\n",
       "      <td>x4</td>\n",
       "      <td>x5</td>\n",
       "      <td>x6</td>\n",
       "      <td>x7</td>\n",
       "      <td>x8</td>\n",
       "      <td>x9</td>\n",
       "      <td>x10</td>\n",
       "    </tr>\n",
       "    <tr>\n",
       "      <th>VIF</th>\n",
       "      <td>4.264394</td>\n",
       "      <td>3.523401</td>\n",
       "      <td>4.49043</td>\n",
       "      <td>2.936866</td>\n",
       "      <td>2.762785</td>\n",
       "      <td>3.537053</td>\n",
       "      <td>4.41502</td>\n",
       "      <td>3.706561</td>\n",
       "    </tr>\n",
       "  </tbody>\n",
       "</table>\n",
       "</div>"
      ],
      "text/plain": [
       "                  0         1        2         3         4         5        6  \\\n",
       "Variables        x2        x4       x5        x6        x7        x8       x9   \n",
       "VIF        4.264394  3.523401  4.49043  2.936866  2.762785  3.537053  4.41502   \n",
       "\n",
       "                  7  \n",
       "Variables       x10  \n",
       "VIF        3.706561  "
      ]
     },
     "metadata": {},
     "output_type": "display_data"
    }
   ],
   "source": [
    "dependent = data['y']\n",
    "independent = data.loc[:,'x1':'x10'].drop(columns=['x3', 'x1'])\n",
    "temp = sm.add_constant(independent)\n",
    "\n",
    "model = sm.OLS(dependent, temp).fit()\n",
    "# display(model.summary(slim=True))\n",
    "\n",
    "vif = pd.DataFrame()\n",
    "vif['Variables'] = independent.columns\n",
    "vif['VIF'] = [variance_inflation_factor(temp.values, i+1) for i in range(independent.shape[1])]\n",
    "display(vif.T)"
   ]
  },
  {
   "cell_type": "code",
   "execution_count": 53,
   "id": "74657ac7-b73f-4a8b-b777-dd68df822aa4",
   "metadata": {},
   "outputs": [
    {
     "data": {
      "text/html": [
       "<div>\n",
       "<style scoped>\n",
       "    .dataframe tbody tr th:only-of-type {\n",
       "        vertical-align: middle;\n",
       "    }\n",
       "\n",
       "    .dataframe tbody tr th {\n",
       "        vertical-align: top;\n",
       "    }\n",
       "\n",
       "    .dataframe thead th {\n",
       "        text-align: right;\n",
       "    }\n",
       "</style>\n",
       "<table border=\"1\" class=\"dataframe\">\n",
       "  <thead>\n",
       "    <tr style=\"text-align: right;\">\n",
       "      <th></th>\n",
       "      <th>0</th>\n",
       "      <th>1</th>\n",
       "      <th>2</th>\n",
       "      <th>3</th>\n",
       "      <th>4</th>\n",
       "      <th>5</th>\n",
       "      <th>6</th>\n",
       "    </tr>\n",
       "  </thead>\n",
       "  <tbody>\n",
       "    <tr>\n",
       "      <th>Variables</th>\n",
       "      <td>x2</td>\n",
       "      <td>x4</td>\n",
       "      <td>x6</td>\n",
       "      <td>x7</td>\n",
       "      <td>x8</td>\n",
       "      <td>x9</td>\n",
       "      <td>x10</td>\n",
       "    </tr>\n",
       "    <tr>\n",
       "      <th>VIF</th>\n",
       "      <td>2.625903</td>\n",
       "      <td>3.522452</td>\n",
       "      <td>2.457397</td>\n",
       "      <td>2.61523</td>\n",
       "      <td>3.513733</td>\n",
       "      <td>4.114631</td>\n",
       "      <td>3.246545</td>\n",
       "    </tr>\n",
       "  </tbody>\n",
       "</table>\n",
       "</div>"
      ],
      "text/plain": [
       "                  0         1         2        3         4         5         6\n",
       "Variables        x2        x4        x6       x7        x8        x9       x10\n",
       "VIF        2.625903  3.522452  2.457397  2.61523  3.513733  4.114631  3.246545"
      ]
     },
     "metadata": {},
     "output_type": "display_data"
    }
   ],
   "source": [
    "dependent = data['y']\n",
    "independent = data.loc[:,'x1':'x10'].drop(columns=['x3', 'x1', 'x5'])\n",
    "temp = sm.add_constant(independent)\n",
    "\n",
    "model = sm.OLS(dependent, temp).fit()\n",
    "# display(model.summary(slim=True))\n",
    "\n",
    "vif = pd.DataFrame()\n",
    "vif['Variables'] = independent.columns\n",
    "vif['VIF'] = [variance_inflation_factor(temp.values, i+1) for i in range(independent.shape[1])]\n",
    "display(vif.T)"
   ]
  },
  {
   "cell_type": "markdown",
   "id": "22c8d839-ae68-4194-bbe8-cfa7060c4925",
   "metadata": {},
   "source": [
    "<p style=\"background-image: linear-gradient(to right, #0aa98f, #68dab2)\"> &nbsp; </p>"
   ]
  }
 ],
 "metadata": {
  "kernelspec": {
   "display_name": "Python 3 (ipykernel)",
   "language": "python",
   "name": "python3"
  },
  "language_info": {
   "codemirror_mode": {
    "name": "ipython",
    "version": 3
   },
   "file_extension": ".py",
   "mimetype": "text/x-python",
   "name": "python",
   "nbconvert_exporter": "python",
   "pygments_lexer": "ipython3",
   "version": "3.12.4"
  }
 },
 "nbformat": 4,
 "nbformat_minor": 5
}
