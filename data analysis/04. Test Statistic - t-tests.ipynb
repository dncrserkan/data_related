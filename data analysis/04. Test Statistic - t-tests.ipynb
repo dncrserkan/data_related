{
 "cells": [
  {
   "attachments": {},
   "cell_type": "markdown",
   "id": "b5fbc009-c0c8-447c-a0e9-9b359d23a6b9",
   "metadata": {},
   "source": [
    "**T-Test (Student's T-Test)**\n",
    "> T test analyzes whether there is a significant difference between the means of two groups.\n",
    ">\n",
    "> **1. One Sample T-Test**\n",
    "> > A one-sample t-test is a location test of whether the mean of a population has a value specified in a null hypothesis. In testing the null hypothesis that the population mean is equal to a specified (reference) value.\n",
    "> > |  |  |\n",
    "> > |--|--|\n",
    "> > | $H_0$ | $\\mu = X$ |\n",
    "> > | $H_1$ | $\\mu ≠ X$ |\n",
    ">\n",
    "> **2. Independent Samples T-Test [Two Sample T-Test]**\n",
    "> > A two-sample location test of the null hypothesis such that the means of two populations are equal.\n",
    "> > |  |  |\n",
    "> > |--|--|\n",
    "> > | $H_0$ | $\\mu_A = \\mu_B$ |\n",
    "> > | $H_1$ | $\\mu_A ≠ \\mu_B$ |\n",
    "> >\n",
    "> > **Welch's T-Test [Unequal Variances T-Test]**\n",
    "> > > Welch's t-test is a two-sample location test which is used to test that two populations have equal means. It is an adaptation of Student's t-test, and is more reliable when the two samples have unequal variances. \n",
    ">\n",
    "> **3. Paired Sample T-Test [Two Sample T-Test]**\n",
    "> > Paired samples t-tests typically consist of a sample of matched pairs of similar units, or one group of units that has been tested twice (a \"repeated measures\" t-test). Paired samples t-tests are often referred to as \"dependent samples t-tests\".\n",
    "> > \n",
    "> > Paired samples t-test compares the means of two variables for a single group. The procedure computes the differences between values of the two variables for each case and tests whether the average differs from 0. \n",
    "> > |  |  |\n",
    "> > |--|--|\n",
    "> > | $H_0$ | $\\mu_1 = \\mu_2$ |\n",
    "> > | $H_1$ | $\\mu_1 ≠ \\mu_2$ |\n",
    ">\n",
    "> **ASSUMPTIONS**\n",
    "> > → Sample  must be independent <br>\n",
    "> > → Variable must be metric <br>\n",
    "> > → Variable must be normally distributed <br>\n",
    "> > **for independent samples t-test** <br>\n",
    "> > → Variances in two groups must be approximately equal."
   ]
  },
  {
   "cell_type": "markdown",
   "id": "1e11fed5-97ef-46d7-b231-d6fd25992767",
   "metadata": {},
   "source": [
    "<p style=\"background-image: linear-gradient(to right, #0aa98f, #68dab2)\"> &nbsp; </p>"
   ]
  },
  {
   "cell_type": "markdown",
   "id": "c63dada7-c2de-4616-8032-debbaafda994",
   "metadata": {},
   "source": [
    "**Central Limit Theorem (CLT)**\n",
    "> An appropriately selected sample will resemble the whole population.\n",
    ">\n",
    "> **Regardless of the distribution** of the population, if **several random samples** are taken from population, the mean of these samples will converge to a normal distribution around the population mean.\n",
    ">\n",
    "> If the sample size is above 30 (general assumption), the process distribution will converge to the normal distribution. In this way, distributions with different distributional characteristics can be converged to the normal distribution, allowing process modeling to be performed according to normal distribution criteria."
   ]
  },
  {
   "cell_type": "markdown",
   "id": "21e7f7d9-4221-48ee-b433-3d393e055fb0",
   "metadata": {},
   "source": [
    "<p style=\"background-image: linear-gradient(to right, #0aa98f, #68dab2)\"> &nbsp; </p>"
   ]
  },
  {
   "cell_type": "code",
   "execution_count": 1,
   "id": "8601f53c-3b42-46c2-b5ae-5c158eaac5dc",
   "metadata": {},
   "outputs": [],
   "source": [
    "import pandas as pd\n",
    "import numpy as np\n",
    "from scipy import stats\n",
    "\n",
    "import matplotlib.pyplot as plt\n",
    "\n",
    "np.random.seed(0)"
   ]
  },
  {
   "cell_type": "markdown",
   "id": "acd1541b-4e9c-454a-9af9-86234e27414f",
   "metadata": {},
   "source": [
    "<p style=\"background-image: linear-gradient(#0aa98f, #ffffff 10%); font-weight:bold;\"> \n",
    "    &nbsp; Functions to Use </p>"
   ]
  },
  {
   "cell_type": "code",
   "execution_count": 2,
   "id": "2232a3fd-a664-40e7-af32-47058c8c7970",
   "metadata": {},
   "outputs": [],
   "source": [
    "α = alpha = 0.05\n",
    "\n",
    "def decision(p, alpha=0.05):\n",
    "    'acceptance or rejection of the null hypothesis'\n",
    "    if p < alpha: return 'H0 rejected.'\n",
    "    else: return 'H0 cannot be rejected.'"
   ]
  },
  {
   "cell_type": "code",
   "execution_count": 3,
   "id": "cc0bbf23-c726-4548-9757-694fa1836123",
   "metadata": {},
   "outputs": [],
   "source": [
    "def clt_helper(p, s, a, i=1000):\n",
    "    ''' p: population\n",
    "        s: sample size\n",
    "        a: axis\n",
    "        i: iteration '''\n",
    "    if s==0:\n",
    "        a.hist(p, edgecolor='white', color='skyblue')\n",
    "        a.set_title(f'population', fontweight='bold')\n",
    "    else:    \n",
    "        sample_mean = [np.mean(np.random.choice(p, size=s, replace=False)) for _ in range(i)]\n",
    "        \n",
    "        a.hist(sample_mean, edgecolor='white', color='skyblue')\n",
    "        a.set_title(f'n={s}', fontweight='bold')"
   ]
  },
  {
   "cell_type": "markdown",
   "id": "8c156cd8-764b-467a-adbe-4aded91c23cf",
   "metadata": {},
   "source": [
    "<p style=\"background-image: linear-gradient(to right, #0aa98f, #68dab2)\"> &nbsp; </p>"
   ]
  },
  {
   "cell_type": "markdown",
   "id": "3fb4b623-f0f5-4820-bbc1-86b39aff60c7",
   "metadata": {},
   "source": [
    "<p style=\"background-image: linear-gradient(#0aa98f, #ffffff 10%); font-weight:bold;\"> \n",
    "    &nbsp; CENTRAL LIMIT TEOREM </p>"
   ]
  },
  {
   "cell_type": "code",
   "execution_count": 4,
   "id": "95c95706-aef9-4d00-b984-0442c20ec59c",
   "metadata": {},
   "outputs": [
    {
     "name": "stdout",
     "output_type": "stream",
     "text": [
      "Mean: 46.3664518917058\n"
     ]
    }
   ],
   "source": [
    "data = np.random.uniform(low=18, high=75, size=40000)\n",
    "print('Mean:', data.mean())"
   ]
  },
  {
   "cell_type": "code",
   "execution_count": 5,
   "id": "9127bd1a-45e7-4967-9cce-7500542d3ed2",
   "metadata": {},
   "outputs": [
    {
     "data": {
      "image/png": "[encoded data removed]",
      "text/plain": [
       "<Figure size 1200x700 with 6 Axes>"
      ]
     },
     "metadata": {},
     "output_type": "display_data"
    }
   ],
   "source": [
    "fig, axs = plt.subplots(2,3, figsize=(12,7))\n",
    "fig.suptitle('Investigation Sample Size for CLT', fontweight='bold')\n",
    "\n",
    "sample_sizes = [[0, 1, 5 ], [10, 30, 100]]\n",
    "\n",
    "for i, row in enumerate(axs):\n",
    "    for j, col in enumerate(row):\n",
    "        clt_helper(data, sample_sizes[i][j], a=axs[i, j])\n",
    "        \n",
    "plt.show()"
   ]
  },
  {
   "cell_type": "markdown",
   "id": "0d793eb0-4e93-43cc-95bb-4de1d87d12dd",
   "metadata": {},
   "source": [
    "<p style=\"background-image: linear-gradient(to right, #0aa98f, #68dab2)\"> &nbsp; </p>"
   ]
  },
  {
   "cell_type": "markdown",
   "id": "82b8a670-ed32-4685-ac52-66f1768d9d51",
   "metadata": {},
   "source": [
    "<p style=\"background-image: linear-gradient(#0aa98f, #ffffff 10%); font-weight:bold;\"> \n",
    "    &nbsp; ONE SAMPLE T-TEST </p>"
   ]
  },
  {
   "cell_type": "code",
   "execution_count": 6,
   "id": "034820c8-3698-442b-8177-c36cd53e0f6f",
   "metadata": {},
   "outputs": [
    {
     "name": "stdout",
     "output_type": "stream",
     "text": [
      "T: 3.2963\n",
      "P: 0.0038\n",
      "Decision: H0 rejected.\n"
     ]
    }
   ],
   "source": [
    "rv = 280   # reference value  - 300\n",
    "x̄ = 311.2  # sample mean\n",
    "s = 64.4   # sample standard deviation\n",
    "\n",
    "data = np.random.normal(x̄, s , size=20)\n",
    "t, p = stats.ttest_1samp(data, popmean=rv, alternative='two-sided')\n",
    "\n",
    "print(f'T: {t:.4f}')\n",
    "print(f'P: {p:.4f}')\n",
    "print('Decision:', decision(p, α))"
   ]
  },
  {
   "cell_type": "markdown",
   "id": "01476395-6683-4b8c-a15d-c14de384808e",
   "metadata": {},
   "source": [
    "<p style=\"background-image: linear-gradient(#0aa98f, #ffffff 10%); font-weight:bold;\"> \n",
    "    &nbsp;  INDEPENDENT SAMPLES T-TEST </p>"
   ]
  },
  {
   "cell_type": "code",
   "execution_count": 7,
   "id": "96720572-cfde-4321-93df-b174cef349af",
   "metadata": {},
   "outputs": [
    {
     "name": "stdout",
     "output_type": "stream",
     "text": [
      "T: 2.1892\n",
      "P: 0.0437\n",
      "Decision: H0 rejected.\n"
     ]
    }
   ],
   "source": [
    "data = pd.read_excel('data/02_school.xlsx')\n",
    "# display(data)\n",
    "\n",
    "t, p = stats.ttest_ind(data['School A'], data['School B'], alternative='two-sided')\n",
    "\n",
    "print(f'T: {t:.4f}')\n",
    "print(f'P: {p:.4f}')\n",
    "print('Decision:', decision(p, α))"
   ]
  },
  {
   "cell_type": "markdown",
   "id": "ac842b51-1cd9-47f9-96f6-49b9b9871196",
   "metadata": {},
   "source": [
    "<p style=\"background-image: linear-gradient(#f87674, #ffffff 10%); font-weight:bold;\"> \n",
    "    &nbsp; WELCH'S T-TEST </p>"
   ]
  },
  {
   "cell_type": "code",
   "execution_count": 8,
   "id": "6f80a346-d00b-4f1f-8a24-bd9f415ee91e",
   "metadata": {},
   "outputs": [
    {
     "name": "stdout",
     "output_type": "stream",
     "text": [
      "T: -3.7775\n",
      "P: 0.0027\n",
      "Decision: H0 rejected.\n"
     ]
    }
   ],
   "source": [
    "data = pd.read_excel('data/03_attitudes.xlsx')\n",
    "# display(data)\n",
    "old = data[data['Group']=='Old']\n",
    "new = data[data['Group']=='New']\n",
    "\n",
    "t, p = stats.ttest_ind(old['Attitude'], new['Attitude'], alternative='two-sided', equal_var=False)\n",
    "\n",
    "print(f'T: {t:.4f}')\n",
    "print(f'P: {p:.4f}')\n",
    "print('Decision:', decision(p, α))"
   ]
  },
  {
   "cell_type": "markdown",
   "id": "8a315807-960b-4acb-9d50-93b33ef37df2",
   "metadata": {},
   "source": [
    "<p style=\"background-image: linear-gradient(#0aa98f, #ffffff 10%); font-weight:bold;\"> \n",
    "    &nbsp; PAIRED SAMPLE T-TEST </p>"
   ]
  },
  {
   "cell_type": "code",
   "execution_count": 9,
   "id": "e7281bac-0ab0-48c0-a8f4-0b7fcc36781d",
   "metadata": {},
   "outputs": [
    {
     "name": "stdout",
     "output_type": "stream",
     "text": [
      "T: -3.6819\n",
      "P: 0.0051\n",
      "Decision: H0 rejected.\n"
     ]
    }
   ],
   "source": [
    "data = pd.read_excel('data/04_participants.xlsx')\n",
    "# display(data)\n",
    "\n",
    "t, p = stats.ttest_rel(data['Old'], data['New'], alternative='two-sided')\n",
    "\n",
    "# diff = data['Old'] - data['New']\n",
    "# t, p = stats.ttest_1samp(diff, popmean=0, alternative='two-sided')\n",
    "\n",
    "print(f'T: {t:.4f}')\n",
    "print(f'P: {p:.4f}')\n",
    "print('Decision:', decision(p, α))"
   ]
  },
  {
   "cell_type": "markdown",
   "id": "54eefcf6-480d-435f-b322-fc0fc51e70be",
   "metadata": {},
   "source": [
    "<p style=\"background-image: linear-gradient(to right, #0aa98f, #68dab2)\"> &nbsp; </p>"
   ]
  }
 ],
 "metadata": {
  "kernelspec": {
   "display_name": "Python 3 (ipykernel)",
   "language": "python",
   "name": "python3"
  },
  "language_info": {
   "codemirror_mode": {
    "name": "ipython",
    "version": 3
   },
   "file_extension": ".py",
   "mimetype": "text/x-python",
   "name": "python",
   "nbconvert_exporter": "python",
   "pygments_lexer": "ipython3",
   "version": "3.11.10"
  }
 },
 "nbformat": 4,
 "nbformat_minor": 5
}
