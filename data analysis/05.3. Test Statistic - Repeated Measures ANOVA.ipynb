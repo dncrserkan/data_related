{
 "cells": [
  {
   "attachments": {},
   "cell_type": "markdown",
   "id": "b5fbc009-c0c8-447c-a0e9-9b359d23a6b9",
   "metadata": {},
   "source": [
    "**3. Repeated Measures ANOVA**\n",
    ">  Repeated Measures ANOVA is used when the same subjects are measured more than once, meaning the data is collected from the same group under different conditions. This test helps in analyzing the changes in the dependent variable over time or under different conditions within the same subjects.\n",
    "> |  |  |  |\n",
    "> |--|--|--|\n",
    "> | $H_0$ | $μ_1 = μ_2 =... = μ_n$                          | → There are no difference between means of the dependent groups. |\n",
    "> | $H_1$ | $∃i,j \\ \\ such\\ that \\ \\ i ≠ j\\ and\\ μ_i ≠ μ_j$ | → At least one dependent group with a different mean. |\n",
    ">\n",
    "> Rejecting the null hypothesis does not tell you where the differences lie. Therefore, the next step is to conduct (Bonferroni) post-hoc tests to determine which groups has differences.\n",
    "> \n",
    "> **ASSUMTIONS**\n",
    "> >  → Dependent variables should be approximately normally distributed. <br>\n",
    "> >  → The variances of the differences between all combinations of factor levels should be same. (Sphericity)\n",
    "> > > *This assumption can be check with **Mauchly's Test of Spericity**. If the assumption is violated, adjustments, to degrees of freedom, such as **Greenhouse–Geisser correction** or **Huynh–Feldt correction** can be use.*\n",
    "> > \n",
    "> > → Cases should be derived from a random sample, and scores from different participants should be independent of each other.\n",
    ">"
   ]
  },
  {
   "cell_type": "markdown",
   "id": "1e11fed5-97ef-46d7-b231-d6fd25992767",
   "metadata": {},
   "source": [
    "<p style=\"background-image: linear-gradient(to right, #0aa98f, #68dab2)\"> &nbsp; </p>"
   ]
  },
  {
   "cell_type": "code",
   "execution_count": 1,
   "id": "8601f53c-3b42-46c2-b5ae-5c158eaac5dc",
   "metadata": {},
   "outputs": [],
   "source": [
    "import pandas as pd\n",
    "import pingouin as pg"
   ]
  },
  {
   "cell_type": "markdown",
   "id": "acd1541b-4e9c-454a-9af9-86234e27414f",
   "metadata": {},
   "source": [
    "<p style=\"background-image: linear-gradient(#0aa98f, #ffffff 10%); font-weight:bold;\"> \n",
    "    &nbsp; Functions to Use </p>"
   ]
  },
  {
   "cell_type": "code",
   "execution_count": 2,
   "id": "2232a3fd-a664-40e7-af32-47058c8c7970",
   "metadata": {},
   "outputs": [],
   "source": [
    "α = alpha = 0.05\n",
    "\n",
    "def decision(p, alpha=0.05):\n",
    "    'acceptance or rejection of the null hypothesis'\n",
    "    if p < alpha: return 'H0 rejected.'\n",
    "    else: return 'H0 cannot be rejected.'"
   ]
  },
  {
   "cell_type": "markdown",
   "id": "966f7344-8ce9-4029-b40b-c6accb7a0c9f",
   "metadata": {},
   "source": [
    "<p style=\"background-image: linear-gradient(to right, #0aa98f, #68dab2)\"> &nbsp; </p>"
   ]
  },
  {
   "cell_type": "markdown",
   "id": "43b6e0dd-838b-4417-b225-743056e70335",
   "metadata": {},
   "source": [
    "<p style=\"background-image: linear-gradient(#0aa98f, #ffffff 10%); font-weight:bold;\"> \n",
    "    &nbsp; REPEATED MEASURES ANOVA </p>\n",
    "\n",
    "**Subject :** Comparison of athletes' finish times based on different types of shoes <br>\n",
    "**Data :** 8_athletes_shoe_times.csv\n",
    "\n",
    "|  |  |\n",
    "|--|--|\n",
    "| $H_0$ | → There is no difference in average finish times for athletes using different types of shoes.|\n",
    "| $H_1$ | → At least one shoe type leads to significantly different average finish times compared to others.|"
   ]
  },
  {
   "cell_type": "code",
   "execution_count": 3,
   "id": "8b76a8bb-22ee-496e-9936-cae8745453f1",
   "metadata": {},
   "outputs": [
    {
     "data": {
      "text/html": [
       "<div>\n",
       "<style scoped>\n",
       "    .dataframe tbody tr th:only-of-type {\n",
       "        vertical-align: middle;\n",
       "    }\n",
       "\n",
       "    .dataframe tbody tr th {\n",
       "        vertical-align: top;\n",
       "    }\n",
       "\n",
       "    .dataframe thead th {\n",
       "        text-align: right;\n",
       "    }\n",
       "</style>\n",
       "<table border=\"1\" class=\"dataframe\">\n",
       "  <thead>\n",
       "    <tr style=\"text-align: right;\">\n",
       "      <th></th>\n",
       "      <th>Athlete_ID</th>\n",
       "      <th>Shoe_A</th>\n",
       "      <th>Shoe_B</th>\n",
       "      <th>Shoe_C</th>\n",
       "      <th>Shoe_D</th>\n",
       "    </tr>\n",
       "  </thead>\n",
       "  <tbody>\n",
       "    <tr>\n",
       "      <th>0</th>\n",
       "      <td>1</td>\n",
       "      <td>70</td>\n",
       "      <td>85</td>\n",
       "      <td>80</td>\n",
       "      <td>87</td>\n",
       "    </tr>\n",
       "    <tr>\n",
       "      <th>1</th>\n",
       "      <td>2</td>\n",
       "      <td>78</td>\n",
       "      <td>82</td>\n",
       "      <td>77</td>\n",
       "      <td>80</td>\n",
       "    </tr>\n",
       "    <tr>\n",
       "      <th>2</th>\n",
       "      <td>3</td>\n",
       "      <td>61</td>\n",
       "      <td>70</td>\n",
       "      <td>64</td>\n",
       "      <td>72</td>\n",
       "    </tr>\n",
       "  </tbody>\n",
       "</table>\n",
       "</div>"
      ],
      "text/plain": [
       "   Athlete_ID  Shoe_A  Shoe_B  Shoe_C  Shoe_D\n",
       "0           1      70      85      80      87\n",
       "1           2      78      82      77      80\n",
       "2           3      61      70      64      72"
      ]
     },
     "metadata": {},
     "output_type": "display_data"
    }
   ],
   "source": [
    "data = pd.read_csv('data/08_athletes_shoe_time.csv')\n",
    "display(data.head(3))"
   ]
  },
  {
   "cell_type": "markdown",
   "id": "2fd0b49d-ef0c-4e7b-8d16-4085d687a51a",
   "metadata": {},
   "source": [
    "**1. Data Preparation**"
   ]
  },
  {
   "cell_type": "code",
   "execution_count": 4,
   "id": "cf11983a-ce54-4293-9dba-d19f95e966f5",
   "metadata": {},
   "outputs": [
    {
     "data": {
      "text/html": [
       "<div>\n",
       "<style scoped>\n",
       "    .dataframe tbody tr th:only-of-type {\n",
       "        vertical-align: middle;\n",
       "    }\n",
       "\n",
       "    .dataframe tbody tr th {\n",
       "        vertical-align: top;\n",
       "    }\n",
       "\n",
       "    .dataframe thead th {\n",
       "        text-align: right;\n",
       "    }\n",
       "</style>\n",
       "<table border=\"1\" class=\"dataframe\">\n",
       "  <thead>\n",
       "    <tr style=\"text-align: right;\">\n",
       "      <th></th>\n",
       "      <th>Athlete_ID</th>\n",
       "      <th>Shoe</th>\n",
       "      <th>Time</th>\n",
       "    </tr>\n",
       "  </thead>\n",
       "  <tbody>\n",
       "    <tr>\n",
       "      <th>5</th>\n",
       "      <td>6</td>\n",
       "      <td>Shoe_A</td>\n",
       "      <td>79</td>\n",
       "    </tr>\n",
       "    <tr>\n",
       "      <th>21</th>\n",
       "      <td>4</td>\n",
       "      <td>Shoe_D</td>\n",
       "      <td>88</td>\n",
       "    </tr>\n",
       "    <tr>\n",
       "      <th>8</th>\n",
       "      <td>3</td>\n",
       "      <td>Shoe_B</td>\n",
       "      <td>70</td>\n",
       "    </tr>\n",
       "  </tbody>\n",
       "</table>\n",
       "</div>"
      ],
      "text/plain": [
       "    Athlete_ID    Shoe  Time\n",
       "5            6  Shoe_A    79\n",
       "21           4  Shoe_D    88\n",
       "8            3  Shoe_B    70"
      ]
     },
     "metadata": {},
     "output_type": "display_data"
    }
   ],
   "source": [
    "data = data.melt(id_vars=['Athlete_ID'], value_vars=data.columns[1:])\n",
    "data.columns=['Athlete_ID', 'Shoe', 'Time']\n",
    "display(data.sample(3))"
   ]
  },
  {
   "cell_type": "markdown",
   "id": "e3015bf9-b447-489b-9353-2d00cdb6bf28",
   "metadata": {},
   "source": [
    "**2. Normality Test**"
   ]
  },
  {
   "cell_type": "code",
   "execution_count": 5,
   "id": "73188fe2-140b-4d46-aec6-34f749e323aa",
   "metadata": {},
   "outputs": [
    {
     "data": {
      "text/html": [
       "<div>\n",
       "<style scoped>\n",
       "    .dataframe tbody tr th:only-of-type {\n",
       "        vertical-align: middle;\n",
       "    }\n",
       "\n",
       "    .dataframe tbody tr th {\n",
       "        vertical-align: top;\n",
       "    }\n",
       "\n",
       "    .dataframe thead th {\n",
       "        text-align: right;\n",
       "    }\n",
       "</style>\n",
       "<table border=\"1\" class=\"dataframe\">\n",
       "  <thead>\n",
       "    <tr style=\"text-align: right;\">\n",
       "      <th></th>\n",
       "      <th>W</th>\n",
       "      <th>pval</th>\n",
       "      <th>normal</th>\n",
       "    </tr>\n",
       "    <tr>\n",
       "      <th>Shoe</th>\n",
       "      <th></th>\n",
       "      <th></th>\n",
       "      <th></th>\n",
       "    </tr>\n",
       "  </thead>\n",
       "  <tbody>\n",
       "    <tr>\n",
       "      <th>Shoe_A</th>\n",
       "      <td>0.968747</td>\n",
       "      <td>0.883916</td>\n",
       "      <td>True</td>\n",
       "    </tr>\n",
       "    <tr>\n",
       "      <th>Shoe_B</th>\n",
       "      <td>0.898116</td>\n",
       "      <td>0.362914</td>\n",
       "      <td>True</td>\n",
       "    </tr>\n",
       "    <tr>\n",
       "      <th>Shoe_C</th>\n",
       "      <td>0.924450</td>\n",
       "      <td>0.537977</td>\n",
       "      <td>True</td>\n",
       "    </tr>\n",
       "    <tr>\n",
       "      <th>Shoe_D</th>\n",
       "      <td>0.943039</td>\n",
       "      <td>0.683772</td>\n",
       "      <td>True</td>\n",
       "    </tr>\n",
       "  </tbody>\n",
       "</table>\n",
       "</div>"
      ],
      "text/plain": [
       "               W      pval  normal\n",
       "Shoe                              \n",
       "Shoe_A  0.968747  0.883916    True\n",
       "Shoe_B  0.898116  0.362914    True\n",
       "Shoe_C  0.924450  0.537977    True\n",
       "Shoe_D  0.943039  0.683772    True"
      ]
     },
     "metadata": {},
     "output_type": "display_data"
    }
   ],
   "source": [
    "normality = pg.normality(data, dv='Time', group='Shoe', method='shapiro', alpha=alpha)\n",
    "\n",
    "display(normality)"
   ]
  },
  {
   "cell_type": "markdown",
   "id": "d2df443f-c7af-4619-969f-28e3ee589737",
   "metadata": {},
   "source": [
    "**3. Spericity Test** - Mauchly's Test of Spericity"
   ]
  },
  {
   "cell_type": "code",
   "execution_count": 6,
   "id": "f852187f-2d51-48dd-9be2-6f7bc90ae841",
   "metadata": {},
   "outputs": [
    {
     "data": {
      "text/plain": [
       "SpherResults(spher=True, W=0.8281618568393134, chi2=0.7018125842520657, dof=5, pval=0.983446638842021)"
      ]
     },
     "metadata": {},
     "output_type": "display_data"
    },
    {
     "name": "stdout",
     "output_type": "stream",
     "text": [
      "p: 0.9834\n",
      "Decision: H0 cannot be rejected.\n"
     ]
    }
   ],
   "source": [
    "spericity = pg.sphericity(data, dv='Time', subject='Athlete_ID', within='Shoe')\n",
    "\n",
    "display(spericity)\n",
    "print(f'p: {spericity.pval:.4f}')\n",
    "print('Decision:', decision(spericity.pval, α))"
   ]
  },
  {
   "cell_type": "markdown",
   "id": "2a651225-8f7f-491f-b363-9ab14c8a2d3d",
   "metadata": {},
   "source": [
    "**4. Test Implementation** - Repeated Measures ANOVA"
   ]
  },
  {
   "cell_type": "code",
   "execution_count": 7,
   "id": "2ba0d9d0-9813-47e3-9db5-397f3ec2fae5",
   "metadata": {},
   "outputs": [
    {
     "data": {
      "text/html": [
       "<div>\n",
       "<style scoped>\n",
       "    .dataframe tbody tr th:only-of-type {\n",
       "        vertical-align: middle;\n",
       "    }\n",
       "\n",
       "    .dataframe tbody tr th {\n",
       "        vertical-align: top;\n",
       "    }\n",
       "\n",
       "    .dataframe thead th {\n",
       "        text-align: right;\n",
       "    }\n",
       "</style>\n",
       "<table border=\"1\" class=\"dataframe\">\n",
       "  <thead>\n",
       "    <tr style=\"text-align: right;\">\n",
       "      <th></th>\n",
       "      <th>Source</th>\n",
       "      <th>ddof1</th>\n",
       "      <th>ddof2</th>\n",
       "      <th>F</th>\n",
       "      <th>p-unc</th>\n",
       "      <th>ng2</th>\n",
       "      <th>eps</th>\n",
       "      <th>Decision</th>\n",
       "    </tr>\n",
       "  </thead>\n",
       "  <tbody>\n",
       "    <tr>\n",
       "      <th>0</th>\n",
       "      <td>Shoe</td>\n",
       "      <td>3</td>\n",
       "      <td>15</td>\n",
       "      <td>8.577356</td>\n",
       "      <td>0.001484</td>\n",
       "      <td>0.180559</td>\n",
       "      <td>0.892284</td>\n",
       "      <td>False</td>\n",
       "    </tr>\n",
       "  </tbody>\n",
       "</table>\n",
       "</div>"
      ],
      "text/plain": [
       "  Source  ddof1  ddof2         F     p-unc       ng2       eps  Decision\n",
       "0   Shoe      3     15  8.577356  0.001484  0.180559  0.892284     False"
      ]
     },
     "metadata": {},
     "output_type": "display_data"
    }
   ],
   "source": [
    "test = pg.rm_anova(data=data, dv='Time', subject='Athlete_ID', within='Shoe') # correction=True\n",
    "test['Decision'] = test['p-unc'].map(lambda x: True if x>alpha else False)\n",
    "display(test)"
   ]
  },
  {
   "cell_type": "markdown",
   "id": "9ebe90ca-2eb1-4ef2-a7ad-a85814059cca",
   "metadata": {},
   "source": [
    "**5. Test Implementation** - Post-hoc"
   ]
  },
  {
   "cell_type": "code",
   "execution_count": 8,
   "id": "f77395ea-ab33-49bc-bb28-baeb2d94559f",
   "metadata": {},
   "outputs": [
    {
     "data": {
      "text/html": [
       "<div>\n",
       "<style scoped>\n",
       "    .dataframe tbody tr th:only-of-type {\n",
       "        vertical-align: middle;\n",
       "    }\n",
       "\n",
       "    .dataframe tbody tr th {\n",
       "        vertical-align: top;\n",
       "    }\n",
       "\n",
       "    .dataframe thead th {\n",
       "        text-align: right;\n",
       "    }\n",
       "</style>\n",
       "<table border=\"1\" class=\"dataframe\">\n",
       "  <thead>\n",
       "    <tr style=\"text-align: right;\">\n",
       "      <th></th>\n",
       "      <th>Contrast</th>\n",
       "      <th>A</th>\n",
       "      <th>B</th>\n",
       "      <th>Paired</th>\n",
       "      <th>Parametric</th>\n",
       "      <th>T</th>\n",
       "      <th>dof</th>\n",
       "      <th>alternative</th>\n",
       "      <th>p-unc</th>\n",
       "      <th>p-corr</th>\n",
       "      <th>p-adjust</th>\n",
       "      <th>BF10</th>\n",
       "      <th>hedges</th>\n",
       "      <th>Decision</th>\n",
       "    </tr>\n",
       "  </thead>\n",
       "  <tbody>\n",
       "    <tr>\n",
       "      <th>0</th>\n",
       "      <td>Shoe</td>\n",
       "      <td>Shoe_A</td>\n",
       "      <td>Shoe_B</td>\n",
       "      <td>True</td>\n",
       "      <td>True</td>\n",
       "      <td>-3.939459</td>\n",
       "      <td>5.0</td>\n",
       "      <td>two-sided</td>\n",
       "      <td>0.010966</td>\n",
       "      <td>0.065795</td>\n",
       "      <td>bonf</td>\n",
       "      <td>6.437</td>\n",
       "      <td>-0.742846</td>\n",
       "      <td>True</td>\n",
       "    </tr>\n",
       "    <tr>\n",
       "      <th>1</th>\n",
       "      <td>Shoe</td>\n",
       "      <td>Shoe_A</td>\n",
       "      <td>Shoe_C</td>\n",
       "      <td>True</td>\n",
       "      <td>True</td>\n",
       "      <td>-1.493703</td>\n",
       "      <td>5.0</td>\n",
       "      <td>two-sided</td>\n",
       "      <td>0.195478</td>\n",
       "      <td>1.000000</td>\n",
       "      <td>bonf</td>\n",
       "      <td>0.803</td>\n",
       "      <td>-0.294251</td>\n",
       "      <td>True</td>\n",
       "    </tr>\n",
       "    <tr>\n",
       "      <th>2</th>\n",
       "      <td>Shoe</td>\n",
       "      <td>Shoe_A</td>\n",
       "      <td>Shoe_D</td>\n",
       "      <td>True</td>\n",
       "      <td>True</td>\n",
       "      <td>-4.687983</td>\n",
       "      <td>5.0</td>\n",
       "      <td>two-sided</td>\n",
       "      <td>0.005395</td>\n",
       "      <td>0.032369</td>\n",
       "      <td>bonf</td>\n",
       "      <td>11.003</td>\n",
       "      <td>-1.085784</td>\n",
       "      <td>False</td>\n",
       "    </tr>\n",
       "    <tr>\n",
       "      <th>3</th>\n",
       "      <td>Shoe</td>\n",
       "      <td>Shoe_B</td>\n",
       "      <td>Shoe_C</td>\n",
       "      <td>True</td>\n",
       "      <td>True</td>\n",
       "      <td>2.187411</td>\n",
       "      <td>5.0</td>\n",
       "      <td>two-sided</td>\n",
       "      <td>0.080358</td>\n",
       "      <td>0.482151</td>\n",
       "      <td>bonf</td>\n",
       "      <td>1.484</td>\n",
       "      <td>0.465871</td>\n",
       "      <td>True</td>\n",
       "    </tr>\n",
       "    <tr>\n",
       "      <th>4</th>\n",
       "      <td>Shoe</td>\n",
       "      <td>Shoe_B</td>\n",
       "      <td>Shoe_D</td>\n",
       "      <td>True</td>\n",
       "      <td>True</td>\n",
       "      <td>-0.979326</td>\n",
       "      <td>5.0</td>\n",
       "      <td>two-sided</td>\n",
       "      <td>0.372395</td>\n",
       "      <td>1.000000</td>\n",
       "      <td>bonf</td>\n",
       "      <td>0.539</td>\n",
       "      <td>-0.210473</td>\n",
       "      <td>True</td>\n",
       "    </tr>\n",
       "    <tr>\n",
       "      <th>5</th>\n",
       "      <td>Shoe</td>\n",
       "      <td>Shoe_C</td>\n",
       "      <td>Shoe_D</td>\n",
       "      <td>True</td>\n",
       "      <td>True</td>\n",
       "      <td>-2.738328</td>\n",
       "      <td>5.0</td>\n",
       "      <td>two-sided</td>\n",
       "      <td>0.040873</td>\n",
       "      <td>0.245240</td>\n",
       "      <td>bonf</td>\n",
       "      <td>2.42</td>\n",
       "      <td>-0.759886</td>\n",
       "      <td>True</td>\n",
       "    </tr>\n",
       "  </tbody>\n",
       "</table>\n",
       "</div>"
      ],
      "text/plain": [
       "  Contrast       A       B  Paired  Parametric         T  dof alternative  \\\n",
       "0     Shoe  Shoe_A  Shoe_B    True        True -3.939459  5.0   two-sided   \n",
       "1     Shoe  Shoe_A  Shoe_C    True        True -1.493703  5.0   two-sided   \n",
       "2     Shoe  Shoe_A  Shoe_D    True        True -4.687983  5.0   two-sided   \n",
       "3     Shoe  Shoe_B  Shoe_C    True        True  2.187411  5.0   two-sided   \n",
       "4     Shoe  Shoe_B  Shoe_D    True        True -0.979326  5.0   two-sided   \n",
       "5     Shoe  Shoe_C  Shoe_D    True        True -2.738328  5.0   two-sided   \n",
       "\n",
       "      p-unc    p-corr p-adjust    BF10    hedges  Decision  \n",
       "0  0.010966  0.065795     bonf   6.437 -0.742846      True  \n",
       "1  0.195478  1.000000     bonf   0.803 -0.294251      True  \n",
       "2  0.005395  0.032369     bonf  11.003 -1.085784     False  \n",
       "3  0.080358  0.482151     bonf   1.484  0.465871      True  \n",
       "4  0.372395  1.000000     bonf   0.539 -0.210473      True  \n",
       "5  0.040873  0.245240     bonf    2.42 -0.759886      True  "
      ]
     },
     "metadata": {},
     "output_type": "display_data"
    }
   ],
   "source": [
    "test = pg.pairwise_tests(data, dv='Time', subject='Athlete_ID', within='Shoe', padjust='bonf')\n",
    "test['Decision'] = test['p-corr'].map(lambda x: True if x>alpha else False)\n",
    "display(test)"
   ]
  },
  {
   "cell_type": "markdown",
   "id": "dda6e113-4f1e-4e46-bcd3-718380f3e1ee",
   "metadata": {},
   "source": [
    "**6. Display of Different Groups**"
   ]
  },
  {
   "cell_type": "code",
   "execution_count": 9,
   "id": "1848ed34-aebe-408d-87cb-fcf433fa9285",
   "metadata": {},
   "outputs": [
    {
     "data": {
      "text/html": [
       "<div>\n",
       "<style scoped>\n",
       "    .dataframe tbody tr th:only-of-type {\n",
       "        vertical-align: middle;\n",
       "    }\n",
       "\n",
       "    .dataframe tbody tr th {\n",
       "        vertical-align: top;\n",
       "    }\n",
       "\n",
       "    .dataframe thead th {\n",
       "        text-align: right;\n",
       "    }\n",
       "</style>\n",
       "<table border=\"1\" class=\"dataframe\">\n",
       "  <thead>\n",
       "    <tr style=\"text-align: right;\">\n",
       "      <th>Shoe</th>\n",
       "      <th>Shoe_A</th>\n",
       "      <th>Shoe_B</th>\n",
       "      <th>Shoe_C</th>\n",
       "      <th>Shoe_D</th>\n",
       "    </tr>\n",
       "  </thead>\n",
       "  <tbody>\n",
       "    <tr>\n",
       "      <th>Time</th>\n",
       "      <td>74.5</td>\n",
       "      <td>83.333333</td>\n",
       "      <td>77.666667</td>\n",
       "      <td>85.833333</td>\n",
       "    </tr>\n",
       "  </tbody>\n",
       "</table>\n",
       "</div>"
      ],
      "text/plain": [
       "Shoe  Shoe_A     Shoe_B     Shoe_C     Shoe_D\n",
       "Time    74.5  83.333333  77.666667  85.833333"
      ]
     },
     "execution_count": 9,
     "metadata": {},
     "output_type": "execute_result"
    }
   ],
   "source": [
    "groups = data.groupby('Shoe')['Time'].mean()\n",
    "groups.to_frame().T"
   ]
  },
  {
   "cell_type": "markdown",
   "id": "14761569-84d4-4f39-a489-03d304985926",
   "metadata": {},
   "source": [
    "<p style=\"background-image: linear-gradient(to right, #0aa98f, #68dab2)\"> &nbsp; </p>"
   ]
  }
 ],
 "metadata": {
  "kernelspec": {
   "display_name": "Python 3 (ipykernel)",
   "language": "python",
   "name": "python3"
  },
  "language_info": {
   "codemirror_mode": {
    "name": "ipython",
    "version": 3
   },
   "file_extension": ".py",
   "mimetype": "text/x-python",
   "name": "python",
   "nbconvert_exporter": "python",
   "pygments_lexer": "ipython3",
   "version": "3.11.10"
  }
 },
 "nbformat": 4,
 "nbformat_minor": 5
}
