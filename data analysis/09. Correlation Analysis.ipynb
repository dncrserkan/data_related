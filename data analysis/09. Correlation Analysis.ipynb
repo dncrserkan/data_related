{
 "cells": [
  {
   "attachments": {},
   "cell_type": "markdown",
   "id": "b5fbc009-c0c8-447c-a0e9-9b359d23a6b9",
   "metadata": {},
   "source": [
    "**Correlation**\n",
    "> Correlation is a statistical concept that measures the relationship between two variables. It defines the extent to which one variable changes together with another. If there is a positive correlation between two variables, as one variable increases, the other generally increases as well. On the other hand, a negative correlation means that as one variable increases, the other generally decreases.\n",
    "> \n",
    "> The correlation coefficient ($r$) ranges between -1 and 1. A positive correlation means that the correlation coefficient is positive, while a negative correlation means that it is negative. The closer the correlation coefficient is to 1, the stronger the relationship between the two variables.\n",
    "> \n",
    "> Correlation can be calculated using various methods, such as the **Pearson correlation coefficient**, the **Spearman correlation coefficient**, and **Kendall's Tau correlation coefficient**. These methods are selected based on the type of variables and the nature of the relationship.\n",
    ">\n",
    "> <img src=\"images/Linear Correlation.png\" alt=\"Linear Correlation\" width=\"700\" style=\"display: block; margin: 0 auto;\"/>\n",
    ">\n",
    "> | $r$ | Strength of correlation |\n",
    "> |:-:|--|\n",
    "> | 0 - 0.1    | → No correlation          | \n",
    "> | 0.1 - 0.3  | → Weak correlation        |\n",
    "> | 0.3 - 0.5  | → Moderate correlation    |\n",
    "> | 0.5 - 0.7  | → Strong correlation      |\n",
    "> | 0.7 - 0.9  | → Very strong correlation |\n",
    "> | 1          | → Perfect correlation     |\n",
    "> \n",
    "> **In data analysis, causality may be investigated in values ranging from 0.5 to 0.9.*\n",
    ">\n",
    "> The correlation does not imply causation principle means that it is not valid to infer a cause-and-effect relationship based solely on the association or correlation between two variables. The opposite, \"correlation implies causation\", suggests that all co-occurring events have a cause-and-effect relationship, leading to the **post hoc ergo propter hoc** fallacy, which in Latin means \"after this, therefore because of this.\"\n",
    "\n",
    "\n",
    "**Covariance and Correlation Relationship**\n",
    "> | |\n",
    "> |:-:|\n",
    "> | $Cov = \\begin{bmatrix} Var(x) & Cov(x,y) & Cov(x,z)\\\\Cov(y,x) & Var(y) & Cov(y,z)\\\\Cov(z,x) & Cov(z,y) & Var(z) \\end{bmatrix}$ |\n",
    "> | |\n",
    "> | $Cov(x,y) = Cov(y,x)$ |\n",
    ">\n",
    "> Covariance represents the relationship between two random variables. A positive covariance indicates a positive relationship between variables, while a negative covariance indicates a negative relationship. In a positive relationship, both variables increase or decrease together, while in a negative relationship, they move in opposite directions.\n",
    ">\n",
    "> While the sign of covariance is meaningful, its magnitude is not, as its value can range from $-∞$ to $+∞$.\n",
    "> \n",
    "> Correlation provides the same information (positive or negative relationship) but also indicates the strength of the relationship. To calculate correlation, the values must be standardized, yielding a value between -1 and 1.\n",
    "> \n",
    "> $${Cor_{xy}} = {{Cov_{xy}} \\over { \\sqrt{Var_x} \\sqrt{Var_y}}}$$\n",
    "\n",
    "\n",
    "**Linearity**\n",
    ">\n",
    "> Linearity refers to the condition where the relationship between two variables can be expressed by a straight line or a linear model. When a scatter plot is drawn to show a linear relationship between two variables, the data points are usually grouped around a straight line in an orderly manner.\n",
    "> \n",
    "> If a linear relationship exists between the dependent and independent variables in a dataset, linear regression analysis can be applied to analyze this relationship.\n",
    ">\n",
    "> <img src=\"images/Linearity.png\" alt=\"Linearity\" width=\"700\" style=\"display: block; margin: 0 auto;\"/>\n",
    ">\n",
    "> The term monotonic refers to a situation where the value of one variable changes in the same direction as the value of another. A monotonic relationship indicates that there is a consistent relationship between two variables, although the relationship may not be linear. The Spearman correlation coefficient is used to measure a monotonic relationship instead of Pearson’s correlation.\n",
    "\n",
    "**Pearson Correlation Coefficient**\n",
    "> The Pearson correlation test is a statistical measure that quantifies the relationship (the effect of change in one variable on another) between two variables.\n",
    "> \n",
    "> | | | |\n",
    "> |-|-|-|\n",
    "> | $H_0$ | $p = 0$ | → There is no linear relationship between the variables. |\n",
    "> | $H_1$ | $p ≠ 0$ | → There is a relationship between the variables. |\n",
    ">\n",
    "> **ASSUMPTIONS**\n",
    "> > → The variables must be metric. <br>\n",
    "> > → The variables must follow a normal distribution.\n",
    "> \n",
    "\n",
    "**Spearman's Rank Correlation Coefficient**\n",
    "> The Spearman's rank correlation is non-parametric counterpart of the Pearson correlation.It does not use the raw data but the ranks of the data. Variables should be at least on an ordinal scale.\n",
    "\n",
    "**Kendall's Tau Correlation Coefficient**\n",
    "> Kendall's Tau is a non-parametric correlation coefficient that measures the strength and direction of the association between two ranked variables. Variables should be at least on an ordinal scale. Kendall's Tau should be preferred over Spearman's correlation, if very few data with many ties are available.\n",
    "\n",
    "**Point Biseral Correlation Coefficient**\n",
    "> It is a special case of Pearson correlation and examines the relationship between a dichotomous (a variable with two values) variable  and a metric variable.\n",
    ">\n",
    "> **ASSUMPTIONS**\n",
    "> > → One metric variable and a dichotomous variable must be present. <br>\n",
    "> > → The metric variable must be normally distributed.\n",
    "\n",
    "<p style=\"background-image: linear-gradient(#0aa98f, #FFFFFF 10%); font-weight:bold;\"> \n",
    "    &nbsp; </p>\n",
    "\n",
    "**Correlation Martix**\n",
    ">  $$\n",
    "\\begin{bmatrix}\n",
    "1 & Corr_{AB} & Corr_{AC} & Corr_{AD}\\\\\n",
    "Corr_{BA} & 1 & Corr_{BC} & Corr_{BD}\\\\\n",
    "Corr_{CA} & Corr_{CB} & 1 &  Corr_{CD}\\\\\n",
    "Corr_{DA} & Corr_{DB} & Corr_{DC} & 1\n",
    "\\end{bmatrix}\n",
    "$$\n",
    "\n",
    "\n",
    "**Partial Correlation**\n",
    "> Partial correlation is used to understand the relationship between variables and to reveal the true nature of these relationships by measuring the relationship between two variables while controlling for the effect of other variables."
   ]
  },
  {
   "cell_type": "markdown",
   "id": "bd9ddf08-2ef2-4d8a-b58a-5308fc8251cf",
   "metadata": {},
   "source": [
    "<p style=\"background-image: linear-gradient(to right, #0aa98f, #68dab2)\"> &nbsp; </p>"
   ]
  },
  {
   "cell_type": "code",
   "execution_count": 1,
   "id": "8601f53c-3b42-46c2-b5ae-5c158eaac5dc",
   "metadata": {},
   "outputs": [],
   "source": [
    "import numpy as np\n",
    "import pandas as pd\n",
    "import pingouin as pg\n",
    "import matplotlib.pyplot as plt\n",
    "import seaborn as sns\n",
    "\n",
    "np.random.seed(0)"
   ]
  },
  {
   "cell_type": "markdown",
   "id": "8c156cd8-764b-467a-adbe-4aded91c23cf",
   "metadata": {},
   "source": [
    "<p style=\"background-image: linear-gradient(to right, #0aa98f, #68dab2)\"> &nbsp; </p>"
   ]
  },
  {
   "cell_type": "markdown",
   "id": "82b8a670-ed32-4685-ac52-66f1768d9d51",
   "metadata": {},
   "source": [
    "<p style=\"background-image: linear-gradient(#0aa98f, #ffffff 10%); font-weight:bold;\"> \n",
    " &nbsp; COVARIANCE & CORRELATION </p>"
   ]
  },
  {
   "cell_type": "code",
   "execution_count": 2,
   "id": "034820c8-3698-442b-8177-c36cd53e0f6f",
   "metadata": {},
   "outputs": [
    {
     "name": "stdout",
     "output_type": "stream",
     "text": [
      "[[ 10.  -15. ]\n",
      " [-15.   22.5]]\n",
      "[[ 10.   40. ]\n",
      " [ 40.  182.5]]\n"
     ]
    }
   ],
   "source": [
    "x = [2,4,6,8,10]\n",
    "y = [15,12,9,6,3]\n",
    "z = [15,20,25,30,50]\n",
    "\n",
    "print(np.cov(x,y))\n",
    "print(np.cov(x,z))"
   ]
  },
  {
   "cell_type": "markdown",
   "id": "cf0efa9e-18d5-4f20-bf0b-4e4af359a9f1",
   "metadata": {},
   "source": [
    "**-15 → x and y negative correlated \\\n",
    " 40 → x and z positive correlated**"
   ]
  },
  {
   "cell_type": "markdown",
   "id": "0399928a-a6d9-49f4-92f8-a762b5c6e4d6",
   "metadata": {},
   "source": [
    "<p style=\"background-image: linear-gradient(#0aa98f, #FFFFFF 10%); font-weight:bold;\"> \n",
    "    &nbsp; </p>"
   ]
  },
  {
   "cell_type": "code",
   "execution_count": 3,
   "id": "1c1a4c15-cfbd-400e-bca5-8a5e8a455a1f",
   "metadata": {},
   "outputs": [
    {
     "name": "stdout",
     "output_type": "stream",
     "text": [
      "[[1.         3.        ]\n",
      " [3.         9.33333333]]\n",
      "[[100.         300.        ]\n",
      " [300.         933.33333333]]\n"
     ]
    }
   ],
   "source": [
    "x = np.array([1,2,3])\n",
    "y = np.array([4,6,10])\n",
    "z = x * 10\n",
    "t = y * 10\n",
    "\n",
    "print(np.cov(x,y))\n",
    "print(np.cov(z,t))"
   ]
  },
  {
   "cell_type": "markdown",
   "id": "2cbfb285-3bf0-4ba0-b955-e04da248abf1",
   "metadata": {},
   "source": [
    "**there is a change in the covariance value, when unit is changed**"
   ]
  },
  {
   "cell_type": "markdown",
   "id": "70f9944b-9684-4363-83b1-11aac2f78e2a",
   "metadata": {},
   "source": [
    "<p style=\"background-image: linear-gradient(#0aa98f, #FFFFFF 10%); font-weight:bold;\"> \n",
    "    &nbsp; </p>"
   ]
  },
  {
   "cell_type": "code",
   "execution_count": 4,
   "id": "8f0fc4e8-f119-450a-909a-03d774c8632f",
   "metadata": {},
   "outputs": [
    {
     "name": "stdout",
     "output_type": "stream",
     "text": [
      "[[1.         0.98198051]\n",
      " [0.98198051 1.        ]]\n",
      "[[1.         0.98198051]\n",
      " [0.98198051 1.        ]]\n"
     ]
    }
   ],
   "source": [
    "x = np.array([1,2,3])\n",
    "y = np.array([4,6,10])\n",
    "z = x * 10\n",
    "t = y * 10\n",
    "\n",
    "print(np.corrcoef(x,y))\n",
    "print(np.corrcoef(z,t))"
   ]
  },
  {
   "cell_type": "markdown",
   "id": "580e0737-9a50-4d1d-bd46-0055993a4d66",
   "metadata": {},
   "source": [
    "**changing the unit does not change the correlation value**"
   ]
  },
  {
   "cell_type": "markdown",
   "id": "22c8d839-ae68-4194-bbe8-cfa7060c4925",
   "metadata": {},
   "source": [
    "<p style=\"background-image: linear-gradient(to right, #0aa98f, #68dab2)\"> &nbsp; </p>"
   ]
  },
  {
   "cell_type": "markdown",
   "id": "60c3db56-6e6b-4807-bb90-37ee266130cb",
   "metadata": {},
   "source": [
    "<p style=\"background-image: linear-gradient(#0aa98f, #ffffff 10%); font-weight:bold;\"> \n",
    " &nbsp; PEARSON CORRELATION TEST </p>\n",
    "    \n",
    "|  |  |\n",
    "|--|--|\n",
    "| $H_0$ | → There is no relationship between temperature and ice cream sales. |\n",
    "| $H_1$ | → There is a relationship between temperature and ice cream sales. |"
   ]
  },
  {
   "cell_type": "code",
   "execution_count": 5,
   "id": "58f8d58b-6e3e-4ef7-b610-468d8cf2e4c6",
   "metadata": {},
   "outputs": [],
   "source": [
    "data = {\n",
    "    'Temperature' : [14.2, 16.4, 11.9, 15.2, 18.5, 22.1, 19.4, 25.1, 23.4, 18.1, 22.6, 17.2],\n",
    "    'Sales' : [215, 325, 185, 332, 406, 522, 412, 614, 544, 421, 445, 408]\n",
    "}\n",
    "\n",
    "data = pd.DataFrame(data)"
   ]
  },
  {
   "cell_type": "code",
   "execution_count": 6,
   "id": "48f2a342-3083-4765-89a0-849d267d5c09",
   "metadata": {},
   "outputs": [
    {
     "data": {
      "text/html": [
       "<div>\n",
       "<style scoped>\n",
       "    .dataframe tbody tr th:only-of-type {\n",
       "        vertical-align: middle;\n",
       "    }\n",
       "\n",
       "    .dataframe tbody tr th {\n",
       "        vertical-align: top;\n",
       "    }\n",
       "\n",
       "    .dataframe thead th {\n",
       "        text-align: right;\n",
       "    }\n",
       "</style>\n",
       "<table border=\"1\" class=\"dataframe\">\n",
       "  <thead>\n",
       "    <tr style=\"text-align: right;\">\n",
       "      <th></th>\n",
       "      <th>W</th>\n",
       "      <th>pval</th>\n",
       "      <th>normal</th>\n",
       "    </tr>\n",
       "  </thead>\n",
       "  <tbody>\n",
       "    <tr>\n",
       "      <th>Temperature</th>\n",
       "      <td>0.975931</td>\n",
       "      <td>0.962043</td>\n",
       "      <td>True</td>\n",
       "    </tr>\n",
       "    <tr>\n",
       "      <th>Sales</th>\n",
       "      <td>0.961593</td>\n",
       "      <td>0.806313</td>\n",
       "      <td>True</td>\n",
       "    </tr>\n",
       "  </tbody>\n",
       "</table>\n",
       "</div>"
      ],
      "text/plain": [
       "                    W      pval  normal\n",
       "Temperature  0.975931  0.962043    True\n",
       "Sales        0.961593  0.806313    True"
      ]
     },
     "execution_count": 6,
     "metadata": {},
     "output_type": "execute_result"
    }
   ],
   "source": [
    "pg.normality(data)"
   ]
  },
  {
   "cell_type": "code",
   "execution_count": 7,
   "id": "87232951-d09b-4c75-9183-c9bd35fac713",
   "metadata": {},
   "outputs": [
    {
     "data": {
      "image/png": "[encoded data removed]",
      "text/plain": [
       "<Figure size 900x300 with 2 Axes>"
      ]
     },
     "metadata": {},
     "output_type": "display_data"
    }
   ],
   "source": [
    "fig, (ax1, ax2) = plt.subplots(1, 2, figsize=(9,3))\n",
    "\n",
    "sns.scatterplot(x='Temperature', y='Sales', data=data, ax=ax1)\n",
    "sns.regplot(x='Temperature', y='Sales', data=data, ci=None, ax=ax2)\n",
    "# sns.lmplot(x='Temperature', y='Sales', data=data, ci=None)\n",
    "\n",
    "plt.show()"
   ]
  },
  {
   "cell_type": "code",
   "execution_count": 8,
   "id": "f09eff25-a37a-4a2a-94ac-8190ac9eb26f",
   "metadata": {},
   "outputs": [
    {
     "data": {
      "text/html": [
       "<div>\n",
       "<style scoped>\n",
       "    .dataframe tbody tr th:only-of-type {\n",
       "        vertical-align: middle;\n",
       "    }\n",
       "\n",
       "    .dataframe tbody tr th {\n",
       "        vertical-align: top;\n",
       "    }\n",
       "\n",
       "    .dataframe thead th {\n",
       "        text-align: right;\n",
       "    }\n",
       "</style>\n",
       "<table border=\"1\" class=\"dataframe\">\n",
       "  <thead>\n",
       "    <tr style=\"text-align: right;\">\n",
       "      <th></th>\n",
       "      <th>n</th>\n",
       "      <th>r</th>\n",
       "      <th>CI95%</th>\n",
       "      <th>p-val</th>\n",
       "      <th>BF10</th>\n",
       "      <th>power</th>\n",
       "    </tr>\n",
       "  </thead>\n",
       "  <tbody>\n",
       "    <tr>\n",
       "      <th>pearson</th>\n",
       "      <td>12</td>\n",
       "      <td>0.957507</td>\n",
       "      <td>[0.85, 0.99]</td>\n",
       "      <td>0.000001</td>\n",
       "      <td>1.102e+04</td>\n",
       "      <td>0.999953</td>\n",
       "    </tr>\n",
       "  </tbody>\n",
       "</table>\n",
       "</div>"
      ],
      "text/plain": [
       "          n         r         CI95%     p-val       BF10     power\n",
       "pearson  12  0.957507  [0.85, 0.99]  0.000001  1.102e+04  0.999953"
      ]
     },
     "execution_count": 8,
     "metadata": {},
     "output_type": "execute_result"
    }
   ],
   "source": [
    "pg.corr(x=data['Temperature'], y=data['Sales'], method='pearson')"
   ]
  },
  {
   "cell_type": "markdown",
   "id": "bebfd1f7-0a15-4361-ab01-802efa9fd0af",
   "metadata": {},
   "source": [
    "**Since the p-value is less than 0.05, $H_0$ is rejected. There is a relationship between the variables. The correlation coefficient 'r' indicates a strong relationship.**"
   ]
  },
  {
   "cell_type": "markdown",
   "id": "98e0db76-8325-49af-90dd-93a8f2eb03e3",
   "metadata": {},
   "source": [
    "<p style=\"background-image: linear-gradient(to right, #0aa98f, #68dab2)\"> &nbsp; </p>"
   ]
  },
  {
   "cell_type": "markdown",
   "id": "c27db6d2-bac9-4333-a998-ae8639688c01",
   "metadata": {},
   "source": [
    "<p style=\"background-image: linear-gradient(#0aa98f, #ffffff 10%); font-weight:bold;\"> \n",
    " &nbsp; SPEARMAN CORRELATION TEST </p>\n",
    "    \n",
    "|  |  |\n",
    "|--|--|\n",
    "| $H_0$ | → There is no relationship between variables. |\n",
    "| $H_1$ | → There is a relationship between variables. |"
   ]
  },
  {
   "cell_type": "code",
   "execution_count": 9,
   "id": "5a401d90-e158-4912-a77f-ce53862e5fb0",
   "metadata": {},
   "outputs": [],
   "source": [
    "data = {\n",
    "    'A' : range(2,23,2),\n",
    "    'B' : [244.5, 200, 161.8, 145, 134.5, 122.7, 109.2, 110.8, 109.8, 111.2,105.9]\n",
    "}\n",
    "\n",
    "data = pd.DataFrame(data)"
   ]
  },
  {
   "cell_type": "code",
   "execution_count": 10,
   "id": "afcf3d2a-c2e5-44d6-bbe9-599b2f1a8c13",
   "metadata": {},
   "outputs": [
    {
     "data": {
      "text/html": [
       "<div>\n",
       "<style scoped>\n",
       "    .dataframe tbody tr th:only-of-type {\n",
       "        vertical-align: middle;\n",
       "    }\n",
       "\n",
       "    .dataframe tbody tr th {\n",
       "        vertical-align: top;\n",
       "    }\n",
       "\n",
       "    .dataframe thead th {\n",
       "        text-align: right;\n",
       "    }\n",
       "</style>\n",
       "<table border=\"1\" class=\"dataframe\">\n",
       "  <thead>\n",
       "    <tr style=\"text-align: right;\">\n",
       "      <th></th>\n",
       "      <th>W</th>\n",
       "      <th>pval</th>\n",
       "      <th>normal</th>\n",
       "    </tr>\n",
       "  </thead>\n",
       "  <tbody>\n",
       "    <tr>\n",
       "      <th>A</th>\n",
       "      <td>0.968391</td>\n",
       "      <td>0.869842</td>\n",
       "      <td>True</td>\n",
       "    </tr>\n",
       "    <tr>\n",
       "      <th>B</th>\n",
       "      <td>0.792429</td>\n",
       "      <td>0.007479</td>\n",
       "      <td>False</td>\n",
       "    </tr>\n",
       "  </tbody>\n",
       "</table>\n",
       "</div>"
      ],
      "text/plain": [
       "          W      pval  normal\n",
       "A  0.968391  0.869842    True\n",
       "B  0.792429  0.007479   False"
      ]
     },
     "execution_count": 10,
     "metadata": {},
     "output_type": "execute_result"
    }
   ],
   "source": [
    "pg.normality(data)"
   ]
  },
  {
   "cell_type": "code",
   "execution_count": 11,
   "id": "d00ddf8a-85f6-4a59-b989-25e25aa921d3",
   "metadata": {},
   "outputs": [
    {
     "data": {
      "image/png": "[encoded data removed]",
      "text/plain": [
       "<Figure size 1300x300 with 3 Axes>"
      ]
     },
     "metadata": {},
     "output_type": "display_data"
    }
   ],
   "source": [
    "fig, (ax1, ax2, ax3) = plt.subplots(1, 3, figsize=(13, 3))\n",
    "\n",
    "sns.scatterplot(x='A', y='B', data=data, ax=ax1)\n",
    "sns.regplot(x='A', y='B', data=data, ci=None, ax=ax2)\n",
    "sns.regplot(x='A', y='B', data=data, ax=ax3)\n",
    "\n",
    "plt.show()"
   ]
  },
  {
   "cell_type": "code",
   "execution_count": 12,
   "id": "e12d2ba1-6f32-48a1-bba9-aebc2ca551f2",
   "metadata": {},
   "outputs": [
    {
     "data": {
      "text/html": [
       "<div>\n",
       "<style scoped>\n",
       "    .dataframe tbody tr th:only-of-type {\n",
       "        vertical-align: middle;\n",
       "    }\n",
       "\n",
       "    .dataframe tbody tr th {\n",
       "        vertical-align: top;\n",
       "    }\n",
       "\n",
       "    .dataframe thead th {\n",
       "        text-align: right;\n",
       "    }\n",
       "</style>\n",
       "<table border=\"1\" class=\"dataframe\">\n",
       "  <thead>\n",
       "    <tr style=\"text-align: right;\">\n",
       "      <th></th>\n",
       "      <th>n</th>\n",
       "      <th>r</th>\n",
       "      <th>CI95%</th>\n",
       "      <th>p-val</th>\n",
       "      <th>power</th>\n",
       "    </tr>\n",
       "  </thead>\n",
       "  <tbody>\n",
       "    <tr>\n",
       "      <th>spearman</th>\n",
       "      <td>11</td>\n",
       "      <td>-0.918182</td>\n",
       "      <td>[-0.98, -0.71]</td>\n",
       "      <td>0.000067</td>\n",
       "      <td>0.995623</td>\n",
       "    </tr>\n",
       "  </tbody>\n",
       "</table>\n",
       "</div>"
      ],
      "text/plain": [
       "           n         r           CI95%     p-val     power\n",
       "spearman  11 -0.918182  [-0.98, -0.71]  0.000067  0.995623"
      ]
     },
     "execution_count": 12,
     "metadata": {},
     "output_type": "execute_result"
    }
   ],
   "source": [
    "pg.corr(x=data['A'], y=data['B'], method='spearman')"
   ]
  },
  {
   "cell_type": "markdown",
   "id": "43aeabeb-0bc0-4d5a-a92d-cfaa35afcc2d",
   "metadata": {},
   "source": [
    "<p style=\"background-image: linear-gradient(to right, #0aa98f, #68dab2)\"> &nbsp; </p>"
   ]
  },
  {
   "cell_type": "markdown",
   "id": "4cbdd6f0-cde3-4b84-979e-ddd1501ff3d9",
   "metadata": {},
   "source": [
    "<p style=\"background-image: linear-gradient(#0aa98f, #ffffff 10%); font-weight:bold;\"> \n",
    " &nbsp; CORRELATION MATRIX </p>"
   ]
  },
  {
   "cell_type": "code",
   "execution_count": 13,
   "id": "a4f3a737-9232-4fe2-bbbe-244687d5fc85",
   "metadata": {},
   "outputs": [],
   "source": [
    "data = {\n",
    "    'A': np.random.randint(10,50, size=30),\n",
    "    'B': np.random.randint(10,50, size=30),\n",
    "    'C': np.random.randint(10,50, size=30),\n",
    "    'D': np.random.randint(10,50, size=30)\n",
    "}\n",
    "\n",
    "data = pd.DataFrame(data)"
   ]
  },
  {
   "cell_type": "code",
   "execution_count": 14,
   "id": "2728b628-bf49-40da-a78d-2645318ed832",
   "metadata": {},
   "outputs": [
    {
     "data": {
      "text/html": [
       "<div>\n",
       "<style scoped>\n",
       "    .dataframe tbody tr th:only-of-type {\n",
       "        vertical-align: middle;\n",
       "    }\n",
       "\n",
       "    .dataframe tbody tr th {\n",
       "        vertical-align: top;\n",
       "    }\n",
       "\n",
       "    .dataframe thead th {\n",
       "        text-align: right;\n",
       "    }\n",
       "</style>\n",
       "<table border=\"1\" class=\"dataframe\">\n",
       "  <thead>\n",
       "    <tr style=\"text-align: right;\">\n",
       "      <th></th>\n",
       "      <th>A</th>\n",
       "      <th>B</th>\n",
       "      <th>C</th>\n",
       "      <th>D</th>\n",
       "    </tr>\n",
       "  </thead>\n",
       "  <tbody>\n",
       "    <tr>\n",
       "      <th>A</th>\n",
       "      <td>1.000000</td>\n",
       "      <td>0.034879</td>\n",
       "      <td>-0.168409</td>\n",
       "      <td>-0.038091</td>\n",
       "    </tr>\n",
       "    <tr>\n",
       "      <th>B</th>\n",
       "      <td>0.034879</td>\n",
       "      <td>1.000000</td>\n",
       "      <td>0.161458</td>\n",
       "      <td>0.149582</td>\n",
       "    </tr>\n",
       "    <tr>\n",
       "      <th>C</th>\n",
       "      <td>-0.168409</td>\n",
       "      <td>0.161458</td>\n",
       "      <td>1.000000</td>\n",
       "      <td>0.381658</td>\n",
       "    </tr>\n",
       "    <tr>\n",
       "      <th>D</th>\n",
       "      <td>-0.038091</td>\n",
       "      <td>0.149582</td>\n",
       "      <td>0.381658</td>\n",
       "      <td>1.000000</td>\n",
       "    </tr>\n",
       "  </tbody>\n",
       "</table>\n",
       "</div>"
      ],
      "text/plain": [
       "          A         B         C         D\n",
       "A  1.000000  0.034879 -0.168409 -0.038091\n",
       "B  0.034879  1.000000  0.161458  0.149582\n",
       "C -0.168409  0.161458  1.000000  0.381658\n",
       "D -0.038091  0.149582  0.381658  1.000000"
      ]
     },
     "execution_count": 14,
     "metadata": {},
     "output_type": "execute_result"
    }
   ],
   "source": [
    "matrix = data.corr()\n",
    "matrix"
   ]
  },
  {
   "cell_type": "code",
   "execution_count": 15,
   "id": "1ea249e5-9968-4694-8145-c434b9c59666",
   "metadata": {},
   "outputs": [
    {
     "data": {
      "image/png": "[encoded data removed]",
      "text/plain": [
       "<Figure size 400x300 with 2 Axes>"
      ]
     },
     "metadata": {},
     "output_type": "display_data"
    }
   ],
   "source": [
    "sns.heatmap(matrix, annot=True, cmap=plt.cm.Greens)\n",
    "plt.gcf().set_size_inches(4,3)\n",
    "plt.show()"
   ]
  },
  {
   "cell_type": "code",
   "execution_count": 16,
   "id": "aa79b24b-3e8c-4b56-9aeb-7704477c9d95",
   "metadata": {},
   "outputs": [
    {
     "data": {
      "text/html": [
       "<div>\n",
       "<style scoped>\n",
       "    .dataframe tbody tr th:only-of-type {\n",
       "        vertical-align: middle;\n",
       "    }\n",
       "\n",
       "    .dataframe tbody tr th {\n",
       "        vertical-align: top;\n",
       "    }\n",
       "\n",
       "    .dataframe thead th {\n",
       "        text-align: right;\n",
       "    }\n",
       "</style>\n",
       "<table border=\"1\" class=\"dataframe\">\n",
       "  <thead>\n",
       "    <tr style=\"text-align: right;\">\n",
       "      <th></th>\n",
       "      <th>X</th>\n",
       "      <th>Y</th>\n",
       "      <th>method</th>\n",
       "      <th>alternative</th>\n",
       "      <th>n</th>\n",
       "      <th>r</th>\n",
       "      <th>CI95%</th>\n",
       "      <th>p-unc</th>\n",
       "      <th>BF10</th>\n",
       "      <th>power</th>\n",
       "    </tr>\n",
       "  </thead>\n",
       "  <tbody>\n",
       "    <tr>\n",
       "      <th>0</th>\n",
       "      <td>A</td>\n",
       "      <td>B</td>\n",
       "      <td>pearson</td>\n",
       "      <td>two-sided</td>\n",
       "      <td>30</td>\n",
       "      <td>0.034879</td>\n",
       "      <td>[-0.33, 0.39]</td>\n",
       "      <td>0.854814</td>\n",
       "      <td>0.231</td>\n",
       "      <td>0.053368</td>\n",
       "    </tr>\n",
       "    <tr>\n",
       "      <th>1</th>\n",
       "      <td>A</td>\n",
       "      <td>C</td>\n",
       "      <td>pearson</td>\n",
       "      <td>two-sided</td>\n",
       "      <td>30</td>\n",
       "      <td>-0.168409</td>\n",
       "      <td>[-0.5, 0.2]</td>\n",
       "      <td>0.373682</td>\n",
       "      <td>0.331</td>\n",
       "      <td>0.145359</td>\n",
       "    </tr>\n",
       "    <tr>\n",
       "      <th>2</th>\n",
       "      <td>A</td>\n",
       "      <td>D</td>\n",
       "      <td>pearson</td>\n",
       "      <td>two-sided</td>\n",
       "      <td>30</td>\n",
       "      <td>-0.038091</td>\n",
       "      <td>[-0.39, 0.33]</td>\n",
       "      <td>0.841606</td>\n",
       "      <td>0.231</td>\n",
       "      <td>0.054119</td>\n",
       "    </tr>\n",
       "    <tr>\n",
       "      <th>3</th>\n",
       "      <td>B</td>\n",
       "      <td>C</td>\n",
       "      <td>pearson</td>\n",
       "      <td>two-sided</td>\n",
       "      <td>30</td>\n",
       "      <td>0.161458</td>\n",
       "      <td>[-0.21, 0.49]</td>\n",
       "      <td>0.394005</td>\n",
       "      <td>0.321</td>\n",
       "      <td>0.137259</td>\n",
       "    </tr>\n",
       "    <tr>\n",
       "      <th>4</th>\n",
       "      <td>B</td>\n",
       "      <td>D</td>\n",
       "      <td>pearson</td>\n",
       "      <td>two-sided</td>\n",
       "      <td>30</td>\n",
       "      <td>0.149582</td>\n",
       "      <td>[-0.22, 0.48]</td>\n",
       "      <td>0.430151</td>\n",
       "      <td>0.305</td>\n",
       "      <td>0.124317</td>\n",
       "    </tr>\n",
       "    <tr>\n",
       "      <th>5</th>\n",
       "      <td>C</td>\n",
       "      <td>D</td>\n",
       "      <td>pearson</td>\n",
       "      <td>two-sided</td>\n",
       "      <td>30</td>\n",
       "      <td>0.381658</td>\n",
       "      <td>[0.02, 0.65]</td>\n",
       "      <td>0.037423</td>\n",
       "      <td>1.794</td>\n",
       "      <td>0.563057</td>\n",
       "    </tr>\n",
       "  </tbody>\n",
       "</table>\n",
       "</div>"
      ],
      "text/plain": [
       "   X  Y   method alternative   n         r          CI95%     p-unc   BF10  \\\n",
       "0  A  B  pearson   two-sided  30  0.034879  [-0.33, 0.39]  0.854814  0.231   \n",
       "1  A  C  pearson   two-sided  30 -0.168409    [-0.5, 0.2]  0.373682  0.331   \n",
       "2  A  D  pearson   two-sided  30 -0.038091  [-0.39, 0.33]  0.841606  0.231   \n",
       "3  B  C  pearson   two-sided  30  0.161458  [-0.21, 0.49]  0.394005  0.321   \n",
       "4  B  D  pearson   two-sided  30  0.149582  [-0.22, 0.48]  0.430151  0.305   \n",
       "5  C  D  pearson   two-sided  30  0.381658   [0.02, 0.65]  0.037423  1.794   \n",
       "\n",
       "      power  \n",
       "0  0.053368  \n",
       "1  0.145359  \n",
       "2  0.054119  \n",
       "3  0.137259  \n",
       "4  0.124317  \n",
       "5  0.563057  "
      ]
     },
     "metadata": {},
     "output_type": "display_data"
    },
    {
     "data": {
      "text/html": [
       "<div>\n",
       "<style scoped>\n",
       "    .dataframe tbody tr th:only-of-type {\n",
       "        vertical-align: middle;\n",
       "    }\n",
       "\n",
       "    .dataframe tbody tr th {\n",
       "        vertical-align: top;\n",
       "    }\n",
       "\n",
       "    .dataframe thead th {\n",
       "        text-align: right;\n",
       "    }\n",
       "</style>\n",
       "<table border=\"1\" class=\"dataframe\">\n",
       "  <thead>\n",
       "    <tr style=\"text-align: right;\">\n",
       "      <th></th>\n",
       "      <th>A</th>\n",
       "      <th>B</th>\n",
       "      <th>C</th>\n",
       "      <th>D</th>\n",
       "    </tr>\n",
       "  </thead>\n",
       "  <tbody>\n",
       "    <tr>\n",
       "      <th>A</th>\n",
       "      <td>-</td>\n",
       "      <td></td>\n",
       "      <td></td>\n",
       "      <td></td>\n",
       "    </tr>\n",
       "    <tr>\n",
       "      <th>B</th>\n",
       "      <td>0.035</td>\n",
       "      <td>-</td>\n",
       "      <td></td>\n",
       "      <td></td>\n",
       "    </tr>\n",
       "    <tr>\n",
       "      <th>C</th>\n",
       "      <td>-0.168</td>\n",
       "      <td>0.161</td>\n",
       "      <td>-</td>\n",
       "      <td>*</td>\n",
       "    </tr>\n",
       "    <tr>\n",
       "      <th>D</th>\n",
       "      <td>-0.038</td>\n",
       "      <td>0.15</td>\n",
       "      <td>0.382</td>\n",
       "      <td>-</td>\n",
       "    </tr>\n",
       "  </tbody>\n",
       "</table>\n",
       "</div>"
      ],
      "text/plain": [
       "        A      B      C  D\n",
       "A       -                 \n",
       "B   0.035      -          \n",
       "C  -0.168  0.161      -  *\n",
       "D  -0.038   0.15  0.382  -"
      ]
     },
     "metadata": {},
     "output_type": "display_data"
    },
    {
     "data": {
      "text/html": [
       "<div>\n",
       "<style scoped>\n",
       "    .dataframe tbody tr th:only-of-type {\n",
       "        vertical-align: middle;\n",
       "    }\n",
       "\n",
       "    .dataframe tbody tr th {\n",
       "        vertical-align: top;\n",
       "    }\n",
       "\n",
       "    .dataframe thead th {\n",
       "        text-align: right;\n",
       "    }\n",
       "</style>\n",
       "<table border=\"1\" class=\"dataframe\">\n",
       "  <thead>\n",
       "    <tr style=\"text-align: right;\">\n",
       "      <th></th>\n",
       "      <th>A</th>\n",
       "      <th>B</th>\n",
       "      <th>C</th>\n",
       "      <th>D</th>\n",
       "    </tr>\n",
       "  </thead>\n",
       "  <tbody>\n",
       "    <tr>\n",
       "      <th>A</th>\n",
       "      <td>-</td>\n",
       "      <td>0.855</td>\n",
       "      <td>0.374</td>\n",
       "      <td>0.842</td>\n",
       "    </tr>\n",
       "    <tr>\n",
       "      <th>B</th>\n",
       "      <td>0.035</td>\n",
       "      <td>-</td>\n",
       "      <td>0.394</td>\n",
       "      <td>0.430</td>\n",
       "    </tr>\n",
       "    <tr>\n",
       "      <th>C</th>\n",
       "      <td>-0.168</td>\n",
       "      <td>0.161</td>\n",
       "      <td>-</td>\n",
       "      <td>0.037</td>\n",
       "    </tr>\n",
       "    <tr>\n",
       "      <th>D</th>\n",
       "      <td>-0.038</td>\n",
       "      <td>0.15</td>\n",
       "      <td>0.382</td>\n",
       "      <td>-</td>\n",
       "    </tr>\n",
       "  </tbody>\n",
       "</table>\n",
       "</div>"
      ],
      "text/plain": [
       "        A      B      C      D\n",
       "A       -  0.855  0.374  0.842\n",
       "B   0.035      -  0.394  0.430\n",
       "C  -0.168  0.161      -  0.037\n",
       "D  -0.038   0.15  0.382      -"
      ]
     },
     "metadata": {},
     "output_type": "display_data"
    }
   ],
   "source": [
    "p = pg.pairwise_corr(data)\n",
    "r = pg.rcorr(data)\n",
    "r2 = pg.rcorr(data, stars=False)\n",
    "\n",
    "display(p, r, r2)"
   ]
  },
  {
   "cell_type": "markdown",
   "id": "5aadf455-a269-434d-a901-4a3ae890aa7d",
   "metadata": {},
   "source": [
    "<p style=\"background-image: linear-gradient(to right, #0aa98f, #68dab2)\"> &nbsp; </p>"
   ]
  },
  {
   "cell_type": "markdown",
   "id": "273c0cf5-5836-4add-8439-5fd7ec3d1d6c",
   "metadata": {},
   "source": [
    "<p style=\"background-image: linear-gradient(#0aa98f, #ffffff 10%); font-weight:bold;\"> \n",
    " &nbsp; PARTIAL CORRELATION </p>"
   ]
  },
  {
   "cell_type": "code",
   "execution_count": 17,
   "id": "1e237714-4c8b-4d3b-9cb9-091f91fecdb8",
   "metadata": {},
   "outputs": [],
   "source": [
    "data = pd.read_csv('data/14_weight_meals_age.csv')"
   ]
  },
  {
   "cell_type": "code",
   "execution_count": 18,
   "id": "6ee843ba-db4b-46e4-bb04-6a7987d2ee42",
   "metadata": {},
   "outputs": [
    {
     "data": {
      "text/html": [
       "<div>\n",
       "<style scoped>\n",
       "    .dataframe tbody tr th:only-of-type {\n",
       "        vertical-align: middle;\n",
       "    }\n",
       "\n",
       "    .dataframe tbody tr th {\n",
       "        vertical-align: top;\n",
       "    }\n",
       "\n",
       "    .dataframe thead th {\n",
       "        text-align: right;\n",
       "    }\n",
       "</style>\n",
       "<table border=\"1\" class=\"dataframe\">\n",
       "  <thead>\n",
       "    <tr style=\"text-align: right;\">\n",
       "      <th></th>\n",
       "      <th>X</th>\n",
       "      <th>Y</th>\n",
       "      <th>method</th>\n",
       "      <th>alternative</th>\n",
       "      <th>n</th>\n",
       "      <th>r</th>\n",
       "      <th>CI95%</th>\n",
       "      <th>p-unc</th>\n",
       "      <th>BF10</th>\n",
       "      <th>power</th>\n",
       "    </tr>\n",
       "  </thead>\n",
       "  <tbody>\n",
       "    <tr>\n",
       "      <th>0</th>\n",
       "      <td>Weight</td>\n",
       "      <td>Meal</td>\n",
       "      <td>pearson</td>\n",
       "      <td>two-sided</td>\n",
       "      <td>29</td>\n",
       "      <td>0.956975</td>\n",
       "      <td>[0.91, 0.98]</td>\n",
       "      <td>4.916439e-16</td>\n",
       "      <td>7.281e+12</td>\n",
       "      <td>1.0</td>\n",
       "    </tr>\n",
       "    <tr>\n",
       "      <th>1</th>\n",
       "      <td>Weight</td>\n",
       "      <td>Age</td>\n",
       "      <td>pearson</td>\n",
       "      <td>two-sided</td>\n",
       "      <td>29</td>\n",
       "      <td>-0.980594</td>\n",
       "      <td>[-0.99, -0.96]</td>\n",
       "      <td>1.213447e-20</td>\n",
       "      <td>1.328e+17</td>\n",
       "      <td>1.0</td>\n",
       "    </tr>\n",
       "    <tr>\n",
       "      <th>2</th>\n",
       "      <td>Meal</td>\n",
       "      <td>Age</td>\n",
       "      <td>pearson</td>\n",
       "      <td>two-sided</td>\n",
       "      <td>29</td>\n",
       "      <td>-0.947297</td>\n",
       "      <td>[-0.98, -0.89]</td>\n",
       "      <td>7.181222e-15</td>\n",
       "      <td>6.112e+11</td>\n",
       "      <td>1.0</td>\n",
       "    </tr>\n",
       "  </tbody>\n",
       "</table>\n",
       "</div>"
      ],
      "text/plain": [
       "        X     Y   method alternative   n         r           CI95%  \\\n",
       "0  Weight  Meal  pearson   two-sided  29  0.956975    [0.91, 0.98]   \n",
       "1  Weight   Age  pearson   two-sided  29 -0.980594  [-0.99, -0.96]   \n",
       "2    Meal   Age  pearson   two-sided  29 -0.947297  [-0.98, -0.89]   \n",
       "\n",
       "          p-unc       BF10  power  \n",
       "0  4.916439e-16  7.281e+12    1.0  \n",
       "1  1.213447e-20  1.328e+17    1.0  \n",
       "2  7.181222e-15  6.112e+11    1.0  "
      ]
     },
     "execution_count": 18,
     "metadata": {},
     "output_type": "execute_result"
    }
   ],
   "source": [
    "pg.pairwise_corr(data)"
   ]
  },
  {
   "cell_type": "code",
   "execution_count": 19,
   "id": "c2d32f25-ad96-44d3-a869-59e7fb99ad10",
   "metadata": {},
   "outputs": [
    {
     "data": {
      "text/html": [
       "<div>\n",
       "<style scoped>\n",
       "    .dataframe tbody tr th:only-of-type {\n",
       "        vertical-align: middle;\n",
       "    }\n",
       "\n",
       "    .dataframe tbody tr th {\n",
       "        vertical-align: top;\n",
       "    }\n",
       "\n",
       "    .dataframe thead th {\n",
       "        text-align: right;\n",
       "    }\n",
       "</style>\n",
       "<table border=\"1\" class=\"dataframe\">\n",
       "  <thead>\n",
       "    <tr style=\"text-align: right;\">\n",
       "      <th></th>\n",
       "      <th>n</th>\n",
       "      <th>r</th>\n",
       "      <th>CI95%</th>\n",
       "      <th>p-val</th>\n",
       "    </tr>\n",
       "  </thead>\n",
       "  <tbody>\n",
       "    <tr>\n",
       "      <th>pearson</th>\n",
       "      <td>29</td>\n",
       "      <td>0.446792</td>\n",
       "      <td>[0.09, 0.7]</td>\n",
       "      <td>0.017147</td>\n",
       "    </tr>\n",
       "  </tbody>\n",
       "</table>\n",
       "</div>"
      ],
      "text/plain": [
       "          n         r        CI95%     p-val\n",
       "pearson  29  0.446792  [0.09, 0.7]  0.017147"
      ]
     },
     "execution_count": 19,
     "metadata": {},
     "output_type": "execute_result"
    }
   ],
   "source": [
    "pg.partial_corr(data, x='Meal', y='Weight', covar='Age')"
   ]
  },
  {
   "cell_type": "markdown",
   "id": "cdb57ebb-ab9c-4ab9-9c56-e23ed3dfdd06",
   "metadata": {},
   "source": [
    "<p style=\"background-image: linear-gradient(to right, #0aa98f, #68dab2)\"> &nbsp; </p>"
   ]
  }
 ],
 "metadata": {
  "kernelspec": {
   "display_name": "Python 3 (ipykernel)",
   "language": "python",
   "name": "python3"
  },
  "language_info": {
   "codemirror_mode": {
    "name": "ipython",
    "version": 3
   },
   "file_extension": ".py",
   "mimetype": "text/x-python",
   "name": "python",
   "nbconvert_exporter": "python",
   "pygments_lexer": "ipython3",
   "version": "3.11.10"
  }
 },
 "nbformat": 4,
 "nbformat_minor": 5
}
