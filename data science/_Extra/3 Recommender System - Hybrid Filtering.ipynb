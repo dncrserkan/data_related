{
 "cells": [
  {
   "cell_type": "markdown",
   "id": "e8d419e1-06b2-4fc6-852b-22ca1ab100b1",
   "metadata": {},
   "source": [
    "https://grouplens.org/datasets/movielens/ - older datasets - read me"
   ]
  },
  {
   "cell_type": "code",
   "execution_count": 1,
   "id": "382b6294-c4a9-40ea-82bd-908b07b3877b",
   "metadata": {},
   "outputs": [],
   "source": [
    "import pandas as pd\n",
    "import numpy as np\n",
    "\n",
    "from lightfm import LightFM\n",
    "from lightfm.datasets import fetch_movielens\n",
    "from lightfm.evaluation import precision_at_k"
   ]
  },
  {
   "cell_type": "markdown",
   "id": "807f6a09-4aff-4469-b4b2-5b5c3ad6dd83",
   "metadata": {},
   "source": [
    "<p style=\"background-image: linear-gradient(to right, #0aa98f, #68dab2)\"> &nbsp; </p>"
   ]
  },
  {
   "cell_type": "code",
   "execution_count": 2,
   "id": "16dac06f-df1c-416d-ae6f-dbca8763fb52",
   "metadata": {},
   "outputs": [
    {
     "data": {
      "text/plain": [
       "{'train': <943x1682 sparse matrix of type '<class 'numpy.int32'>'\n",
       " \twith 90570 stored elements in COOrdinate format>,\n",
       " 'test': <943x1682 sparse matrix of type '<class 'numpy.int32'>'\n",
       " \twith 9430 stored elements in COOrdinate format>,\n",
       " 'item_features': <1682x1682 sparse matrix of type '<class 'numpy.float32'>'\n",
       " \twith 1682 stored elements in Compressed Sparse Row format>,\n",
       " 'item_feature_labels': array(['T', 'G', 'F', ..., 'S', 'Y', 'S'], dtype='<U1'),\n",
       " 'item_labels': array(['T', 'G', 'F', ..., 'S', 'Y', 'S'], dtype='<U1')}"
      ]
     },
     "execution_count": 2,
     "metadata": {},
     "output_type": "execute_result"
    }
   ],
   "source": [
    "data = fetch_movielens()\n",
    "data"
   ]
  },
  {
   "cell_type": "markdown",
   "id": "a52e754b-a083-44e3-857f-9597d6c2c7ee",
   "metadata": {},
   "source": [
    "<p style=\"background-image: linear-gradient(#0aa98f, #FFFFFF 10%)\"> &nbsp; </p>"
   ]
  },
  {
   "cell_type": "code",
   "execution_count": 3,
   "id": "951bca6f-7adb-4e9c-bdbf-116ddcc20e12",
   "metadata": {},
   "outputs": [
    {
     "data": {
      "text/plain": [
       "0.1107105"
      ]
     },
     "execution_count": 3,
     "metadata": {},
     "output_type": "execute_result"
    }
   ],
   "source": [
    "model = LightFM(loss='warp')\n",
    "model.fit(data['train'], item_features=data['item_features'])\n",
    "\n",
    "model_score = precision_at_k(model, data['test'], k=5).mean()\n",
    "model_score"
   ]
  },
  {
   "cell_type": "markdown",
   "id": "2066107c-3ad1-4b76-a305-f1f683adc903",
   "metadata": {},
   "source": [
    "<p style=\"background-image: linear-gradient(#0aa98f, #FFFFFF 10%)\"> &nbsp; </p>"
   ]
  },
  {
   "cell_type": "code",
   "execution_count": 4,
   "id": "db542aee-ff5e-43b4-97e3-32974bcec377",
   "metadata": {},
   "outputs": [],
   "source": [
    "# n_user, n_item = data['train'].shape\n",
    "\n",
    "# user_favs = data['item_labels'][data['train'].tocsr()[2].indices] # sparse matrix 2->id\n",
    "# print(user_favs)\n",
    "\n",
    "# movie_score = model.predict(2, np.arange(n_item))\n",
    "# movie_best_score = data['item_labels'][np.argsort(movie_score)]\n",
    "# print(movie_score)\n",
    "# print(movie_best_score)"
   ]
  },
  {
   "cell_type": "code",
   "execution_count": 5,
   "id": "7d701847-3fa9-42d8-a1d9-44a9b89d6728",
   "metadata": {},
   "outputs": [],
   "source": [
    "def recommend(model, data, user_ids):\n",
    "    n_user, n_item = data['train'].shape\n",
    "\n",
    "    for i in user_ids:\n",
    "        user_favs = data['item_labels'][data['train'].tocsr()[i].indices] # sparse matrix 2->id\n",
    "        movie_scores = model.predict(i, np.arange(n_item))\n",
    "        best_scores = data['item_labels'][np.argsort(-movie_scores)]\n",
    "\n",
    "        print('User', i)\n",
    "        print(\"User'sFavorite Movies\")\n",
    "        for fav in user_favs[:3]:\n",
    "            print('\\t', fav)\n",
    "        print('Recommended Movies')\n",
    "        for rec in best_scores[:3]:\n",
    "            print('\\t', rec)\n",
    "        print()"
   ]
  },
  {
   "cell_type": "code",
   "execution_count": 6,
   "id": "0544d917-7414-4fe5-853a-a51aa453c1ae",
   "metadata": {},
   "outputs": [
    {
     "name": "stdout",
     "output_type": "stream",
     "text": [
      "User 1\n",
      "User'sFavorite Movies\n",
      "\t T\n",
      "\t R\n",
      "\t P\n",
      "Recommended Movies\n",
      "\t E\n",
      "\t C\n",
      "\t S\n",
      "\n",
      "User 12\n",
      "User'sFavorite Movies\n",
      "\t T\n",
      "\t G\n",
      "\t G\n",
      "Recommended Movies\n",
      "\t S\n",
      "\t R\n",
      "\t R\n",
      "\n",
      "User 100\n",
      "User'sFavorite Movies\n",
      "\t T\n",
      "\t T\n",
      "\t R\n",
      "Recommended Movies\n",
      "\t S\n",
      "\t R\n",
      "\t I\n",
      "\n",
      "User 500\n",
      "User'sFavorite Movies\n",
      "\t T\n",
      "\t M\n",
      "\t R\n",
      "Recommended Movies\n",
      "\t S\n",
      "\t I\n",
      "\t R\n",
      "\n"
     ]
    }
   ],
   "source": [
    "users = [1,12,100,500]\n",
    "recommend(model, data, users)"
   ]
  },
  {
   "cell_type": "markdown",
   "id": "0b184220-fa39-433d-b60e-849322cfe88c",
   "metadata": {},
   "source": [
    "<p style=\"background-image: linear-gradient(to right, #0aa98f, #68dab2)\"> &nbsp; </p>"
   ]
  }
 ],
 "metadata": {
  "kernelspec": {
   "display_name": "Python 3 (ipykernel)",
   "language": "python",
   "name": "python3"
  },
  "language_info": {
   "codemirror_mode": {
    "name": "ipython",
    "version": 3
   },
   "file_extension": ".py",
   "mimetype": "text/x-python",
   "name": "python",
   "nbconvert_exporter": "python",
   "pygments_lexer": "ipython3",
   "version": "3.11.10"
  }
 },
 "nbformat": 4,
 "nbformat_minor": 5
}
