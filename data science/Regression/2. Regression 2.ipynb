{
 "cells": [
  {
   "cell_type": "code",
   "execution_count": 1,
   "id": "3bdb87cd-6cbc-4c32-bc58-317b12f8e4b0",
   "metadata": {},
   "outputs": [],
   "source": [
    "import pandas as pd\n",
    "import numpy as np\n",
    "import matplotlib.pyplot as plt\n",
    "import seaborn as sns\n",
    "\n",
    "import sklearn.metrics as mt\n",
    "from statsmodels.stats.outliers_influence import variance_inflation_factor\n",
    "from sklearn.model_selection import train_test_split, cross_val_score\n",
    "from sklearn.linear_model import (LinearRegression, Ridge, RidgeCV, \n",
    "                                  Lasso, LassoCV, ElasticNet, ElasticNetCV)"
   ]
  },
  {
   "cell_type": "markdown",
   "id": "e6ab41e9-477c-4fe7-b543-5317a5b470a8",
   "metadata": {},
   "source": [
    "<p style=\"background-image: linear-gradient(to right, #0aa98f, #68dab2)\"> &nbsp; </p>"
   ]
  },
  {
   "cell_type": "code",
   "execution_count": 2,
   "id": "d0f43c65-75a3-46b8-9102-63f0974cee07",
   "metadata": {},
   "outputs": [
    {
     "name": "stdout",
     "output_type": "stream",
     "text": [
      "<class 'pandas.core.frame.DataFrame'>\n",
      "RangeIndex: 5000 entries, 0 to 4999\n",
      "Data columns (total 7 columns):\n",
      " #   Column                        Non-Null Count  Dtype  \n",
      "---  ------                        --------------  -----  \n",
      " 0   Avg. Area Income              5000 non-null   float64\n",
      " 1   Avg. Area House Age           5000 non-null   float64\n",
      " 2   Avg. Area Number of Rooms     5000 non-null   float64\n",
      " 3   Avg. Area Number of Bedrooms  5000 non-null   float64\n",
      " 4   Area Population               5000 non-null   float64\n",
      " 5   Price                         5000 non-null   float64\n",
      " 6   Address                       5000 non-null   object \n",
      "dtypes: float64(6), object(1)\n",
      "memory usage: 273.6+ KB\n"
     ]
    }
   ],
   "source": [
    "data = pd.read_csv('data/04_USA_Housing.csv')\n",
    "data.info()"
   ]
  },
  {
   "cell_type": "code",
   "execution_count": 3,
   "id": "95e75cab-9215-412d-b99b-74ff8e38da05",
   "metadata": {},
   "outputs": [
    {
     "data": {
      "text/html": [
       "<div>\n",
       "<style scoped>\n",
       "    .dataframe tbody tr th:only-of-type {\n",
       "        vertical-align: middle;\n",
       "    }\n",
       "\n",
       "    .dataframe tbody tr th {\n",
       "        vertical-align: top;\n",
       "    }\n",
       "\n",
       "    .dataframe thead th {\n",
       "        text-align: right;\n",
       "    }\n",
       "</style>\n",
       "<table border=\"1\" class=\"dataframe\">\n",
       "  <thead>\n",
       "    <tr style=\"text-align: right;\">\n",
       "      <th></th>\n",
       "      <th>Avg. Area Income</th>\n",
       "      <th>Avg. Area House Age</th>\n",
       "      <th>Avg. Area Number of Rooms</th>\n",
       "      <th>Avg. Area Number of Bedrooms</th>\n",
       "      <th>Area Population</th>\n",
       "      <th>Price</th>\n",
       "    </tr>\n",
       "  </thead>\n",
       "  <tbody>\n",
       "    <tr>\n",
       "      <th>0</th>\n",
       "      <td>79545.458574</td>\n",
       "      <td>5.682861</td>\n",
       "      <td>7.009188</td>\n",
       "      <td>4.09</td>\n",
       "      <td>23086.800503</td>\n",
       "      <td>1.059034e+06</td>\n",
       "    </tr>\n",
       "    <tr>\n",
       "      <th>1</th>\n",
       "      <td>79248.642455</td>\n",
       "      <td>6.002900</td>\n",
       "      <td>6.730821</td>\n",
       "      <td>3.09</td>\n",
       "      <td>40173.072174</td>\n",
       "      <td>1.505891e+06</td>\n",
       "    </tr>\n",
       "    <tr>\n",
       "      <th>2</th>\n",
       "      <td>61287.067179</td>\n",
       "      <td>5.865890</td>\n",
       "      <td>8.512727</td>\n",
       "      <td>5.13</td>\n",
       "      <td>36882.159400</td>\n",
       "      <td>1.058988e+06</td>\n",
       "    </tr>\n",
       "  </tbody>\n",
       "</table>\n",
       "</div>"
      ],
      "text/plain": [
       "   Avg. Area Income  Avg. Area House Age  Avg. Area Number of Rooms  \\\n",
       "0      79545.458574             5.682861                   7.009188   \n",
       "1      79248.642455             6.002900                   6.730821   \n",
       "2      61287.067179             5.865890                   8.512727   \n",
       "\n",
       "   Avg. Area Number of Bedrooms  Area Population         Price  \n",
       "0                          4.09     23086.800503  1.059034e+06  \n",
       "1                          3.09     40173.072174  1.505891e+06  \n",
       "2                          5.13     36882.159400  1.058988e+06  "
      ]
     },
     "execution_count": 3,
     "metadata": {},
     "output_type": "execute_result"
    }
   ],
   "source": [
    "data.drop(columns='Address', inplace=True)\n",
    "data.head(3)"
   ]
  },
  {
   "cell_type": "markdown",
   "id": "cc67302d-98b3-4ac5-82d8-3bfdffbc16fa",
   "metadata": {},
   "source": [
    "<p style=\"background-image: linear-gradient(to right, #0aa98f, #68dab2)\"> &nbsp; </p>"
   ]
  },
  {
   "cell_type": "code",
   "execution_count": 4,
   "id": "d520380c-598d-435c-8b15-4f1659c9e323",
   "metadata": {},
   "outputs": [
    {
     "data": {
      "image/png": "[encoded data removed]",
      "text/plain": [
       "<Figure size 400x300 with 2 Axes>"
      ]
     },
     "metadata": {},
     "output_type": "display_data"
    }
   ],
   "source": [
    "plt.figure(figsize=(4,3))\n",
    "sns.heatmap(data.corr(), annot=True, \n",
    "            fmt='.2f', cmap='flare',  xticklabels=[])\n",
    "\n",
    "plt.show()"
   ]
  },
  {
   "cell_type": "code",
   "execution_count": 5,
   "id": "3e64ef64-7471-461b-aca4-df76b8f8a12a",
   "metadata": {},
   "outputs": [],
   "source": [
    "y = data['Price']\n",
    "X = data.drop(columns='Price')"
   ]
  },
  {
   "cell_type": "code",
   "execution_count": 6,
   "id": "975b07ba-0418-453d-9992-9ad1c7ff1a13",
   "metadata": {},
   "outputs": [
    {
     "data": {
      "text/html": [
       "<div>\n",
       "<style scoped>\n",
       "    .dataframe tbody tr th:only-of-type {\n",
       "        vertical-align: middle;\n",
       "    }\n",
       "\n",
       "    .dataframe tbody tr th {\n",
       "        vertical-align: top;\n",
       "    }\n",
       "\n",
       "    .dataframe thead th {\n",
       "        text-align: right;\n",
       "    }\n",
       "</style>\n",
       "<table border=\"1\" class=\"dataframe\">\n",
       "  <thead>\n",
       "    <tr style=\"text-align: right;\">\n",
       "      <th></th>\n",
       "      <th>Variables</th>\n",
       "      <th>Values</th>\n",
       "    </tr>\n",
       "  </thead>\n",
       "  <tbody>\n",
       "    <tr>\n",
       "      <th>0</th>\n",
       "      <td>Avg. Area Income</td>\n",
       "      <td>1.001159</td>\n",
       "    </tr>\n",
       "    <tr>\n",
       "      <th>1</th>\n",
       "      <td>Avg. Area House Age</td>\n",
       "      <td>1.000577</td>\n",
       "    </tr>\n",
       "    <tr>\n",
       "      <th>2</th>\n",
       "      <td>Avg. Area Number of Rooms</td>\n",
       "      <td>1.273535</td>\n",
       "    </tr>\n",
       "    <tr>\n",
       "      <th>3</th>\n",
       "      <td>Avg. Area Number of Bedrooms</td>\n",
       "      <td>1.274413</td>\n",
       "    </tr>\n",
       "    <tr>\n",
       "      <th>4</th>\n",
       "      <td>Area Population</td>\n",
       "      <td>1.001266</td>\n",
       "    </tr>\n",
       "  </tbody>\n",
       "</table>\n",
       "</div>"
      ],
      "text/plain": [
       "                      Variables    Values\n",
       "0              Avg. Area Income  1.001159\n",
       "1           Avg. Area House Age  1.000577\n",
       "2     Avg. Area Number of Rooms  1.273535\n",
       "3  Avg. Area Number of Bedrooms  1.274413\n",
       "4               Area Population  1.001266"
      ]
     },
     "metadata": {},
     "output_type": "display_data"
    }
   ],
   "source": [
    "X_vif = X.assign(const=1)\n",
    "vif = pd.DataFrame()\n",
    "vif['Variables'] = X.columns\n",
    "vif['Values'] = [variance_inflation_factor(X_vif, i) for i in range(X.shape[1])]\n",
    "display(vif)"
   ]
  },
  {
   "cell_type": "markdown",
   "id": "87243faf-1c94-4765-829d-71b6a036d0fc",
   "metadata": {},
   "source": [
    "<p style=\"background-image: linear-gradient(to right, #0aa98f, #68dab2)\"> &nbsp; </p>"
   ]
  },
  {
   "cell_type": "code",
   "execution_count": 7,
   "id": "e5ad1422-da8c-4c63-a066-d20463e81035",
   "metadata": {},
   "outputs": [],
   "source": [
    "X_train, X_test, y_train, y_test = train_test_split(X, y, test_size=0.2, random_state=0)"
   ]
  },
  {
   "cell_type": "code",
   "execution_count": 8,
   "id": "4b6d52c4-0d5f-4324-9432-3aaff3b1d7b5",
   "metadata": {},
   "outputs": [],
   "source": [
    "def _cv(_model):\n",
    "    _score = cross_val_score(_model, X, y, cv=10)\n",
    "    return _score.mean()\n",
    "\n",
    "def _rmse_r2(_actuals, _predictions):\n",
    "    _rmse = mt.root_mean_squared_error(_actuals, _predictions)\n",
    "    _r2   = mt.r2_score(_actuals, _predictions)\n",
    "    return _rmse, _r2"
   ]
  },
  {
   "cell_type": "code",
   "execution_count": 9,
   "id": "9d06de62-dc2a-44e9-8601-0de1d4e4d710",
   "metadata": {},
   "outputs": [
    {
     "data": {
      "text/html": [
       "<div>\n",
       "<style scoped>\n",
       "    .dataframe tbody tr th:only-of-type {\n",
       "        vertical-align: middle;\n",
       "    }\n",
       "\n",
       "    .dataframe tbody tr th {\n",
       "        vertical-align: top;\n",
       "    }\n",
       "\n",
       "    .dataframe thead th {\n",
       "        text-align: right;\n",
       "    }\n",
       "</style>\n",
       "<table border=\"1\" class=\"dataframe\">\n",
       "  <thead>\n",
       "    <tr style=\"text-align: right;\">\n",
       "      <th></th>\n",
       "      <th>RMSE</th>\n",
       "      <th>R2</th>\n",
       "      <th>CrossValidationScore</th>\n",
       "    </tr>\n",
       "    <tr>\n",
       "      <th>Model</th>\n",
       "      <th></th>\n",
       "      <th></th>\n",
       "      <th></th>\n",
       "    </tr>\n",
       "  </thead>\n",
       "  <tbody>\n",
       "    <tr>\n",
       "      <th>Lineer</th>\n",
       "      <td>102,711.8381</td>\n",
       "      <td>0.9146</td>\n",
       "      <td>0.9174</td>\n",
       "    </tr>\n",
       "    <tr>\n",
       "      <th>Ridge</th>\n",
       "      <td>102,711.8483</td>\n",
       "      <td>0.9146</td>\n",
       "      <td>0.9174</td>\n",
       "    </tr>\n",
       "    <tr>\n",
       "      <th>RidgeCV</th>\n",
       "      <td>102,711.9226</td>\n",
       "      <td>0.9146</td>\n",
       "      <td>0.9174</td>\n",
       "    </tr>\n",
       "    <tr>\n",
       "      <th>Lasso</th>\n",
       "      <td>102,711.8361</td>\n",
       "      <td>0.9146</td>\n",
       "      <td>0.9174</td>\n",
       "    </tr>\n",
       "    <tr>\n",
       "      <th>LassoCV</th>\n",
       "      <td>102,711.8380</td>\n",
       "      <td>0.9146</td>\n",
       "      <td>0.9174</td>\n",
       "    </tr>\n",
       "    <tr>\n",
       "      <th>ElasticNet</th>\n",
       "      <td>103,212.7379</td>\n",
       "      <td>0.9138</td>\n",
       "      <td>0.9165</td>\n",
       "    </tr>\n",
       "    <tr>\n",
       "      <th>ElasticNetCV</th>\n",
       "      <td>102,714.1906</td>\n",
       "      <td>0.9146</td>\n",
       "      <td>0.9174</td>\n",
       "    </tr>\n",
       "  </tbody>\n",
       "</table>\n",
       "</div>"
      ],
      "text/plain": [
       "                     RMSE     R2 CrossValidationScore\n",
       "Model                                                \n",
       "Lineer       102,711.8381 0.9146               0.9174\n",
       "Ridge        102,711.8483 0.9146               0.9174\n",
       "RidgeCV      102,711.9226 0.9146               0.9174\n",
       "Lasso        102,711.8361 0.9146               0.9174\n",
       "LassoCV      102,711.8380 0.9146               0.9174\n",
       "ElasticNet   103,212.7379 0.9138               0.9165\n",
       "ElasticNetCV 102,714.1906 0.9146               0.9174"
      ]
     },
     "metadata": {},
     "output_type": "display_data"
    }
   ],
   "source": [
    "lambdas = 10**np.linspace(10, -2, 100)*0.5\n",
    "# lambdas = 10**np.linspace(1, -4, 100)*0.5\n",
    "\n",
    "best_alphas = {\n",
    "    'RidgeCV': RidgeCV(alphas=lambdas, scoring='r2').fit(X_train, y_train).alpha_,\n",
    "    'LassoCV': LassoCV(alphas=lambdas, cv=10,).fit(X_train, y_train).alpha_,\n",
    "    'ElasticNetCV': ElasticNetCV(alphas=lambdas, cv=10).fit(X_train, y_train).alpha_    \n",
    "}\n",
    "\n",
    "models = {'Lineer': LinearRegression(),\n",
    "          'Ridge': Ridge(alpha=0.1),\n",
    "          'RidgeCV': Ridge(best_alphas['RidgeCV']),\n",
    "          'Lasso': Lasso(alpha=0.1),\n",
    "          'LassoCV': Lasso(best_alphas['LassoCV']),\n",
    "          'ElasticNet': ElasticNet(alpha=0.1),\n",
    "          'ElasticNetCV': ElasticNet(best_alphas['ElasticNetCV'])\n",
    "}\n",
    "\n",
    "results = pd.DataFrame()\n",
    "for name, model in models.items():\n",
    "    model.fit(X_train, y_train)\n",
    "    predictions = model.predict(X_test)\n",
    "    \n",
    "    rmse_r2 = _rmse_r2(y_test, predictions)\n",
    "    cv = _cv(model)\n",
    "    row = pd.DataFrame([name, rmse_r2[0], rmse_r2[1], cv]).T\n",
    "    results = pd.concat([results, row])\n",
    "\n",
    "results.columns = ['Model', 'RMSE', 'R2', 'CrossValidationScore']\n",
    "results.set_index('Model', inplace=True)\n",
    "pd.options.display.float_format='{:,.4f}'.format\n",
    "display(results)\n",
    "\n",
    "# print(best_alphas)"
   ]
  },
  {
   "cell_type": "markdown",
   "id": "46b031e0-e817-4908-befc-d2c5e680c56f",
   "metadata": {},
   "source": [
    "<p style=\"background-image: linear-gradient(to right, #0aa98f, #68dab2)\"> &nbsp; </p>"
   ]
  }
 ],
 "metadata": {
  "kernelspec": {
   "display_name": "Python 3 (ipykernel)",
   "language": "python",
   "name": "python3"
  },
  "language_info": {
   "codemirror_mode": {
    "name": "ipython",
    "version": 3
   },
   "file_extension": ".py",
   "mimetype": "text/x-python",
   "name": "python",
   "nbconvert_exporter": "python",
   "pygments_lexer": "ipython3",
   "version": "3.11.10"
  }
 },
 "nbformat": 4,
 "nbformat_minor": 5
}
