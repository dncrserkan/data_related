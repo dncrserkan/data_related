{
 "cells": [
  {
   "cell_type": "code",
   "execution_count": 1,
   "id": "3bdb87cd-6cbc-4c32-bc58-317b12f8e4b0",
   "metadata": {},
   "outputs": [],
   "source": [
    "import pandas as pd\n",
    "\n",
    "import sklearn.metrics as mt\n",
    "from sklearn.pipeline import Pipeline\n",
    "from sklearn.preprocessing import PolynomialFeatures\n",
    "from sklearn.linear_model import LinearRegression\n",
    "from sklearn.model_selection  import train_test_split as tts\n",
    "from sklearn.feature_selection import SequentialFeatureSelector as SFS"
   ]
  },
  {
   "cell_type": "markdown",
   "id": "cc67302d-98b3-4ac5-82d8-3bfdffbc16fa",
   "metadata": {},
   "source": [
    "<p style=\"background-image: linear-gradient(to right, #0aa98f, #68dab2)\"> &nbsp; </p>"
   ]
  },
  {
   "cell_type": "code",
   "execution_count": 2,
   "id": "d0f43c65-75a3-46b8-9102-63f0974cee07",
   "metadata": {},
   "outputs": [
    {
     "name": "stdout",
     "output_type": "stream",
     "text": [
      "(1599, 12)\n"
     ]
    },
    {
     "data": {
      "text/html": [
       "<div>\n",
       "<style scoped>\n",
       "    .dataframe tbody tr th:only-of-type {\n",
       "        vertical-align: middle;\n",
       "    }\n",
       "\n",
       "    .dataframe tbody tr th {\n",
       "        vertical-align: top;\n",
       "    }\n",
       "\n",
       "    .dataframe thead th {\n",
       "        text-align: right;\n",
       "    }\n",
       "</style>\n",
       "<table border=\"1\" class=\"dataframe\">\n",
       "  <thead>\n",
       "    <tr style=\"text-align: right;\">\n",
       "      <th></th>\n",
       "      <th>fixed acidity</th>\n",
       "      <th>volatile acidity</th>\n",
       "      <th>citric acid</th>\n",
       "      <th>residual sugar</th>\n",
       "      <th>chlorides</th>\n",
       "      <th>free sulfur dioxide</th>\n",
       "      <th>total sulfur dioxide</th>\n",
       "      <th>density</th>\n",
       "      <th>pH</th>\n",
       "      <th>sulphates</th>\n",
       "      <th>alcohol</th>\n",
       "      <th>quality</th>\n",
       "    </tr>\n",
       "  </thead>\n",
       "  <tbody>\n",
       "    <tr>\n",
       "      <th>0</th>\n",
       "      <td>7.4</td>\n",
       "      <td>0.70</td>\n",
       "      <td>0.00</td>\n",
       "      <td>1.9</td>\n",
       "      <td>0.076</td>\n",
       "      <td>11.0</td>\n",
       "      <td>34.0</td>\n",
       "      <td>0.9978</td>\n",
       "      <td>3.51</td>\n",
       "      <td>0.56</td>\n",
       "      <td>9.4</td>\n",
       "      <td>5</td>\n",
       "    </tr>\n",
       "    <tr>\n",
       "      <th>1</th>\n",
       "      <td>7.8</td>\n",
       "      <td>0.88</td>\n",
       "      <td>0.00</td>\n",
       "      <td>2.6</td>\n",
       "      <td>0.098</td>\n",
       "      <td>25.0</td>\n",
       "      <td>67.0</td>\n",
       "      <td>0.9968</td>\n",
       "      <td>3.20</td>\n",
       "      <td>0.68</td>\n",
       "      <td>9.8</td>\n",
       "      <td>5</td>\n",
       "    </tr>\n",
       "    <tr>\n",
       "      <th>2</th>\n",
       "      <td>7.8</td>\n",
       "      <td>0.76</td>\n",
       "      <td>0.04</td>\n",
       "      <td>2.3</td>\n",
       "      <td>0.092</td>\n",
       "      <td>15.0</td>\n",
       "      <td>54.0</td>\n",
       "      <td>0.9970</td>\n",
       "      <td>3.26</td>\n",
       "      <td>0.65</td>\n",
       "      <td>9.8</td>\n",
       "      <td>5</td>\n",
       "    </tr>\n",
       "    <tr>\n",
       "      <th>3</th>\n",
       "      <td>11.2</td>\n",
       "      <td>0.28</td>\n",
       "      <td>0.56</td>\n",
       "      <td>1.9</td>\n",
       "      <td>0.075</td>\n",
       "      <td>17.0</td>\n",
       "      <td>60.0</td>\n",
       "      <td>0.9980</td>\n",
       "      <td>3.16</td>\n",
       "      <td>0.58</td>\n",
       "      <td>9.8</td>\n",
       "      <td>6</td>\n",
       "    </tr>\n",
       "    <tr>\n",
       "      <th>4</th>\n",
       "      <td>7.4</td>\n",
       "      <td>0.70</td>\n",
       "      <td>0.00</td>\n",
       "      <td>1.9</td>\n",
       "      <td>0.076</td>\n",
       "      <td>11.0</td>\n",
       "      <td>34.0</td>\n",
       "      <td>0.9978</td>\n",
       "      <td>3.51</td>\n",
       "      <td>0.56</td>\n",
       "      <td>9.4</td>\n",
       "      <td>5</td>\n",
       "    </tr>\n",
       "  </tbody>\n",
       "</table>\n",
       "</div>"
      ],
      "text/plain": [
       "   fixed acidity  volatile acidity  citric acid  residual sugar  chlorides  \\\n",
       "0            7.4              0.70         0.00             1.9      0.076   \n",
       "1            7.8              0.88         0.00             2.6      0.098   \n",
       "2            7.8              0.76         0.04             2.3      0.092   \n",
       "3           11.2              0.28         0.56             1.9      0.075   \n",
       "4            7.4              0.70         0.00             1.9      0.076   \n",
       "\n",
       "   free sulfur dioxide  total sulfur dioxide  density    pH  sulphates  \\\n",
       "0                 11.0                  34.0   0.9978  3.51       0.56   \n",
       "1                 25.0                  67.0   0.9968  3.20       0.68   \n",
       "2                 15.0                  54.0   0.9970  3.26       0.65   \n",
       "3                 17.0                  60.0   0.9980  3.16       0.58   \n",
       "4                 11.0                  34.0   0.9978  3.51       0.56   \n",
       "\n",
       "   alcohol  quality  \n",
       "0      9.4        5  \n",
       "1      9.8        5  \n",
       "2      9.8        5  \n",
       "3      9.8        6  \n",
       "4      9.4        5  "
      ]
     },
     "execution_count": 2,
     "metadata": {},
     "output_type": "execute_result"
    }
   ],
   "source": [
    "data = pd.read_csv('data/05_winequality-red.csv')\n",
    "print(data.shape)\n",
    "data.head()"
   ]
  },
  {
   "cell_type": "code",
   "execution_count": 3,
   "id": "3e64ef64-7471-461b-aca4-df76b8f8a12a",
   "metadata": {},
   "outputs": [
    {
     "name": "stdout",
     "output_type": "stream",
     "text": [
      "34.99871062872153 [ 4.12835075e-02 -1.14952802e+00 -1.77927063e-01  2.78700036e-02\n",
      " -1.87340739e+00  2.68362616e-03 -2.77748370e-03 -3.15166657e+01\n",
      " -2.54486051e-01  9.24040106e-01  2.67797417e-01]\n",
      "R2   : 0.3283887639580201\n"
     ]
    }
   ],
   "source": [
    "y = data['quality']\n",
    "X = data.drop(columns='quality')\n",
    "\n",
    "X_train, X_test, y_train, y_test = tts(X, y, test_size=0.2, random_state=0)\n",
    "\n",
    "model = LinearRegression()\n",
    "model.fit(X_train, y_train)\n",
    "predictions = model.predict(X_test)\n",
    "\n",
    "print(model.intercept_, model.coef_)\n",
    "print('R2   :', mt.r2_score(y_test, predictions))"
   ]
  },
  {
   "cell_type": "markdown",
   "id": "e6ab41e9-477c-4fe7-b543-5317a5b470a8",
   "metadata": {},
   "source": [
    "<p style=\"background-image: linear-gradient(to right, #0aa98f, #68dab2)\"> &nbsp; </p>\n",
    "\n",
    "**Stepwise Regression - Forward**"
   ]
  },
  {
   "cell_type": "code",
   "execution_count": 4,
   "id": "73ab1c04-620d-4015-a536-165919749c8f",
   "metadata": {},
   "outputs": [
    {
     "name": "stdout",
     "output_type": "stream",
     "text": [
      "['volatile acidity' 'chlorides' 'total sulfur dioxide' 'sulphates'\n",
      " 'alcohol']\n"
     ]
    }
   ],
   "source": [
    "y = data['quality']\n",
    "X = data.drop(columns='quality')\n",
    "\n",
    "X_train, X_test, y_train, y_test = tts(X, y, test_size=0.2, random_state=0)\n",
    "\n",
    "model = LinearRegression()\n",
    "\n",
    "forward = SFS(model, n_features_to_select='auto', direction='forward', \n",
    "              scoring=\"neg_mean_squared_error\")  # n_features_to_select='auto'\n",
    "forward = forward.fit(X_train, y_train)\n",
    "\n",
    "print(forward.get_feature_names_out())"
   ]
  },
  {
   "cell_type": "code",
   "execution_count": 5,
   "id": "926b61be-6ce7-4c29-9210-f8ce4c99c855",
   "metadata": {},
   "outputs": [
    {
     "name": "stdout",
     "output_type": "stream",
     "text": [
      "3.010526323885073 [-1.21046416 -1.7655295  -0.00217522  0.89491841  0.28268935]\n",
      "R2   : 0.31563789039192613\n"
     ]
    }
   ],
   "source": [
    "fX = data[[*forward.get_feature_names_out()]]\n",
    "fX_train, fX_test, y_train, y_test = tts(fX, y, test_size=0.2, random_state=0)\n",
    "\n",
    "f_model = LinearRegression()\n",
    "f_model.fit(fX_train, y_train)\n",
    "predictions = f_model.predict(fX_test)\n",
    "\n",
    "print(f_model.intercept_, f_model.coef_)\n",
    "print('R2   :', mt.r2_score(y_test, predictions))"
   ]
  },
  {
   "cell_type": "markdown",
   "id": "46b031e0-e817-4908-befc-d2c5e680c56f",
   "metadata": {},
   "source": [
    "<p style=\"background-image: linear-gradient(to right, #0aa98f, #68dab2)\"> &nbsp; </p>\n",
    "\n",
    "**Stepwise Regression - Backward**"
   ]
  },
  {
   "cell_type": "code",
   "execution_count": 6,
   "id": "02461cfa-1df3-4a92-a5c5-3dfd240a282c",
   "metadata": {},
   "outputs": [
    {
     "name": "stdout",
     "output_type": "stream",
     "text": [
      "['fixed acidity' 'volatile acidity' 'chlorides' 'total sulfur dioxide'\n",
      " 'sulphates' 'alcohol']\n"
     ]
    }
   ],
   "source": [
    "y = data['quality']\n",
    "X = data.drop(columns='quality')\n",
    "\n",
    "X_train, X_test, y_train, y_test = tts(X, y, test_size=0.2, random_state=0)\n",
    "\n",
    "model = LinearRegression()\n",
    "backward = SFS(model, n_features_to_select='auto', direction='backward', \n",
    "              scoring=\"neg_mean_squared_error\")\n",
    "backward = backward.fit(X_train, y_train)\n",
    "\n",
    "print(backward.get_feature_names_out())"
   ]
  },
  {
   "cell_type": "code",
   "execution_count": 7,
   "id": "375b6c9b-659c-45c0-984a-1e62b803af24",
   "metadata": {},
   "outputs": [
    {
     "name": "stdout",
     "output_type": "stream",
     "text": [
      "2.737345463033121 [ 0.02398203 -1.15103249 -1.79686449 -0.00200784  0.86717873  0.28795711]\n",
      "R2   : 0.3184365464236124\n"
     ]
    }
   ],
   "source": [
    "bX = data[[*backward.get_feature_names_out()]]\n",
    "bX_train, bX_test, y_train, y_test = tts(bX, y, test_size=0.2, random_state=0)\n",
    "\n",
    "b_model = LinearRegression()\n",
    "b_model.fit(bX_train, y_train)\n",
    "predictions = b_model.predict(bX_test)\n",
    "\n",
    "print(b_model.intercept_, b_model.coef_)\n",
    "print('R2   :', mt.r2_score(y_test, predictions))"
   ]
  },
  {
   "cell_type": "markdown",
   "id": "27f170b6-6a64-43c2-be1c-658e802699ed",
   "metadata": {},
   "source": [
    "<p style=\"background-image: linear-gradient(to right, #0aa98f, #68dab2)\"> &nbsp; </p>\n",
    "\n",
    "**Weighted Regression**"
   ]
  },
  {
   "cell_type": "code",
   "execution_count": 8,
   "id": "617467f2-ed49-4255-9811-4a9924a08863",
   "metadata": {},
   "outputs": [
    {
     "data": {
      "text/html": [
       "<div>\n",
       "<style scoped>\n",
       "    .dataframe tbody tr th:only-of-type {\n",
       "        vertical-align: middle;\n",
       "    }\n",
       "\n",
       "    .dataframe tbody tr th {\n",
       "        vertical-align: top;\n",
       "    }\n",
       "\n",
       "    .dataframe thead th {\n",
       "        text-align: right;\n",
       "    }\n",
       "</style>\n",
       "<table border=\"1\" class=\"dataframe\">\n",
       "  <thead>\n",
       "    <tr style=\"text-align: right;\">\n",
       "      <th></th>\n",
       "      <th>TV</th>\n",
       "      <th>Radio</th>\n",
       "      <th>Newspaper</th>\n",
       "      <th>Sales</th>\n",
       "    </tr>\n",
       "  </thead>\n",
       "  <tbody>\n",
       "    <tr>\n",
       "      <th>0</th>\n",
       "      <td>230.1</td>\n",
       "      <td>37.8</td>\n",
       "      <td>69.2</td>\n",
       "      <td>22.1</td>\n",
       "    </tr>\n",
       "    <tr>\n",
       "      <th>1</th>\n",
       "      <td>44.5</td>\n",
       "      <td>39.3</td>\n",
       "      <td>45.1</td>\n",
       "      <td>10.4</td>\n",
       "    </tr>\n",
       "    <tr>\n",
       "      <th>2</th>\n",
       "      <td>17.2</td>\n",
       "      <td>45.9</td>\n",
       "      <td>69.3</td>\n",
       "      <td>9.3</td>\n",
       "    </tr>\n",
       "  </tbody>\n",
       "</table>\n",
       "</div>"
      ],
      "text/plain": [
       "      TV  Radio  Newspaper  Sales\n",
       "0  230.1   37.8       69.2   22.1\n",
       "1   44.5   39.3       45.1   10.4\n",
       "2   17.2   45.9       69.3    9.3"
      ]
     },
     "execution_count": 8,
     "metadata": {},
     "output_type": "execute_result"
    }
   ],
   "source": [
    "data = pd.read_csv('data/02_advertising.csv')\n",
    "data.head(3)"
   ]
  },
  {
   "cell_type": "code",
   "execution_count": 9,
   "id": "2a8fc2b0-5e1c-49b2-a7df-3fa9cfe7f362",
   "metadata": {},
   "outputs": [
    {
     "data": {
      "text/html": [
       "<div>\n",
       "<style scoped>\n",
       "    .dataframe tbody tr th:only-of-type {\n",
       "        vertical-align: middle;\n",
       "    }\n",
       "\n",
       "    .dataframe tbody tr th {\n",
       "        vertical-align: top;\n",
       "    }\n",
       "\n",
       "    .dataframe thead th {\n",
       "        text-align: right;\n",
       "    }\n",
       "</style>\n",
       "<table border=\"1\" class=\"dataframe\">\n",
       "  <thead>\n",
       "    <tr style=\"text-align: right;\">\n",
       "      <th></th>\n",
       "      <th>TV</th>\n",
       "      <th>Radio</th>\n",
       "      <th>Newspaper</th>\n",
       "      <th>Sales</th>\n",
       "      <th>Weight</th>\n",
       "    </tr>\n",
       "  </thead>\n",
       "  <tbody>\n",
       "    <tr>\n",
       "      <th>0</th>\n",
       "      <td>230.1</td>\n",
       "      <td>37.8</td>\n",
       "      <td>69.2</td>\n",
       "      <td>22.1</td>\n",
       "      <td>4</td>\n",
       "    </tr>\n",
       "    <tr>\n",
       "      <th>1</th>\n",
       "      <td>44.5</td>\n",
       "      <td>39.3</td>\n",
       "      <td>45.1</td>\n",
       "      <td>10.4</td>\n",
       "      <td>2</td>\n",
       "    </tr>\n",
       "    <tr>\n",
       "      <th>2</th>\n",
       "      <td>17.2</td>\n",
       "      <td>45.9</td>\n",
       "      <td>69.3</td>\n",
       "      <td>9.3</td>\n",
       "      <td>2</td>\n",
       "    </tr>\n",
       "  </tbody>\n",
       "</table>\n",
       "</div>"
      ],
      "text/plain": [
       "      TV  Radio  Newspaper  Sales Weight\n",
       "0  230.1   37.8       69.2   22.1      4\n",
       "1   44.5   39.3       45.1   10.4      2\n",
       "2   17.2   45.9       69.3    9.3      2"
      ]
     },
     "execution_count": 9,
     "metadata": {},
     "output_type": "execute_result"
    }
   ],
   "source": [
    "# labels = ['Low', 'Normal', 'High', 'Very High']\n",
    "labels = [1, 2, 3, 4]\n",
    "data['Weight'] = pd.cut(data['Sales'], bins=4, labels=labels)\n",
    "data.head(3)"
   ]
  },
  {
   "cell_type": "code",
   "execution_count": 10,
   "id": "3813acf3-b5a3-4499-91df-d6dac42a69cf",
   "metadata": {},
   "outputs": [
    {
     "data": {
      "text/html": [
       "<div>\n",
       "<style scoped>\n",
       "    .dataframe tbody tr th:only-of-type {\n",
       "        vertical-align: middle;\n",
       "    }\n",
       "\n",
       "    .dataframe tbody tr th {\n",
       "        vertical-align: top;\n",
       "    }\n",
       "\n",
       "    .dataframe thead th {\n",
       "        text-align: right;\n",
       "    }\n",
       "</style>\n",
       "<table border=\"1\" class=\"dataframe\">\n",
       "  <thead>\n",
       "    <tr style=\"text-align: right;\">\n",
       "      <th></th>\n",
       "      <th>predictor</th>\n",
       "      <th>sales_lm</th>\n",
       "      <th>sales_wm</th>\n",
       "    </tr>\n",
       "  </thead>\n",
       "  <tbody>\n",
       "    <tr>\n",
       "      <th>0</th>\n",
       "      <td>Intercept</td>\n",
       "      <td>2.938889</td>\n",
       "      <td>2.659389</td>\n",
       "    </tr>\n",
       "    <tr>\n",
       "      <th>0</th>\n",
       "      <td>TV</td>\n",
       "      <td>0.045765</td>\n",
       "      <td>0.045130</td>\n",
       "    </tr>\n",
       "    <tr>\n",
       "      <th>1</th>\n",
       "      <td>Radio</td>\n",
       "      <td>0.188530</td>\n",
       "      <td>0.210075</td>\n",
       "    </tr>\n",
       "    <tr>\n",
       "      <th>2</th>\n",
       "      <td>Newspaper</td>\n",
       "      <td>-0.001037</td>\n",
       "      <td>-0.001113</td>\n",
       "    </tr>\n",
       "  </tbody>\n",
       "</table>\n",
       "</div>"
      ],
      "text/plain": [
       "   predictor  sales_lm  sales_wm\n",
       "0  Intercept  2.938889  2.659389\n",
       "0         TV  0.045765  0.045130\n",
       "1      Radio  0.188530  0.210075\n",
       "2  Newspaper -0.001037 -0.001113"
      ]
     },
     "execution_count": 10,
     "metadata": {},
     "output_type": "execute_result"
    }
   ],
   "source": [
    "y = data['Sales']\n",
    "X = data.drop(columns=['Sales', 'Weight'])\n",
    "weights = data['Weight']\n",
    "\n",
    "l_model = LinearRegression()\n",
    "w_model = LinearRegression()\n",
    "\n",
    "l_model.fit(X, y)\n",
    "w_model.fit(X, y, sample_weight=weights)\n",
    "\n",
    "pd.concat([\n",
    "    pd.DataFrame({\n",
    "        'predictor': ['Intercept'],\n",
    "        'sales_lm': l_model.intercept_,\n",
    "        'sales_wm': w_model.intercept_ }),\n",
    "    pd.DataFrame({\n",
    "        'predictor': X.columns,\n",
    "        'sales_lm': l_model.coef_,\n",
    "        'sales_wm': w_model.coef_ })\n",
    "])"
   ]
  },
  {
   "cell_type": "markdown",
   "id": "083dd7c4-935f-441c-8680-1582779bdac1",
   "metadata": {},
   "source": [
    "<p style=\"background-image: linear-gradient(to right, #0aa98f, #68dab2)\"> &nbsp; </p>\n",
    "\n",
    "**Polynomial Regression**"
   ]
  },
  {
   "cell_type": "code",
   "execution_count": 11,
   "id": "9c0b6d2e-29bf-458e-a431-187811cdd1ce",
   "metadata": {},
   "outputs": [
    {
     "data": {
      "text/html": [
       "<div>\n",
       "<style scoped>\n",
       "    .dataframe tbody tr th:only-of-type {\n",
       "        vertical-align: middle;\n",
       "    }\n",
       "\n",
       "    .dataframe tbody tr th {\n",
       "        vertical-align: top;\n",
       "    }\n",
       "\n",
       "    .dataframe thead th {\n",
       "        text-align: right;\n",
       "    }\n",
       "</style>\n",
       "<table border=\"1\" class=\"dataframe\">\n",
       "  <thead>\n",
       "    <tr style=\"text-align: right;\">\n",
       "      <th></th>\n",
       "      <th>Radius</th>\n",
       "      <th>Height</th>\n",
       "      <th>Volume</th>\n",
       "    </tr>\n",
       "  </thead>\n",
       "  <tbody>\n",
       "    <tr>\n",
       "      <th>0</th>\n",
       "      <td>7.33</td>\n",
       "      <td>13.23</td>\n",
       "      <td>2253.51</td>\n",
       "    </tr>\n",
       "    <tr>\n",
       "      <th>1</th>\n",
       "      <td>3.65</td>\n",
       "      <td>15.73</td>\n",
       "      <td>673.19</td>\n",
       "    </tr>\n",
       "    <tr>\n",
       "      <th>2</th>\n",
       "      <td>7.85</td>\n",
       "      <td>14.04</td>\n",
       "      <td>2738.02</td>\n",
       "    </tr>\n",
       "  </tbody>\n",
       "</table>\n",
       "</div>"
      ],
      "text/plain": [
       "   Radius  Height   Volume\n",
       "0    7.33   13.23  2253.51\n",
       "1    3.65   15.73   673.19\n",
       "2    7.85   14.04  2738.02"
      ]
     },
     "execution_count": 11,
     "metadata": {},
     "output_type": "execute_result"
    }
   ],
   "source": [
    "data = pd.read_csv('data/08_cylinder.csv')\n",
    "data_backup = data.copy()\n",
    "data.head(3)"
   ]
  },
  {
   "cell_type": "code",
   "execution_count": 12,
   "id": "d11922f9-3ab6-4e83-8c38-d90c440f5497",
   "metadata": {},
   "outputs": [
    {
     "name": "stdout",
     "output_type": "stream",
     "text": [
      "9.264841831396325 [ 0.          4.05382356 -3.43106304 -0.41223203 -0.23497005  0.45272833\n",
      "  0.02142417  3.13876301  0.01104062 -0.01554473]\n",
      "R2   : 0.999951860639409\n"
     ]
    }
   ],
   "source": [
    "y = data['Volume']\n",
    "X = data.drop(columns='Volume')\n",
    "\n",
    "poly = PolynomialFeatures(degree=3, interaction_only=False)\n",
    "pX = poly.fit_transform(X)\n",
    "# display(X.head(), pd.DataFrame(pX).head())\n",
    "\n",
    "pX_train, pX_test, y_train, y_test = tts(pX, y, test_size=0.2, random_state=0)\n",
    "\n",
    "p_model = LinearRegression()\n",
    "p_model.fit(pX_train, y_train)\n",
    "predictions = p_model.predict(pX_test)\n",
    "\n",
    "print(p_model.intercept_, p_model.coef_)\n",
    "print('R2   :', mt.r2_score(y_test, predictions))\n",
    "\n",
    "data = data_backup.copy()"
   ]
  },
  {
   "cell_type": "code",
   "execution_count": 13,
   "id": "06aa64ea-b22a-4e61-a823-a346272eea23",
   "metadata": {},
   "outputs": [
    {
     "name": "stdout",
     "output_type": "stream",
     "text": [
      "0.0 [3.15646971]\n",
      "R2   : 0.9999230369099843\n"
     ]
    }
   ],
   "source": [
    "y = data['Volume']\n",
    "X = data.drop(columns='Volume')\n",
    "\n",
    "poly = PolynomialFeatures(degree=3, interaction_only=False)\n",
    "pX = pd.DataFrame(poly.fit_transform(X))\n",
    "#display(X.head(3), pX.head(3))\n",
    "\n",
    "pX_train, pX_test, y_train, y_test = tts(pX, y, test_size=0.2, random_state=0)\n",
    "\n",
    "p_model = LinearRegression(fit_intercept=False) \n",
    "forward = SFS(p_model, n_features_to_select=1)\n",
    "forward = forward.fit(pX_train, y_train)\n",
    "\n",
    "# print(forward.get_feature_names_out())\n",
    "feature = int(forward.get_feature_names_out()[0][-1]) # adjust according to column name \n",
    "pX_train = pX_train[[feature]]\n",
    "pX_test = pX_test[[feature]]\n",
    "\n",
    "p_model.fit(pX_train, y_train)\n",
    "predictions = p_model.predict(pX_test)\n",
    "\n",
    "print(p_model.intercept_, p_model.coef_)\n",
    "print('R2   :', mt.r2_score(y_test, predictions))\n",
    "\n",
    "data = data_backup.copy()"
   ]
  },
  {
   "cell_type": "code",
   "execution_count": 14,
   "id": "4d70b033-9e62-4863-8e56-748f8e95a973",
   "metadata": {},
   "outputs": [
    {
     "name": "stdout",
     "output_type": "stream",
     "text": [
      "0.0 [3.15646971]\n",
      "R2   : 0.9999230369099843\n"
     ]
    }
   ],
   "source": [
    "y = data['Volume']\n",
    "X = data.drop(columns='Volume')\n",
    "X_train, X_test, y_train, y_test = tts(X, y, test_size=0.2, random_state=0)\n",
    "\n",
    "estimator = LinearRegression(fit_intercept=False)\n",
    "pipeline = Pipeline([\n",
    "    ('polynomial_features', PolynomialFeatures(degree=3)),\n",
    "    ('feature_select', SFS(estimator, n_features_to_select=1, direction='forward')),\n",
    "    ('model', estimator)\n",
    "])\n",
    "\n",
    "pipeline.fit(X_train, y_train)\n",
    "model = pipeline.named_steps['model']\n",
    "predictions = pipeline.predict(X_test)\n",
    "\n",
    "\n",
    "print(model.intercept_, model.coef_)\n",
    "print('R2   :', mt.r2_score(y_test, predictions))"
   ]
  },
  {
   "cell_type": "markdown",
   "id": "0c8fe836-ee87-4af4-a1e5-7261a9f2afe3",
   "metadata": {},
   "source": [
    "<p style=\"background-image: linear-gradient(to right, #0aa98f, #68dab2)\"> &nbsp; </p>"
   ]
  }
 ],
 "metadata": {
  "kernelspec": {
   "display_name": "Python 3 (ipykernel)",
   "language": "python",
   "name": "python3"
  },
  "language_info": {
   "codemirror_mode": {
    "name": "ipython",
    "version": 3
   },
   "file_extension": ".py",
   "mimetype": "text/x-python",
   "name": "python",
   "nbconvert_exporter": "python",
   "pygments_lexer": "ipython3",
   "version": "3.11.10"
  }
 },
 "nbformat": 4,
 "nbformat_minor": 5
}
