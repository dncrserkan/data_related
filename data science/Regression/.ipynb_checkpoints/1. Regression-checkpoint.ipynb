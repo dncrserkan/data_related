{
 "cells": [
  {
   "cell_type": "code",
   "execution_count": 1,
   "id": "fada78d1-ff7f-4b15-b4d7-f8cce34dbe23",
   "metadata": {},
   "outputs": [],
   "source": [
    "import pandas as pd\n",
    "import numpy as np\n",
    "import matplotlib.pyplot as plt\n",
    "import seaborn as sns\n",
    "\n",
    "import sklearn.metrics as mt\n",
    "from sklearn.model_selection import train_test_split, KFold\n",
    "from sklearn.preprocessing import PolynomialFeatures\n",
    "from sklearn.linear_model import (LinearRegression, Ridge, RidgeCV, \n",
    "                                  Lasso, LassoCV, ElasticNet, ElasticNetCV)\n",
    "from sklearn.pipeline import Pipeline"
   ]
  },
  {
   "cell_type": "markdown",
   "id": "45914210-4de3-40b8-8394-dbf2ab362b17",
   "metadata": {},
   "source": [
    "<p style=\"background-image: linear-gradient(to right, #0aa98f, #68dab2)\"> &nbsp; </p>\n",
    "\n",
    "**Simple Linear Regression**"
   ]
  },
  {
   "cell_type": "code",
   "execution_count": 2,
   "id": "c09d1aa4-7d44-4dd4-8895-3489c8ff5715",
   "metadata": {},
   "outputs": [
    {
     "data": {
      "text/html": [
       "<div>\n",
       "<style scoped>\n",
       "    .dataframe tbody tr th:only-of-type {\n",
       "        vertical-align: middle;\n",
       "    }\n",
       "\n",
       "    .dataframe tbody tr th {\n",
       "        vertical-align: top;\n",
       "    }\n",
       "\n",
       "    .dataframe thead th {\n",
       "        text-align: right;\n",
       "    }\n",
       "</style>\n",
       "<table border=\"1\" class=\"dataframe\">\n",
       "  <thead>\n",
       "    <tr style=\"text-align: right;\">\n",
       "      <th></th>\n",
       "      <th>Experience Years</th>\n",
       "      <th>Salary</th>\n",
       "    </tr>\n",
       "  </thead>\n",
       "  <tbody>\n",
       "    <tr>\n",
       "      <th>37</th>\n",
       "      <td>9.6</td>\n",
       "      <td>112635</td>\n",
       "    </tr>\n",
       "    <tr>\n",
       "      <th>38</th>\n",
       "      <td>10.3</td>\n",
       "      <td>122391</td>\n",
       "    </tr>\n",
       "    <tr>\n",
       "      <th>39</th>\n",
       "      <td>10.5</td>\n",
       "      <td>121872</td>\n",
       "    </tr>\n",
       "  </tbody>\n",
       "</table>\n",
       "</div>"
      ],
      "text/plain": [
       "    Experience Years  Salary\n",
       "37               9.6  112635\n",
       "38              10.3  122391\n",
       "39              10.5  121872"
      ]
     },
     "execution_count": 2,
     "metadata": {},
     "output_type": "execute_result"
    }
   ],
   "source": [
    "data = pd.read_csv('data/01_salary.csv')\n",
    "data.tail(3)"
   ]
  },
  {
   "cell_type": "code",
   "execution_count": 3,
   "id": "d3778d67-7519-47b2-b651-dbfd0ace05d9",
   "metadata": {},
   "outputs": [
    {
     "name": "stdout",
     "output_type": "stream",
     "text": [
      "25673.01576053028 [9523.65050742]\n",
      "\n",
      "predictions   : 36149 37101 38053 39958 44720\n",
      "actual values : 39343 42774 46205 37731 43525\n"
     ]
    }
   ],
   "source": [
    "y = data['Salary']\n",
    "X = data[['Experience Years']]\n",
    "\n",
    "lm = LinearRegression()\n",
    "lm.fit(X,y)\n",
    "predictions = lm.predict(X)\n",
    "\n",
    "print(lm.intercept_, lm.coef_)\n",
    "print('\\npredictions   :', *[int(x) for x in predictions[:5]])\n",
    "print('actual values :', *y[:5])"
   ]
  },
  {
   "cell_type": "markdown",
   "id": "432861bf-fcb0-46cf-bdb3-fe801cdcbe79",
   "metadata": {},
   "source": [
    "<p style=\"background-image: linear-gradient(to right, #0aa98f, #68dab2)\"> &nbsp; </p>\n",
    "\n",
    "**Multiple Linear Regression**"
   ]
  },
  {
   "cell_type": "code",
   "execution_count": 4,
   "id": "d5898436-0540-4613-b2a0-3d15bec9edd1",
   "metadata": {},
   "outputs": [
    {
     "data": {
      "text/html": [
       "<div>\n",
       "<style scoped>\n",
       "    .dataframe tbody tr th:only-of-type {\n",
       "        vertical-align: middle;\n",
       "    }\n",
       "\n",
       "    .dataframe tbody tr th {\n",
       "        vertical-align: top;\n",
       "    }\n",
       "\n",
       "    .dataframe thead th {\n",
       "        text-align: right;\n",
       "    }\n",
       "</style>\n",
       "<table border=\"1\" class=\"dataframe\">\n",
       "  <thead>\n",
       "    <tr style=\"text-align: right;\">\n",
       "      <th></th>\n",
       "      <th>TV</th>\n",
       "      <th>Radio</th>\n",
       "      <th>Newspaper</th>\n",
       "      <th>Sales</th>\n",
       "    </tr>\n",
       "  </thead>\n",
       "  <tbody>\n",
       "    <tr>\n",
       "      <th>197</th>\n",
       "      <td>177.0</td>\n",
       "      <td>9.3</td>\n",
       "      <td>6.4</td>\n",
       "      <td>12.8</td>\n",
       "    </tr>\n",
       "    <tr>\n",
       "      <th>198</th>\n",
       "      <td>283.6</td>\n",
       "      <td>42.0</td>\n",
       "      <td>66.2</td>\n",
       "      <td>25.5</td>\n",
       "    </tr>\n",
       "    <tr>\n",
       "      <th>199</th>\n",
       "      <td>232.1</td>\n",
       "      <td>8.6</td>\n",
       "      <td>8.7</td>\n",
       "      <td>13.4</td>\n",
       "    </tr>\n",
       "  </tbody>\n",
       "</table>\n",
       "</div>"
      ],
      "text/plain": [
       "        TV  Radio  Newspaper  Sales\n",
       "197  177.0    9.3        6.4   12.8\n",
       "198  283.6   42.0       66.2   25.5\n",
       "199  232.1    8.6        8.7   13.4"
      ]
     },
     "execution_count": 4,
     "metadata": {},
     "output_type": "execute_result"
    }
   ],
   "source": [
    "data = pd.read_csv('data/02_advertising.csv')\n",
    "data.tail(3)"
   ]
  },
  {
   "cell_type": "code",
   "execution_count": 5,
   "id": "df8a92c5-20fe-45d2-99ce-b74696ef255b",
   "metadata": {},
   "outputs": [
    {
     "name": "stdout",
     "output_type": "stream",
     "text": [
      "(160, 3) (40, 3)\n"
     ]
    }
   ],
   "source": [
    "y = data['Sales']\n",
    "X = data[['TV', 'Radio', 'Newspaper']]\n",
    "\n",
    "X_train, X_test, y_train, y_test = train_test_split(X, y, test_size=0.2, random_state=0)\n",
    "print(X_train.shape, X_test.shape)"
   ]
  },
  {
   "cell_type": "code",
   "execution_count": 6,
   "id": "99e5c860-e8e0-4beb-9589-be96c2780c7f",
   "metadata": {},
   "outputs": [
    {
     "name": "stdout",
     "output_type": "stream",
     "text": [
      "2.9948930304953336 [ 0.04458402  0.19649703 -0.00278146]\n",
      "0.8601145185017868\n"
     ]
    }
   ],
   "source": [
    "lm = LinearRegression()\n",
    "lm.fit(X_train, y_train)\n",
    "predictions = lm.predict(X_test)\n",
    "\n",
    "print(lm.intercept_, lm.coef_)\n",
    "print(lm.score(X_test, y_test))    # R2"
   ]
  },
  {
   "cell_type": "code",
   "execution_count": 7,
   "id": "0843f65f-69d4-4d79-94a7-c7b1c4a5060b",
   "metadata": {},
   "outputs": [
    {
     "name": "stdout",
     "output_type": "stream",
     "text": [
      "R2   : 0.8601145185017868\n",
      "MSE  : 4.402118291449686\n",
      "RMSE : 2.098122563495681\n",
      "MAE  : 1.361781350209028\n"
     ]
    }
   ],
   "source": [
    "print('R2   :', mt.r2_score(y_test, predictions))\n",
    "print('MSE  :', mt.mean_squared_error(y_test, predictions))\n",
    "print('RMSE :', mt.root_mean_squared_error(y_test, predictions))\n",
    "print('MAE  :', mt.mean_absolute_error(y_test, predictions))"
   ]
  },
  {
   "cell_type": "code",
   "execution_count": 8,
   "id": "2ef886cc-1c36-4219-8482-1f53d24baf9d",
   "metadata": {},
   "outputs": [
    {
     "data": {
      "image/png": "[encoded data removed]",
      "text/plain": [
       "<Figure size 1000x300 with 1 Axes>"
      ]
     },
     "metadata": {},
     "output_type": "display_data"
    }
   ],
   "source": [
    "temp = pd.DataFrame({\n",
    "    'Real': y_test.sort_index(),\n",
    "    'Predictions': predictions\n",
    "})\n",
    "\n",
    "plt.figure(figsize=(10,3))\n",
    "sns.scatterplot(temp.sample(15))\n",
    "plt.legend(loc='best')\n",
    "plt.show()\n",
    "del temp"
   ]
  },
  {
   "cell_type": "markdown",
   "id": "228cc2cb-5a25-407b-975e-ce37d051aa34",
   "metadata": {},
   "source": [
    "<p style=\"background-image: linear-gradient(#0aa98f, #FFFFFF 10%)\"> &nbsp; </p>"
   ]
  },
  {
   "cell_type": "code",
   "execution_count": 9,
   "id": "f9e22477-4a8f-49fc-9560-9497ed7e5ef5",
   "metadata": {},
   "outputs": [
    {
     "data": {
      "text/html": [
       "<div>\n",
       "<style scoped>\n",
       "    .dataframe tbody tr th:only-of-type {\n",
       "        vertical-align: middle;\n",
       "    }\n",
       "\n",
       "    .dataframe tbody tr th {\n",
       "        vertical-align: top;\n",
       "    }\n",
       "\n",
       "    .dataframe thead th {\n",
       "        text-align: right;\n",
       "    }\n",
       "</style>\n",
       "<table border=\"1\" class=\"dataframe\">\n",
       "  <thead>\n",
       "    <tr style=\"text-align: right;\">\n",
       "      <th></th>\n",
       "      <th>total_bill</th>\n",
       "      <th>tip</th>\n",
       "      <th>sex</th>\n",
       "      <th>smoker</th>\n",
       "      <th>day</th>\n",
       "      <th>time</th>\n",
       "      <th>size</th>\n",
       "    </tr>\n",
       "  </thead>\n",
       "  <tbody>\n",
       "    <tr>\n",
       "      <th>0</th>\n",
       "      <td>16.99</td>\n",
       "      <td>1.01</td>\n",
       "      <td>Female</td>\n",
       "      <td>No</td>\n",
       "      <td>Sun</td>\n",
       "      <td>Dinner</td>\n",
       "      <td>2</td>\n",
       "    </tr>\n",
       "    <tr>\n",
       "      <th>1</th>\n",
       "      <td>10.34</td>\n",
       "      <td>1.66</td>\n",
       "      <td>Male</td>\n",
       "      <td>No</td>\n",
       "      <td>Sun</td>\n",
       "      <td>Dinner</td>\n",
       "      <td>3</td>\n",
       "    </tr>\n",
       "    <tr>\n",
       "      <th>2</th>\n",
       "      <td>21.01</td>\n",
       "      <td>3.50</td>\n",
       "      <td>Male</td>\n",
       "      <td>No</td>\n",
       "      <td>Sun</td>\n",
       "      <td>Dinner</td>\n",
       "      <td>3</td>\n",
       "    </tr>\n",
       "  </tbody>\n",
       "</table>\n",
       "</div>"
      ],
      "text/plain": [
       "   total_bill   tip     sex smoker  day    time  size\n",
       "0       16.99  1.01  Female     No  Sun  Dinner     2\n",
       "1       10.34  1.66    Male     No  Sun  Dinner     3\n",
       "2       21.01  3.50    Male     No  Sun  Dinner     3"
      ]
     },
     "execution_count": 9,
     "metadata": {},
     "output_type": "execute_result"
    }
   ],
   "source": [
    "data = sns.load_dataset('tips')\n",
    "data.head(3)"
   ]
  },
  {
   "cell_type": "code",
   "execution_count": 10,
   "id": "7b16e867-f509-4f22-8c88-0bead5783790",
   "metadata": {},
   "outputs": [
    {
     "data": {
      "text/html": [
       "<div>\n",
       "<style scoped>\n",
       "    .dataframe tbody tr th:only-of-type {\n",
       "        vertical-align: middle;\n",
       "    }\n",
       "\n",
       "    .dataframe tbody tr th {\n",
       "        vertical-align: top;\n",
       "    }\n",
       "\n",
       "    .dataframe thead th {\n",
       "        text-align: right;\n",
       "    }\n",
       "</style>\n",
       "<table border=\"1\" class=\"dataframe\">\n",
       "  <thead>\n",
       "    <tr style=\"text-align: right;\">\n",
       "      <th></th>\n",
       "      <th>total_bill</th>\n",
       "      <th>tip</th>\n",
       "      <th>size</th>\n",
       "      <th>sex_Female</th>\n",
       "      <th>smoker_No</th>\n",
       "      <th>day_Fri</th>\n",
       "      <th>day_Sat</th>\n",
       "      <th>day_Sun</th>\n",
       "      <th>time_Dinner</th>\n",
       "    </tr>\n",
       "  </thead>\n",
       "  <tbody>\n",
       "    <tr>\n",
       "      <th>0</th>\n",
       "      <td>16.99</td>\n",
       "      <td>1.01</td>\n",
       "      <td>2</td>\n",
       "      <td>1</td>\n",
       "      <td>1</td>\n",
       "      <td>0</td>\n",
       "      <td>0</td>\n",
       "      <td>1</td>\n",
       "      <td>1</td>\n",
       "    </tr>\n",
       "    <tr>\n",
       "      <th>1</th>\n",
       "      <td>10.34</td>\n",
       "      <td>1.66</td>\n",
       "      <td>3</td>\n",
       "      <td>0</td>\n",
       "      <td>1</td>\n",
       "      <td>0</td>\n",
       "      <td>0</td>\n",
       "      <td>1</td>\n",
       "      <td>1</td>\n",
       "    </tr>\n",
       "    <tr>\n",
       "      <th>2</th>\n",
       "      <td>21.01</td>\n",
       "      <td>3.50</td>\n",
       "      <td>3</td>\n",
       "      <td>0</td>\n",
       "      <td>1</td>\n",
       "      <td>0</td>\n",
       "      <td>0</td>\n",
       "      <td>1</td>\n",
       "      <td>1</td>\n",
       "    </tr>\n",
       "  </tbody>\n",
       "</table>\n",
       "</div>"
      ],
      "text/plain": [
       "   total_bill   tip  size  sex_Female  smoker_No  day_Fri  day_Sat  day_Sun  \\\n",
       "0       16.99  1.01     2           1          1        0        0        1   \n",
       "1       10.34  1.66     3           0          1        0        0        1   \n",
       "2       21.01  3.50     3           0          1        0        0        1   \n",
       "\n",
       "   time_Dinner  \n",
       "0            1  \n",
       "1            1  \n",
       "2            1  "
      ]
     },
     "execution_count": 10,
     "metadata": {},
     "output_type": "execute_result"
    }
   ],
   "source": [
    "categories = data.select_dtypes(include='category')\n",
    "data = pd.get_dummies(data, columns=categories.columns, \n",
    "                      drop_first=True, dtype='int')\n",
    "data.head(3)"
   ]
  },
  {
   "cell_type": "code",
   "execution_count": 11,
   "id": "58e6b699-9c80-43a5-82a3-aedd990d8eb7",
   "metadata": {},
   "outputs": [],
   "source": [
    "y = data['tip']\n",
    "X = data.drop(columns='tip')\n",
    "\n",
    "X_train, X_test, y_train, y_test = train_test_split(X, y, test_size=0.2, random_state=0)"
   ]
  },
  {
   "cell_type": "code",
   "execution_count": 12,
   "id": "19a53c68-4428-4b7d-a525-42ab2c6c1f89",
   "metadata": {},
   "outputs": [],
   "source": [
    "lm = LinearRegression()\n",
    "lm.fit(X_train, y_train)\n",
    "predictions = lm.predict(X_test)\n",
    "\n",
    "# print(lm.intercept_, lm.coef_)"
   ]
  },
  {
   "cell_type": "code",
   "execution_count": 13,
   "id": "8582c06d-8f0c-4cf1-b011-595eb7afbda4",
   "metadata": {},
   "outputs": [
    {
     "name": "stdout",
     "output_type": "stream",
     "text": [
      "R2   : 0.5545031052534986\n",
      "MSE  : 0.8939195221609504\n",
      "RMSE : 0.9454731736865676\n",
      "MAE  : 0.7080218832979787\n"
     ]
    }
   ],
   "source": [
    "print('R2   :', mt.r2_score(y_test, predictions))\n",
    "print('MSE  :', mt.mean_squared_error(y_test, predictions))\n",
    "print('RMSE :', mt.root_mean_squared_error(y_test, predictions))\n",
    "print('MAE  :', mt.mean_absolute_error(y_test, predictions))"
   ]
  },
  {
   "cell_type": "markdown",
   "id": "2991ef67-f3bd-45ea-b5df-608b62aebfa1",
   "metadata": {},
   "source": [
    "<p style=\"background-image: linear-gradient(to right, #0aa98f, #68dab2)\"> &nbsp; </p>\n",
    "\n",
    "**Cross Validation**"
   ]
  },
  {
   "cell_type": "code",
   "execution_count": 14,
   "id": "70305cda-55be-4092-a69a-26da04388763",
   "metadata": {},
   "outputs": [
    {
     "name": "stdout",
     "output_type": "stream",
     "text": [
      "Average R2  : 0.37843166676204587\n",
      "Average MSE : 1.4006058239656338\n"
     ]
    }
   ],
   "source": [
    "k = 5\n",
    "cv = KFold(n_splits=k,)\n",
    "lm_cv = LinearRegression()\n",
    "\n",
    "_r2, _mse = [], []\n",
    "\n",
    "for i, (train_index, test_index) in enumerate(cv.split(X)):\n",
    "    X_train, X_test = X.loc[train_index], X.loc[test_index]\n",
    "    y_train, y_test = y.loc[train_index], y.loc[test_index]\n",
    "\n",
    "    model = lm_cv.fit(X_train, y_train)\n",
    "    predictions = model.predict(X_test)\n",
    "\n",
    "    r2  = mt.r2_score(y_test, predictions)\n",
    "    mse = mt.mean_squared_error(y_test, predictions)\n",
    "    \n",
    "    # print('Iteration :', i)\n",
    "    # print(str('\\tR2').ljust(10), ':', r2)\n",
    "    # print(str('\\tMSE').ljust(10), ':', mse)\n",
    "\n",
    "    _r2.append(r2)\n",
    "    _mse.append(mse)\n",
    "\n",
    "print('Average R2  :', np.mean(r2))\n",
    "print('Average MSE :', np.mean(mse))"
   ]
  },
  {
   "cell_type": "markdown",
   "id": "1debc233-7376-4b03-98ef-354184b3216d",
   "metadata": {},
   "source": [
    "<p style=\"background-image: linear-gradient(to right, #0aa98f, #68dab2)\"> &nbsp; </p>\n",
    "\n",
    "**Polynomial Regression**"
   ]
  },
  {
   "cell_type": "code",
   "execution_count": 15,
   "id": "fb05fa97-bbd8-4ae4-8035-eb843066a5cc",
   "metadata": {},
   "outputs": [
    {
     "data": {
      "text/html": [
       "<div>\n",
       "<style scoped>\n",
       "    .dataframe tbody tr th:only-of-type {\n",
       "        vertical-align: middle;\n",
       "    }\n",
       "\n",
       "    .dataframe tbody tr th {\n",
       "        vertical-align: top;\n",
       "    }\n",
       "\n",
       "    .dataframe thead th {\n",
       "        text-align: right;\n",
       "    }\n",
       "</style>\n",
       "<table border=\"1\" class=\"dataframe\">\n",
       "  <thead>\n",
       "    <tr style=\"text-align: right;\">\n",
       "      <th></th>\n",
       "      <th>total_bill</th>\n",
       "      <th>tip</th>\n",
       "      <th>size</th>\n",
       "      <th>sex_Female</th>\n",
       "      <th>smoker_No</th>\n",
       "      <th>day_Fri</th>\n",
       "      <th>day_Sat</th>\n",
       "      <th>day_Sun</th>\n",
       "      <th>time_Dinner</th>\n",
       "    </tr>\n",
       "  </thead>\n",
       "  <tbody>\n",
       "    <tr>\n",
       "      <th>0</th>\n",
       "      <td>16.99</td>\n",
       "      <td>1.01</td>\n",
       "      <td>2</td>\n",
       "      <td>1</td>\n",
       "      <td>1</td>\n",
       "      <td>0</td>\n",
       "      <td>0</td>\n",
       "      <td>1</td>\n",
       "      <td>1</td>\n",
       "    </tr>\n",
       "    <tr>\n",
       "      <th>1</th>\n",
       "      <td>10.34</td>\n",
       "      <td>1.66</td>\n",
       "      <td>3</td>\n",
       "      <td>0</td>\n",
       "      <td>1</td>\n",
       "      <td>0</td>\n",
       "      <td>0</td>\n",
       "      <td>1</td>\n",
       "      <td>1</td>\n",
       "    </tr>\n",
       "    <tr>\n",
       "      <th>2</th>\n",
       "      <td>21.01</td>\n",
       "      <td>3.50</td>\n",
       "      <td>3</td>\n",
       "      <td>0</td>\n",
       "      <td>1</td>\n",
       "      <td>0</td>\n",
       "      <td>0</td>\n",
       "      <td>1</td>\n",
       "      <td>1</td>\n",
       "    </tr>\n",
       "  </tbody>\n",
       "</table>\n",
       "</div>"
      ],
      "text/plain": [
       "   total_bill   tip  size  sex_Female  smoker_No  day_Fri  day_Sat  day_Sun  \\\n",
       "0       16.99  1.01     2           1          1        0        0        1   \n",
       "1       10.34  1.66     3           0          1        0        0        1   \n",
       "2       21.01  3.50     3           0          1        0        0        1   \n",
       "\n",
       "   time_Dinner  \n",
       "0            1  \n",
       "1            1  \n",
       "2            1  "
      ]
     },
     "execution_count": 15,
     "metadata": {},
     "output_type": "execute_result"
    }
   ],
   "source": [
    "data = sns.load_dataset('tips')\n",
    "categories = data.select_dtypes(include='category')\n",
    "data = pd.get_dummies(data, columns=categories.columns, \n",
    "                      drop_first=True, dtype='int')\n",
    "data.head(3)"
   ]
  },
  {
   "cell_type": "code",
   "execution_count": 16,
   "id": "09fc11d1-8d6a-4882-9aba-bd7fb48ebc9f",
   "metadata": {},
   "outputs": [],
   "source": [
    "y = data['tip']\n",
    "X = data.drop(columns='tip')\n",
    "\n",
    "X_train, X_test, y_train, y_test = train_test_split(X, y, test_size=0.2, random_state=0)"
   ]
  },
  {
   "cell_type": "code",
   "execution_count": 17,
   "id": "630468f1-8aa1-4e79-9c0a-61ba8b62dac2",
   "metadata": {},
   "outputs": [
    {
     "name": "stdout",
     "output_type": "stream",
     "text": [
      "R2  : 0.3901142641041607\n",
      "MSE : 1.223776803012317\n"
     ]
    }
   ],
   "source": [
    "poly = PolynomialFeatures(degree=2)\n",
    "X_train_poly = poly.fit_transform(X_train)\n",
    "X_test_poly = poly.transform(X_test)\n",
    "\n",
    "pm = LinearRegression()\n",
    "pm.fit(X_train_poly, y_train)\n",
    "predictions = pm.predict(X_test_poly)\n",
    "\n",
    "print('R2  :', mt.r2_score(y_test, predictions))\n",
    "print('MSE :', mt.mean_squared_error(y_test, predictions))"
   ]
  },
  {
   "cell_type": "code",
   "execution_count": 18,
   "id": "ea3ee65b-78f7-478a-a686-ff82ebda848d",
   "metadata": {},
   "outputs": [
    {
     "name": "stdout",
     "output_type": "stream",
     "text": [
      "R2  : 0.3901142641041607\n",
      "MSE : 1.223776803012317\n"
     ]
    }
   ],
   "source": [
    "_pm = Pipeline([('poly', PolynomialFeatures(degree=2)),\n",
    "                ('linear', LinearRegression())])\n",
    "\n",
    "_pm.fit(X_train, y_train)            # NOT X_poly\n",
    "_predictions = _pm.predict(X_test)\n",
    "\n",
    "print('R2  :', mt.r2_score(y_test, _predictions))\n",
    "print('MSE :', mt.mean_squared_error(y_test, _predictions))"
   ]
  },
  {
   "cell_type": "markdown",
   "id": "055949cc-870c-43cd-b164-cfd30c372a84",
   "metadata": {},
   "source": [
    "<p style=\"background-image: linear-gradient(to right, #0aa98f, #68dab2)\"> &nbsp; </p>\n",
    "\n",
    "**- THIS DATA WILL BE USED FOR THE REMAINING PART -**"
   ]
  },
  {
   "cell_type": "code",
   "execution_count": 19,
   "id": "457caed5-d14c-4008-9e32-dd044ead6d1b",
   "metadata": {},
   "outputs": [
    {
     "data": {
      "text/html": [
       "<div>\n",
       "<style scoped>\n",
       "    .dataframe tbody tr th:only-of-type {\n",
       "        vertical-align: middle;\n",
       "    }\n",
       "\n",
       "    .dataframe tbody tr th {\n",
       "        vertical-align: top;\n",
       "    }\n",
       "\n",
       "    .dataframe thead th {\n",
       "        text-align: right;\n",
       "    }\n",
       "</style>\n",
       "<table border=\"1\" class=\"dataframe\">\n",
       "  <thead>\n",
       "    <tr style=\"text-align: right;\">\n",
       "      <th></th>\n",
       "      <th>CRIM</th>\n",
       "      <th>ZN</th>\n",
       "      <th>INDUS</th>\n",
       "      <th>CHAS</th>\n",
       "      <th>NOX</th>\n",
       "      <th>RM</th>\n",
       "      <th>AGE</th>\n",
       "      <th>DIS</th>\n",
       "      <th>RAD</th>\n",
       "      <th>TAX</th>\n",
       "      <th>PTRATIO</th>\n",
       "      <th>B</th>\n",
       "      <th>LSTAT</th>\n",
       "      <th>MEDV</th>\n",
       "    </tr>\n",
       "  </thead>\n",
       "  <tbody>\n",
       "    <tr>\n",
       "      <th>0</th>\n",
       "      <td>0.00632</td>\n",
       "      <td>18.0</td>\n",
       "      <td>2.31</td>\n",
       "      <td>0</td>\n",
       "      <td>0.538</td>\n",
       "      <td>6.575</td>\n",
       "      <td>65.2</td>\n",
       "      <td>4.0900</td>\n",
       "      <td>1</td>\n",
       "      <td>296</td>\n",
       "      <td>15.3</td>\n",
       "      <td>396.90</td>\n",
       "      <td>4.98</td>\n",
       "      <td>24.0</td>\n",
       "    </tr>\n",
       "    <tr>\n",
       "      <th>1</th>\n",
       "      <td>0.02731</td>\n",
       "      <td>0.0</td>\n",
       "      <td>7.07</td>\n",
       "      <td>0</td>\n",
       "      <td>0.469</td>\n",
       "      <td>6.421</td>\n",
       "      <td>78.9</td>\n",
       "      <td>4.9671</td>\n",
       "      <td>2</td>\n",
       "      <td>242</td>\n",
       "      <td>17.8</td>\n",
       "      <td>396.90</td>\n",
       "      <td>9.14</td>\n",
       "      <td>21.6</td>\n",
       "    </tr>\n",
       "    <tr>\n",
       "      <th>2</th>\n",
       "      <td>0.02729</td>\n",
       "      <td>0.0</td>\n",
       "      <td>7.07</td>\n",
       "      <td>0</td>\n",
       "      <td>0.469</td>\n",
       "      <td>7.185</td>\n",
       "      <td>61.1</td>\n",
       "      <td>4.9671</td>\n",
       "      <td>2</td>\n",
       "      <td>242</td>\n",
       "      <td>17.8</td>\n",
       "      <td>392.83</td>\n",
       "      <td>4.03</td>\n",
       "      <td>34.7</td>\n",
       "    </tr>\n",
       "  </tbody>\n",
       "</table>\n",
       "</div>"
      ],
      "text/plain": [
       "      CRIM    ZN  INDUS  CHAS    NOX     RM   AGE     DIS  RAD  TAX  PTRATIO  \\\n",
       "0  0.00632  18.0   2.31     0  0.538  6.575  65.2  4.0900    1  296     15.3   \n",
       "1  0.02731   0.0   7.07     0  0.469  6.421  78.9  4.9671    2  242     17.8   \n",
       "2  0.02729   0.0   7.07     0  0.469  7.185  61.1  4.9671    2  242     17.8   \n",
       "\n",
       "        B  LSTAT  MEDV  \n",
       "0  396.90   4.98  24.0  \n",
       "1  396.90   9.14  21.6  \n",
       "2  392.83   4.03  34.7  "
      ]
     },
     "execution_count": 19,
     "metadata": {},
     "output_type": "execute_result"
    }
   ],
   "source": [
    "data = pd.read_csv('data/03_boston.csv')\n",
    "data.head(3)"
   ]
  },
  {
   "cell_type": "code",
   "execution_count": 20,
   "id": "38f6df34-4bcc-4a41-9ee3-8bb50fd31013",
   "metadata": {},
   "outputs": [],
   "source": [
    "y = data['MEDV']\n",
    "X = data.drop(columns='MEDV')\n",
    "\n",
    "X_train, X_test, y_train, y_test = train_test_split(X, y, test_size=0.2, random_state=0)"
   ]
  },
  {
   "cell_type": "markdown",
   "id": "9d680846-b535-4205-b2ea-842d6486a061",
   "metadata": {},
   "source": [
    "<p style=\"background-image: linear-gradient(to right, #0aa98f, #68dab2)\"> &nbsp; </p>\n",
    "\n",
    "**Ridge Regression**"
   ]
  },
  {
   "cell_type": "code",
   "execution_count": 21,
   "id": "67fb15c7-e269-4650-bc99-2e6ed3f52895",
   "metadata": {},
   "outputs": [
    {
     "name": "stdout",
     "output_type": "stream",
     "text": [
      "R2  : 0.5880003503393509\n",
      "MSE : 33.548488365916015\n"
     ]
    }
   ],
   "source": [
    "rm = Ridge(alpha=0.1)    # alpha = lambda\n",
    "rm.fit(X_train, y_train)\n",
    "predictions = rm.predict(X_test)\n",
    "\n",
    "# print(rm.intercept_, rm.coef_) # shown in the table at the end\n",
    "print('R2  :', mt.r2_score(y_test, predictions))\n",
    "print('MSE :', mt.mean_squared_error(y_test, predictions))"
   ]
  },
  {
   "cell_type": "markdown",
   "id": "373b3264-a94d-4794-b9b1-e9bc266500dd",
   "metadata": {},
   "source": [
    "<p style=\"background-image: linear-gradient(#0aa98f, #FFFFFF 10%)\"> &nbsp; </p>"
   ]
  },
  {
   "cell_type": "code",
   "execution_count": 22,
   "id": "d9cd10f6-7550-4742-9069-ff4ec6194982",
   "metadata": {},
   "outputs": [
    {
     "data": {
      "image/png": "[encoded data removed]",
      "text/plain": [
       "<Figure size 500x200 with 1 Axes>"
      ]
     },
     "metadata": {},
     "output_type": "display_data"
    }
   ],
   "source": [
    "coefs = []\n",
    "lambdas = 10**np.linspace(-2, 7, 100)\n",
    "\n",
    "for i in lambdas:\n",
    "    _rm = Ridge(alpha=i)\n",
    "    _rm.fit(X_train, y_train)\n",
    "    coefs.append(_rm.coef_)\n",
    "\n",
    "plt.plot(lambdas, coefs)\n",
    "plt.xscale('log')\n",
    "plt.xlim(1e-2, 1e7)\n",
    "\n",
    "plt.xlabel('lambda', fontweight='bold')\n",
    "plt.ylabel('coefs', fontweight='bold')\n",
    "plt.gcf().set_size_inches(5,2)\n",
    "plt.show()"
   ]
  },
  {
   "cell_type": "markdown",
   "id": "90da124d-07de-4c1f-9f25-ce430fd64230",
   "metadata": {},
   "source": [
    "<p style=\"background-image: linear-gradient(to right, #0aa98f, #68dab2)\"> &nbsp; </p>\n",
    "\n",
    "**Ridge Regression Cross Validation**"
   ]
  },
  {
   "cell_type": "code",
   "execution_count": 23,
   "id": "c4601887-78d7-4bfd-b1c8-665efb1a9d4f",
   "metadata": {},
   "outputs": [
    {
     "name": "stdout",
     "output_type": "stream",
     "text": [
      "0.0466301673441609\n",
      "R2  : 0.5886495182431993\n",
      "MSE : 33.49562763681655\n"
     ]
    }
   ],
   "source": [
    "lambdas = 10**np.linspace(10, -2, 100) * 0.5\n",
    "\n",
    "rm_cv = RidgeCV(alphas=lambdas, scoring='r2')\n",
    "rm_cv.fit(X_train, y_train)\n",
    "predictions = rm_cv.predict(X_test)\n",
    "\n",
    "print(rm_cv.alpha_) #best alpha\n",
    "\n",
    "# print(rm_cv.intercept_, rm_cv.coef_)\n",
    "print('R2  :', mt.r2_score(y_test, predictions))\n",
    "print('MSE :', mt.mean_squared_error(y_test, predictions))"
   ]
  },
  {
   "cell_type": "code",
   "execution_count": 24,
   "id": "dc27ce48-8159-43d1-9444-db8e9f4cee25",
   "metadata": {},
   "outputs": [],
   "source": [
    "# rm = Ridge(alpha=rm_cv.alpha_) # NO NEED - rm_cv IS A VALID MODEL LIKE rm"
   ]
  },
  {
   "cell_type": "markdown",
   "id": "7cb2fdad-d8d4-4062-911e-d7108f5b8541",
   "metadata": {},
   "source": [
    "<p style=\"background-image: linear-gradient(to right, #0aa98f, #68dab2)\"> &nbsp; </p>\n",
    "\n",
    "**Lasso Regression**"
   ]
  },
  {
   "cell_type": "code",
   "execution_count": 25,
   "id": "4477205f-6c72-4ce2-8460-90cd076a9600",
   "metadata": {},
   "outputs": [
    {
     "name": "stdout",
     "output_type": "stream",
     "text": [
      "R2  : 0.5569747742783787\n",
      "MSE : 36.0748525955572\n"
     ]
    }
   ],
   "source": [
    "lm = Lasso(alpha=0.1)\n",
    "lm.fit(X_train, y_train)\n",
    "predictions = lm.predict(X_test)\n",
    "\n",
    "# print(lm.intercept_, lm.coef_) # shown in the table at the end\n",
    "print('R2  :', mt.r2_score(y_test, predictions))\n",
    "print('MSE :', mt.mean_squared_error(y_test, predictions))"
   ]
  },
  {
   "cell_type": "markdown",
   "id": "2334c8db-cec3-4919-8422-b1d12190cef8",
   "metadata": {},
   "source": [
    "<p style=\"background-image: linear-gradient(to right, #0aa98f, #68dab2)\"> &nbsp; </p>\n",
    "\n",
    "**Lasso Regression Cross Validation**"
   ]
  },
  {
   "cell_type": "code",
   "execution_count": 26,
   "id": "4414a3c3-0d1d-4776-a1f5-23a4398377f4",
   "metadata": {},
   "outputs": [
    {
     "name": "stdout",
     "output_type": "stream",
     "text": [
      "0.8046610185275953\n",
      "R2  : 0.5099613813375952\n",
      "MSE : 39.90307979772893\n"
     ]
    }
   ],
   "source": [
    "lm_cv = LassoCV(cv=10, max_iter=10000)\n",
    "lm_cv.fit(X_train, y_train)\n",
    "predictions = lm_cv.predict(X_test)\n",
    "\n",
    "print(lm_cv.alpha_)\n",
    "\n",
    "# print(lm_cv.intercept_, lm_cv.coef_)\n",
    "print('R2  :', mt.r2_score(y_test, predictions))\n",
    "print('MSE :', mt.mean_squared_error(y_test, predictions))"
   ]
  },
  {
   "cell_type": "markdown",
   "id": "209867b8-4957-4e63-861b-434af89e8264",
   "metadata": {},
   "source": [
    "<p style=\"background-image: linear-gradient(to right, #0aa98f, #68dab2)\"> &nbsp; </p>\n",
    "\n",
    "**ElasticNET Regression**"
   ]
  },
  {
   "cell_type": "code",
   "execution_count": 27,
   "id": "6eae7288-1a0d-4ac4-86e3-e2eb363cf6fa",
   "metadata": {},
   "outputs": [
    {
     "name": "stdout",
     "output_type": "stream",
     "text": [
      "R2  : 0.5546438733443804\n",
      "MSE : 36.26465422022061\n"
     ]
    }
   ],
   "source": [
    "em = ElasticNet(alpha=0.1)\n",
    "em.fit(X_train, y_train)\n",
    "predictions = em.predict(X_test)\n",
    "\n",
    "# print(em.intercept_, em.coef_) # shown in the table at the end\n",
    "print('R2  :', mt.r2_score(y_test, predictions))\n",
    "print('MSE :', mt.mean_squared_error(y_test, predictions))"
   ]
  },
  {
   "cell_type": "markdown",
   "id": "abd108ab-e36a-4275-8169-f3068eb96a46",
   "metadata": {},
   "source": [
    "<p style=\"background-image: linear-gradient(to right, #0aa98f, #68dab2)\"> &nbsp; </p>\n",
    "\n",
    "**ElasticNET Regression Cross Validation**"
   ]
  },
  {
   "cell_type": "code",
   "execution_count": 28,
   "id": "2ba479a2-77db-48d1-b0bd-912f259dca71",
   "metadata": {},
   "outputs": [
    {
     "name": "stdout",
     "output_type": "stream",
     "text": [
      "1.6093220370551906\n",
      "R2  : 0.4770920830273523\n",
      "MSE : 42.57957545219193\n"
     ]
    }
   ],
   "source": [
    "em_cv = ElasticNetCV(cv=10, max_iter=10000)\n",
    "em_cv.fit(X_train, y_train)\n",
    "predictions = em_cv.predict(X_test)\n",
    "\n",
    "print(em_cv.alpha_)\n",
    "\n",
    "# print(em_cv.intercept_, em_cv.coef_)\n",
    "print('R2  :', mt.r2_score(y_test, predictions))\n",
    "print('MSE :', mt.mean_squared_error(y_test, predictions))"
   ]
  },
  {
   "cell_type": "markdown",
   "id": "c2a6ef5d-0365-4f13-8252-f88c4eb62de8",
   "metadata": {},
   "source": [
    "<p style=\"background-image: linear-gradient(to right, #0aa98f, #68dab2)\"> &nbsp; </p>\n",
    "\n",
    "**MODEL INTERCEPTS AND COEFFICIENTS**"
   ]
  },
  {
   "cell_type": "code",
   "execution_count": 29,
   "id": "673a726d-aac6-4c49-a4e1-5c117a7ae0cb",
   "metadata": {},
   "outputs": [
    {
     "data": {
      "text/html": [
       "<div>\n",
       "<style scoped>\n",
       "    .dataframe tbody tr th:only-of-type {\n",
       "        vertical-align: middle;\n",
       "    }\n",
       "\n",
       "    .dataframe tbody tr th {\n",
       "        vertical-align: top;\n",
       "    }\n",
       "\n",
       "    .dataframe thead th {\n",
       "        text-align: right;\n",
       "    }\n",
       "</style>\n",
       "<table border=\"1\" class=\"dataframe\">\n",
       "  <thead>\n",
       "    <tr style=\"text-align: right;\">\n",
       "      <th></th>\n",
       "      <th>β0</th>\n",
       "      <th>β1</th>\n",
       "      <th>β2</th>\n",
       "      <th>β3</th>\n",
       "      <th>β4</th>\n",
       "      <th>β5</th>\n",
       "      <th>β6</th>\n",
       "      <th>β7</th>\n",
       "      <th>β8</th>\n",
       "      <th>β9</th>\n",
       "      <th>β10</th>\n",
       "      <th>β11</th>\n",
       "      <th>β12</th>\n",
       "      <th>β13</th>\n",
       "    </tr>\n",
       "  </thead>\n",
       "  <tbody>\n",
       "    <tr>\n",
       "      <th>Linear</th>\n",
       "      <td>28.510756</td>\n",
       "      <td>-0.111247</td>\n",
       "      <td>0.047784</td>\n",
       "      <td>-0.043241</td>\n",
       "      <td>0.842320</td>\n",
       "      <td>-0.000000</td>\n",
       "      <td>3.594824</td>\n",
       "      <td>-0.014483</td>\n",
       "      <td>-1.111749</td>\n",
       "      <td>0.206671</td>\n",
       "      <td>-0.012868</td>\n",
       "      <td>-0.892662</td>\n",
       "      <td>0.009120</td>\n",
       "      <td>-0.525479</td>\n",
       "    </tr>\n",
       "    <tr>\n",
       "      <th>Ridge</th>\n",
       "      <td>37.176545</td>\n",
       "      <td>-0.118983</td>\n",
       "      <td>0.044977</td>\n",
       "      <td>0.000411</td>\n",
       "      <td>2.336109</td>\n",
       "      <td>-14.812614</td>\n",
       "      <td>3.719342</td>\n",
       "      <td>-0.004407</td>\n",
       "      <td>-1.367900</td>\n",
       "      <td>0.240226</td>\n",
       "      <td>-0.011077</td>\n",
       "      <td>-1.032485</td>\n",
       "      <td>0.008184</td>\n",
       "      <td>-0.493652</td>\n",
       "    </tr>\n",
       "    <tr>\n",
       "      <th>Lasso</th>\n",
       "      <td>28.510756</td>\n",
       "      <td>-0.111247</td>\n",
       "      <td>0.047784</td>\n",
       "      <td>-0.043241</td>\n",
       "      <td>0.842320</td>\n",
       "      <td>-0.000000</td>\n",
       "      <td>3.594824</td>\n",
       "      <td>-0.014483</td>\n",
       "      <td>-1.111749</td>\n",
       "      <td>0.206671</td>\n",
       "      <td>-0.012868</td>\n",
       "      <td>-0.892662</td>\n",
       "      <td>0.009120</td>\n",
       "      <td>-0.525479</td>\n",
       "    </tr>\n",
       "    <tr>\n",
       "      <th>ElasticNET</th>\n",
       "      <td>32.266468</td>\n",
       "      <td>-0.111518</td>\n",
       "      <td>0.050656</td>\n",
       "      <td>-0.052591</td>\n",
       "      <td>0.938723</td>\n",
       "      <td>-0.000000</td>\n",
       "      <td>3.135558</td>\n",
       "      <td>-0.012025</td>\n",
       "      <td>-1.140558</td>\n",
       "      <td>0.219134</td>\n",
       "      <td>-0.013240</td>\n",
       "      <td>-0.910361</td>\n",
       "      <td>0.008782</td>\n",
       "      <td>-0.555177</td>\n",
       "    </tr>\n",
       "  </tbody>\n",
       "</table>\n",
       "</div>"
      ],
      "text/plain": [
       "                   β0        β1        β2        β3        β4         β5  \\\n",
       "Linear      28.510756 -0.111247  0.047784 -0.043241  0.842320  -0.000000   \n",
       "Ridge       37.176545 -0.118983  0.044977  0.000411  2.336109 -14.812614   \n",
       "Lasso       28.510756 -0.111247  0.047784 -0.043241  0.842320  -0.000000   \n",
       "ElasticNET  32.266468 -0.111518  0.050656 -0.052591  0.938723  -0.000000   \n",
       "\n",
       "                  β6        β7        β8        β9       β10       β11  \\\n",
       "Linear      3.594824 -0.014483 -1.111749  0.206671 -0.012868 -0.892662   \n",
       "Ridge       3.719342 -0.004407 -1.367900  0.240226 -0.011077 -1.032485   \n",
       "Lasso       3.594824 -0.014483 -1.111749  0.206671 -0.012868 -0.892662   \n",
       "ElasticNET  3.135558 -0.012025 -1.140558  0.219134 -0.013240 -0.910361   \n",
       "\n",
       "                 β12       β13  \n",
       "Linear      0.009120 -0.525479  \n",
       "Ridge       0.008184 -0.493652  \n",
       "Lasso       0.009120 -0.525479  \n",
       "ElasticNET  0.008782 -0.555177  "
      ]
     },
     "execution_count": 29,
     "metadata": {},
     "output_type": "execute_result"
    }
   ],
   "source": [
    "li = LinearRegression().fit(X_train, y_train)\n",
    "\n",
    "_li = list(li.coef_); _li.insert(0, li.intercept_)\n",
    "_rm = list(rm.coef_); _rm.insert(0, rm.intercept_)\n",
    "_lm = list(lm.coef_); _lm.insert(0, lm.intercept_)\n",
    "_em = list(em.coef_); _em.insert(0, em.intercept_)\n",
    "\n",
    "temp = pd.DataFrame([_lm, _rm, _lm, _em])\n",
    "temp.index = ['Linear', 'Ridge', 'Lasso', 'ElasticNET']\n",
    "temp.columns = [f'β{i}' for i in temp.columns]\n",
    "temp"
   ]
  },
  {
   "cell_type": "markdown",
   "id": "f40fbb97-a9ed-4e6d-ac3b-5748f8a28df9",
   "metadata": {},
   "source": [
    "<p style=\"background-image: linear-gradient(to right, #0aa98f, #68dab2)\"> &nbsp; </p>"
   ]
  }
 ],
 "metadata": {
  "kernelspec": {
   "display_name": "Python 3 (ipykernel)",
   "language": "python",
   "name": "python3"
  },
  "language_info": {
   "codemirror_mode": {
    "name": "ipython",
    "version": 3
   },
   "file_extension": ".py",
   "mimetype": "text/x-python",
   "name": "python",
   "nbconvert_exporter": "python",
   "pygments_lexer": "ipython3",
   "version": "3.11.10"
  }
 },
 "nbformat": 4,
 "nbformat_minor": 5
}
