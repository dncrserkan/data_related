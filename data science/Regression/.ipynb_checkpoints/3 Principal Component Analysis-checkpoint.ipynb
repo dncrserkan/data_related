{
 "cells": [
  {
   "cell_type": "code",
   "execution_count": 1,
   "id": "62df83ce-afe6-4422-af38-711661a2b660",
   "metadata": {},
   "outputs": [],
   "source": [
    "import pandas as pd\n",
    "import numpy as np\n",
    "import matplotlib.pyplot as plt\n",
    "import seaborn as sns\n",
    "\n",
    "import sklearn.metrics as mt\n",
    "from sklearn.model_selection import train_test_split, KFold, cross_val_score\n",
    "from sklearn.preprocessing import StandardScaler\n",
    "from sklearn.decomposition import PCA\n",
    "from sklearn.linear_model import LinearRegression"
   ]
  },
  {
   "cell_type": "markdown",
   "id": "d681bb29-5b36-4ef9-96ae-f125f965005e",
   "metadata": {},
   "source": [
    "<p style=\"background-image: linear-gradient(to right, #0D9276, #41b675)\"> &nbsp;</p>"
   ]
  },
  {
   "cell_type": "code",
   "execution_count": 2,
   "id": "59ded9eb-43ce-49e9-a7b7-fe121b31253d",
   "metadata": {},
   "outputs": [
    {
     "data": {
      "text/html": [
       "<div>\n",
       "<style scoped>\n",
       "    .dataframe tbody tr th:only-of-type {\n",
       "        vertical-align: middle;\n",
       "    }\n",
       "\n",
       "    .dataframe tbody tr th {\n",
       "        vertical-align: top;\n",
       "    }\n",
       "\n",
       "    .dataframe thead th {\n",
       "        text-align: right;\n",
       "    }\n",
       "</style>\n",
       "<table border=\"1\" class=\"dataframe\">\n",
       "  <thead>\n",
       "    <tr style=\"text-align: right;\">\n",
       "      <th></th>\n",
       "      <th>fixed acidity</th>\n",
       "      <th>volatile acidity</th>\n",
       "      <th>citric acid</th>\n",
       "      <th>residual sugar</th>\n",
       "      <th>chlorides</th>\n",
       "      <th>free sulfur dioxide</th>\n",
       "      <th>total sulfur dioxide</th>\n",
       "      <th>density</th>\n",
       "      <th>pH</th>\n",
       "      <th>sulphates</th>\n",
       "      <th>alcohol</th>\n",
       "      <th>quality</th>\n",
       "    </tr>\n",
       "  </thead>\n",
       "  <tbody>\n",
       "    <tr>\n",
       "      <th>1596</th>\n",
       "      <td>6.3</td>\n",
       "      <td>0.510</td>\n",
       "      <td>0.13</td>\n",
       "      <td>2.3</td>\n",
       "      <td>0.076</td>\n",
       "      <td>29.0</td>\n",
       "      <td>40.0</td>\n",
       "      <td>0.99574</td>\n",
       "      <td>3.42</td>\n",
       "      <td>0.75</td>\n",
       "      <td>11.0</td>\n",
       "      <td>6</td>\n",
       "    </tr>\n",
       "    <tr>\n",
       "      <th>1597</th>\n",
       "      <td>5.9</td>\n",
       "      <td>0.645</td>\n",
       "      <td>0.12</td>\n",
       "      <td>2.0</td>\n",
       "      <td>0.075</td>\n",
       "      <td>32.0</td>\n",
       "      <td>44.0</td>\n",
       "      <td>0.99547</td>\n",
       "      <td>3.57</td>\n",
       "      <td>0.71</td>\n",
       "      <td>10.2</td>\n",
       "      <td>5</td>\n",
       "    </tr>\n",
       "    <tr>\n",
       "      <th>1598</th>\n",
       "      <td>6.0</td>\n",
       "      <td>0.310</td>\n",
       "      <td>0.47</td>\n",
       "      <td>3.6</td>\n",
       "      <td>0.067</td>\n",
       "      <td>18.0</td>\n",
       "      <td>42.0</td>\n",
       "      <td>0.99549</td>\n",
       "      <td>3.39</td>\n",
       "      <td>0.66</td>\n",
       "      <td>11.0</td>\n",
       "      <td>6</td>\n",
       "    </tr>\n",
       "  </tbody>\n",
       "</table>\n",
       "</div>"
      ],
      "text/plain": [
       "      fixed acidity  volatile acidity  citric acid  residual sugar  chlorides  \\\n",
       "1596            6.3             0.510         0.13             2.3      0.076   \n",
       "1597            5.9             0.645         0.12             2.0      0.075   \n",
       "1598            6.0             0.310         0.47             3.6      0.067   \n",
       "\n",
       "      free sulfur dioxide  total sulfur dioxide  density    pH  sulphates  \\\n",
       "1596                 29.0                  40.0  0.99574  3.42       0.75   \n",
       "1597                 32.0                  44.0  0.99547  3.57       0.71   \n",
       "1598                 18.0                  42.0  0.99549  3.39       0.66   \n",
       "\n",
       "      alcohol  quality  \n",
       "1596     11.0        6  \n",
       "1597     10.2        5  \n",
       "1598     11.0        6  "
      ]
     },
     "execution_count": 2,
     "metadata": {},
     "output_type": "execute_result"
    }
   ],
   "source": [
    "data = pd.read_csv('data/06_winequality-red.csv')\n",
    "data.tail(3)"
   ]
  },
  {
   "cell_type": "code",
   "execution_count": 3,
   "id": "89c46c0e-8feb-4ea2-866c-7218fff2ba91",
   "metadata": {},
   "outputs": [],
   "source": [
    "# plt.figure(figsize=(7,4))\n",
    "# sns.heatmap(data.corr(), annot=True, fmt='.2f', xticklabels=[])\n",
    "# plt.show()"
   ]
  },
  {
   "cell_type": "markdown",
   "id": "a3d8cf32-26be-4f41-9b9a-427759ea75f0",
   "metadata": {},
   "source": [
    "<p style=\"background-image: linear-gradient(#0D9276, #FFFFFF 10%)\"> &nbsp; </p>"
   ]
  },
  {
   "cell_type": "code",
   "execution_count": 4,
   "id": "31267727-00d5-4617-894b-be60974172cd",
   "metadata": {},
   "outputs": [],
   "source": [
    "y = data['quality']\n",
    "X = data.drop(columns='quality')\n",
    "\n",
    "X_train, X_test, y_train, y_test = train_test_split(X, y, test_size=0.2, random_state=0)\n",
    "\n",
    "scaler = StandardScaler()\n",
    "X_train = scaler.fit_transform(X_train)\n",
    "X_test = scaler.transform(X_test)"
   ]
  },
  {
   "cell_type": "code",
   "execution_count": 5,
   "id": "6e28261b-4040-47fc-9e54-ee4f36a2aa0e",
   "metadata": {},
   "outputs": [
    {
     "name": "stdout",
     "output_type": "stream",
     "text": [
      "(1599, 11) (1279, 11) (1279, 3)\n"
     ]
    }
   ],
   "source": [
    "pca = PCA()\n",
    "pc_X_train = pca.fit_transform(X_train)\n",
    "pc_X_test= pca.transform(X_test)\n",
    "\n",
    "_pca = PCA(n_components=3)\n",
    "_pc_X_train = _pca.fit_transform(X_train)\n",
    "_pc_X_test = _pca.transform(X_test)\n",
    "\n",
    "print(X.shape, pc_X_train.shape, _pc_X_train.shape)"
   ]
  },
  {
   "cell_type": "markdown",
   "id": "d208c173-e2d1-4721-993e-608d9b16cb6e",
   "metadata": {},
   "source": [
    "<p style=\"background-image: linear-gradient(#0D9276, #FFFFFF 10%)\"> &nbsp; </p>"
   ]
  },
  {
   "cell_type": "code",
   "execution_count": 6,
   "id": "bfae8314-06db-462a-a50f-d038d826140a",
   "metadata": {},
   "outputs": [
    {
     "data": {
      "text/html": [
       "<div>\n",
       "<style scoped>\n",
       "    .dataframe tbody tr th:only-of-type {\n",
       "        vertical-align: middle;\n",
       "    }\n",
       "\n",
       "    .dataframe tbody tr th {\n",
       "        vertical-align: top;\n",
       "    }\n",
       "\n",
       "    .dataframe thead th {\n",
       "        text-align: right;\n",
       "    }\n",
       "</style>\n",
       "<table border=\"1\" class=\"dataframe\">\n",
       "  <thead>\n",
       "    <tr style=\"text-align: right;\">\n",
       "      <th></th>\n",
       "      <th>0</th>\n",
       "      <th>1</th>\n",
       "      <th>2</th>\n",
       "      <th>3</th>\n",
       "      <th>4</th>\n",
       "      <th>5</th>\n",
       "      <th>6</th>\n",
       "      <th>7</th>\n",
       "      <th>8</th>\n",
       "      <th>9</th>\n",
       "      <th>10</th>\n",
       "    </tr>\n",
       "  </thead>\n",
       "  <tbody>\n",
       "    <tr>\n",
       "      <th>0</th>\n",
       "      <td>28.263119</td>\n",
       "      <td>46.205333</td>\n",
       "      <td>59.790693</td>\n",
       "      <td>70.653456</td>\n",
       "      <td>79.346187</td>\n",
       "      <td>85.354639</td>\n",
       "      <td>90.687499</td>\n",
       "      <td>94.614325</td>\n",
       "      <td>97.781182</td>\n",
       "      <td>99.448976</td>\n",
       "      <td>100.0</td>\n",
       "    </tr>\n",
       "  </tbody>\n",
       "</table>\n",
       "</div>"
      ],
      "text/plain": [
       "          0          1          2          3          4          5   \\\n",
       "0  28.263119  46.205333  59.790693  70.653456  79.346187  85.354639   \n",
       "\n",
       "          6          7          8          9      10  \n",
       "0  90.687499  94.614325  97.781182  99.448976  100.0  "
      ]
     },
     "metadata": {},
     "output_type": "display_data"
    },
    {
     "data": {
      "image/png": "[encoded data removed]",
      "text/plain": [
       "<Figure size 500x300 with 1 Axes>"
      ]
     },
     "metadata": {},
     "output_type": "display_data"
    }
   ],
   "source": [
    "variance_ratios = np.cumsum(pca.explained_variance_ratio_)*100\n",
    "\n",
    "display(pd.DataFrame(variance_ratios).T)\n",
    "\n",
    "plt.figure(figsize=(5,3))\n",
    "plt.plot(variance_ratios, marker='o')\n",
    "plt.xlabel('Number of Components')\n",
    "plt.ylabel('Explained Variance')\n",
    "plt.xticks(range(0,11))\n",
    "plt.grid(True, alpha=0.3)\n",
    "plt.show()"
   ]
  },
  {
   "cell_type": "markdown",
   "id": "6b4b5c66-85cb-4fb8-ae4e-7d2ad57a2dc8",
   "metadata": {},
   "source": [
    "<p style=\"background-image: linear-gradient(#0D9276, #FFFFFF 10%)\"> &nbsp; </p>"
   ]
  },
  {
   "cell_type": "code",
   "execution_count": 7,
   "id": "28ef1a5c-7c77-45d6-9097-ff0a2e367581",
   "metadata": {},
   "outputs": [
    {
     "name": "stdout",
     "output_type": "stream",
     "text": [
      "R2   : 0.3283887639580224\n",
      "RMSE : 0.6200574149384267\n"
     ]
    }
   ],
   "source": [
    "lm = LinearRegression()\n",
    "lm.fit(pc_X_train, y_train)\n",
    "predictions = lm.predict(pc_X_test)\n",
    "\n",
    "print('R2   :', mt.r2_score(y_test, predictions))\n",
    "print('RMSE :', mt.root_mean_squared_error(y_test, predictions))"
   ]
  },
  {
   "cell_type": "code",
   "execution_count": 8,
   "id": "a5c71564-e159-4152-9adb-feb21f5bf161",
   "metadata": {},
   "outputs": [
    {
     "name": "stdout",
     "output_type": "stream",
     "text": [
      "R2   : 0.28609237077976135\n",
      "RMSE : 0.6392841549043901\n"
     ]
    }
   ],
   "source": [
    "_lm = LinearRegression()\n",
    "_lm.fit(_pc_X_train, y_train)\n",
    "_predictions = _lm.predict(_pc_X_test)\n",
    "\n",
    "print('R2   :', mt.r2_score(y_test, _predictions))\n",
    "print('RMSE :', mt.root_mean_squared_error(y_test, _predictions))"
   ]
  },
  {
   "cell_type": "markdown",
   "id": "bc765995-9e47-4e4f-8431-d38a70bcd363",
   "metadata": {},
   "source": [
    "<p style=\"background-image: linear-gradient(#0D9276, #FFFFFF 10%)\"> &nbsp; </p>"
   ]
  },
  {
   "cell_type": "code",
   "execution_count": 9,
   "id": "40483dd1-1995-41a4-80cb-a8f243b3f33f",
   "metadata": {},
   "outputs": [
    {
     "data": {
      "image/png": "[encoded data removed]",
      "text/plain": [
       "<Figure size 500x300 with 1 Axes>"
      ]
     },
     "metadata": {},
     "output_type": "display_data"
    }
   ],
   "source": [
    "cv = KFold(n_splits=10, shuffle=True, random_state=0)\n",
    "\n",
    "lm_cv = LinearRegression()\n",
    "RMSE = []\n",
    "for i in range(1, pc_X_train.shape[1]+1):\n",
    "    error = np.sqrt(-1*cross_val_score(lm_cv, pc_X_train[:,:i], y_train, \n",
    "                                        cv=cv, scoring='neg_mean_squared_error').mean())\n",
    "    RMSE.append(error)\n",
    "\n",
    "plt.plot(RMSE, marker='o')\n",
    "plt.xlabel('Number of Components')\n",
    "plt.ylabel('RMSE')\n",
    "plt.xticks(range(0,11))\n",
    "plt.grid(True, alpha=0.3)\n",
    "plt.gcf().set_size_inches(5,3)\n",
    "plt.show()"
   ]
  },
  {
   "cell_type": "code",
   "execution_count": 10,
   "id": "2634fbc3-53fc-42a3-8f2e-42818eb9e99b",
   "metadata": {},
   "outputs": [],
   "source": [
    "# pca.components_\n",
    "# pca.get_feature_names_out()"
   ]
  }
 ],
 "metadata": {
  "kernelspec": {
   "display_name": "Python 3 (ipykernel)",
   "language": "python",
   "name": "python3"
  },
  "language_info": {
   "codemirror_mode": {
    "name": "ipython",
    "version": 3
   },
   "file_extension": ".py",
   "mimetype": "text/x-python",
   "name": "python",
   "nbconvert_exporter": "python",
   "pygments_lexer": "ipython3",
   "version": "3.11.8"
  }
 },
 "nbformat": 4,
 "nbformat_minor": 5
}
