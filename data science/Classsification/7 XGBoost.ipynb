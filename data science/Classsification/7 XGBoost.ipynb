{
 "cells": [
  {
   "cell_type": "code",
   "execution_count": 1,
   "id": "cdf995e4-b3dd-4627-b3a6-830b2f275b3b",
   "metadata": {},
   "outputs": [],
   "source": [
    "import pandas as pd\n",
    "import numpy as np\n",
    "import cupy as cp  # GPU\n",
    "\n",
    "import sklearn.metrics as mt\n",
    "from sklearn.model_selection import train_test_split, GridSearchCV\n",
    "from sklearn.preprocessing import StandardScaler\n",
    "from xgboost import XGBClassifier"
   ]
  },
  {
   "cell_type": "markdown",
   "id": "2409e8bb-cd31-40c2-8aa1-85bef1696b34",
   "metadata": {},
   "source": [
    "<p style=\"background-image: linear-gradient(to right, #0aa98f, #68dab2)\"> &nbsp; </p>"
   ]
  },
  {
   "cell_type": "code",
   "execution_count": 2,
   "id": "37b6b39a-d396-4ae9-b59d-575153810950",
   "metadata": {},
   "outputs": [
    {
     "data": {
      "text/html": [
       "<div>\n",
       "<style scoped>\n",
       "    .dataframe tbody tr th:only-of-type {\n",
       "        vertical-align: middle;\n",
       "    }\n",
       "\n",
       "    .dataframe tbody tr th {\n",
       "        vertical-align: top;\n",
       "    }\n",
       "\n",
       "    .dataframe thead th {\n",
       "        text-align: right;\n",
       "    }\n",
       "</style>\n",
       "<table border=\"1\" class=\"dataframe\">\n",
       "  <thead>\n",
       "    <tr style=\"text-align: right;\">\n",
       "      <th></th>\n",
       "      <th>Pregnancies</th>\n",
       "      <th>Glucose</th>\n",
       "      <th>BloodPressure</th>\n",
       "      <th>SkinThickness</th>\n",
       "      <th>Insulin</th>\n",
       "      <th>BMI</th>\n",
       "      <th>DiabetesPedigreeFunction</th>\n",
       "      <th>Age</th>\n",
       "      <th>Outcome</th>\n",
       "    </tr>\n",
       "  </thead>\n",
       "  <tbody>\n",
       "    <tr>\n",
       "      <th>0</th>\n",
       "      <td>6</td>\n",
       "      <td>148</td>\n",
       "      <td>72</td>\n",
       "      <td>35</td>\n",
       "      <td>0</td>\n",
       "      <td>33.6</td>\n",
       "      <td>0.627</td>\n",
       "      <td>50</td>\n",
       "      <td>1</td>\n",
       "    </tr>\n",
       "    <tr>\n",
       "      <th>1</th>\n",
       "      <td>1</td>\n",
       "      <td>85</td>\n",
       "      <td>66</td>\n",
       "      <td>29</td>\n",
       "      <td>0</td>\n",
       "      <td>26.6</td>\n",
       "      <td>0.351</td>\n",
       "      <td>31</td>\n",
       "      <td>0</td>\n",
       "    </tr>\n",
       "    <tr>\n",
       "      <th>2</th>\n",
       "      <td>8</td>\n",
       "      <td>183</td>\n",
       "      <td>64</td>\n",
       "      <td>0</td>\n",
       "      <td>0</td>\n",
       "      <td>23.3</td>\n",
       "      <td>0.672</td>\n",
       "      <td>32</td>\n",
       "      <td>1</td>\n",
       "    </tr>\n",
       "  </tbody>\n",
       "</table>\n",
       "</div>"
      ],
      "text/plain": [
       "   Pregnancies  Glucose  BloodPressure  SkinThickness  Insulin   BMI  \\\n",
       "0            6      148             72             35        0  33.6   \n",
       "1            1       85             66             29        0  26.6   \n",
       "2            8      183             64              0        0  23.3   \n",
       "\n",
       "   DiabetesPedigreeFunction  Age  Outcome  \n",
       "0                     0.627   50        1  \n",
       "1                     0.351   31        0  \n",
       "2                     0.672   32        1  "
      ]
     },
     "execution_count": 2,
     "metadata": {},
     "output_type": "execute_result"
    }
   ],
   "source": [
    "data = pd.read_csv('data/05_diabetes.csv')\n",
    "data.head(3)"
   ]
  },
  {
   "cell_type": "code",
   "execution_count": 3,
   "id": "31ccc87a-552c-442e-bd61-162912885490",
   "metadata": {},
   "outputs": [],
   "source": [
    "y = data['Outcome']\n",
    "X = data.drop(columns='Outcome')\n",
    "\n",
    "X_train, X_test, y_train, y_test = train_test_split(X, y, test_size=0.2, random_state=0)\n",
    "\n",
    "scaler = StandardScaler()\n",
    "X_train = scaler.fit_transform(X_train)\n",
    "X_test = scaler.transform(X_test)"
   ]
  },
  {
   "cell_type": "markdown",
   "id": "3302aa4c-1d56-48a2-bbfc-444dae5adeff",
   "metadata": {},
   "source": [
    "<p style=\"background-image: linear-gradient(#0aa98f, #FFFFFF 10%)\"> &nbsp; </p>"
   ]
  },
  {
   "cell_type": "code",
   "execution_count": 4,
   "id": "4b980cd1-aa25-4db6-8f86-425d9e30295c",
   "metadata": {},
   "outputs": [
    {
     "name": "stdout",
     "output_type": "stream",
     "text": [
      "\n",
      "Confusion Matrix:\n",
      " [[88 19]\n",
      " [12 35]]\n",
      "\n",
      "Accuracy: 0.7987012987012987\n"
     ]
    }
   ],
   "source": [
    "model = XGBClassifier()\n",
    "model.fit(X_train, y_train)\n",
    "predictions = model.predict(X_test)\n",
    "\n",
    "confusion_matrix = mt.confusion_matrix(y_test, predictions)\n",
    "print('\\nConfusion Matrix:\\n', confusion_matrix)\n",
    "\n",
    "accuracy = mt.accuracy_score(y_test, predictions)\n",
    "print('\\nAccuracy:', accuracy)"
   ]
  },
  {
   "cell_type": "markdown",
   "id": "5a2ad902-f1e4-49a6-94e0-280c32535894",
   "metadata": {},
   "source": [
    "<p style=\"background-image: linear-gradient(#0aa98f, #FFFFFF 10%)\"> &nbsp; </p>"
   ]
  },
  {
   "cell_type": "code",
   "execution_count": 5,
   "id": "38d4a420-60d2-4495-9a9d-3e1828dfd6dd",
   "metadata": {},
   "outputs": [],
   "source": [
    "params_short = {\n",
    "    'max_depth': [3, 4, 5],\n",
    "    'subsample': [0.7, 0.8, 0.9],\n",
    "    'n_estimators': [100, 500, 750, 1000],\n",
    "    'learning_rate': [0.1, 0.2, 0.3]\n",
    "}\n",
    "\n",
    "# params_mid = {\n",
    "#     'max_depth': [3, 5, 7, 9],\n",
    "#     'subsample': [0.2, 0.4, 0.6, 0.8],\n",
    "#     'n_estimators': [100, 500, 1000, 2000, 5000],\n",
    "#     'learning_rate': [0.2, 0.4, 0.6, 0.8]\n",
    "# }\n",
    "\n",
    "# # # params_long = {\n",
    "# # #     'max_depth': range(3,10),\n",
    "# # #     'subsample': np.arange(0.1, 1, 0.1),\n",
    "# # #     'n_estimators': [100, 250, 500, 750, 1000, 2000, 5000],\n",
    "# # #     'learning_rate': np.arange(0.1, 1, 0.1)\n",
    "# # # }\n",
    "\n",
    "params = params_short"
   ]
  },
  {
   "cell_type": "code",
   "execution_count": 6,
   "id": "a4ce703d-3f13-4eb6-8bf4-c66f535b67b3",
   "metadata": {},
   "outputs": [
    {
     "name": "stdout",
     "output_type": "stream",
     "text": [
      "{'learning_rate': 0.1, 'max_depth': 3, 'n_estimators': 100, 'subsample': 0.9}\n",
      "0.7557377049180328\n",
      "XGBClassifier(base_score=None, booster=None, callbacks=None,\n",
      "              colsample_bylevel=None, colsample_bynode=None,\n",
      "              colsample_bytree=None, device=None, early_stopping_rounds=None,\n",
      "              enable_categorical=False, eval_metric=None, feature_types=None,\n",
      "              gamma=None, grow_policy=None, importance_type=None,\n",
      "              interaction_constraints=None, learning_rate=0.1, max_bin=None,\n",
      "              max_cat_threshold=None, max_cat_to_onehot=None,\n",
      "              max_delta_step=None, max_depth=3, max_leaves=None,\n",
      "              min_child_weight=None, missing=nan, monotone_constraints=None,\n",
      "              multi_strategy=None, n_estimators=100, n_jobs=None,\n",
      "              num_parallel_tree=None, random_state=None, ...) \n",
      "\n",
      "CPU times: user 1min 17s, sys: 2min 16s, total: 3min 34s\n",
      "Wall time: 1min 3s\n"
     ]
    }
   ],
   "source": [
    "%%time\n",
    "\n",
    "grid = GridSearchCV(estimator=model, param_grid=params, cv=10, n_jobs=-1)\n",
    "grid.fit(X_train, y_train)\n",
    "\n",
    "print(grid.best_params_)\n",
    "print(grid.best_score_)\n",
    "print(grid.best_estimator_, '\\n')"
   ]
  },
  {
   "cell_type": "markdown",
   "id": "5af3127b-84f8-4d64-ac2a-95b52de13076",
   "metadata": {},
   "source": [
    "<p style=\"background-image: linear-gradient(#0aa98f, #FFFFFF 10%)\"> &nbsp; </p>"
   ]
  },
  {
   "cell_type": "code",
   "execution_count": 7,
   "id": "b436199b-70ef-4ced-8bca-102e798c1a61",
   "metadata": {},
   "outputs": [
    {
     "name": "stdout",
     "output_type": "stream",
     "text": [
      "\n",
      "Confusion Matrix:\n",
      " [[90 17]\n",
      " [12 35]]\n",
      "\n",
      "Accuracy: 0.8116883116883117\n"
     ]
    }
   ],
   "source": [
    "model_gpu = XGBClassifier(device='cuda', tree_method='hist') # eval_metric='rmse'\n",
    "model_gpu.fit(X_train, y_train)\n",
    "predictions_gpu = model_gpu.predict(cp.asarray(X_test))\n",
    "\n",
    "confusion_matrix = mt.confusion_matrix(y_test, predictions_gpu)\n",
    "print('\\nConfusion Matrix:\\n', confusion_matrix)\n",
    "\n",
    "accuracy = mt.accuracy_score(y_test, predictions_gpu)\n",
    "print('\\nAccuracy:', accuracy)"
   ]
  },
  {
   "cell_type": "code",
   "execution_count": 8,
   "id": "c18f5f6f-83b1-428b-9163-349776c85131",
   "metadata": {
    "scrolled": true
   },
   "outputs": [],
   "source": [
    "# # %%time\n",
    "\n",
    "# # grid_gpu = GridSearchCV(estimator=model_gpu, param_grid=params, cv=10, n_jobs=-1)\n",
    "# # grid_gpu.fit(X_train, y_train)\n",
    "\n",
    "# # print(grid_gpu.best_params_)\n",
    "# # print(grid_gpu.best_score_)\n",
    "# # print(grid_gpu.best_estimator_, '\\n')"
   ]
  },
  {
   "cell_type": "markdown",
   "id": "17763271-327f-48f0-ba62-819a7c758a4d",
   "metadata": {},
   "source": [
    "**This is params_long output for model gpu with params_short**\n",
    "```\n",
    "{'learning_rate': 0.1, 'max_depth': 3, 'n_estimators': 100, 'subsample': 0.9}\n",
    "0.7556583818085668\n",
    "XGBClassifier(base_score=None, booster=None, callbacks=None,\n",
    "              colsample_bylevel=None, colsample_bynode=None,\n",
    "              colsample_bytree=None, device='cuda', early_stopping_rounds=None,\n",
    "              enable_categorical=False, eval_metric=None, feature_types=None,\n",
    "              gamma=None, grow_policy=None, importance_type=None,\n",
    "              interaction_constraints=None, learning_rate=0.1, max_bin=None,\n",
    "              max_cat_threshold=None, max_cat_to_onehot=None,\n",
    "              max_delta_step=None, max_depth=3, max_leaves=None,\n",
    "              min_child_weight=None, missing=nan, monotone_constraints=None,\n",
    "              multi_strategy=None, n_estimators=100, n_jobs=None,\n",
    "              num_parallel_tree=None, random_state=None, ...) \n",
    "\n",
    "CPU times: user 3min 52s, sys: 6min 35s, total: 10min 27s\n",
    "Wall time: 18min 22s\n",
    "```"
   ]
  },
  {
   "cell_type": "markdown",
   "id": "a6a1f560-a4f1-4db2-894a-35de032ff8ad",
   "metadata": {},
   "source": [
    "<p style=\"background-image: linear-gradient(#0aa98f, #FFFFFF 10%)\"> &nbsp; </p>"
   ]
  },
  {
   "cell_type": "code",
   "execution_count": 9,
   "id": "93485650-450b-4042-abf8-e6f2e9c36f70",
   "metadata": {
    "jp-MarkdownHeadingCollapsed": true
   },
   "outputs": [
    {
     "name": "stdout",
     "output_type": "stream",
     "text": [
      "\n",
      "Confusion Matrix:\n",
      " [[92 15]\n",
      " [12 35]]\n",
      "\n",
      "Accuracy: 0.8246753246753247\n"
     ]
    }
   ],
   "source": [
    "model = grid.best_estimator_\n",
    "# model = XGBClassifier(learning_rate=0.1, max_depth=3, \n",
    "#                       n_estimators=100, subsample=0.9)\n",
    "model.fit(X_train, y_train)\n",
    "predictions = model.predict(X_test)\n",
    "\n",
    "confusion_matrix = mt.confusion_matrix(y_test, predictions)\n",
    "print('\\nConfusion Matrix:\\n', confusion_matrix)\n",
    "\n",
    "accuracy = mt.accuracy_score(y_test, predictions)\n",
    "print('\\nAccuracy:', accuracy)"
   ]
  },
  {
   "cell_type": "markdown",
   "id": "a86d479d-9c4d-41aa-9920-2321757befb8",
   "metadata": {},
   "source": [
    "<p style=\"background-image: linear-gradient(to right, #0aa98f, #68dab2)\"> &nbsp; </p>"
   ]
  }
 ],
 "metadata": {
  "kernelspec": {
   "display_name": "Python 3 (ipykernel)",
   "language": "python",
   "name": "python3"
  },
  "language_info": {
   "codemirror_mode": {
    "name": "ipython",
    "version": 3
   },
   "file_extension": ".py",
   "mimetype": "text/x-python",
   "name": "python",
   "nbconvert_exporter": "python",
   "pygments_lexer": "ipython3",
   "version": "3.11.10"
  }
 },
 "nbformat": 4,
 "nbformat_minor": 5
}
