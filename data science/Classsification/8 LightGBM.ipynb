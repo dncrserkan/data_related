{
 "cells": [
  {
   "cell_type": "code",
   "execution_count": 1,
   "id": "b5bed8ee-ed6a-46e4-bcdf-1d6ffbcdf1ba",
   "metadata": {},
   "outputs": [],
   "source": [
    "import pandas as pd\n",
    "\n",
    "import sklearn.metrics as mt\n",
    "from sklearn.preprocessing import StandardScaler\n",
    "from sklearn.model_selection import train_test_split, GridSearchCV\n",
    "from lightgbm import LGBMClassifier"
   ]
  },
  {
   "cell_type": "markdown",
   "id": "f1a54fc5-2149-4ae6-a969-24c32f0f52d3",
   "metadata": {},
   "source": [
    "<p style=\"background-image: linear-gradient(to right, #0aa98f, #68dab2)\"> &nbsp; </p>"
   ]
  },
  {
   "cell_type": "code",
   "execution_count": 2,
   "id": "689679e6-4065-4c89-8e78-b981482dbafd",
   "metadata": {},
   "outputs": [
    {
     "data": {
      "text/html": [
       "<div>\n",
       "<style scoped>\n",
       "    .dataframe tbody tr th:only-of-type {\n",
       "        vertical-align: middle;\n",
       "    }\n",
       "\n",
       "    .dataframe tbody tr th {\n",
       "        vertical-align: top;\n",
       "    }\n",
       "\n",
       "    .dataframe thead th {\n",
       "        text-align: right;\n",
       "    }\n",
       "</style>\n",
       "<table border=\"1\" class=\"dataframe\">\n",
       "  <thead>\n",
       "    <tr style=\"text-align: right;\">\n",
       "      <th></th>\n",
       "      <th>Pregnancies</th>\n",
       "      <th>Glucose</th>\n",
       "      <th>BloodPressure</th>\n",
       "      <th>SkinThickness</th>\n",
       "      <th>Insulin</th>\n",
       "      <th>BMI</th>\n",
       "      <th>DiabetesPedigreeFunction</th>\n",
       "      <th>Age</th>\n",
       "      <th>Outcome</th>\n",
       "    </tr>\n",
       "  </thead>\n",
       "  <tbody>\n",
       "    <tr>\n",
       "      <th>0</th>\n",
       "      <td>6</td>\n",
       "      <td>148</td>\n",
       "      <td>72</td>\n",
       "      <td>35</td>\n",
       "      <td>0</td>\n",
       "      <td>33.6</td>\n",
       "      <td>0.627</td>\n",
       "      <td>50</td>\n",
       "      <td>1</td>\n",
       "    </tr>\n",
       "    <tr>\n",
       "      <th>1</th>\n",
       "      <td>1</td>\n",
       "      <td>85</td>\n",
       "      <td>66</td>\n",
       "      <td>29</td>\n",
       "      <td>0</td>\n",
       "      <td>26.6</td>\n",
       "      <td>0.351</td>\n",
       "      <td>31</td>\n",
       "      <td>0</td>\n",
       "    </tr>\n",
       "    <tr>\n",
       "      <th>2</th>\n",
       "      <td>8</td>\n",
       "      <td>183</td>\n",
       "      <td>64</td>\n",
       "      <td>0</td>\n",
       "      <td>0</td>\n",
       "      <td>23.3</td>\n",
       "      <td>0.672</td>\n",
       "      <td>32</td>\n",
       "      <td>1</td>\n",
       "    </tr>\n",
       "  </tbody>\n",
       "</table>\n",
       "</div>"
      ],
      "text/plain": [
       "   Pregnancies  Glucose  BloodPressure  SkinThickness  Insulin   BMI  \\\n",
       "0            6      148             72             35        0  33.6   \n",
       "1            1       85             66             29        0  26.6   \n",
       "2            8      183             64              0        0  23.3   \n",
       "\n",
       "   DiabetesPedigreeFunction  Age  Outcome  \n",
       "0                     0.627   50        1  \n",
       "1                     0.351   31        0  \n",
       "2                     0.672   32        1  "
      ]
     },
     "execution_count": 2,
     "metadata": {},
     "output_type": "execute_result"
    }
   ],
   "source": [
    "data = pd.read_csv('data/05_diabetes.csv')\n",
    "data.head(3)"
   ]
  },
  {
   "cell_type": "markdown",
   "id": "8254f307-7dcd-4ae9-bde5-962cc39c0fa0",
   "metadata": {},
   "source": [
    "<p style=\"background-image: linear-gradient(#0aa98f, #FFFFFF 10%)\"> &nbsp; </p>"
   ]
  },
  {
   "cell_type": "code",
   "execution_count": 3,
   "id": "c8990aec-6cd4-4a5a-bfe3-db0434abf2f1",
   "metadata": {},
   "outputs": [],
   "source": [
    "y = data['Outcome']\n",
    "X = data.drop(columns='Outcome')\n",
    "\n",
    "X_train, X_test, y_train, y_test = train_test_split(X, y, test_size=0.2, random_state=0)\n",
    "\n",
    "scaler = StandardScaler()\n",
    "X_train = scaler.fit_transform(X_train)\n",
    "X_test = scaler.transform(X_test)"
   ]
  },
  {
   "cell_type": "code",
   "execution_count": 4,
   "id": "bbb6cb1d-5763-4e18-bd26-3ec2e4b8ca29",
   "metadata": {},
   "outputs": [
    {
     "name": "stdout",
     "output_type": "stream",
     "text": [
      "\n",
      "Confusion Matrix:\n",
      " [[91 16]\n",
      " [17 30]]\n",
      "\n",
      "Accuracy: 0.7857142857142857\n"
     ]
    }
   ],
   "source": [
    "model = LGBMClassifier(verbose=-1)\n",
    "model.fit(X_train, y_train)\n",
    "predictions = model.predict(X_test)\n",
    "\n",
    "confusion_matrix = mt.confusion_matrix(y_test, predictions)\n",
    "print('\\nConfusion Matrix:\\n', confusion_matrix)\n",
    "\n",
    "accuracy = mt.accuracy_score(y_test, predictions)\n",
    "print('\\nAccuracy:', accuracy)"
   ]
  },
  {
   "cell_type": "markdown",
   "id": "f58aaa7a-3d68-4bc8-bfca-0251d5de9e0a",
   "metadata": {},
   "source": [
    "<p style=\"background-image: linear-gradient(#0aa98f, #FFFFFF 10%)\"> &nbsp; </p>"
   ]
  },
  {
   "cell_type": "code",
   "execution_count": 5,
   "id": "945cce40-1efb-4234-a4b2-9015180c2a79",
   "metadata": {},
   "outputs": [
    {
     "name": "stdout",
     "output_type": "stream",
     "text": [
      "{'learning_rate': 0.001, 'max_depth': 3, 'n_estimators': 2000, 'subsample': 0.2}\n",
      "0.7556848228450554\n",
      "LGBMClassifier(learning_rate=0.001, max_depth=3, n_estimators=2000,\n",
      "               subsample=0.2, verbose=-1) \n",
      "\n",
      "CPU times: user 3min 40s, sys: 48.9 s, total: 4min 29s\n",
      "Wall time: 17min 3s\n"
     ]
    }
   ],
   "source": [
    "%%time\n",
    "\n",
    "params = {\n",
    "    'max_depth': [3, 5, 7, 9],\n",
    "    'subsample': [0.2, 0.4, 0.6, 0.8],\n",
    "    'n_estimators': [100, 500, 1000, 2000],\n",
    "    # 'learning_rate': [0.2, 0.4, 0.6, 0.8]\n",
    "    'learning_rate': [0.001, 0.01, 0.1, 0.2]\n",
    "}\n",
    "\n",
    "grid = GridSearchCV(estimator=model, param_grid=params, cv=10, n_jobs=-1)\n",
    "grid.fit(X_train, y_train)\n",
    "\n",
    "print(grid.best_params_)\n",
    "print(grid.best_score_)\n",
    "print(grid.best_estimator_, '\\n')"
   ]
  },
  {
   "cell_type": "code",
   "execution_count": 6,
   "id": "bd2b0747-3b10-4771-80d3-c4bbc3f4f3a1",
   "metadata": {},
   "outputs": [
    {
     "name": "stdout",
     "output_type": "stream",
     "text": [
      "\n",
      "Confusion Matrix:\n",
      " [[96 11]\n",
      " [20 27]]\n",
      "\n",
      "Accuracy: 0.7987012987012987\n"
     ]
    }
   ],
   "source": [
    "model = grid.best_estimator_\n",
    "model.fit(X_train, y_train)\n",
    "predictions = model.predict(X_test)\n",
    "\n",
    "confusion_matrix = mt.confusion_matrix(y_test, predictions)\n",
    "print('\\nConfusion Matrix:\\n', confusion_matrix)\n",
    "\n",
    "accuracy = mt.accuracy_score(y_test, predictions)\n",
    "print('\\nAccuracy:', accuracy)"
   ]
  },
  {
   "cell_type": "markdown",
   "id": "6f9ced74-752c-4f23-a702-f8dddc31c707",
   "metadata": {},
   "source": [
    "<p style=\"background-image: linear-gradient(to right, #0aa98f, #68dab2)\"> &nbsp; </p>"
   ]
  }
 ],
 "metadata": {
  "kernelspec": {
   "display_name": "Python 3 (ipykernel)",
   "language": "python",
   "name": "python3"
  },
  "language_info": {
   "codemirror_mode": {
    "name": "ipython",
    "version": 3
   },
   "file_extension": ".py",
   "mimetype": "text/x-python",
   "name": "python",
   "nbconvert_exporter": "python",
   "pygments_lexer": "ipython3",
   "version": "3.11.10"
  }
 },
 "nbformat": 4,
 "nbformat_minor": 5
}
