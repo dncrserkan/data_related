{
 "cells": [
  {
   "cell_type": "markdown",
   "id": "8376ef33-3970-4fe1-95d4-b7e2c9ffa541",
   "metadata": {},
   "source": [
    "**Data Transformation - Variable Scaling**\n",
    "\n",
    "> Variable scaling refers to adjusting variables to a common scale, which is critical for many data analysis and machine learning tasks. Scaling methods depend on the type of data and the problem being addressed. For numerical variables, common techniques include normalization (rescaling values to a range, such as \\[0, 1]) and standardization (transforming values to have a mean of 0 and a standard deviation of 1). Categorical variables may need to be transformed into dummy variables to make them usable in models.\n",
    "> \n",
    "> **Ease of Analysis:** When variables are on the same scale or unit, comparisons between them become more meaningful. For instance, in regression or correlation analysis, having variables on comparable scales helps avoid bias toward features with larger values.\n",
    ">\n",
    "> **Model Performance:** Many machine learning algorithms, such as those relying on distance metrics (e.g., k-nearest neighbors, SVM, or clustering algorithms), or gradient-based optimization methods (e.g., neural networks), perform better when input features are scaled similarly. Without scaling, variables with larger magnitudes may dominate model learning, leading to suboptimal results.\n",
    ">\n",
    "> **Handling Outliers:** The choice of scaling method is important, especially when the dataset contains outliers. Standardization is less sensitive to extreme values compared to Min-Max scaling, making it a better choice when dealing with datasets that have significant outliers.\n",
    "> \n",
    "> **Not Always Necessary:** It’s also worth noting that not all algorithms require scaling. For instance, tree-based algorithms like decision trees, random forests, and gradient-boosted trees do not depend on variable scaling since they split data based on feature values rather than distances between points."
   ]
  },
  {
   "cell_type": "markdown",
   "id": "8df661c9-6b09-4a26-9804-2fb85bb8c0a9",
   "metadata": {},
   "source": [
    "<p style=\"background-image: linear-gradient(to right, #0aa98f, #68dab2)\"> &nbsp; </p>"
   ]
  },
  {
   "cell_type": "code",
   "execution_count": 1,
   "id": "9d424797-150d-4259-ac36-43ecfd2a2ba6",
   "metadata": {},
   "outputs": [],
   "source": [
    "import pandas as pd\n",
    "import numpy as np\n",
    "from sklearn import preprocessing as pre"
   ]
  },
  {
   "cell_type": "markdown",
   "id": "c7f002b5-58f1-4fa2-8d3d-134d0b4c67ca",
   "metadata": {},
   "source": [
    "<p style=\"background-image: linear-gradient(to right, #0aa98f, #68dab2)\"> &nbsp; </p>"
   ]
  },
  {
   "cell_type": "code",
   "execution_count": 2,
   "id": "8d70cf96-a994-4579-b34f-40f14e55e771",
   "metadata": {},
   "outputs": [],
   "source": [
    "data = np.random.randint(40, 250, size=30)\n",
    "data = pd.DataFrame(data)"
   ]
  },
  {
   "cell_type": "markdown",
   "id": "2cc3000a-909e-4666-b6b4-18a80de65727",
   "metadata": {},
   "source": [
    "<p style=\"background-image: linear-gradient(#0aa98f, #ffffff 10%); font-weight:bold;\"> \n",
    "    &nbsp; Max Min Scaler </p>"
   ]
  },
  {
   "cell_type": "code",
   "execution_count": 3,
   "id": "4a837b33-ebbf-4cdd-986f-2fb591f3aa26",
   "metadata": {},
   "outputs": [
    {
     "data": {
      "text/html": [
       "<div>\n",
       "<style scoped>\n",
       "    .dataframe tbody tr th:only-of-type {\n",
       "        vertical-align: middle;\n",
       "    }\n",
       "\n",
       "    .dataframe tbody tr th {\n",
       "        vertical-align: top;\n",
       "    }\n",
       "\n",
       "    .dataframe thead th {\n",
       "        text-align: right;\n",
       "    }\n",
       "</style>\n",
       "<table border=\"1\" class=\"dataframe\">\n",
       "  <thead>\n",
       "    <tr style=\"text-align: right;\">\n",
       "      <th></th>\n",
       "      <th>0</th>\n",
       "    </tr>\n",
       "  </thead>\n",
       "  <tbody>\n",
       "    <tr>\n",
       "      <th>0</th>\n",
       "      <td>1.000000</td>\n",
       "    </tr>\n",
       "    <tr>\n",
       "      <th>0</th>\n",
       "      <td>0.000000</td>\n",
       "    </tr>\n",
       "    <tr>\n",
       "      <th>21</th>\n",
       "      <td>0.873786</td>\n",
       "    </tr>\n",
       "  </tbody>\n",
       "</table>\n",
       "</div>"
      ],
      "text/plain": [
       "           0\n",
       "0   1.000000\n",
       "0   0.000000\n",
       "21  0.873786"
      ]
     },
     "metadata": {},
     "output_type": "display_data"
    }
   ],
   "source": [
    "arr = pre.MinMaxScaler().fit_transform(data)\n",
    "res = pd.DataFrame(arr)\n",
    "display(pd.concat([res.max(), res.min(), res.sample()]))"
   ]
  },
  {
   "cell_type": "markdown",
   "id": "3fceb74f-9ebc-4e62-a7d5-125d462e0f85",
   "metadata": {},
   "source": [
    "<p style=\"background-image: linear-gradient(#0aa98f, #ffffff 10%); font-weight:bold;\"> \n",
    "    &nbsp; Robust Scaler </p>"
   ]
  },
  {
   "cell_type": "code",
   "execution_count": 4,
   "id": "8a34ab09-5bf7-412f-b36e-5ba152eee883",
   "metadata": {},
   "outputs": [
    {
     "data": {
      "text/html": [
       "<div>\n",
       "<style scoped>\n",
       "    .dataframe tbody tr th:only-of-type {\n",
       "        vertical-align: middle;\n",
       "    }\n",
       "\n",
       "    .dataframe tbody tr th {\n",
       "        vertical-align: top;\n",
       "    }\n",
       "\n",
       "    .dataframe thead th {\n",
       "        text-align: right;\n",
       "    }\n",
       "</style>\n",
       "<table border=\"1\" class=\"dataframe\">\n",
       "  <thead>\n",
       "    <tr style=\"text-align: right;\">\n",
       "      <th></th>\n",
       "      <th>0</th>\n",
       "    </tr>\n",
       "  </thead>\n",
       "  <tbody>\n",
       "    <tr>\n",
       "      <th>0</th>\n",
       "      <td>1.072539</td>\n",
       "    </tr>\n",
       "    <tr>\n",
       "      <th>0</th>\n",
       "      <td>-1.062176</td>\n",
       "    </tr>\n",
       "    <tr>\n",
       "      <th>27</th>\n",
       "      <td>-1.062176</td>\n",
       "    </tr>\n",
       "  </tbody>\n",
       "</table>\n",
       "</div>"
      ],
      "text/plain": [
       "           0\n",
       "0   1.072539\n",
       "0  -1.062176\n",
       "27 -1.062176"
      ]
     },
     "metadata": {},
     "output_type": "display_data"
    }
   ],
   "source": [
    "arr = pre.RobustScaler().fit_transform(data)\n",
    "res = pd.DataFrame(arr)\n",
    "display(pd.concat([res.max(), res.min(), res.sample()]))"
   ]
  },
  {
   "cell_type": "markdown",
   "id": "7fc6a6e8-c7d3-4729-b3cc-c00539a8f571",
   "metadata": {},
   "source": [
    "<p style=\"background-image: linear-gradient(#0aa98f, #ffffff 10%); font-weight:bold;\"> \n",
    "    &nbsp; Standardization </p>"
   ]
  },
  {
   "cell_type": "code",
   "execution_count": 5,
   "id": "08c16a30-dd8f-4312-a164-5ebd72a14fcf",
   "metadata": {},
   "outputs": [
    {
     "data": {
      "text/html": [
       "<div>\n",
       "<style scoped>\n",
       "    .dataframe tbody tr th:only-of-type {\n",
       "        vertical-align: middle;\n",
       "    }\n",
       "\n",
       "    .dataframe tbody tr th {\n",
       "        vertical-align: top;\n",
       "    }\n",
       "\n",
       "    .dataframe thead th {\n",
       "        text-align: right;\n",
       "    }\n",
       "</style>\n",
       "<table border=\"1\" class=\"dataframe\">\n",
       "  <thead>\n",
       "    <tr style=\"text-align: right;\">\n",
       "      <th></th>\n",
       "      <th>0</th>\n",
       "    </tr>\n",
       "  </thead>\n",
       "  <tbody>\n",
       "    <tr>\n",
       "      <th>0</th>\n",
       "      <td>1.667499</td>\n",
       "    </tr>\n",
       "    <tr>\n",
       "      <th>0</th>\n",
       "      <td>-1.752727</td>\n",
       "    </tr>\n",
       "    <tr>\n",
       "      <th>0</th>\n",
       "      <td>0.936965</td>\n",
       "    </tr>\n",
       "  </tbody>\n",
       "</table>\n",
       "</div>"
      ],
      "text/plain": [
       "          0\n",
       "0  1.667499\n",
       "0 -1.752727\n",
       "0  0.936965"
      ]
     },
     "metadata": {},
     "output_type": "display_data"
    },
    {
     "data": {
      "text/html": [
       "<div>\n",
       "<style scoped>\n",
       "    .dataframe tbody tr th:only-of-type {\n",
       "        vertical-align: middle;\n",
       "    }\n",
       "\n",
       "    .dataframe tbody tr th {\n",
       "        vertical-align: top;\n",
       "    }\n",
       "\n",
       "    .dataframe thead th {\n",
       "        text-align: right;\n",
       "    }\n",
       "</style>\n",
       "<table border=\"1\" class=\"dataframe\">\n",
       "  <thead>\n",
       "    <tr style=\"text-align: right;\">\n",
       "      <th></th>\n",
       "      <th>0</th>\n",
       "    </tr>\n",
       "  </thead>\n",
       "  <tbody>\n",
       "    <tr>\n",
       "      <th>0</th>\n",
       "      <td>6.383782e-17</td>\n",
       "    </tr>\n",
       "    <tr>\n",
       "      <th>0</th>\n",
       "      <td>1.017095e+00</td>\n",
       "    </tr>\n",
       "  </tbody>\n",
       "</table>\n",
       "</div>"
      ],
      "text/plain": [
       "              0\n",
       "0  6.383782e-17\n",
       "0  1.017095e+00"
      ]
     },
     "metadata": {},
     "output_type": "display_data"
    }
   ],
   "source": [
    "arr = pre.StandardScaler().fit_transform(data)\n",
    "res = pd.DataFrame(arr)\n",
    "display(pd.concat([res.max(), res.min(), res.sample()]))\n",
    "display(pd.concat([res.mean(), res.std()]).to_frame())"
   ]
  },
  {
   "cell_type": "markdown",
   "id": "f527d7f6-58e3-42ae-b5f7-82ca855ef68e",
   "metadata": {},
   "source": [
    "<p style=\"background-image: linear-gradient(to right, #0aa98f, #68dab2)\"> &nbsp; </p>"
   ]
  },
  {
   "cell_type": "code",
   "execution_count": 6,
   "id": "150986ba-da92-4de0-8aff-cd0e03e32924",
   "metadata": {},
   "outputs": [
    {
     "data": {
      "text/html": [
       "<div>\n",
       "<style scoped>\n",
       "    .dataframe tbody tr th:only-of-type {\n",
       "        vertical-align: middle;\n",
       "    }\n",
       "\n",
       "    .dataframe tbody tr th {\n",
       "        vertical-align: top;\n",
       "    }\n",
       "\n",
       "    .dataframe thead th {\n",
       "        text-align: right;\n",
       "    }\n",
       "</style>\n",
       "<table border=\"1\" class=\"dataframe\">\n",
       "  <thead>\n",
       "    <tr style=\"text-align: right;\">\n",
       "      <th></th>\n",
       "      <th>Sex</th>\n",
       "      <th>Color</th>\n",
       "      <th>Education</th>\n",
       "    </tr>\n",
       "  </thead>\n",
       "  <tbody>\n",
       "    <tr>\n",
       "      <th>3</th>\n",
       "      <td>Male</td>\n",
       "      <td>Black</td>\n",
       "      <td>Doctorate</td>\n",
       "    </tr>\n",
       "    <tr>\n",
       "      <th>10</th>\n",
       "      <td>Male</td>\n",
       "      <td>Blue</td>\n",
       "      <td>High</td>\n",
       "    </tr>\n",
       "    <tr>\n",
       "      <th>8</th>\n",
       "      <td>Female</td>\n",
       "      <td>Blue</td>\n",
       "      <td>Doctorate</td>\n",
       "    </tr>\n",
       "  </tbody>\n",
       "</table>\n",
       "</div>"
      ],
      "text/plain": [
       "       Sex  Color  Education\n",
       "3     Male  Black  Doctorate\n",
       "10    Male   Blue       High\n",
       "8   Female   Blue  Doctorate"
      ]
     },
     "metadata": {},
     "output_type": "display_data"
    }
   ],
   "source": [
    "data = {'Sex':[], 'Color':[], 'Education':[]}\n",
    "for _ in range(30):\n",
    "    data['Sex'].append(np.random.choice(['Female', 'Male']))\n",
    "    data['Color'].append(np.random.choice(['Black', 'White', 'Blue', 'Green', 'Purple']))\n",
    "    data['Education'].append(np.random.choice(['Primary', 'High', 'Bachelor\\'s', 'Master', 'Doctorate']))\n",
    "    \n",
    "data = pd.DataFrame(data)\n",
    "df = data.copy()\n",
    "display(data.sample(3))"
   ]
  },
  {
   "cell_type": "markdown",
   "id": "eb19e0ca-cbdc-4bd5-b7b8-03e2dfc91991",
   "metadata": {},
   "source": [
    "<p style=\"background-image: linear-gradient(#0aa98f, #ffffff 10%); font-weight:bold;\"> \n",
    "    &nbsp; Labeling - Encoding </p>"
   ]
  },
  {
   "cell_type": "code",
   "execution_count": 7,
   "id": "346b69d4-85fc-43de-b523-eba0233d3fb2",
   "metadata": {},
   "outputs": [
    {
     "data": {
      "text/html": [
       "<div>\n",
       "<style scoped>\n",
       "    .dataframe tbody tr th:only-of-type {\n",
       "        vertical-align: middle;\n",
       "    }\n",
       "\n",
       "    .dataframe tbody tr th {\n",
       "        vertical-align: top;\n",
       "    }\n",
       "\n",
       "    .dataframe thead th {\n",
       "        text-align: right;\n",
       "    }\n",
       "</style>\n",
       "<table border=\"1\" class=\"dataframe\">\n",
       "  <thead>\n",
       "    <tr style=\"text-align: right;\">\n",
       "      <th></th>\n",
       "      <th>Sex</th>\n",
       "      <th>Color</th>\n",
       "      <th>Education</th>\n",
       "      <th>Sex_Label</th>\n",
       "      <th>Color_Label</th>\n",
       "      <th>Education_Label</th>\n",
       "    </tr>\n",
       "  </thead>\n",
       "  <tbody>\n",
       "    <tr>\n",
       "      <th>3</th>\n",
       "      <td>Male</td>\n",
       "      <td>Black</td>\n",
       "      <td>Doctorate</td>\n",
       "      <td>1</td>\n",
       "      <td>0</td>\n",
       "      <td>1</td>\n",
       "    </tr>\n",
       "    <tr>\n",
       "      <th>17</th>\n",
       "      <td>Female</td>\n",
       "      <td>White</td>\n",
       "      <td>Master</td>\n",
       "      <td>0</td>\n",
       "      <td>4</td>\n",
       "      <td>3</td>\n",
       "    </tr>\n",
       "    <tr>\n",
       "      <th>2</th>\n",
       "      <td>Male</td>\n",
       "      <td>Black</td>\n",
       "      <td>Primary</td>\n",
       "      <td>1</td>\n",
       "      <td>0</td>\n",
       "      <td>4</td>\n",
       "    </tr>\n",
       "  </tbody>\n",
       "</table>\n",
       "</div>"
      ],
      "text/plain": [
       "       Sex  Color  Education  Sex_Label  Color_Label  Education_Label\n",
       "3     Male  Black  Doctorate          1            0                1\n",
       "17  Female  White     Master          0            4                3\n",
       "2     Male  Black    Primary          1            0                4"
      ]
     },
     "metadata": {},
     "output_type": "display_data"
    }
   ],
   "source": [
    "df['Sex_Label'] = pre.LabelEncoder().fit_transform(df['Sex'])\n",
    "df['Color_Label'] = pre.LabelEncoder().fit_transform(df['Color'])\n",
    "df['Education_Label'] = pre.LabelEncoder().fit_transform(df['Education'])\n",
    "display(df.sample(3))"
   ]
  },
  {
   "cell_type": "markdown",
   "id": "7253a57c-458c-4d5e-9f00-f439cbf2c2e5",
   "metadata": {},
   "source": [
    "<p style=\"background-image: linear-gradient(#0aa98f, #ffffff 10%); font-weight:bold;\"> \n",
    "    &nbsp; One-Hot Encoding </p>"
   ]
  },
  {
   "cell_type": "code",
   "execution_count": 8,
   "id": "29357bbd-9332-4bfc-9c28-6b95331f9d54",
   "metadata": {},
   "outputs": [
    {
     "data": {
      "text/html": [
       "<div>\n",
       "<style scoped>\n",
       "    .dataframe tbody tr th:only-of-type {\n",
       "        vertical-align: middle;\n",
       "    }\n",
       "\n",
       "    .dataframe tbody tr th {\n",
       "        vertical-align: top;\n",
       "    }\n",
       "\n",
       "    .dataframe thead th {\n",
       "        text-align: right;\n",
       "    }\n",
       "</style>\n",
       "<table border=\"1\" class=\"dataframe\">\n",
       "  <thead>\n",
       "    <tr style=\"text-align: right;\">\n",
       "      <th></th>\n",
       "      <th>Color</th>\n",
       "      <th>Education</th>\n",
       "      <th>Sex_Female</th>\n",
       "      <th>Sex_Male</th>\n",
       "    </tr>\n",
       "  </thead>\n",
       "  <tbody>\n",
       "    <tr>\n",
       "      <th>0</th>\n",
       "      <td>Black</td>\n",
       "      <td>Primary</td>\n",
       "      <td>0</td>\n",
       "      <td>1</td>\n",
       "    </tr>\n",
       "    <tr>\n",
       "      <th>1</th>\n",
       "      <td>White</td>\n",
       "      <td>High</td>\n",
       "      <td>0</td>\n",
       "      <td>1</td>\n",
       "    </tr>\n",
       "    <tr>\n",
       "      <th>2</th>\n",
       "      <td>Black</td>\n",
       "      <td>Primary</td>\n",
       "      <td>0</td>\n",
       "      <td>1</td>\n",
       "    </tr>\n",
       "  </tbody>\n",
       "</table>\n",
       "</div>"
      ],
      "text/plain": [
       "   Color Education  Sex_Female  Sex_Male\n",
       "0  Black   Primary           0         1\n",
       "1  White      High           0         1\n",
       "2  Black   Primary           0         1"
      ]
     },
     "metadata": {},
     "output_type": "display_data"
    }
   ],
   "source": [
    "one_hot = pd.get_dummies(data, columns=['Sex'], dtype='int') # converted column was not taken\n",
    "display(one_hot.head(3))"
   ]
  },
  {
   "cell_type": "markdown",
   "id": "d8ecb9be-57ae-438d-879e-54e8f9591d86",
   "metadata": {},
   "source": [
    "<p style=\"background-image: linear-gradient(#0aa98f, #ffffff 10%); font-weight:bold;\"> \n",
    "    &nbsp; Dummy Variable Trap - multicollinearity </p>"
   ]
  },
  {
   "cell_type": "code",
   "execution_count": 9,
   "id": "4a81152f-4f21-4cc9-bfdc-974ebe1617d4",
   "metadata": {},
   "outputs": [
    {
     "data": {
      "text/html": [
       "<div>\n",
       "<style scoped>\n",
       "    .dataframe tbody tr th:only-of-type {\n",
       "        vertical-align: middle;\n",
       "    }\n",
       "\n",
       "    .dataframe tbody tr th {\n",
       "        vertical-align: top;\n",
       "    }\n",
       "\n",
       "    .dataframe thead th {\n",
       "        text-align: right;\n",
       "    }\n",
       "</style>\n",
       "<table border=\"1\" class=\"dataframe\">\n",
       "  <thead>\n",
       "    <tr style=\"text-align: right;\">\n",
       "      <th></th>\n",
       "      <th>Color</th>\n",
       "      <th>Education</th>\n",
       "      <th>Sex_Male</th>\n",
       "    </tr>\n",
       "  </thead>\n",
       "  <tbody>\n",
       "    <tr>\n",
       "      <th>0</th>\n",
       "      <td>Black</td>\n",
       "      <td>Primary</td>\n",
       "      <td>1</td>\n",
       "    </tr>\n",
       "    <tr>\n",
       "      <th>1</th>\n",
       "      <td>White</td>\n",
       "      <td>High</td>\n",
       "      <td>1</td>\n",
       "    </tr>\n",
       "    <tr>\n",
       "      <th>2</th>\n",
       "      <td>Black</td>\n",
       "      <td>Primary</td>\n",
       "      <td>1</td>\n",
       "    </tr>\n",
       "  </tbody>\n",
       "</table>\n",
       "</div>"
      ],
      "text/plain": [
       "   Color Education  Sex_Male\n",
       "0  Black   Primary         1\n",
       "1  White      High         1\n",
       "2  Black   Primary         1"
      ]
     },
     "metadata": {},
     "output_type": "display_data"
    }
   ],
   "source": [
    "one_hot = pd.get_dummies(data, columns=['Sex'], dtype='int', drop_first=True)\n",
    "display(one_hot.head(3))"
   ]
  },
  {
   "cell_type": "markdown",
   "id": "3ff98cd5-73de-4b9c-b306-164f57731ee6",
   "metadata": {},
   "source": [
    "<p style=\"background-image: linear-gradient(#0aa98f, #ffffff 10%); font-weight:bold;\"> \n",
    "    &nbsp; Ordinal Variable Transformation (Labeling) </p>"
   ]
  },
  {
   "cell_type": "code",
   "execution_count": 10,
   "id": "4ada8a5c-e21f-428a-9c7f-e9f8880a4c43",
   "metadata": {},
   "outputs": [
    {
     "data": {
      "text/html": [
       "<div>\n",
       "<style scoped>\n",
       "    .dataframe tbody tr th:only-of-type {\n",
       "        vertical-align: middle;\n",
       "    }\n",
       "\n",
       "    .dataframe tbody tr th {\n",
       "        vertical-align: top;\n",
       "    }\n",
       "\n",
       "    .dataframe thead th {\n",
       "        text-align: right;\n",
       "    }\n",
       "</style>\n",
       "<table border=\"1\" class=\"dataframe\">\n",
       "  <thead>\n",
       "    <tr style=\"text-align: right;\">\n",
       "      <th></th>\n",
       "      <th>Sex</th>\n",
       "      <th>Color</th>\n",
       "      <th>Education</th>\n",
       "      <th>Education_Label</th>\n",
       "      <th>Education_Ordered</th>\n",
       "    </tr>\n",
       "  </thead>\n",
       "  <tbody>\n",
       "    <tr>\n",
       "      <th>21</th>\n",
       "      <td>Female</td>\n",
       "      <td>Black</td>\n",
       "      <td>Doctorate</td>\n",
       "      <td>1</td>\n",
       "      <td>4</td>\n",
       "    </tr>\n",
       "    <tr>\n",
       "      <th>24</th>\n",
       "      <td>Male</td>\n",
       "      <td>Black</td>\n",
       "      <td>High</td>\n",
       "      <td>2</td>\n",
       "      <td>1</td>\n",
       "    </tr>\n",
       "    <tr>\n",
       "      <th>25</th>\n",
       "      <td>Male</td>\n",
       "      <td>Blue</td>\n",
       "      <td>Doctorate</td>\n",
       "      <td>1</td>\n",
       "      <td>4</td>\n",
       "    </tr>\n",
       "    <tr>\n",
       "      <th>9</th>\n",
       "      <td>Male</td>\n",
       "      <td>Black</td>\n",
       "      <td>Master</td>\n",
       "      <td>3</td>\n",
       "      <td>3</td>\n",
       "    </tr>\n",
       "    <tr>\n",
       "      <th>3</th>\n",
       "      <td>Male</td>\n",
       "      <td>Black</td>\n",
       "      <td>Doctorate</td>\n",
       "      <td>1</td>\n",
       "      <td>4</td>\n",
       "    </tr>\n",
       "  </tbody>\n",
       "</table>\n",
       "</div>"
      ],
      "text/plain": [
       "       Sex  Color  Education  Education_Label  Education_Ordered\n",
       "21  Female  Black  Doctorate                1                  4\n",
       "24    Male  Black       High                2                  1\n",
       "25    Male   Blue  Doctorate                1                  4\n",
       "9     Male  Black     Master                3                  3\n",
       "3     Male  Black  Doctorate                1                  4"
      ]
     },
     "metadata": {},
     "output_type": "display_data"
    }
   ],
   "source": [
    "data['Education_Label'] = pre.LabelEncoder().fit_transform(df['Education'])\n",
    "\n",
    "ordered = pd.Categorical(data['Education'], ordered=True,\n",
    "                        categories=['Primary', 'High', 'Bachelor\\'s', 'Master', 'Doctorate'])\n",
    "data['Education_Ordered'], order = pd.factorize(ordered, sort=True)\n",
    "\n",
    "display(data.sample(5))"
   ]
  },
  {
   "cell_type": "markdown",
   "id": "ef415130-2afc-41d4-9675-bd6f1e05f83e",
   "metadata": {},
   "source": [
    "<p style=\"background-image: linear-gradient(to right, #0aa98f, #68dab2)\"> &nbsp; </p>"
   ]
  },
  {
   "cell_type": "markdown",
   "id": "7dc5f04b-1a16-40ce-8118-c28b09007b9b",
   "metadata": {},
   "source": [
    "<p style=\"background-image: linear-gradient(#0aa98f, #ffffff 10%); font-weight:bold;\"> \n",
    "    &nbsp; Polynomial Features </p>"
   ]
  },
  {
   "cell_type": "code",
   "execution_count": 11,
   "id": "53e8eeb1-6731-44e6-9370-7e9f640d55d8",
   "metadata": {},
   "outputs": [
    {
     "data": {
      "text/html": [
       "<div>\n",
       "<style scoped>\n",
       "    .dataframe tbody tr th:only-of-type {\n",
       "        vertical-align: middle;\n",
       "    }\n",
       "\n",
       "    .dataframe tbody tr th {\n",
       "        vertical-align: top;\n",
       "    }\n",
       "\n",
       "    .dataframe thead th {\n",
       "        text-align: right;\n",
       "    }\n",
       "</style>\n",
       "<table border=\"1\" class=\"dataframe\">\n",
       "  <thead>\n",
       "    <tr style=\"text-align: right;\">\n",
       "      <th></th>\n",
       "      <th>Radius</th>\n",
       "      <th>Height</th>\n",
       "      <th>Volume</th>\n",
       "    </tr>\n",
       "  </thead>\n",
       "  <tbody>\n",
       "    <tr>\n",
       "      <th>0</th>\n",
       "      <td>7.33</td>\n",
       "      <td>13.23</td>\n",
       "      <td>2253.51</td>\n",
       "    </tr>\n",
       "    <tr>\n",
       "      <th>1</th>\n",
       "      <td>3.65</td>\n",
       "      <td>15.73</td>\n",
       "      <td>673.19</td>\n",
       "    </tr>\n",
       "    <tr>\n",
       "      <th>2</th>\n",
       "      <td>7.85</td>\n",
       "      <td>14.04</td>\n",
       "      <td>2738.02</td>\n",
       "    </tr>\n",
       "  </tbody>\n",
       "</table>\n",
       "</div>"
      ],
      "text/plain": [
       "   Radius  Height   Volume\n",
       "0    7.33   13.23  2253.51\n",
       "1    3.65   15.73   673.19\n",
       "2    7.85   14.04  2738.02"
      ]
     },
     "execution_count": 11,
     "metadata": {},
     "output_type": "execute_result"
    }
   ],
   "source": [
    "data = pd.read_csv('data/cylinder.csv')\n",
    "data.head(3)"
   ]
  },
  {
   "cell_type": "code",
   "execution_count": 12,
   "id": "dd1a4922-585c-49cd-84d6-49eaf03b612a",
   "metadata": {},
   "outputs": [
    {
     "data": {
      "text/html": [
       "<div>\n",
       "<style scoped>\n",
       "    .dataframe tbody tr th:only-of-type {\n",
       "        vertical-align: middle;\n",
       "    }\n",
       "\n",
       "    .dataframe tbody tr th {\n",
       "        vertical-align: top;\n",
       "    }\n",
       "\n",
       "    .dataframe thead th {\n",
       "        text-align: right;\n",
       "    }\n",
       "</style>\n",
       "<table border=\"1\" class=\"dataframe\">\n",
       "  <thead>\n",
       "    <tr style=\"text-align: right;\">\n",
       "      <th></th>\n",
       "      <th>Radius</th>\n",
       "      <th>Height</th>\n",
       "    </tr>\n",
       "  </thead>\n",
       "  <tbody>\n",
       "    <tr>\n",
       "      <th>0</th>\n",
       "      <td>7.33</td>\n",
       "      <td>13.23</td>\n",
       "    </tr>\n",
       "    <tr>\n",
       "      <th>1</th>\n",
       "      <td>3.65</td>\n",
       "      <td>15.73</td>\n",
       "    </tr>\n",
       "    <tr>\n",
       "      <th>2</th>\n",
       "      <td>7.85</td>\n",
       "      <td>14.04</td>\n",
       "    </tr>\n",
       "  </tbody>\n",
       "</table>\n",
       "</div>"
      ],
      "text/plain": [
       "   Radius  Height\n",
       "0    7.33   13.23\n",
       "1    3.65   15.73\n",
       "2    7.85   14.04"
      ]
     },
     "metadata": {},
     "output_type": "display_data"
    },
    {
     "data": {
      "text/html": [
       "<div>\n",
       "<style scoped>\n",
       "    .dataframe tbody tr th:only-of-type {\n",
       "        vertical-align: middle;\n",
       "    }\n",
       "\n",
       "    .dataframe tbody tr th {\n",
       "        vertical-align: top;\n",
       "    }\n",
       "\n",
       "    .dataframe thead th {\n",
       "        text-align: right;\n",
       "    }\n",
       "</style>\n",
       "<table border=\"1\" class=\"dataframe\">\n",
       "  <thead>\n",
       "    <tr style=\"text-align: right;\">\n",
       "      <th></th>\n",
       "      <th>0</th>\n",
       "      <th>1</th>\n",
       "      <th>2</th>\n",
       "      <th>3</th>\n",
       "      <th>4</th>\n",
       "      <th>5</th>\n",
       "    </tr>\n",
       "  </thead>\n",
       "  <tbody>\n",
       "    <tr>\n",
       "      <th>0</th>\n",
       "      <td>1.0</td>\n",
       "      <td>7.33</td>\n",
       "      <td>13.23</td>\n",
       "      <td>53.7289</td>\n",
       "      <td>96.9759</td>\n",
       "      <td>175.0329</td>\n",
       "    </tr>\n",
       "    <tr>\n",
       "      <th>1</th>\n",
       "      <td>1.0</td>\n",
       "      <td>3.65</td>\n",
       "      <td>15.73</td>\n",
       "      <td>13.3225</td>\n",
       "      <td>57.4145</td>\n",
       "      <td>247.4329</td>\n",
       "    </tr>\n",
       "    <tr>\n",
       "      <th>2</th>\n",
       "      <td>1.0</td>\n",
       "      <td>7.85</td>\n",
       "      <td>14.04</td>\n",
       "      <td>61.6225</td>\n",
       "      <td>110.2140</td>\n",
       "      <td>197.1216</td>\n",
       "    </tr>\n",
       "  </tbody>\n",
       "</table>\n",
       "</div>"
      ],
      "text/plain": [
       "     0     1      2        3         4         5\n",
       "0  1.0  7.33  13.23  53.7289   96.9759  175.0329\n",
       "1  1.0  3.65  15.73  13.3225   57.4145  247.4329\n",
       "2  1.0  7.85  14.04  61.6225  110.2140  197.1216"
      ]
     },
     "metadata": {},
     "output_type": "display_data"
    }
   ],
   "source": [
    "y = data['Volume']\n",
    "X = data.drop(columns='Volume')\n",
    "\n",
    "poly = pre.PolynomialFeatures(degree=2, interaction_only=False) # defaults\n",
    "pX = poly.fit_transform(X)\n",
    "\n",
    "display(X.head(3), pd.DataFrame(pX).head(3))"
   ]
  },
  {
   "cell_type": "markdown",
   "id": "5dc04ac9-2204-4b16-b9c9-bb4f9c2b5905",
   "metadata": {},
   "source": [
    "<p style=\"background-image: linear-gradient(to right, #0aa98f, #68dab2)\"> &nbsp; </p>"
   ]
  }
 ],
 "metadata": {
  "kernelspec": {
   "display_name": "Python 3 (ipykernel)",
   "language": "python",
   "name": "python3"
  },
  "language_info": {
   "codemirror_mode": {
    "name": "ipython",
    "version": 3
   },
   "file_extension": ".py",
   "mimetype": "text/x-python",
   "name": "python",
   "nbconvert_exporter": "python",
   "pygments_lexer": "ipython3",
   "version": "3.11.10"
  }
 },
 "nbformat": 4,
 "nbformat_minor": 5
}
