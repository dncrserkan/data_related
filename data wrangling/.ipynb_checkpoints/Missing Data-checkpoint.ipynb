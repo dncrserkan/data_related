{
 "cells": [
  {
   "cell_type": "markdown",
   "id": "7457e76f-d894-4805-95e4-6d32c12bea70",
   "metadata": {},
   "source": [
    "**Missing Data**\n",
    "> Missing data refers to the absence of information for a specific observation or variable in a dataset. This lack of data may result from errors in the data collection process or an inability to measure certain observations or variables. Missing data can pose significant problems in data analysis and modeling, as it can lead to misleading analysis results and affect model performance.\n",
    "\n",
    "**NULL - NaN - NA**\n",
    "> Missing data analysis involves understanding the reasons for missing data and using techniques to deal with it. These techniques include filling in missing data, performing analyses that account for missing data, and improving the data collection process to reduce missingness.\n",
    "\n",
    "**Missing Data Mechanisms**\n",
    "> The concept of missing data mechanisms explains how missing data occurs and why certain data points are missing. It helps determine whether missing data is random or systematic.\n",
    ">\n",
    "> > **1. Missing Completely at Random** (MCAR) <br>\n",
    "> > **2. Missing at Random** (MAR) <br>\n",
    "> > **3. Missing Not at Random** (MNAR) <br>\n",
    ">\n",
    "> During the data analysis process, it's essential to investigate whether the missing data is random or non-random, and each situation requires an appropriate solution.\n",
    "> \n",
    "> > **1. Step:** Detect missing data <br>\n",
    "> > **2. Step:** Test for randomness of missing data <br>\n",
    "> > **3. Step:** Develop a solution\n",
    "\n",
    "**Detecting Missing Observations**\n",
    "> `df.info()` &emsp; `df.isna()` &emsp; `df.isna().sum()` &emsp; `df[df.isna().any(axis=1)]`\n",
    "\n",
    "**Random Missing Data**\n",
    "> **1. Can be ignored.** It is recommended that the missing data rate should not exceed 5%. <br>\n",
    "> **2. Rows can be deleted.** <br>\n",
    "> **3. The value can be filled.** It is usually filled with the mean or median. However, if the data set can be categorized, it would be more efficient to fill it with the mean or median of the group it belongs to. <br>\n",
    "> **4. It can be imputed using regression models.** <br>\n",
    "> **5. Machine learning models can be used for imputation.** <br>\n",
    "> **6. Can be filled with time series.** The time series is seasonally and calendar adjusted. <br>\n",
    "> **7. Can be filled according to trend structure.** Can be filled according to the appropriate model such as linear, parabolic. <br>\n",
    "> **8. Bayesian analysis can be used for imputation.**\n",
    "\n",
    "**Non-Random Missing Data**\n",
    "> Advanced techniques (methods 4-8) should be used to impute non-random missing data. Deleting data should be avoided.\n",
    "\n",
    "**Testing for Missingness Randomness**\n",
    "> \n",
    "> **1. Method** <br>\n",
    "> > Data is divided into two groups: those with missing values and those without. A t-test is used to see if the means of the two groups differ.\n",
    ">\n",
    "> **2. Method*** <br>\n",
    "> > Data is divided into two groups: those with and without missing values. The missing data is coded as 1, and the observed data as 0. A Pearson correlation test is then conducted to calculate the correlation coefficient for each variable. If the coefficient is below 0.8 (according to general consensus), the missingness is assumed to be random.\n",
    ">\n",
    "> **3. Method** <br>\n",
    "> > The Chi-square test is a commonly used method to investigate the randomness of missingness in the MCAR mechanism. If the null hypothesis ($H_0$) is rejected ($p < 0.05$), it can be concluded that the missing data is not part of the MCAR mechanism (Little, 1998). \\[Little's MCAR test].\n",
    ">\n",
    "> | | |\n",
    "> |-|-|\n",
    "> | $H_0$ | Missing data is random. |\n",
    "> | $H_1$ | Missing data is not random. |"
   ]
  },
  {
   "cell_type": "markdown",
   "id": "8df661c9-6b09-4a26-9804-2fb85bb8c0a9",
   "metadata": {},
   "source": [
    "<p style=\"background-image: linear-gradient(to right, #0aa98f, #68dab2)\"> &nbsp; </p>"
   ]
  },
  {
   "cell_type": "code",
   "execution_count": 1,
   "id": "9d424797-150d-4259-ac36-43ecfd2a2ba6",
   "metadata": {},
   "outputs": [],
   "source": [
    "import pandas as pd\n",
    "import numpy as np\n",
    "import missingno as ms\n",
    "import matplotlib.pyplot as plt\n",
    "from sklearn.impute import SimpleImputer"
   ]
  },
  {
   "cell_type": "markdown",
   "id": "c7f002b5-58f1-4fa2-8d3d-134d0b4c67ca",
   "metadata": {},
   "source": [
    "<p style=\"background-image: linear-gradient(to right, #0aa98f, #68dab2)\"> &nbsp; </p>"
   ]
  },
  {
   "cell_type": "markdown",
   "id": "2cc3000a-909e-4666-b6b4-18a80de65727",
   "metadata": {},
   "source": [
    "<p style=\"background-image: linear-gradient(#0aa98f, #ffffff 10%); font-weight:bold;\"> \n",
    "    &nbsp; Detecting Missing Values </p>"
   ]
  },
  {
   "cell_type": "code",
   "execution_count": 2,
   "id": "4a837b33-ebbf-4cdd-986f-2fb591f3aa26",
   "metadata": {},
   "outputs": [
    {
     "name": "stdout",
     "output_type": "stream",
     "text": [
      "<class 'pandas.core.frame.DataFrame'>\n",
      "RangeIndex: 33 entries, 0 to 32\n",
      "Data columns (total 4 columns):\n",
      " #   Column  Non-Null Count  Dtype  \n",
      "---  ------  --------------  -----  \n",
      " 0   C1      28 non-null     float64\n",
      " 1   C2      29 non-null     float64\n",
      " 2   C3      25 non-null     float64\n",
      " 3   C4      21 non-null     float64\n",
      "dtypes: float64(4)\n",
      "memory usage: 1.2 KB\n"
     ]
    }
   ],
   "source": [
    "data = pd.read_excel('data/missing_values.xlsx')\n",
    "data.info()"
   ]
  },
  {
   "cell_type": "code",
   "execution_count": 3,
   "id": "7033ce94-c1c0-44d0-a9e7-6b0df0166281",
   "metadata": {},
   "outputs": [
    {
     "data": {
      "text/plain": [
       "C1     5\n",
       "C2     4\n",
       "C3     8\n",
       "C4    12\n",
       "dtype: int64"
      ]
     },
     "execution_count": 3,
     "metadata": {},
     "output_type": "execute_result"
    }
   ],
   "source": [
    "# data.isna()\n",
    "data.isna().sum()"
   ]
  },
  {
   "cell_type": "code",
   "execution_count": 4,
   "id": "69f1041a-1c9a-4310-b798-30a3c5c4832a",
   "metadata": {},
   "outputs": [
    {
     "data": {
      "text/html": [
       "<div>\n",
       "<style scoped>\n",
       "    .dataframe tbody tr th:only-of-type {\n",
       "        vertical-align: middle;\n",
       "    }\n",
       "\n",
       "    .dataframe tbody tr th {\n",
       "        vertical-align: top;\n",
       "    }\n",
       "\n",
       "    .dataframe thead th {\n",
       "        text-align: right;\n",
       "    }\n",
       "</style>\n",
       "<table border=\"1\" class=\"dataframe\">\n",
       "  <thead>\n",
       "    <tr style=\"text-align: right;\">\n",
       "      <th></th>\n",
       "      <th>C1</th>\n",
       "      <th>C2</th>\n",
       "      <th>C3</th>\n",
       "      <th>C4</th>\n",
       "    </tr>\n",
       "  </thead>\n",
       "  <tbody>\n",
       "    <tr>\n",
       "      <th>8</th>\n",
       "      <td>23.0</td>\n",
       "      <td>NaN</td>\n",
       "      <td>NaN</td>\n",
       "      <td>NaN</td>\n",
       "    </tr>\n",
       "    <tr>\n",
       "      <th>9</th>\n",
       "      <td>77.0</td>\n",
       "      <td>NaN</td>\n",
       "      <td>NaN</td>\n",
       "      <td>NaN</td>\n",
       "    </tr>\n",
       "    <tr>\n",
       "      <th>10</th>\n",
       "      <td>29.0</td>\n",
       "      <td>NaN</td>\n",
       "      <td>NaN</td>\n",
       "      <td>NaN</td>\n",
       "    </tr>\n",
       "    <tr>\n",
       "      <th>13</th>\n",
       "      <td>76.0</td>\n",
       "      <td>54.0</td>\n",
       "      <td>75.0</td>\n",
       "      <td>NaN</td>\n",
       "    </tr>\n",
       "    <tr>\n",
       "      <th>14</th>\n",
       "      <td>47.0</td>\n",
       "      <td>49.0</td>\n",
       "      <td>48.0</td>\n",
       "      <td>NaN</td>\n",
       "    </tr>\n",
       "    <tr>\n",
       "      <th>15</th>\n",
       "      <td>17.0</td>\n",
       "      <td>79.0</td>\n",
       "      <td>67.0</td>\n",
       "      <td>NaN</td>\n",
       "    </tr>\n",
       "    <tr>\n",
       "      <th>16</th>\n",
       "      <td>79.0</td>\n",
       "      <td>40.0</td>\n",
       "      <td>29.0</td>\n",
       "      <td>NaN</td>\n",
       "    </tr>\n",
       "    <tr>\n",
       "      <th>24</th>\n",
       "      <td>NaN</td>\n",
       "      <td>80.0</td>\n",
       "      <td>NaN</td>\n",
       "      <td>NaN</td>\n",
       "    </tr>\n",
       "    <tr>\n",
       "      <th>25</th>\n",
       "      <td>NaN</td>\n",
       "      <td>41.0</td>\n",
       "      <td>NaN</td>\n",
       "      <td>NaN</td>\n",
       "    </tr>\n",
       "    <tr>\n",
       "      <th>26</th>\n",
       "      <td>NaN</td>\n",
       "      <td>27.0</td>\n",
       "      <td>NaN</td>\n",
       "      <td>NaN</td>\n",
       "    </tr>\n",
       "    <tr>\n",
       "      <th>27</th>\n",
       "      <td>NaN</td>\n",
       "      <td>45.0</td>\n",
       "      <td>NaN</td>\n",
       "      <td>NaN</td>\n",
       "    </tr>\n",
       "    <tr>\n",
       "      <th>28</th>\n",
       "      <td>NaN</td>\n",
       "      <td>NaN</td>\n",
       "      <td>NaN</td>\n",
       "      <td>NaN</td>\n",
       "    </tr>\n",
       "  </tbody>\n",
       "</table>\n",
       "</div>"
      ],
      "text/plain": [
       "      C1    C2    C3  C4\n",
       "8   23.0   NaN   NaN NaN\n",
       "9   77.0   NaN   NaN NaN\n",
       "10  29.0   NaN   NaN NaN\n",
       "13  76.0  54.0  75.0 NaN\n",
       "14  47.0  49.0  48.0 NaN\n",
       "15  17.0  79.0  67.0 NaN\n",
       "16  79.0  40.0  29.0 NaN\n",
       "24   NaN  80.0   NaN NaN\n",
       "25   NaN  41.0   NaN NaN\n",
       "26   NaN  27.0   NaN NaN\n",
       "27   NaN  45.0   NaN NaN\n",
       "28   NaN   NaN   NaN NaN"
      ]
     },
     "execution_count": 4,
     "metadata": {},
     "output_type": "execute_result"
    }
   ],
   "source": [
    "data[data.isna().any(axis=1)]"
   ]
  },
  {
   "cell_type": "code",
   "execution_count": 5,
   "id": "382672a8-50cb-46ee-be5d-75d57f63d6cb",
   "metadata": {},
   "outputs": [
    {
     "data": {
      "text/plain": [
       "C1    True\n",
       "C2    True\n",
       "C3    True\n",
       "C4    True\n",
       "dtype: bool"
      ]
     },
     "execution_count": 5,
     "metadata": {},
     "output_type": "execute_result"
    }
   ],
   "source": [
    "data.any()"
   ]
  },
  {
   "cell_type": "code",
   "execution_count": 6,
   "id": "eef301bb-b4d2-4d7d-bf4e-b6425d9e80a0",
   "metadata": {},
   "outputs": [
    {
     "data": {
      "image/png": "[encoded data removed]",
      "text/plain": [
       "<Figure size 500x300 with 3 Axes>"
      ]
     },
     "metadata": {},
     "output_type": "display_data"
    }
   ],
   "source": [
    "ms.bar(data, figsize=(5,3), fontsize=10)\n",
    "plt.tight_layout()\n",
    "plt.show()"
   ]
  },
  {
   "cell_type": "code",
   "execution_count": 7,
   "id": "6a5f4469-6b39-419d-8568-70d1674fee84",
   "metadata": {},
   "outputs": [
    {
     "data": {
      "image/png": "[encoded data removed]",
      "text/plain": [
       "<Figure size 500x300 with 2 Axes>"
      ]
     },
     "metadata": {},
     "output_type": "display_data"
    }
   ],
   "source": [
    "ms.matrix(data, figsize=(5,3), fontsize=10)\n",
    "plt.show()"
   ]
  },
  {
   "cell_type": "code",
   "execution_count": 8,
   "id": "583348b2-8c6d-45a6-8267-05068292e0ef",
   "metadata": {},
   "outputs": [
    {
     "data": {
      "image/png": "[encoded data removed]",
      "text/plain": [
       "<Figure size 500x300 with 2 Axes>"
      ]
     },
     "metadata": {},
     "output_type": "display_data"
    }
   ],
   "source": [
    "ms.heatmap(data, figsize=(5,3), fontsize=10)\n",
    "plt.show()"
   ]
  },
  {
   "cell_type": "markdown",
   "id": "a1810ef9-4ea1-4593-94ae-4d6a0c2411c6",
   "metadata": {},
   "source": [
    "<p style=\"background-image: linear-gradient(#0aa98f, #ffffff 10%); font-weight:bold;\"> \n",
    "    &nbsp; Test for Randomness of Missing Value - Correlation </p>"
   ]
  },
  {
   "cell_type": "code",
   "execution_count": 9,
   "id": "dfe37b92-02b3-41d1-86c4-f13ba5396d0e",
   "metadata": {},
   "outputs": [],
   "source": [
    "# data[~data.isna()] = 1    # notna()\n",
    "# data[data.isna()] = 0\n",
    "df = data.notna().astype('int')"
   ]
  },
  {
   "cell_type": "code",
   "execution_count": 10,
   "id": "ac769ec4-3a95-4378-ab75-26db3e2c00d8",
   "metadata": {},
   "outputs": [
    {
     "data": {
      "text/html": [
       "<div>\n",
       "<style scoped>\n",
       "    .dataframe tbody tr th:only-of-type {\n",
       "        vertical-align: middle;\n",
       "    }\n",
       "\n",
       "    .dataframe tbody tr th {\n",
       "        vertical-align: top;\n",
       "    }\n",
       "\n",
       "    .dataframe thead th {\n",
       "        text-align: right;\n",
       "    }\n",
       "</style>\n",
       "<table border=\"1\" class=\"dataframe\">\n",
       "  <thead>\n",
       "    <tr style=\"text-align: right;\">\n",
       "      <th></th>\n",
       "      <th>C1</th>\n",
       "      <th>C2</th>\n",
       "      <th>C3</th>\n",
       "      <th>C4</th>\n",
       "    </tr>\n",
       "  </thead>\n",
       "  <tbody>\n",
       "    <tr>\n",
       "      <th>C1</th>\n",
       "      <td>1.00</td>\n",
       "      <td>0.10</td>\n",
       "      <td>0.75</td>\n",
       "      <td>0.56</td>\n",
       "    </tr>\n",
       "    <tr>\n",
       "      <th>C2</th>\n",
       "      <td>0.10</td>\n",
       "      <td>1.00</td>\n",
       "      <td>0.66</td>\n",
       "      <td>0.49</td>\n",
       "    </tr>\n",
       "    <tr>\n",
       "      <th>C3</th>\n",
       "      <td>0.75</td>\n",
       "      <td>0.66</td>\n",
       "      <td>1.00</td>\n",
       "      <td>0.75</td>\n",
       "    </tr>\n",
       "    <tr>\n",
       "      <th>C4</th>\n",
       "      <td>0.56</td>\n",
       "      <td>0.49</td>\n",
       "      <td>0.75</td>\n",
       "      <td>1.00</td>\n",
       "    </tr>\n",
       "  </tbody>\n",
       "</table>\n",
       "</div>"
      ],
      "text/plain": [
       "      C1    C2    C3    C4\n",
       "C1  1.00  0.10  0.75  0.56\n",
       "C2  0.10  1.00  0.66  0.49\n",
       "C3  0.75  0.66  1.00  0.75\n",
       "C4  0.56  0.49  0.75  1.00"
      ]
     },
     "metadata": {},
     "output_type": "display_data"
    }
   ],
   "source": [
    "display(df.corr().round(2))"
   ]
  },
  {
   "cell_type": "markdown",
   "id": "443e32f1-2515-4de7-80da-ebd9c548b83f",
   "metadata": {},
   "source": [
    "<p style=\"background-image: linear-gradient(to right, #0aa98f, #68dab2)\"> &nbsp; </p>"
   ]
  },
  {
   "cell_type": "markdown",
   "id": "f52d350b-1b8e-48cd-932e-e7288d9e2751",
   "metadata": {},
   "source": [
    "<p style=\"background-image: linear-gradient(#0aa98f, #ffffff 10%); font-weight:bold;\"> \n",
    "    &nbsp; Deletion of Rows with Missing Data - Listwise Deletion </p>"
   ]
  },
  {
   "cell_type": "code",
   "execution_count": 11,
   "id": "402808d8-3058-47dd-b21a-82ab21663e95",
   "metadata": {},
   "outputs": [
    {
     "name": "stdout",
     "output_type": "stream",
     "text": [
      "C1     5\n",
      "C2     4\n",
      "C3     8\n",
      "C4    12\n",
      "dtype: int64\n"
     ]
    }
   ],
   "source": [
    "df = data.copy()\n",
    "\n",
    "print(df.isna().sum())\n",
    "\n",
    "# df.dropna(inplace=True)\n",
    "\n",
    "# df.dropna(inplace=True)\n",
    "# df.reset_index(drop=True, inplace=True)\n",
    "\n",
    "# df.dropna(ignore_index=True, inplace=True)\n",
    "\n",
    "# df.dropna(how='all', ignore_index=True, inplace=True)\n",
    "\n",
    "# df.dropna(axis=1, ignore_index=True, inplace=True)\n",
    "\n",
    "# df.dropna(axis=1, how='all', ignore_index=True, inplace=True)\n",
    "\n",
    "# df.dropna(axis=1, thresh=22, ignore_index=True, inplace=True)\n",
    "\n",
    "# df.dropna(thresh=2, ignore_index=True, inplace=True)\n",
    "\n",
    "\n",
    "# display(df)"
   ]
  },
  {
   "cell_type": "markdown",
   "id": "6fd21cb0-950f-458c-a918-3f8902b40e14",
   "metadata": {},
   "source": [
    "<p style=\"background-image: linear-gradient(to right, #0aa98f, #68dab2)\"> &nbsp; </p>"
   ]
  },
  {
   "cell_type": "markdown",
   "id": "aa127a53-b6d4-45de-8862-adaf023d55bd",
   "metadata": {},
   "source": [
    "<p style=\"background-image: linear-gradient(#0aa98f, #ffffff 10%); font-weight:bold;\"> \n",
    "    &nbsp; Imputation of Missing Data </p>"
   ]
  },
  {
   "cell_type": "code",
   "execution_count": 12,
   "id": "47b63004-ab5c-429e-b0b7-49306f82af8c",
   "metadata": {},
   "outputs": [],
   "source": [
    "df = data.copy()\n",
    "\n",
    "# df.fillna(value=0, inplace=True)\n",
    "\n",
    "# df.fillna(value='missing', inplace=True)\n",
    "\n",
    "# df.fillna({'D1': df['D1'].mean()}, inplace=True)\n",
    "\n",
    "# df.fillna(value=df.mean()['D1':'D2'], inplace=True)\n",
    "\n",
    "# df.fillna(value=df.mean()[:], inplace=True)\n",
    "\n",
    "\n",
    "# display(df)"
   ]
  },
  {
   "cell_type": "code",
   "execution_count": 13,
   "id": "55135df9-6e44-4b9d-91a5-053d5b4189c9",
   "metadata": {},
   "outputs": [],
   "source": [
    "df = data.copy()\n",
    "\n",
    "imputer = SimpleImputer(missing_values=np.nan, strategy='mean')\n",
    "imputer.fit(df[['C1', 'C2']])\n",
    "df[['C1', 'C2']] = imputer.transform(df[['C1', 'C2']])\n",
    "\n",
    "# display(df)"
   ]
  },
  {
   "cell_type": "markdown",
   "id": "b86980bb-fc35-4a59-a4d0-0c43b97e99ce",
   "metadata": {},
   "source": [
    "<p style=\"background-image: linear-gradient(#0aa98f, #ffffff 10%); font-weight:bold;\"> \n",
    "    &nbsp;</p>"
   ]
  },
  {
   "cell_type": "code",
   "execution_count": 14,
   "id": "6e41837b-0762-4881-8ed2-00a7383d7ab7",
   "metadata": {},
   "outputs": [
    {
     "name": "stdout",
     "output_type": "stream",
     "text": [
      "<class 'pandas.core.frame.DataFrame'>\n",
      "RangeIndex: 40 entries, 0 to 39\n",
      "Data columns (total 2 columns):\n",
      " #   Column  Non-Null Count  Dtype  \n",
      "---  ------  --------------  -----  \n",
      " 0   Gender  40 non-null     object \n",
      " 1   Age     32 non-null     float64\n",
      "dtypes: float64(1), object(1)\n",
      "memory usage: 772.0+ bytes\n"
     ]
    }
   ],
   "source": [
    "data = pd.read_excel('data/missing_values_categoric.xlsx')\n",
    "data.info()"
   ]
  },
  {
   "cell_type": "code",
   "execution_count": 15,
   "id": "8b308032-5371-4424-a459-73a6427c291e",
   "metadata": {},
   "outputs": [],
   "source": [
    "df = data.copy()\n",
    "\n",
    "# # display(df.groupby('Gender')['Age'].mean().to_frame())\n",
    "# df.fillna({'Age': df.groupby('Gender')['Age'].transform('mean')}, inplace=True)\n",
    "# display(df)"
   ]
  },
  {
   "cell_type": "markdown",
   "id": "e8fc338b-8f9f-4b09-a1e3-9828379c03e9",
   "metadata": {},
   "source": [
    "<p style=\"background-image: linear-gradient(#0aa98f, #ffffff 10%); font-weight:bold;\"> \n",
    "    &nbsp;</p>"
   ]
  },
  {
   "cell_type": "code",
   "execution_count": 16,
   "id": "2f106263-33cd-4fd5-8bbe-8df6cf5ecebc",
   "metadata": {},
   "outputs": [],
   "source": [
    "options = ['First', 'Second', 'Third', 'Fourth']\n",
    "first = np.random.choice(options, size=55, replace=True)\n",
    "second = np.array([None] * 6)\n",
    "\n",
    "data = np.concatenate([first, second])\n",
    "np.random.shuffle(data)\n",
    "\n",
    "data = pd.DataFrame(data, columns=['Options'])\n",
    "indexes = data[data['Options'].isna()].index"
   ]
  },
  {
   "cell_type": "code",
   "execution_count": 17,
   "id": "1952d785-0990-463a-ab0e-fea81845dfd5",
   "metadata": {},
   "outputs": [
    {
     "name": "stdout",
     "output_type": "stream",
     "text": [
      "Third\n"
     ]
    },
    {
     "data": {
      "text/html": [
       "<div>\n",
       "<style scoped>\n",
       "    .dataframe tbody tr th:only-of-type {\n",
       "        vertical-align: middle;\n",
       "    }\n",
       "\n",
       "    .dataframe tbody tr th {\n",
       "        vertical-align: top;\n",
       "    }\n",
       "\n",
       "    .dataframe thead th {\n",
       "        text-align: right;\n",
       "    }\n",
       "</style>\n",
       "<table border=\"1\" class=\"dataframe\">\n",
       "  <thead>\n",
       "    <tr style=\"text-align: right;\">\n",
       "      <th></th>\n",
       "      <th>Options</th>\n",
       "    </tr>\n",
       "  </thead>\n",
       "  <tbody>\n",
       "    <tr>\n",
       "      <th>1</th>\n",
       "      <td>Third</td>\n",
       "    </tr>\n",
       "    <tr>\n",
       "      <th>17</th>\n",
       "      <td>Third</td>\n",
       "    </tr>\n",
       "    <tr>\n",
       "      <th>22</th>\n",
       "      <td>Third</td>\n",
       "    </tr>\n",
       "    <tr>\n",
       "      <th>41</th>\n",
       "      <td>Third</td>\n",
       "    </tr>\n",
       "    <tr>\n",
       "      <th>44</th>\n",
       "      <td>Third</td>\n",
       "    </tr>\n",
       "    <tr>\n",
       "      <th>52</th>\n",
       "      <td>Third</td>\n",
       "    </tr>\n",
       "  </tbody>\n",
       "</table>\n",
       "</div>"
      ],
      "text/plain": [
       "   Options\n",
       "1    Third\n",
       "17   Third\n",
       "22   Third\n",
       "41   Third\n",
       "44   Third\n",
       "52   Third"
      ]
     },
     "metadata": {},
     "output_type": "display_data"
    }
   ],
   "source": [
    "df = data.copy()\n",
    "mode = df['Options'].mode()[0]\n",
    "print(mode)\n",
    "df.fillna({'Options': df['Options'].mode()[0]}, inplace=True)\n",
    "display(df.loc[indexes])"
   ]
  },
  {
   "cell_type": "markdown",
   "id": "fc4eb202-4b93-42b3-acd1-ca793aa6a919",
   "metadata": {},
   "source": [
    "<p style=\"background-image: linear-gradient(to right, #0aa98f, #68dab2)\"> &nbsp; </p>"
   ]
  }
 ],
 "metadata": {
  "kernelspec": {
   "display_name": "Python 3 (ipykernel)",
   "language": "python",
   "name": "python3"
  },
  "language_info": {
   "codemirror_mode": {
    "name": "ipython",
    "version": 3
   },
   "file_extension": ".py",
   "mimetype": "text/x-python",
   "name": "python",
   "nbconvert_exporter": "python",
   "pygments_lexer": "ipython3",
   "version": "3.11.10"
  }
 },
 "nbformat": 4,
 "nbformat_minor": 5
}
