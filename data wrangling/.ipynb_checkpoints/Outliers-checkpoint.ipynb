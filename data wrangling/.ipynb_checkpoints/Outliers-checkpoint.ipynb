{
 "cells": [
  {
   "cell_type": "markdown",
   "id": "8376ef33-3970-4fe1-95d4-b7e2c9ffa541",
   "metadata": {},
   "source": [
    "**Outliers**\n",
    "\n",
    "> Outliers are rare observations in a dataset that are significantly different from other values or deviate greatly from other observations. They often arise due to errors, disturbances, or rare events. When considered in statistical analysis, outliers can mislead or distort results, so it's crucial to identify or handle them correctly during data analysis.\n",
    ">\n",
    "> Observations that fall outside a specified number of standard deviations are identified as outliers. They can be visualized using box plots. The boundaries for outliers are determined by: $Q_{min} = Q_1 - 1.5 \\cdot IQR$ and $Q_{max} = Q_3 + 1.5 \\cdot IQR$ where $IQR = Q_3 - Q_1$. Observations falling outside these limits are marked as outliers.\n",
    ">\n",
    "> **Detecting Outliers in Univariate Data**\n",
    "> > Outliers in a single-variable structure can be examined using box plots or histograms.\n",
    ">\n",
    "> **Detecting Outliers in Multivariate Data**\n",
    "> > In research that involves a multivariate model, variables are considered collectively. Outliers are checked using scatter plots, followed by further tests.\n",
    ">\n",
    "> | | |\n",
    "> |-|-|\n",
    "> | Univariate Outlier Structure | **Box Plot** |\n",
    "> | Univariate Outlier Structure | Histogram |\n",
    "> | Multivariate Outlier Structure | Scatter Plot |\n",
    "> | Multivariate Outlier Structure | Mahalanobis Distance |\n",
    "> | Multivariate Outlier Structure | **Local Outlier Factor (LOF)** |\n",
    ">\n",
    "> **Handling Outliers** <br>\n",
    "> → **Removing Outliers** <br>\n",
    "> → **Replacing Outliers with Mean Values** <br>\n",
    "> → **Capping (Suppression):** Pulling to the nearest boundary"
   ]
  },
  {
   "cell_type": "markdown",
   "id": "8df661c9-6b09-4a26-9804-2fb85bb8c0a9",
   "metadata": {},
   "source": [
    "<p style=\"background-image: linear-gradient(to right, #0aa98f, #68dab2)\"> &nbsp; </p>"
   ]
  },
  {
   "cell_type": "code",
   "execution_count": 1,
   "id": "9d424797-150d-4259-ac36-43ecfd2a2ba6",
   "metadata": {},
   "outputs": [],
   "source": [
    "import pandas as pd\n",
    "import matplotlib.pyplot as plt\n",
    "import seaborn as sns\n",
    "from sklearn.neighbors import LocalOutlierFactor as LOF"
   ]
  },
  {
   "cell_type": "markdown",
   "id": "c7f002b5-58f1-4fa2-8d3d-134d0b4c67ca",
   "metadata": {},
   "source": [
    "<p style=\"background-image: linear-gradient(to right, #0aa98f, #68dab2)\"> &nbsp; </p>"
   ]
  },
  {
   "cell_type": "markdown",
   "id": "2cc3000a-909e-4666-b6b4-18a80de65727",
   "metadata": {},
   "source": [
    "<p style=\"background-image: linear-gradient(#0aa98f, #ffffff 10%); font-weight:bold;\"> \n",
    "    &nbsp; Detecting Outliers in Univariate Data </p>"
   ]
  },
  {
   "cell_type": "code",
   "execution_count": 2,
   "id": "4a837b33-ebbf-4cdd-986f-2fb591f3aa26",
   "metadata": {},
   "outputs": [
    {
     "data": {
      "image/png": "[encoded data removed]",
      "text/plain": [
       "<Figure size 500x200 with 1 Axes>"
      ]
     },
     "metadata": {},
     "output_type": "display_data"
    }
   ],
   "source": [
    "age = [15,28,29,30,32,33,30,32,35,32,31,30,66,98]\n",
    "sns.boxplot(x=age)\n",
    "plt.gcf().set_size_inches(5,2)\n",
    "plt.show()"
   ]
  },
  {
   "cell_type": "markdown",
   "id": "a1810ef9-4ea1-4593-94ae-4d6a0c2411c6",
   "metadata": {},
   "source": [
    "<p style=\"background-image: linear-gradient(#0aa98f, #ffffff 10%); font-weight:bold;\"> \n",
    "    &nbsp; Detecting Outliers in Multivariate Data </p>"
   ]
  },
  {
   "cell_type": "code",
   "execution_count": 3,
   "id": "dfe37b92-02b3-41d1-86c4-f13ba5396d0e",
   "metadata": {},
   "outputs": [
    {
     "data": {
      "image/png": "[encoded data removed]",
      "text/plain": [
       "<Figure size 1200x300 with 3 Axes>"
      ]
     },
     "metadata": {},
     "output_type": "display_data"
    }
   ],
   "source": [
    "age = [30,33,31,33,30]\n",
    "year = [7,10,9,12,25]\n",
    "\n",
    "fig, axs = plt.subplots(1, 3, figsize=(12,3))\n",
    "sns.boxplot(age, ax=axs[0])\n",
    "sns.boxplot(year, ax=axs[1])\n",
    "sns.scatterplot(x=age, y=year, ax=axs[2])\n",
    "\n",
    "plt.show()"
   ]
  },
  {
   "cell_type": "markdown",
   "id": "fc4eb202-4b93-42b3-acd1-ca793aa6a919",
   "metadata": {},
   "source": [
    "<p style=\"background-image: linear-gradient(to right, #0aa98f, #68dab2)\"> &nbsp; </p>"
   ]
  },
  {
   "cell_type": "markdown",
   "id": "3ff98cd5-73de-4b9c-b306-164f57731ee6",
   "metadata": {},
   "source": [
    "<p style=\"background-image: linear-gradient(#0aa98f, #ffffff 10%); font-weight:bold;\"> \n",
    "    &nbsp; Read Data & Detect Outliers </p>"
   ]
  },
  {
   "cell_type": "code",
   "execution_count": 4,
   "id": "def15ab5-7408-4931-9735-f3b850991a12",
   "metadata": {},
   "outputs": [],
   "source": [
    "data = sns.load_dataset('taxis')\n",
    "df = data.copy()\n",
    "df1 = data.copy()  # remove outlier\n",
    "df2 = data.copy()  # replace outlier with mean\n",
    "df3 = data.copy()  # suppress outlier"
   ]
  },
  {
   "cell_type": "code",
   "execution_count": 5,
   "id": "da37c3fb-b06e-476f-b971-0e0c74d0ee96",
   "metadata": {},
   "outputs": [
    {
     "name": "stdout",
     "output_type": "stream",
     "text": [
      "0\n"
     ]
    }
   ],
   "source": [
    "print(df['tip'].isna().sum())"
   ]
  },
  {
   "cell_type": "code",
   "execution_count": 6,
   "id": "16819869-f464-4955-8ed0-c61c3cc984f5",
   "metadata": {},
   "outputs": [
    {
     "data": {
      "image/png": "[encoded data removed]",
      "text/plain": [
       "<Figure size 600x200 with 1 Axes>"
      ]
     },
     "metadata": {},
     "output_type": "display_data"
    }
   ],
   "source": [
    "sns.boxplot(x=df['tip'])\n",
    "plt.gcf().set_size_inches(6,2)\n",
    "plt.show()"
   ]
  },
  {
   "cell_type": "code",
   "execution_count": 7,
   "id": "f26e8d7c-c4c1-48bb-9202-fad0809b2c17",
   "metadata": {},
   "outputs": [
    {
     "name": "stdout",
     "output_type": "stream",
     "text": [
      "Q1: 0.0 \tQ3: 2.8 \tIQR: 2.8\n"
     ]
    }
   ],
   "source": [
    "Q1 = df['tip'].quantile(0.25)\n",
    "Q3 = df['tip'].quantile(0.75)\n",
    "IQR = Q3 - Q1\n",
    "print('Q1:', Q1, '\\tQ3:', Q3, '\\tIQR:', IQR)"
   ]
  },
  {
   "cell_type": "code",
   "execution_count": 8,
   "id": "0ba91f6b-58f1-461e-ab93-b2ffb58474ed",
   "metadata": {},
   "outputs": [
    {
     "name": "stdout",
     "output_type": "stream",
     "text": [
      "lower boundary: -4.199999999999999\n",
      "upper boundary: 6.999999999999999\n"
     ]
    }
   ],
   "source": [
    "lower_boundary = Q1 - 1.5 * IQR\n",
    "upper_boundary = Q3 + 1.5 * IQR\n",
    "print('lower boundary:', lower_boundary)\n",
    "print('upper boundary:', upper_boundary)"
   ]
  },
  {
   "cell_type": "code",
   "execution_count": 9,
   "id": "12f6e8ee-b313-47a6-9d8a-e576f9eff238",
   "metadata": {},
   "outputs": [],
   "source": [
    "lower = df[df['tip'] < lower_boundary]['tip']\n",
    "higher = df[df['tip'] > upper_boundary]['tip']\n",
    "indexes = pd.concat([lower, higher]).index"
   ]
  },
  {
   "cell_type": "markdown",
   "id": "8fff5fe8-48cc-447c-8af6-b6b56f840182",
   "metadata": {},
   "source": [
    "<p style=\"background-image: linear-gradient(#0aa98f, #ffffff 10%); font-weight:bold;\"> \n",
    "    &nbsp; 1. Remove Outliers </p>"
   ]
  },
  {
   "cell_type": "code",
   "execution_count": 10,
   "id": "306da51f-b914-492e-a0b5-bb3be866a014",
   "metadata": {},
   "outputs": [],
   "source": [
    "df1.drop(index=indexes, inplace=True)"
   ]
  },
  {
   "cell_type": "code",
   "execution_count": 11,
   "id": "74d0425a-43e5-4d2e-8b50-c51447483077",
   "metadata": {},
   "outputs": [
    {
     "data": {
      "image/png": "[encoded data removed]",
      "text/plain": [
       "<Figure size 600x200 with 1 Axes>"
      ]
     },
     "metadata": {},
     "output_type": "display_data"
    }
   ],
   "source": [
    "sns.boxplot(x=df1['tip'])\n",
    "plt.gcf().set_size_inches(6,2)\n",
    "plt.show()"
   ]
  },
  {
   "cell_type": "markdown",
   "id": "25409f11-b358-4628-9cfa-5d203b115e87",
   "metadata": {},
   "source": [
    "<p style=\"background-image: linear-gradient(#0aa98f, #ffffff 10%); font-weight:bold;\"> \n",
    "    &nbsp; 2. Replace Outliers With Mean </p>"
   ]
  },
  {
   "cell_type": "code",
   "execution_count": 12,
   "id": "e5e3cc26-4d44-46f1-bf55-67a5926da6c1",
   "metadata": {},
   "outputs": [
    {
     "name": "stdout",
     "output_type": "stream",
     "text": [
      "1.9792196486864604\n"
     ]
    },
    {
     "data": {
      "text/plain": [
       "1046    1.97922\n",
       "4996    1.97922\n",
       "4846    1.97922\n",
       "Name: tip, dtype: float64"
      ]
     },
     "metadata": {},
     "output_type": "display_data"
    }
   ],
   "source": [
    "print(df2['tip'].mean())\n",
    "\n",
    "df2.loc[indexes, 'tip'] = df2['tip'].mean()\n",
    "display(df2['tip'][indexes].sample(3))"
   ]
  },
  {
   "cell_type": "code",
   "execution_count": 13,
   "id": "eef83c1e-3e74-4fe0-ad07-3f759f69abc2",
   "metadata": {},
   "outputs": [
    {
     "data": {
      "image/png": "[encoded data removed]",
      "text/plain": [
       "<Figure size 600x200 with 1 Axes>"
      ]
     },
     "metadata": {},
     "output_type": "display_data"
    }
   ],
   "source": [
    "sns.boxplot(x=df2['tip'])\n",
    "plt.gcf().set_size_inches(6,2)\n",
    "plt.show()"
   ]
  },
  {
   "cell_type": "markdown",
   "id": "bb0550fb-1339-4cac-b9c0-23c44cad70a7",
   "metadata": {},
   "source": [
    "<p style=\"background-image: linear-gradient(#0aa98f, #ffffff 10%); font-weight:bold;\"> \n",
    "    &nbsp; 3. Suppress Outliers </p>"
   ]
  },
  {
   "cell_type": "code",
   "execution_count": 14,
   "id": "3ba8f2b2-08a1-416f-8fb5-10306c209532",
   "metadata": {},
   "outputs": [
    {
     "data": {
      "text/plain": [
       "2891    7.0\n",
       "676     7.0\n",
       "428     7.0\n",
       "Name: tip, dtype: float64"
      ]
     },
     "metadata": {},
     "output_type": "display_data"
    }
   ],
   "source": [
    "df3.loc[df3['tip'] < lower_boundary, 'tip'] = lower_boundary\n",
    "df3.loc[df3['tip'] > upper_boundary, 'tip'] = upper_boundary\n",
    "display(df3['tip'][indexes].sample(3))"
   ]
  },
  {
   "cell_type": "code",
   "execution_count": 15,
   "id": "f7374bec-6d85-4dd2-a309-b86365dbb840",
   "metadata": {},
   "outputs": [
    {
     "data": {
      "image/png": "[encoded data removed]",
      "text/plain": [
       "<Figure size 600x200 with 1 Axes>"
      ]
     },
     "metadata": {},
     "output_type": "display_data"
    }
   ],
   "source": [
    "sns.boxplot(x=df3['tip'])\n",
    "plt.gcf().set_size_inches(6,2)\n",
    "plt.show()"
   ]
  },
  {
   "cell_type": "markdown",
   "id": "457ad034-05c0-4e5d-a65f-3272d669fd1e",
   "metadata": {},
   "source": [
    "<p style=\"background-image: linear-gradient(to right, #0aa98f, #68dab2)\"> &nbsp; </p>"
   ]
  },
  {
   "cell_type": "markdown",
   "id": "36e53b87-7149-49a5-8e9b-9a1bc7eefb2c",
   "metadata": {},
   "source": [
    "<p style=\"background-image: linear-gradient(#0aa98f, #ffffff 10%); font-weight:bold;\"> \n",
    "    &nbsp; Replacing Outliers with Mean Values of Own Group </p>"
   ]
  },
  {
   "cell_type": "code",
   "execution_count": 16,
   "id": "8a34ab09-5bf7-412f-b36e-5ba152eee883",
   "metadata": {},
   "outputs": [],
   "source": [
    "data = sns.load_dataset('titanic')\n",
    "df = data[['sex', 'age']].copy()"
   ]
  },
  {
   "cell_type": "markdown",
   "id": "d25e7b8c-57f9-4450-9fa1-7e09e39186f5",
   "metadata": {},
   "source": [
    "**Filling Missing Values**"
   ]
  },
  {
   "cell_type": "code",
   "execution_count": 17,
   "id": "d78e8838-365b-4669-9847-09254a1c4582",
   "metadata": {},
   "outputs": [
    {
     "data": {
      "text/plain": [
       "sex      0\n",
       "age    177\n",
       "dtype: int64"
      ]
     },
     "metadata": {},
     "output_type": "display_data"
    }
   ],
   "source": [
    "display(df.isna().sum())"
   ]
  },
  {
   "cell_type": "code",
   "execution_count": 18,
   "id": "9347ff7d-9592-4408-9dc5-3f0e35a2d3bd",
   "metadata": {},
   "outputs": [
    {
     "data": {
      "text/plain": [
       "sex    0\n",
       "age    0\n",
       "dtype: int64"
      ]
     },
     "metadata": {},
     "output_type": "display_data"
    }
   ],
   "source": [
    "df.fillna({'age': df.groupby('sex')['age'].transform('mean')}, inplace=True)\n",
    "display(df.isna().sum())"
   ]
  },
  {
   "cell_type": "markdown",
   "id": "d84ced38-f74f-4ae0-bd20-63d1d01679aa",
   "metadata": {},
   "source": [
    "**Detect Outliers**"
   ]
  },
  {
   "cell_type": "code",
   "execution_count": 19,
   "id": "5e34e20e-483b-4c9a-af04-f4073a78b994",
   "metadata": {},
   "outputs": [
    {
     "data": {
      "image/png": "[encoded data removed]",
      "text/plain": [
       "<Figure size 600x200 with 1 Axes>"
      ]
     },
     "metadata": {},
     "output_type": "display_data"
    }
   ],
   "source": [
    "sns.boxplot(x= df['age'])\n",
    "plt.gcf().set_size_inches(6,2)\n",
    "plt.show()"
   ]
  },
  {
   "cell_type": "code",
   "execution_count": 20,
   "id": "576de51f-e6d9-4183-8a68-4250c7a41639",
   "metadata": {},
   "outputs": [
    {
     "name": "stdout",
     "output_type": "stream",
     "text": [
      "Q1: 22.0 \tQ3: 35.0 \tIQR: 13.0\n"
     ]
    }
   ],
   "source": [
    "Q1 = df['age'].quantile(0.25)\n",
    "Q3 = df['age'].quantile(0.75)\n",
    "IQR = Q3 - Q1\n",
    "print('Q1:', Q1, '\\tQ3:', Q3, '\\tIQR:', IQR)"
   ]
  },
  {
   "cell_type": "code",
   "execution_count": 21,
   "id": "ba0ef53d-be72-45c6-8dbc-3ccaebeebc64",
   "metadata": {},
   "outputs": [
    {
     "name": "stdout",
     "output_type": "stream",
     "text": [
      "lower boundary: 2.5\n",
      "upper boundary: 54.5\n"
     ]
    }
   ],
   "source": [
    "lower_boundary = Q1 - 1.5 * IQR\n",
    "upper_boundary = Q3 + 1.5 * IQR\n",
    "print('lower boundary:', lower_boundary)\n",
    "print('upper boundary:', upper_boundary)"
   ]
  },
  {
   "cell_type": "code",
   "execution_count": 22,
   "id": "def85555-47bb-4e5a-ba1f-70392fb87f57",
   "metadata": {},
   "outputs": [
    {
     "data": {
      "text/html": [
       "<div>\n",
       "<style scoped>\n",
       "    .dataframe tbody tr th:only-of-type {\n",
       "        vertical-align: middle;\n",
       "    }\n",
       "\n",
       "    .dataframe tbody tr th {\n",
       "        vertical-align: top;\n",
       "    }\n",
       "\n",
       "    .dataframe thead th {\n",
       "        text-align: right;\n",
       "    }\n",
       "</style>\n",
       "<table border=\"1\" class=\"dataframe\">\n",
       "  <thead>\n",
       "    <tr style=\"text-align: right;\">\n",
       "      <th></th>\n",
       "      <th>275</th>\n",
       "      <th>479</th>\n",
       "      <th>280</th>\n",
       "      <th>755</th>\n",
       "      <th>183</th>\n",
       "    </tr>\n",
       "  </thead>\n",
       "  <tbody>\n",
       "    <tr>\n",
       "      <th>sex</th>\n",
       "      <td>female</td>\n",
       "      <td>female</td>\n",
       "      <td>male</td>\n",
       "      <td>male</td>\n",
       "      <td>male</td>\n",
       "    </tr>\n",
       "    <tr>\n",
       "      <th>age</th>\n",
       "      <td>63.0</td>\n",
       "      <td>2.0</td>\n",
       "      <td>65.0</td>\n",
       "      <td>0.67</td>\n",
       "      <td>1.0</td>\n",
       "    </tr>\n",
       "  </tbody>\n",
       "</table>\n",
       "</div>"
      ],
      "text/plain": [
       "        275     479   280   755   183\n",
       "sex  female  female  male  male  male\n",
       "age    63.0     2.0  65.0  0.67   1.0"
      ]
     },
     "metadata": {},
     "output_type": "display_data"
    }
   ],
   "source": [
    "lower = df[df['age'] < lower_boundary]['age']\n",
    "higher = df[df['age'] > upper_boundary]['age']\n",
    "indexes = pd.concat([lower, higher]).index\n",
    "display(df.loc[indexes].sample(5).T)"
   ]
  },
  {
   "cell_type": "code",
   "execution_count": 23,
   "id": "2b53756d-462b-4496-85c9-0518b7260ae3",
   "metadata": {},
   "outputs": [
    {
     "data": {
      "text/html": [
       "<div>\n",
       "<style scoped>\n",
       "    .dataframe tbody tr th:only-of-type {\n",
       "        vertical-align: middle;\n",
       "    }\n",
       "\n",
       "    .dataframe tbody tr th {\n",
       "        vertical-align: top;\n",
       "    }\n",
       "\n",
       "    .dataframe thead th {\n",
       "        text-align: right;\n",
       "    }\n",
       "</style>\n",
       "<table border=\"1\" class=\"dataframe\">\n",
       "  <thead>\n",
       "    <tr style=\"text-align: right;\">\n",
       "      <th></th>\n",
       "      <th>305</th>\n",
       "      <th>625</th>\n",
       "      <th>492</th>\n",
       "      <th>326</th>\n",
       "      <th>174</th>\n",
       "    </tr>\n",
       "  </thead>\n",
       "  <tbody>\n",
       "    <tr>\n",
       "      <th>sex</th>\n",
       "      <td>male</td>\n",
       "      <td>male</td>\n",
       "      <td>male</td>\n",
       "      <td>male</td>\n",
       "      <td>male</td>\n",
       "    </tr>\n",
       "    <tr>\n",
       "      <th>age</th>\n",
       "      <td>30.726645</td>\n",
       "      <td>30.726645</td>\n",
       "      <td>30.726645</td>\n",
       "      <td>30.726645</td>\n",
       "      <td>30.726645</td>\n",
       "    </tr>\n",
       "  </tbody>\n",
       "</table>\n",
       "</div>"
      ],
      "text/plain": [
       "           305        625        492        326        174\n",
       "sex       male       male       male       male       male\n",
       "age  30.726645  30.726645  30.726645  30.726645  30.726645"
      ]
     },
     "metadata": {},
     "output_type": "display_data"
    }
   ],
   "source": [
    "df['mean'] = df.groupby('sex')['age'].transform('mean')\n",
    "df.loc[indexes, 'age'] = df.loc[indexes, 'mean']\n",
    "df.drop(columns='mean', inplace=True)\n",
    "display(df.loc[indexes].sample(5).T)"
   ]
  },
  {
   "cell_type": "code",
   "execution_count": 24,
   "id": "ca27380f-7830-4de7-a9cb-0d6f725930c6",
   "metadata": {},
   "outputs": [
    {
     "data": {
      "image/png": "[encoded data removed]",
      "text/plain": [
       "<Figure size 600x200 with 1 Axes>"
      ]
     },
     "metadata": {},
     "output_type": "display_data"
    }
   ],
   "source": [
    "sns.boxplot(x= df['age'])\n",
    "plt.gcf().set_size_inches(6,2)\n",
    "plt.show()"
   ]
  },
  {
   "cell_type": "markdown",
   "id": "a586bfc6-da68-4840-b6b2-31136cad1688",
   "metadata": {},
   "source": [
    "<p style=\"background-image: linear-gradient(to right, #0aa98f, #68dab2)\"> &nbsp; </p>"
   ]
  },
  {
   "cell_type": "markdown",
   "id": "074b1191-493d-42ec-b8de-18809efd00ad",
   "metadata": {},
   "source": [
    "<p style=\"background-image: linear-gradient(#0aa98f, #ffffff 10%); font-weight:bold;\"> \n",
    "    &nbsp; LocalOutlierFactor - LOF </p>"
   ]
  },
  {
   "cell_type": "code",
   "execution_count": 25,
   "id": "7cd51bb4-9fe1-46ef-9add-7cdb6e21c440",
   "metadata": {},
   "outputs": [],
   "source": [
    "data = sns.load_dataset('tips')\n",
    "df = data[['total_bill', 'tip', 'size']].copy()"
   ]
  },
  {
   "cell_type": "markdown",
   "id": "e604a7df-f782-46c7-b475-7267b1bef331",
   "metadata": {},
   "source": [
    "**Filling Missing Values**"
   ]
  },
  {
   "cell_type": "code",
   "execution_count": 26,
   "id": "417de4bf-0ba8-4487-bd72-cff6460da12c",
   "metadata": {},
   "outputs": [
    {
     "data": {
      "text/plain": [
       "total_bill    0\n",
       "tip           0\n",
       "size          0\n",
       "dtype: int64"
      ]
     },
     "metadata": {},
     "output_type": "display_data"
    }
   ],
   "source": [
    "display(df.isna().sum())"
   ]
  },
  {
   "cell_type": "markdown",
   "id": "28dba76a-8d48-4e33-9684-2af87a1c2b53",
   "metadata": {},
   "source": [
    "**Detect Outliers**"
   ]
  },
  {
   "cell_type": "code",
   "execution_count": 27,
   "id": "6f63b5cd-b1c1-403a-b2cd-eaa242dd8b57",
   "metadata": {},
   "outputs": [
    {
     "data": {
      "image/png": "[encoded data removed]",
      "text/plain": [
       "<Figure size 500x300 with 1 Axes>"
      ]
     },
     "metadata": {},
     "output_type": "display_data"
    }
   ],
   "source": [
    "X = df[['total_bill', 'tip']]\n",
    "predicts = LOF(n_neighbors=30).fit_predict(X)\n",
    "df['status'] = predicts\n",
    "\n",
    "# outliers = df[predicts==-1]\n",
    "# display(outliers.shape, outliers.head(3))\n",
    "\n",
    "# inliers = df[predicts==1]\n",
    "# display(inliers.shape, inliers.head(3))\n",
    "\n",
    "\n",
    "sns.scatterplot(df, y='total_bill', x='tip', hue='status', palette='dark:salmon')\n",
    "plt.legend(['Norm / Inlier', 'Outlier'], loc='best')\n",
    "plt.gcf().set_size_inches(5,3)\n",
    "plt.show()"
   ]
  },
  {
   "cell_type": "markdown",
   "id": "857c4875-9178-4643-a94c-b14c39ffbdb1",
   "metadata": {},
   "source": [
    "<p style=\"background-image: linear-gradient(to right, #0aa98f, #68dab2)\"> &nbsp; </p>"
   ]
  }
 ],
 "metadata": {
  "kernelspec": {
   "display_name": "Python 3 (ipykernel)",
   "language": "python",
   "name": "python3"
  },
  "language_info": {
   "codemirror_mode": {
    "name": "ipython",
    "version": 3
   },
   "file_extension": ".py",
   "mimetype": "text/x-python",
   "name": "python",
   "nbconvert_exporter": "python",
   "pygments_lexer": "ipython3",
   "version": "3.11.10"
  }
 },
 "nbformat": 4,
 "nbformat_minor": 5
}
